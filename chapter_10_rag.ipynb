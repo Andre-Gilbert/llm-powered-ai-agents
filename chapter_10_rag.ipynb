{
 "cells": [
  {
   "cell_type": "markdown",
   "metadata": {},
   "source": [
    "# Chapter 10: Retrieval Augmented Generation (RAG)\n",
    "\n",
    "Retrieval Augmented Generation (RAG) is an important improvement for LLMs. It combines the power of LLMs with the ability to fetch real-time information. Instead of just relying on the data they were trained on, these AI agents can now pull in relevant external data as they generate responses. This means they can give more accurate, up-to-date, and context-aware answers. This makes them more effective in areas like conversational AI, decision support, and automated research. You may have noticed that when an LLM uses tools, it forms its final answer based on the output of the last tool it called, often pulling data from a JSON response. In RAG, the focus shifts to giving the LLM the ability to answer questions using information from documents."
   ]
  },
  {
   "cell_type": "code",
   "execution_count": 1,
   "metadata": {},
   "outputs": [],
   "source": [
    "import numpy as np\n",
    "import pandas as pd\n",
    "from language_models.proxy_client import ProxyClient\n",
    "from language_models.agent import Agent, OutputType, PromptingStrategy, Workflow, WorkflowLLMStep\n",
    "from language_models.models.llm import ChatMessage, ChatMessageRole\n",
    "from language_models.tools.tool import Tool\n",
    "from language_models.models.llm import OpenAILanguageModel\n",
    "from language_models.models.embedding import SentenceTransformerEmbeddingModel\n",
    "from language_models.vector_stores import FAISSVectorStore, DistanceMetric\n",
    "from language_models.settings import settings\n",
    "from langchain_core.documents import Document\n",
    "from pydantic import BaseModel, Field\n",
    "from langchain.text_splitter import RecursiveCharacterTextSplitter"
   ]
  },
  {
   "cell_type": "code",
   "execution_count": 2,
   "metadata": {},
   "outputs": [],
   "source": [
    "proxy_client = ProxyClient(\n",
    "    client_id=settings.CLIENT_ID,\n",
    "    client_secret=settings.CLIENT_SECRET,\n",
    "    auth_url=settings.AUTH_URL,\n",
    "    api_base=settings.API_BASE,\n",
    ")"
   ]
  },
  {
   "cell_type": "markdown",
   "metadata": {},
   "source": [
    "## Idea\n",
    "\n",
    "Integrating RAG into AI systems can significantly enhance LLM responses. RAG allows the LLM to reference a knowledge base outside of its training data sources before generating a response. This is useful when dealing with documents or content specific to your business that LLMs may not be familiar with. By using external information to ground the LLM, it can effectively answer questions related to those topics. However, careful implementation is essential.\n",
    "\n",
    "![rag](./assets/images/rag.png)"
   ]
  },
  {
   "cell_type": "code",
   "execution_count": 3,
   "metadata": {},
   "outputs": [],
   "source": [
    "system_prompt = \"You are an expert in job postings. Respond with the most accurate information about the job.\"\n",
    "\n",
    "llm = OpenAILanguageModel(\n",
    "    proxy_client=proxy_client,\n",
    "    model=\"gpt-4\",\n",
    "    max_tokens=250,\n",
    "    temperature=0.2,\n",
    ")\n",
    "\n",
    "agent = Agent.create(\n",
    "    llm=llm,\n",
    "    system_prompt=system_prompt,\n",
    "    prompt=\"{question}\",\n",
    "    prompt_variables=[\"question\"],\n",
    "    output_type=OutputType.STRING,\n",
    "    prompting_strategy=PromptingStrategy.SINGLE_COMPLETION,\n",
    ")"
   ]
  },
  {
   "cell_type": "markdown",
   "metadata": {},
   "source": [
    "In this example, we inquire about the salary range for a job position, specifically an accountant. Since the LLM lacks specific details about our company, it relies on its general knowledge and information it has gathered from the internet to generate an answer."
   ]
  },
  {
   "cell_type": "code",
   "execution_count": 4,
   "metadata": {},
   "outputs": [
    {
     "name": "stderr",
     "output_type": "stream",
     "text": [
      "\u001b[1m\u001b[38;2;50;164;103mFinal Answer\u001b[0m\u001b[1m\u001b[0m: The salary range for an accountant can vary widely depending on the location, industry, and level of experience. On average, in the United States, an entry-level accountant might expect to earn around $45,000 to $55,000 per year. A mid-career accountant might earn between $55,000 and $70,000, while a senior accountant or manager could earn $70,000 to $90,000 or more. However, these figures are just averages and actual salaries can be higher or lower.\n"
     ]
    }
   ],
   "source": [
    "response = agent.invoke({\"question\": \"What is the salary range of an accountant.\"})"
   ]
  },
  {
   "cell_type": "code",
   "execution_count": 5,
   "metadata": {},
   "outputs": [
    {
     "name": "stdout",
     "output_type": "stream",
     "text": [
      "The salary range for an accountant can vary widely depending on the location, industry, and level of experience. On average, in the United States, an entry-level accountant might expect to earn around $45,000 to $55,000 per year. A mid-career accountant might earn between $55,000 and $70,000, while a senior accountant or manager could earn $70,000 to $90,000 or more. However, these figures are just averages and actual salaries can be higher or lower.\n"
     ]
    }
   ],
   "source": [
    "print(response.final_answer)"
   ]
  },
  {
   "cell_type": "markdown",
   "metadata": {},
   "source": [
    "Here, we provide the relevant job details from our document, allowing the LLM to use this specific information to provide an accurate response to the user."
   ]
  },
  {
   "cell_type": "code",
   "execution_count": 6,
   "metadata": {},
   "outputs": [
    {
     "name": "stderr",
     "output_type": "stream",
     "text": [
      "\u001b[1m\u001b[38;2;50;164;103mFinal Answer\u001b[0m\u001b[1m\u001b[0m: The salary range for the Accountant position in this specific job posting is $49,903 to $80,472 annually.\n"
     ]
    }
   ],
   "source": [
    "question = \"\"\"What is the salary range of an accountant.\n",
    "\n",
    "Context:\n",
    "ACCOUNTANT\n",
    "\n",
    "Class Code:       1513\n",
    "Open Date:  06-22-18\n",
    "(Exam Open to All, including Current City Employees)\n",
    "\n",
    "ANNUAL SALARY\n",
    "\n",
    "$49,903 to $72,996 and $55,019 to $80,472\"\"\"\n",
    "\n",
    "response = agent.invoke({\"question\": question})"
   ]
  },
  {
   "cell_type": "code",
   "execution_count": 7,
   "metadata": {},
   "outputs": [
    {
     "name": "stdout",
     "output_type": "stream",
     "text": [
      "The salary range for the Accountant position in this specific job posting is $49,903 to $80,472 annually.\n"
     ]
    }
   ],
   "source": [
    "print(response.final_answer)"
   ]
  },
  {
   "cell_type": "markdown",
   "metadata": {},
   "source": [
    "## Embeddings\n",
    "\n",
    "To effectively compare documents and automatically find relevant ones, we create embeddings that capture the semantic meaning of the questions posed to the LLM. This involves converting text into numerical representations, or vectors, using an embedding model. Typically, the embedding model of the LLM itself is used for this purpose. However, due to limited access to OpenAI's embedding model, we will use sentence transformers to showcase this process. By comparing these vectors, we can assess the similarity between documents and queries, enabling us to identify the most relevant information efficiently.\n",
    "\n",
    "![embedding](./assets/images/embedding.png)"
   ]
  },
  {
   "cell_type": "code",
   "execution_count": 8,
   "metadata": {},
   "outputs": [],
   "source": [
    "embedding_model = SentenceTransformerEmbeddingModel(model=\"all-MiniLM-L6-v2\")"
   ]
  },
  {
   "cell_type": "markdown",
   "metadata": {},
   "source": [
    "First, we convert the user query into a vector representation."
   ]
  },
  {
   "cell_type": "code",
   "execution_count": 9,
   "metadata": {},
   "outputs": [],
   "source": [
    "query = \"What is the salary range of an accountant.\"\n",
    "embedding1 = embedding_model.embed_query(query)"
   ]
  },
  {
   "cell_type": "code",
   "execution_count": 10,
   "metadata": {},
   "outputs": [
    {
     "name": "stdout",
     "output_type": "stream",
     "text": [
      "[0.02522313967347145, 0.02307744510471821, -0.05601518973708153, 0.014181708917021751, -0.12336049228906631, 0.012008094228804111, -0.030247898772358894, 0.018137196078896523, 0.019031377509236336, -0.01606547087430954, 0.005754050333052874, -0.12696686387062073, -0.0764838308095932, -0.03204340487718582, 0.007648212369531393, 0.013705767691135406, -0.004476392641663551, -0.030027681961655617, 0.09027383476495743, -0.028235040605068207, 0.036534909158945084, 0.021080350503325462, -0.0282881036400795, -0.08542317152023315, 0.10774991661310196, -0.07495275139808655, -0.008742023259401321, -0.03884077072143555, -0.01728292554616928, 0.049688030034303665, -0.030432291328907013, -0.024790428578853607, 0.02125607803463936, -0.028942178934812546, 0.05682627111673355, -0.037460342049598694, -0.01860189065337181, 0.11144133657217026, 0.045013900846242905, 0.026884878054261208, -0.024479597806930542, 0.061160311102867126, -0.03742044419050217, -0.09473290294408798, -0.057644959539175034, 0.011960959993302822, 0.06574198603630066, 0.0291706882417202, -0.05574031174182892, 0.04516400769352913, -0.044172342866659164, 0.03288598731160164, 0.03212675824761391, -0.026419805362820625, 0.026907864958047867, -0.07654846459627151, -0.03535277023911476, 0.025524089112877846, 0.05985988304018974, -0.01682807132601738, -0.11014625430107117, 0.021886788308620453, 0.03455398976802826, -0.009253297001123428, 0.04792600870132446, 0.0023594414815306664, -0.03069794923067093, 0.015690531581640244, -0.13103942573070526, -0.02561855874955654, -0.1105935350060463, -0.0634472519159317, -0.038021270185709, 0.006344488821923733, 0.11251571029424667, -0.06991630047559738, -0.010489445179700851, -0.0035396195016801357, -0.055100228637456894, -0.04884827882051468, 0.06455076485872269, 0.05211549624800682, -0.04767627641558647, 6.808904345234623e-06, 0.05570294335484505, -0.051379311829805374, 0.058577630668878555, 0.019162096083164215, 0.12518006563186646, 0.04951222985982895, 0.05002099648118019, -0.025395002216100693, 0.0767793282866478, -0.023603133857250214, -0.013118920847773552, -0.0020306725054979324, -0.017414402216672897, 0.028377553448081017, 0.12895439565181732, -0.026639563962817192, 0.007646408397704363, -0.0009273536852560937, -0.008871786296367645, -0.0014074859209358692, -0.07015660405158997, 0.03878837823867798, 0.10424209386110306, -0.04677443951368332, 0.002988488646224141, -0.03878888487815857, -0.002512703649699688, 0.05573175475001335, -0.11887709051370621, -0.07195988297462463, 0.08219622075557709, 0.012659153901040554, -0.06776691228151321, 0.008784756064414978, 0.016137126833200455, -0.004926888272166252, 0.0020755152218043804, 0.012296599335968494, -0.03730632737278938, 0.04477383568882942, -0.030519945546984673, 0.031536877155303955, -0.028095388785004616, -8.702902465375365e-33, 0.03529353067278862, 0.034355904906988144, 0.0410345233976841, 0.04361720755696297, 0.068370521068573, -0.04058660566806793, 0.05148187652230263, 0.040376756340265274, 0.07749532908201218, 0.11614000052213669, -0.03962092846632004, 0.04021165147423744, -0.06727377325296402, -0.018356969580054283, 0.030389245599508286, 0.0803474634885788, -0.037086449563503265, 0.016812629997730255, -0.08347684890031815, 0.03618031367659569, -0.012236098758876324, -0.04268708825111389, 0.0424615815281868, -0.025618169456720352, 0.06445908546447754, 0.057438645511865616, -0.04870090261101723, 0.022183723747730255, 0.05828362703323364, -0.0007447317475453019, 0.010898101143538952, -0.019074223935604095, -0.011011850088834763, -0.03390347957611084, 0.014280155301094055, 0.0007207331364043057, -0.12666669487953186, 0.007374653127044439, 0.08579020202159882, 0.059911008924245834, -0.03842709958553314, 0.002148098312318325, 0.11275672167539597, -0.021242422983050346, -0.04161452502012253, 0.06471802294254303, 0.04209217429161072, 0.09945805370807648, -0.08585765212774277, 0.08739716559648514, 0.024954797700047493, -0.04880261793732643, -0.019725987687706947, -0.013341939076781273, 0.07686944305896759, 0.008265280164778233, 0.013737582601606846, 0.012886234559118748, -0.058508411049842834, 0.024434667080640793, 0.043812185525894165, 0.020976882427930832, -0.023693645372986794, 0.01758791320025921, -0.07844491302967072, 0.11543156951665878, -0.05151395872235298, 0.03753528371453285, 0.09297436475753784, -0.009238527156412601, 0.01649993285536766, -0.008283327333629131, 0.0020214428659528494, 0.012328973039984703, -0.035398319363594055, 0.02174205891788006, 0.0031566398683935404, -0.006461816839873791, 0.008177577517926693, 0.04221879318356514, -0.0313127264380455, 0.05287713557481766, -0.014225972816348076, -0.048142559826374054, 0.04468614235520363, 0.004585920367389917, -0.011760693974792957, 0.02667955495417118, 0.0037768988404423, 0.0018011796055361629, 0.0046384381130337715, -0.006151934154331684, 0.01184163149446249, 0.047505833208560944, -0.003403406823053956, 3.496876757873465e-33, 0.03749057278037071, -0.003883758094161749, -0.006688420660793781, -0.04216912016272545, -0.09402024745941162, -0.0013338326243683696, 0.12129686027765274, 0.08740835636854172, -0.043795060366392136, 0.04624538496136665, -0.10480271279811859, 0.05854891985654831, 0.009985189884901047, 0.011142543517053127, -0.0016009617829695344, -0.03001563251018524, -0.03235364332795143, -0.03806464746594429, 0.014027442783117294, -0.05136913061141968, 0.024460049346089363, 0.06205595284700394, 0.08466120064258575, 0.07254772633314133, 0.015938475728034973, -0.027012547478079796, -0.016880284994840622, -0.0068554081954061985, 0.03873050957918167, -0.027289798483252525, -0.036332324147224426, -0.04261041432619095, 0.004040324129164219, -0.039501115679740906, 0.0073897745460271835, -0.09881937503814697, -0.0892992839217186, -0.07240376621484756, 0.036158476024866104, -0.00282050552777946, -0.01414581574499607, -0.04969881474971771, 0.055622488260269165, 0.010072958655655384, 0.018625333905220032, -0.034959133714437485, 0.062198638916015625, -0.01406211219727993, 0.04267820343375206, -0.07985228300094604, 0.033782366663217545, -0.03321775421500206, -0.017391176894307137, 0.02145434357225895, -0.06608957797288895, 0.06553328037261963, 0.037238769233226776, -0.04910961166024208, 0.030485952273011208, -0.09076892584562302, -0.004773737862706184, 0.0350501574575901, 0.10805755108594894, 0.14096255600452423, 0.030748184770345688, 0.008472595363855362, -0.02395262010395527, -0.023222751915454865, -0.024299349635839462, -0.04584866762161255, 0.04957585781812668, -0.11221498250961304, 0.07472674548625946, -0.084780253469944, -0.09654022008180618, 0.0005892192129977047, -0.03397398814558983, -0.09304846823215485, 0.04504520446062088, 0.06035497039556503, -0.12426213920116425, 0.05753493309020996, 0.02755667082965374, 0.05170613154768944, -0.040709275752305984, -0.04619617015123367, -0.06081824749708176, -0.064808689057827, 0.06827867776155472, 0.006019166205078363, -0.04073005169630051, -0.04599236324429512, 0.061255842447280884, -0.005485934671014547, -0.03683951124548912, -1.935092086569057e-08, -0.05158441141247749, 0.04658806324005127, -0.009242086671292782, -0.022040747106075287, 0.0034338077530264854, -0.11529548466205597, -0.01804526522755623, -0.05797383561730385, -0.0283243115991354, 0.05876168981194496, 0.058403342962265015, -0.019993843510746956, 0.0032663075253367424, -0.012528960593044758, 0.005909571424126625, -0.02994864620268345, -0.009119774214923382, 0.03305293247103691, 0.022207560017704964, -0.025586213916540146, -0.003541467944160104, -0.023828605189919472, -0.1281285136938095, 0.02543858252465725, -0.033205240964889526, -0.013670191168785095, -0.0439983494579792, 0.05800195038318634, -0.031538885086774826, -0.02818485163152218, -0.014375828206539154, -0.02725386805832386, 0.034728508442640305, 0.009228634648025036, -0.04604339599609375, 0.05277488753199577, -0.045019492506980896, -0.012983369641005993, -0.02632145769894123, -0.07433629781007767, 0.03909558430314064, -0.09787953644990921, 0.024364164099097252, 0.016016410663723946, -0.04197844862937927, -0.007295995485037565, -0.03338243067264557, 0.052074652165174484, 0.03886673226952553, 0.04379032179713249, 0.07664155215024948, 0.029287118464708328, 2.6098623493453488e-05, -0.04847683385014534, -0.003039898816496134, -0.062495674937963486, -0.052257660776376724, -0.018357228487730026, -0.07129428535699844, -0.0043366109021008015, 0.07776932418346405, -0.061492886394262314, 0.04848802834749222, 0.021168019622564316]\n"
     ]
    }
   ],
   "source": [
    "print(embedding1)"
   ]
  },
  {
   "cell_type": "markdown",
   "metadata": {},
   "source": [
    "Next, we convert our documents into vectors, allowing us to compare them with the user's question. By embedding both the user's query and the documents, we project the query into the same vector space as the documents. This enables us to identify the closest matches, such as the 5 most similar documents.\n",
    "\n",
    "![vector-space](./assets/images/vector-space.png)"
   ]
  },
  {
   "cell_type": "code",
   "execution_count": 11,
   "metadata": {},
   "outputs": [],
   "source": [
    "document = \"\"\"ACCOUNTANT\n",
    "\n",
    "Class Code:       1513\n",
    "Open Date:  06-22-18\n",
    "(Exam Open to All, including Current City Employees)\n",
    "\n",
    "ANNUAL SALARY\n",
    "\n",
    "$49,903 to $72,996 and $55,019 to $80,472\"\"\"\n",
    "\n",
    "embedding2 = embedding_model.embed_query(document)"
   ]
  },
  {
   "cell_type": "markdown",
   "metadata": {},
   "source": [
    "To compute the similarities between vectors, we can use mathematical formulas such as cosine similarity, euclidean distance, or inner product:\n",
    "- **Euclidean distance:** Measures the straight-line distance between two points. Smaller values indicate greater similarity.\n",
    "- **Cosine similarity:** Measures the cosine of the angle between two vectors, ranging from -1 to 1. Values closer to 1 indicate greater similarity.\n",
    "- **Inner product:** Measures the dot product of two vectors. Higher values typically indicate greater similarity."
   ]
  },
  {
   "cell_type": "code",
   "execution_count": 12,
   "metadata": {},
   "outputs": [
    {
     "name": "stdout",
     "output_type": "stream",
     "text": [
      "Cosine similarity: 0.6591\n"
     ]
    }
   ],
   "source": [
    "cosine_similarity = np.dot(embedding1, embedding2) / (np.linalg.norm(embedding1) * np.linalg.norm(embedding2))\n",
    "print(f\"Cosine similarity: {cosine_similarity:.4f}\")"
   ]
  },
  {
   "cell_type": "markdown",
   "metadata": {},
   "source": [
    "## Asking Questions Related to the Hiring Process\n",
    "\n",
    "As a company, part of our operations involves hiring individuals for a variety of positions. To facilitate the hiring process and improve efficiency, we've incorporated the use of an LLM to assist us. Our hiring process entails the collaboration of various entities, including recruiters, hiring managers, engineers, applicants, departments, and the specific job roles themselves. For this demonstration, we'll use the LLM to respond to inquiries related to our hiring procedures and overall business operations.\n",
    "\n",
    "We'll focus on using documents containing job descriptions and applicant resumes, but we'll also consider that we have access to other documents related to various entities. Although these additional documents are virtual, we'll assume they are available for reference."
   ]
  },
  {
   "cell_type": "code",
   "execution_count": 13,
   "metadata": {},
   "outputs": [
    {
     "data": {
      "text/html": [
       "<div>\n",
       "<style scoped>\n",
       "    .dataframe tbody tr th:only-of-type {\n",
       "        vertical-align: middle;\n",
       "    }\n",
       "\n",
       "    .dataframe tbody tr th {\n",
       "        vertical-align: top;\n",
       "    }\n",
       "\n",
       "    .dataframe thead th {\n",
       "        text-align: right;\n",
       "    }\n",
       "</style>\n",
       "<table border=\"1\" class=\"dataframe\">\n",
       "  <thead>\n",
       "    <tr style=\"text-align: right;\">\n",
       "      <th></th>\n",
       "      <th>job_title</th>\n",
       "      <th>job_class_no</th>\n",
       "      <th>job_duties</th>\n",
       "      <th>open_date</th>\n",
       "      <th>salary</th>\n",
       "      <th>deadline</th>\n",
       "      <th>application_form</th>\n",
       "      <th>where_to_apply</th>\n",
       "      <th>text</th>\n",
       "    </tr>\n",
       "  </thead>\n",
       "  <tbody>\n",
       "    <tr>\n",
       "      <th>637</th>\n",
       "      <td>311 director</td>\n",
       "      <td>9206</td>\n",
       "      <td>A 311 Director is responsible for the successf...</td>\n",
       "      <td>18-04-2014</td>\n",
       "      <td>[{'description': 'Annual Salary', 'min_salary'...</td>\n",
       "      <td>01-05-2014</td>\n",
       "      <td>online</td>\n",
       "      <td>http://agency.governmentjobs.com/lacity/defaul...</td>\n",
       "      <td>311 DIRECTOR\\nClass Code:       9206\\nOpen Dat...</td>\n",
       "    </tr>\n",
       "    <tr>\n",
       "      <th>198</th>\n",
       "      <td>accountant</td>\n",
       "      <td>1513</td>\n",
       "      <td>An Accountant does professional accounting wor...</td>\n",
       "      <td>22-06-2018</td>\n",
       "      <td>[{'description': 'Lower pay grade', 'min_salar...</td>\n",
       "      <td>11-07-2019</td>\n",
       "      <td>online</td>\n",
       "      <td>https://www.governmentjobs.com/careers/lacity</td>\n",
       "      <td>ACCOUNTANT\\n\\nClass Code:       1513\\nOpen Dat...</td>\n",
       "    </tr>\n",
       "    <tr>\n",
       "      <th>326</th>\n",
       "      <td>accounting clerk</td>\n",
       "      <td>1223</td>\n",
       "      <td>An Accounting Clerk performs difficult and res...</td>\n",
       "      <td>13-07-2018</td>\n",
       "      <td>[{'description': 'Annual salary', 'min_salary'...</td>\n",
       "      <td>20-06-2019</td>\n",
       "      <td>online</td>\n",
       "      <td>https://www.governmentjobs.com/careers/lacity</td>\n",
       "      <td>ACCOUNTING CLERK\\n\\nClass Code:       1223\\nOp...</td>\n",
       "    </tr>\n",
       "    <tr>\n",
       "      <th>190</th>\n",
       "      <td>accounting records supervisor</td>\n",
       "      <td>1119</td>\n",
       "      <td>An Accounting Records Supervisor assigns, revi...</td>\n",
       "      <td>27-07-2018</td>\n",
       "      <td>[{'description': 'Salary range 1', 'min_salary...</td>\n",
       "      <td>09-08-2018</td>\n",
       "      <td>online</td>\n",
       "      <td>https://www.governmentjobs.com/careers/lacity/...</td>\n",
       "      <td>ACCOUNTING RECORDS SUPERVISOR\\n\\nClass Code:  ...</td>\n",
       "    </tr>\n",
       "    <tr>\n",
       "      <th>316</th>\n",
       "      <td>administrative analyst</td>\n",
       "      <td>1590</td>\n",
       "      <td>An Administrative Analyst performs professiona...</td>\n",
       "      <td>06-01-2018</td>\n",
       "      <td>[{'description': 'Lower pay grade position', '...</td>\n",
       "      <td>14-06-2018</td>\n",
       "      <td>online</td>\n",
       "      <td>https://www.governmentjobs.com/careers/lacity/...</td>\n",
       "      <td>ADMINISTRATIVE ANALYST\\n\\nClass Code:       15...</td>\n",
       "    </tr>\n",
       "  </tbody>\n",
       "</table>\n",
       "</div>"
      ],
      "text/plain": [
       "                         job_title  job_class_no  \\\n",
       "637                   311 director          9206   \n",
       "198                     accountant          1513   \n",
       "326               accounting clerk          1223   \n",
       "190  accounting records supervisor          1119   \n",
       "316         administrative analyst          1590   \n",
       "\n",
       "                                            job_duties   open_date  \\\n",
       "637  A 311 Director is responsible for the successf...  18-04-2014   \n",
       "198  An Accountant does professional accounting wor...  22-06-2018   \n",
       "326  An Accounting Clerk performs difficult and res...  13-07-2018   \n",
       "190  An Accounting Records Supervisor assigns, revi...  27-07-2018   \n",
       "316  An Administrative Analyst performs professiona...  06-01-2018   \n",
       "\n",
       "                                                salary    deadline  \\\n",
       "637  [{'description': 'Annual Salary', 'min_salary'...  01-05-2014   \n",
       "198  [{'description': 'Lower pay grade', 'min_salar...  11-07-2019   \n",
       "326  [{'description': 'Annual salary', 'min_salary'...  20-06-2019   \n",
       "190  [{'description': 'Salary range 1', 'min_salary...  09-08-2018   \n",
       "316  [{'description': 'Lower pay grade position', '...  14-06-2018   \n",
       "\n",
       "    application_form                                     where_to_apply  \\\n",
       "637           online  http://agency.governmentjobs.com/lacity/defaul...   \n",
       "198           online      https://www.governmentjobs.com/careers/lacity   \n",
       "326           online      https://www.governmentjobs.com/careers/lacity   \n",
       "190           online  https://www.governmentjobs.com/careers/lacity/...   \n",
       "316           online  https://www.governmentjobs.com/careers/lacity/...   \n",
       "\n",
       "                                                  text  \n",
       "637  311 DIRECTOR\\nClass Code:       9206\\nOpen Dat...  \n",
       "198  ACCOUNTANT\\n\\nClass Code:       1513\\nOpen Dat...  \n",
       "326  ACCOUNTING CLERK\\n\\nClass Code:       1223\\nOp...  \n",
       "190  ACCOUNTING RECORDS SUPERVISOR\\n\\nClass Code:  ...  \n",
       "316  ADMINISTRATIVE ANALYST\\n\\nClass Code:       15...  "
      ]
     },
     "execution_count": 13,
     "metadata": {},
     "output_type": "execute_result"
    }
   ],
   "source": [
    "df_jobs = pd.read_csv(\"./assets/datasets/jobs.csv\")\n",
    "df_jobs.job_title = df_jobs.job_title.str.lower()\n",
    "df_jobs = df_jobs.sort_values(\"job_title\")\n",
    "df_jobs = df_jobs.head(250)\n",
    "df_jobs.head()"
   ]
  },
  {
   "cell_type": "code",
   "execution_count": 14,
   "metadata": {},
   "outputs": [
    {
     "data": {
      "text/html": [
       "<div>\n",
       "<style scoped>\n",
       "    .dataframe tbody tr th:only-of-type {\n",
       "        vertical-align: middle;\n",
       "    }\n",
       "\n",
       "    .dataframe tbody tr th {\n",
       "        vertical-align: top;\n",
       "    }\n",
       "\n",
       "    .dataframe thead th {\n",
       "        text-align: right;\n",
       "    }\n",
       "</style>\n",
       "<table border=\"1\" class=\"dataframe\">\n",
       "  <thead>\n",
       "    <tr style=\"text-align: right;\">\n",
       "      <th></th>\n",
       "      <th>ID</th>\n",
       "      <th>Resume_str</th>\n",
       "      <th>Resume_html</th>\n",
       "      <th>Category</th>\n",
       "    </tr>\n",
       "  </thead>\n",
       "  <tbody>\n",
       "    <tr>\n",
       "      <th>103</th>\n",
       "      <td>20417897</td>\n",
       "      <td>EXECUTIVE ASSISTANT HR       Summary ...</td>\n",
       "      <td>&lt;div class=\"fontsize fontface vmargins hmargin...</td>\n",
       "      <td>HR</td>\n",
       "    </tr>\n",
       "    <tr>\n",
       "      <th>274</th>\n",
       "      <td>18176523</td>\n",
       "      <td>SENIOR INFORMATION TECHNOLOGY MANAGER...</td>\n",
       "      <td>&lt;div class=\"fontsize fontface vmargins hmargin...</td>\n",
       "      <td>INFORMATION-TECHNOLOGY</td>\n",
       "    </tr>\n",
       "    <tr>\n",
       "      <th>383</th>\n",
       "      <td>16270906</td>\n",
       "      <td>TEACHER             Accomplishments  ...</td>\n",
       "      <td>&lt;div class=\"fontsize fontface vmargins hmargin...</td>\n",
       "      <td>TEACHER</td>\n",
       "    </tr>\n",
       "    <tr>\n",
       "      <th>468</th>\n",
       "      <td>20324037</td>\n",
       "      <td>FULFILLMENT ADVOCATE       Summary   ...</td>\n",
       "      <td>&lt;div class=\"fontsize fontface vmargins hmargin...</td>\n",
       "      <td>ADVOCATE</td>\n",
       "    </tr>\n",
       "    <tr>\n",
       "      <th>634</th>\n",
       "      <td>12377803</td>\n",
       "      <td>BUSINESS DEVELOPMENT MANAGER         ...</td>\n",
       "      <td>&lt;div class=\"fontsize fontface vmargins hmargin...</td>\n",
       "      <td>BUSINESS-DEVELOPMENT</td>\n",
       "    </tr>\n",
       "  </tbody>\n",
       "</table>\n",
       "</div>"
      ],
      "text/plain": [
       "           ID                                         Resume_str  \\\n",
       "103  20417897           EXECUTIVE ASSISTANT HR       Summary ...   \n",
       "274  18176523           SENIOR INFORMATION TECHNOLOGY MANAGER...   \n",
       "383  16270906           TEACHER             Accomplishments  ...   \n",
       "468  20324037           FULFILLMENT ADVOCATE       Summary   ...   \n",
       "634  12377803           BUSINESS DEVELOPMENT MANAGER         ...   \n",
       "\n",
       "                                           Resume_html                Category  \n",
       "103  <div class=\"fontsize fontface vmargins hmargin...                      HR  \n",
       "274  <div class=\"fontsize fontface vmargins hmargin...  INFORMATION-TECHNOLOGY  \n",
       "383  <div class=\"fontsize fontface vmargins hmargin...                 TEACHER  \n",
       "468  <div class=\"fontsize fontface vmargins hmargin...                ADVOCATE  \n",
       "634  <div class=\"fontsize fontface vmargins hmargin...    BUSINESS-DEVELOPMENT  "
      ]
     },
     "execution_count": 14,
     "metadata": {},
     "output_type": "execute_result"
    }
   ],
   "source": [
    "df_resumes = pd.read_csv(\"./assets/datasets/resumes.csv\")\n",
    "df_resumes = df_resumes[df_resumes.Resume_str.str.contains(\"accountant\", case=False, na=False)]\n",
    "df_resumes = df_resumes.head(250)\n",
    "df_resumes.head()"
   ]
  },
  {
   "cell_type": "markdown",
   "metadata": {},
   "source": [
    "### Naive Implementation\n",
    "\n",
    "For the simplest implementation, we embed our available documents, chunk them into smaller pieces if necessary, and store them in a vector database. For this demonstration, we'll use FAISS."
   ]
  },
  {
   "cell_type": "code",
   "execution_count": 15,
   "metadata": {},
   "outputs": [],
   "source": [
    "documents = [Document(page_content=document) for document in df_jobs.text.tolist() + df_resumes.Resume_str.tolist()]\n",
    "text_splitter = RecursiveCharacterTextSplitter(separators=[\"\\n\\n\", \"\\n\", \" \", \"\"], chunk_size=1000, chunk_overlap=100)\n",
    "documents = text_splitter.split_documents(documents)"
   ]
  },
  {
   "cell_type": "code",
   "execution_count": 16,
   "metadata": {},
   "outputs": [],
   "source": [
    "try:\n",
    "    vector_store = FAISSVectorStore.load_local(\"./assets/datasets/\", \"embeddings\")\n",
    "except:\n",
    "    vector_store = FAISSVectorStore.from_documents(\n",
    "        documents=documents,\n",
    "        embedding_model=embedding_model,\n",
    "        distance_metric=DistanceMetric.COSINE_SIMILARITY,\n",
    "    )\n",
    "    vector_store.save_local(\"./assets/datasets/\", \"embeddings\")"
   ]
  },
  {
   "cell_type": "markdown",
   "metadata": {},
   "source": [
    "To reduce costs, instead of adding additional context from documents to every user question - which can worsen the answer quality if the LLM doesn't need external knowledge - we'll convert the RAG functionality into a tool. This way, the LLM can autonomously decide when to search the documents.\n",
    "\n",
    "In our basic retriever, we've implemented everything discussed so far. When a user asks a question, the LLM uses the search tool to find relevant documents and then provides an answer based on the information from those documents."
   ]
  },
  {
   "cell_type": "code",
   "execution_count": 17,
   "metadata": {},
   "outputs": [],
   "source": [
    "class BasicRetriever(BaseModel):\n",
    "    \"\"\"Class that implements naive RAG.\"\"\"\n",
    "\n",
    "    vector_store: FAISSVectorStore\n",
    "\n",
    "    def get_relevant_documents(self, user_text: str, fetch_k: int = 5) -> str:\n",
    "        \"\"\"Gets relevant documents.\"\"\"\n",
    "        documents = self.vector_store.similarity_search(user_text, fetch_k)\n",
    "        documents = [document for document, _ in documents]\n",
    "        return \"\\n\\n\".join(document.page_content for document in documents)\n",
    "\n",
    "class SearchDocuments(BaseModel):\n",
    "    user_text: str = Field(description=\"The user query to search for\")\n",
    "\n",
    "basic_retriever = Tool(\n",
    "    function=BasicRetriever(vector_store=vector_store).get_relevant_documents,\n",
    "    name=\"Get Relevant Information\",\n",
    "    description=\"Use this tool to search for job positions\",\n",
    "    args_schema=SearchDocuments,\n",
    ")"
   ]
  },
  {
   "cell_type": "code",
   "execution_count": 18,
   "metadata": {},
   "outputs": [],
   "source": [
    "system_prompt = \"Use Get Relevant Information to answer user questions.\"\n",
    "\n",
    "llm = OpenAILanguageModel(\n",
    "    proxy_client=proxy_client,\n",
    "    model=\"gpt-4-32k\",\n",
    "    max_tokens=1000,\n",
    "    temperature=0.2,\n",
    ")\n",
    "\n",
    "basic_retriever_agent = Agent.create(\n",
    "    llm=llm,\n",
    "    system_prompt=system_prompt,\n",
    "    prompt=\"{question}\",\n",
    "    prompt_variables=[\"question\"],\n",
    "    output_type=OutputType.STRING,\n",
    "    tools=[basic_retriever],\n",
    "    prompting_strategy=PromptingStrategy.CHAIN_OF_THOUGHT,\n",
    ")"
   ]
  },
  {
   "cell_type": "code",
   "execution_count": 19,
   "metadata": {},
   "outputs": [
    {
     "name": "stderr",
     "output_type": "stream",
     "text": [
      "\u001b[1m\u001b[38;2;45;114;210mThought\u001b[0m\u001b[1m\u001b[0m: The user is asking for details about an accountant job opening. I will use the Get Relevant Information tool to search for this job position.\n",
      "\u001b[1m\u001b[38;2;236;154;60mTool\u001b[0m\u001b[1m\u001b[0m: Get Relevant Information\n",
      "\u001b[1m\u001b[38;2;236;154;60mTool Input\u001b[0m\u001b[1m\u001b[0m: {'user_text': 'accountant job position'}\n",
      "\u001b[1m\u001b[38;2;236;154;60mTool Output\u001b[0m\u001b[1m\u001b[0m: ACCOUNTANT           Summary     Bookkeeper with strong technical proficiency and commitment to accuracy in financial data entry and financial record keeping. Desires an accounting position in a positive working environment   that encourages and supports continuing professional growth.       Highlights        RELATED SKILLS ● Over 20 years experience in payroll processing and preparing quarterly federal and state employer tax returns for numerous CPA firm clients, A/P and A/R processing for clients, bank reconciliations, maintaining general ledger, journal entries, making adjusting entries, preparation of monthly financial statements (balance sheet, statement of cash flows, income statement), and providing year-end information for income tax returns ● Over 20 years experience in office management including; processing payroll and associated employment tax deposits, completing construction draws for lenders, processing A/R and A/P, maintaining subcontractor files and 1099\n",
      "\n",
      "ACCOUNTANT       Summary    To obtain a challenging and rewarding accounting position that will permit the use of my skills,\n",
      "knowledge and education to maximize my full potential while developing additional\n",
      "\n",
      "ACCOUNTANT           Professional Summary    To obtain a challenging position in a professional and dynamic environment while utilizing my skills and experience to further my career in accounting.      Core Qualifications        Excel, Word, Access, and PowerPoint\n",
      "\n",
      "ACCOUNTANT           Professional Summary    To obtain a position in a fast-paced business office environment, demanding a strong organizational, technical, and interpersonal position utilizing my skills and attributes. Attributes Self-motivated and honest; good work ethic Effective working alone or as a cooperative team member Reliable and hard-working; thorough in completing projects Committed to excellent customer service       Core Qualifications        Intermediate Word\t\t\t\t\t\t\t\t\tAdvanced Excel\t\t\t\t\t\t\t\t\tPowerPoint\n",
      "\n",
      "ACCOUNTANT       Summary    \n",
      "\n",
      "Accomplished professional with exceptional skills\n",
      "developed in diverse and demanding business settings, delivering outstanding\n",
      "operational and financial performance. Has comprehensive knowledge of\n",
      "accounting in distribution, hospitality and service operations. Proven ability\n",
      "to establish productive relationships and lead, train, and focus staffs to\n",
      "improve efficiency and accomplish organizational growth and productivity\n",
      "objectives. Has a strong proficiency in identifying and responding to\n",
      "opportunities that improve profitability.\n",
      "\u001b[1m\u001b[38;2;45;114;210mThought\u001b[0m\u001b[1m\u001b[0m: The tool has provided several summaries for the accountant job position. I will compile these into a comprehensive description for the user.\n",
      "\u001b[1m\u001b[38;2;50;164;103mFinal Answer\u001b[0m\u001b[1m\u001b[0m: The accountant position requires strong technical proficiency and commitment to accuracy in financial data entry and financial record keeping. The role involves over 20 years of experience in payroll processing, preparing quarterly federal and state employer tax returns, A/P and A/R processing, bank reconciliations, maintaining general ledger, journal entries, making adjusting entries, preparation of monthly financial statements, and providing year-end information for income tax returns. The position also requires office management skills, including processing payroll and associated employment tax deposits, completing construction draws for lenders, processing A/R and A/P, maintaining subcontractor files and 1099. The ideal candidate should be self-motivated, honest, reliable, hard-working, thorough in completing projects, and committed to excellent customer service. They should also have a strong proficiency in identifying and responding to opportunities that improve profitability.\n"
     ]
    }
   ],
   "source": [
    "output = basic_retriever_agent.invoke({\"question\": \"We have an opening for an accountant. Give me the details of the job.\"})"
   ]
  },
  {
   "cell_type": "code",
   "execution_count": 20,
   "metadata": {},
   "outputs": [
    {
     "name": "stdout",
     "output_type": "stream",
     "text": [
      "The accountant position requires strong technical proficiency and commitment to accuracy in financial data entry and financial record keeping. The role involves over 20 years of experience in payroll processing, preparing quarterly federal and state employer tax returns, A/P and A/R processing, bank reconciliations, maintaining general ledger, journal entries, making adjusting entries, preparation of monthly financial statements, and providing year-end information for income tax returns. The position also requires office management skills, including processing payroll and associated employment tax deposits, completing construction draws for lenders, processing A/R and A/P, maintaining subcontractor files and 1099. The ideal candidate should be self-motivated, honest, reliable, hard-working, thorough in completing projects, and committed to excellent customer service. They should also have a strong proficiency in identifying and responding to opportunities that improve profitability.\n"
     ]
    }
   ],
   "source": [
    "print(output.final_answer)"
   ]
  },
  {
   "cell_type": "markdown",
   "metadata": {},
   "source": [
    "Another popular implementation is contextual compression, where two LLMs are used. One LLM is tasked with evaluating documents retrieved from the vector database, filtering out irrelevant ones. Each document is sequentially presented to this LLM to determine its relevance to the user's question. After filtering, the remaining documents are then provided to the 2nd LLM, which interacts directly with the user and provides the final answer."
   ]
  },
  {
   "cell_type": "code",
   "execution_count": 21,
   "metadata": {},
   "outputs": [],
   "source": [
    "INSTRUCTIONS = \"\"\"Given the following question and context, respond with YES if the context is relevant to the question and NO if it isn't.\n",
    "\n",
    "Question:\n",
    "{question}\n",
    "\n",
    "Context:\n",
    "{context}\"\"\"\n",
    "\n",
    "class ContextualCompressionRetriever(BaseModel):\n",
    "    \"\"\"Class that implements a contextual compression retriever.\"\"\"\n",
    "\n",
    "    llm: OpenAILanguageModel\n",
    "    vector_store: FAISSVectorStore\n",
    "\n",
    "    def _parse_output(self, output: str) -> bool:\n",
    "        \"\"\"Parses LLM output.\"\"\"\n",
    "        cleaned_upper_text = output.strip().upper()\n",
    "        if \"YES\" in cleaned_upper_text and \"NO\" in cleaned_upper_text:\n",
    "            raise ValueError(f\"Ambiguous response. Both 'YES' and 'NO' in received: {output}.\")\n",
    "        elif \"YES\" in cleaned_upper_text:\n",
    "            return True\n",
    "        elif \"NO\" in cleaned_upper_text:\n",
    "            return False\n",
    "        else:\n",
    "            raise ValueError(f\"Expected output value to include either 'YES' or 'NO'. Received {output}.\")\n",
    "\n",
    "    def _compress_documents(self, user_text: str, documents: list[Document]) -> list[Document]:\n",
    "        \"\"\"Filters relevant documents.\"\"\"\n",
    "        compressed_documents = []\n",
    "        for document in documents:\n",
    "            prompt = INSTRUCTIONS.format(question=user_text, context=document.page_content)\n",
    "            output = self.llm.get_completion([ChatMessage(role=ChatMessageRole.USER, content=prompt)])\n",
    "            try:\n",
    "                include_doc = self._parse_output(output)\n",
    "            except ValueError:\n",
    "                include_doc = False\n",
    "            if include_doc:\n",
    "                compressed_documents.append(document)\n",
    "        return compressed_documents\n",
    "\n",
    "    def get_relevant_documents(self, user_text: str, fetch_k: int = 5) -> str:\n",
    "        \"\"\"Gets relevant documents.\"\"\"\n",
    "        documents = self.vector_store.similarity_search(user_text, fetch_k)\n",
    "        documents = [document for document, _ in documents]\n",
    "        compressed_documents = self._compress_documents(user_text, documents)\n",
    "        return \"\\n\\n\".join(document.page_content for document in compressed_documents)\n",
    "\n",
    "llm = OpenAILanguageModel(\n",
    "    proxy_client=proxy_client,\n",
    "    model=\"gpt-4\",\n",
    "    max_tokens=16,\n",
    "    temperature=0.2,\n",
    ")\n",
    "\n",
    "class SearchDocuments(BaseModel):\n",
    "    user_text: str = Field(description=\"The user query to search for\")\n",
    "\n",
    "contextual_compression_retriever = Tool(\n",
    "    function=ContextualCompressionRetriever(llm=llm, vector_store=vector_store).get_relevant_documents,\n",
    "    name=\"Get Relevant Information\",\n",
    "    description=\"Use this tool to search for job positions\",\n",
    "    args_schema=SearchDocuments,\n",
    ")"
   ]
  },
  {
   "cell_type": "code",
   "execution_count": 22,
   "metadata": {},
   "outputs": [],
   "source": [
    "system_prompt = \"Use Get Relevant Information to answer user questions.\"\n",
    "\n",
    "llm = OpenAILanguageModel(\n",
    "    proxy_client=proxy_client,\n",
    "    model=\"gpt-4\",\n",
    "    max_tokens=1000,\n",
    "    temperature=0.2,\n",
    ")\n",
    "\n",
    "contextual_compression_retriever_agent = Agent.create(\n",
    "    llm=llm,\n",
    "    system_prompt=system_prompt,\n",
    "    prompt=\"{question}\",\n",
    "    prompt_variables=[\"question\"],\n",
    "    output_type=OutputType.STRING,\n",
    "    tools=[contextual_compression_retriever],\n",
    "    prompting_strategy=PromptingStrategy.CHAIN_OF_THOUGHT,\n",
    ")"
   ]
  },
  {
   "cell_type": "code",
   "execution_count": 23,
   "metadata": {},
   "outputs": [
    {
     "name": "stderr",
     "output_type": "stream",
     "text": [
      "\u001b[1m\u001b[38;2;45;114;210mThought\u001b[0m\u001b[1m\u001b[0m: The user is asking for details about the job opening for an accountant. I will use the Get Relevant Information tool to search for the job details.\n",
      "\u001b[1m\u001b[38;2;236;154;60mTool\u001b[0m\u001b[1m\u001b[0m: Get Relevant Information\n",
      "\u001b[1m\u001b[38;2;236;154;60mTool Input\u001b[0m\u001b[1m\u001b[0m: {'user_text': 'accountant job details'}\n",
      "\u001b[1m\u001b[38;2;236;154;60mTool Output\u001b[0m\u001b[1m\u001b[0m: ACCOUNTANT           Summary     Bookkeeper with strong technical proficiency and commitment to accuracy in financial data entry and financial record keeping. Desires an accounting position in a positive working environment   that encourages and supports continuing professional growth.       Highlights        RELATED SKILLS ● Over 20 years experience in payroll processing and preparing quarterly federal and state employer tax returns for numerous CPA firm clients, A/P and A/R processing for clients, bank reconciliations, maintaining general ledger, journal entries, making adjusting entries, preparation of monthly financial statements (balance sheet, statement of cash flows, income statement), and providing year-end information for income tax returns ● Over 20 years experience in office management including; processing payroll and associated employment tax deposits, completing construction draws for lenders, processing A/R and A/P, maintaining subcontractor files and 1099\n",
      "\n",
      "Work History      Accountant     Aug 2013   -   Current      Company Name     City  ,   State         Help prepare Financial Statements and Bank Reconciliations.      Perform accounts payable functions for governmental expenses.      Manage financial departments with responsibility for Accounts Payable and Fixed Assets.      Manage vendor accounts and prepare 1099s for contract labor.      Reconcile Asset accounts and review all materials, including surplus, depreciation expense, and purchase and recording of new assets.      Organize and carried out efficient month-end, quarterly and year-end processes.      Provide journal entries and perform accounting on accrual basis for year end procedures.      Prepare documents and reports using advanced software proficiencies.      Generate and submit invoices based upon established financial schedules.      Maintain integrity of general ledger, including chart of accounts.      Partner with auditors to prepare yearly audits and\n",
      "\n",
      "ACCOUNTANT       Summary    If you need someone who delivers sharp results, I can help. Well qualified and results oriented Accounting Professional with over fourteen years of successful experience in positions of increasing responsibility in dynamic entertainment companies. Skilled at training staff in Accounts Payable and Receivable and Payroll functions and creating effective teams.      Highlights          Windows XP, Microsoft Office (Outlook, Excel, Word), QuickBooks Enterprise 17.0, Timberline, File Maker, POS.               Accomplishments      General Ledger Accounts    Maintained accurate accounts including cash, inventory, prepaid, fixed assets, accounts payable, accrued expenses and line of credit transactions.           Experience     01/2009   to   Current     Accountant    Company Name   －   City  ,   State      Responsible for all aspects of accounts payable, receivable and payroll.  Banking liaison: reconciled statements, credit card and additional\n",
      "\n",
      "ACCOUNTANT       Summary    To utilize my customer relations and management background to obtain a position with a company that places importance on efficiency and success.  Employ natural leadership and interpersonal skills to build relationships throughout the organization.        Experience      Accountant     Aug 2015   to   Current      Company Name   －   City  ,   State     Accounting for six companies    Maintained confidential information, such as pay rates, bonus targets and pay grades       Processed payroll, electronic deposits and employee pay adjustments       Reconciled all bank and credit card accounts        Processed journal entries, online transfers and payments (internal and external)           Analyzed cost control and provided timely financial information to support company goals             Cost effective purchasing (office equipment & supplies, janitorial, food & beverage)               Reviewed book entries to ensure accuracy of the G/L\n",
      "\n",
      "ACCOUNTANT         Professional Summary     Emerging accounting professional ready to develop career foundation with expanding operation. Dedicated to keeping records accurate and controls tight to meet all business needs. Systematic and well-organized with strong attention to detail, mathematical acumen and GAAP knowledge.       Skills          Microsoft Office  Account Reconciliation Processes  Financial statements  Interpersonal, active-listening, and critical thinking skills  Proficient in Polish language      Data Entry  Superior analytical skills  General ledger proficiency  Administrative support  Customer service            Work History      Accountant  ,     04/2020   to   Current     Company Name   –   City  ,   State      Prepares necessary adjusting journal entries and period end financial statements.  Executes core financial processes, including vendor setup and payment, operational expenses, administration of bank accounts and account reconciliations.\n",
      "\u001b[1m\u001b[38;2;45;114;210mThought\u001b[0m\u001b[1m\u001b[0m: The tool has provided multiple job descriptions for the position of an accountant. I will compile the most relevant details to provide a comprehensive job description.\n",
      "\u001b[1m\u001b[38;2;50;164;103mFinal Answer\u001b[0m\u001b[1m\u001b[0m: The accountant position requires strong technical proficiency and commitment to accuracy in financial data entry and record keeping. The responsibilities include preparing financial statements and bank reconciliations, managing financial departments with responsibility for Accounts Payable and Fixed Assets, managing vendor accounts, reconciling Asset accounts, and preparing documents and reports using advanced software proficiencies. The accountant will also be responsible for maintaining the integrity of the general ledger, including the chart of accounts, and partnering with auditors to prepare yearly audits. Experience in payroll processing, preparing quarterly federal and state employer tax returns, and maintaining general ledger is also required. The position encourages and supports continuing professional growth.\n"
     ]
    }
   ],
   "source": [
    "output = contextual_compression_retriever_agent.invoke({\"question\": \"We have an opening for an accountant. Give me the details of the job.\"})"
   ]
  },
  {
   "cell_type": "code",
   "execution_count": 24,
   "metadata": {},
   "outputs": [
    {
     "name": "stdout",
     "output_type": "stream",
     "text": [
      "The accountant position requires strong technical proficiency and commitment to accuracy in financial data entry and record keeping. The responsibilities include preparing financial statements and bank reconciliations, managing financial departments with responsibility for Accounts Payable and Fixed Assets, managing vendor accounts, reconciling Asset accounts, and preparing documents and reports using advanced software proficiencies. The accountant will also be responsible for maintaining the integrity of the general ledger, including the chart of accounts, and partnering with auditors to prepare yearly audits. Experience in payroll processing, preparing quarterly federal and state employer tax returns, and maintaining general ledger is also required. The position encourages and supports continuing professional growth.\n"
     ]
    }
   ],
   "source": [
    "print(output.final_answer)"
   ]
  },
  {
   "cell_type": "markdown",
   "metadata": {},
   "source": [
    "Every naive implementation of RAG, including those demonstrated previously and others (RAG + keyword search, RAG + re-ranking, etc.), encounters a common challenge.\n",
    "\n",
    "Naive RAG is adequate for handling single-object scenarios. For example, if the vector space consists solely of documents related to earthquakes, cars, or jobs, a naive RAG approach can be sufficient. However, this simplistic method struggles to ensure that the retrieved documents provide the necessary context to effectively address a query. When projecting an embedding into the vector space and retrieving the five closest neighbors or most similar documents, there's no guarantee that these documents will pertain exclusively to the specific object of interest, leading to potential inaccuracies in the results.\n",
    "\n",
    "![naive-rag-vector-space](./assets/images/naive-rag-vector-space.png)\n",
    "\n",
    "In our basic demonstration, we've confined our vector space to contain only documents about job postings and applicant resumes. However, the LLM's responses remain subpar. After reviewing the logs of the LLM's Chain-of-Thought process, we can see that all the information retrieved is from applicant resumes where individuals have previously worked as accountants. While this information might be relevant in some contexts, it’s not always useful for answering the query accurately. We can improve the process by filtering out such irrelevant documents from the beginning.\n",
    "\n",
    "When using contextual compression, where another LLM reviews and filters documents to remove irrelevant content, we observed that it successfully eliminated irrelevant documents in this instance. However, this outcome is not guaranteed in every case, so we should not overly depend on the LLM's judgment alone. Additionally, this method has a drawback: by filtering out documents deemed irrelevant, the LLM reduces the context available. This reduced information might limit the LLM's ability to provide a high-quality response.\n",
    "\n",
    "Envision a scenario where our document repository extends beyond job postings and applicant resumes to include a range of materials integral to our hiring process. Applicants provide documents such as cover letters; recruiters, engineers, and managers maintain notes from interviews; and departments hold documents outlining team compositions and project details for prospective hires. If all these documents were incorporated into the vector space, it could worsen the issue, leading to further deterioration in the LLM's responses.\n",
    "\n",
    "This challenge arises from the ambiguity in document usage and accessibility. For instance, when querying about an accountant position, applicant resumes may mention prior experience in the role, recruiters/engineers may record interactions related to airport engineering roles, and departments may outline their need for such positions. This lack of control over document utilization and access complicates the task and contributes to the degradation of the LLM's responses. For improved outcomes, we can use an ontology/knowledge graph.\n",
    "\n",
    "Technically, we could add metadata, such as job titles, to achieve similar results to the ontology/knowledge graph implementation. However, as mentioned earlier, we assume there are documents related to other entities as well. This complicates the situation because documents tied to different business objects may contain different metadata. While searching using metadata is still possible, it would require filtering through numerous documents, which is slow. In addition, managing documents with different metadata in the same database is tedious, and sometimes databases don't support this level of complexity. This approach would also make it more difficult for users to understand.\n",
    "\n",
    "One might consider standardizing all documents to include all metadata, but this would lead to many documents being filled with irrelevant metadata and dummy values, resulting in significant inefficiency in space usage. Another issue is the potential for metadata fields to have the same name across different business objects, which would prevent exclusive searches for relevant documents. Additionally, some metadata, like document creation dates or filenames, might not be known to users, who could simply look up the documents if they had this information. Therefore, in our showcase, we perform a simple search without metadata filtering.\n",
    "\n",
    "### Ontology/Knowledge Graph Implementation\n",
    "\n",
    "Implementing knowledge ontology/knowledge graph-based RAG presents a pragmatic solution. When considering knowledge graphs, we often envision structures similar to the figure below.\n",
    "\n",
    "![knowledge-graph](./assets/images/knowledge-graph.png)\n",
    "\n",
    "Nevertheless, we need to recalibrate our perception of knowledge graphs within the framework of LLMs. Ideally, we aim to create a digital twin of our business processes, wherein nodes symbolize objects and edges denote their links. Since the use case was introduced earlier, we're already familiar with the entities engaged in the hiring process. This includes applicants, who provide documents such as cover letters and resumes, along with additional metadata like their name, birthday, degrees, and responses to application questions. Additionally, individuals involved in the process - such as recruiters, engineers, and hiring managers - may maintain notes about applicants from interviews, alongside metadata such as name, birthday, and department affiliation. Furthermore, departments play a role, providing both metadata and documents, and the job postings themselves contain metadata such as job title, salary range, department, and required technical skills. The figure below provides a basic outline of the process. While it may not depict every detail accurately, it conveys the overall concept.\n",
    "\n",
    "![knowledge-graph-vector-space](./assets/images/knowledge-graph-vector-space.png)\n",
    "\n",
    "Now that we've established the ontology/knowledge graph, we can initially locate the relevant object or entity related to the question. Moreover, we can leverage the available metadata to refine our search process, effectively reducing the pool of documents to be searched. Essentially, this allows us to exclude entirely irrelevant documents and focus solely on those that are highly relevant. This structure also provides enhanced control and security. We can decide how the ontology/knowledge graph is traversed and specify which data, including metadata, the LLM is permitted to access.\n",
    "\n",
    "Another idea is to use an ontology/knowledge graph with subgraphs for more granular data representation."
   ]
  },
  {
   "cell_type": "code",
   "execution_count": 25,
   "metadata": {},
   "outputs": [],
   "source": [
    "resumes = [Document(page_content=document) for document in df_resumes.Resume_str.tolist()]\n",
    "text_splitter = RecursiveCharacterTextSplitter(separators=[\"\\n\\n\", \"\\n\", \" \", \"\"], chunk_size=2000, chunk_overlap=100)\n",
    "resumes = text_splitter.split_documents(resumes)\n",
    "df_resumes = pd.DataFrame({\"resume\": resume.page_content} for resume in resumes)\n",
    "df_resumes[\"embedding\"] = [embedding_model.embed_query(resume) for resume in df_resumes.resume]"
   ]
  },
  {
   "cell_type": "code",
   "execution_count": 26,
   "metadata": {},
   "outputs": [],
   "source": [
    "jobs = [Document(page_content=document[\"text\"], metadata={\"job_title\": document[\"job_title\"]}) for document in df_jobs.to_dict(orient=\"records\")]\n",
    "text_splitter = RecursiveCharacterTextSplitter(separators=[\"\\n\\n\", \"\\n\", \" \", \"\"], chunk_size=2000, chunk_overlap=100)\n",
    "jobs = text_splitter.split_documents(jobs)\n",
    "df_jobs = pd.DataFrame({\"job\": job.page_content, \"job_title\": job.metadata[\"job_title\"]} for job in jobs)\n",
    "df_jobs[\"embedding\"] = [embedding_model.embed_query(job) for job in df_jobs.job]"
   ]
  },
  {
   "cell_type": "markdown",
   "metadata": {},
   "source": [
    "In a typical scenario, you would first locate the relevant object and then filter based on properties. However, we'll simplify this by showing the LLM all available job postings from the start using a tool, allowing it to focus on these and ignore applicant resumes. This approach reduces the document pool considered. In practice, an additional step to identify the object of interest would be necessary before this filtering process."
   ]
  },
  {
   "cell_type": "code",
   "execution_count": 27,
   "metadata": {},
   "outputs": [],
   "source": [
    "data = {\"resumes\": df_resumes, \"jobs\": df_jobs}"
   ]
  },
  {
   "cell_type": "code",
   "execution_count": 28,
   "metadata": {},
   "outputs": [],
   "source": [
    "def get_jobs() -> list[str]:\n",
    "    return data[\"jobs\"].job_title.unique().tolist()\n",
    "\n",
    "get_job_titles = Tool(\n",
    "    function=get_jobs,\n",
    "    name=\"Get Available Job Titles\",\n",
    "    description=\"Use this tool to get the job titles\",\n",
    ")\n",
    "\n",
    "def search(user_text: str, job_title: str, fetch_k: int = 5) -> str:\n",
    "\n",
    "    def calculate_cosine_similarity(user_text_embedding, embedding):\n",
    "        cosine_similarity = np.dot(user_text_embedding, embedding) / (np.linalg.norm(user_text_embedding) * np.linalg.norm(embedding))\n",
    "        return cosine_similarity\n",
    "\n",
    "    user_text_embedding = embedding_model.embed_query(user_text)\n",
    "    df = data[\"jobs\"]\n",
    "    df = df.loc[df[\"job_title\"] == job_title.lower()].copy()\n",
    "    df[\"cosine_similarity\"] = df.embedding.apply(lambda embedding: calculate_cosine_similarity(user_text_embedding, embedding))\n",
    "    df = df.sort_values(by=\"cosine_similarity\", ascending=False)\n",
    "    df = df.iloc[:fetch_k]\n",
    "    return \"\\n\\n\".join(df.job.tolist())\n",
    "\n",
    "class SearchDocuments(BaseModel):\n",
    "    user_text: str = Field(description=\"The user query to search for\")\n",
    "    job_title: str = Field(description=\"The job title to filter for\")\n",
    "\n",
    "search = Tool(\n",
    "    function=search,\n",
    "    name=\"Get Relevant Information\",\n",
    "    description=\"Use this tool to search for job positions\",\n",
    "    args_schema=SearchDocuments,\n",
    ")"
   ]
  },
  {
   "cell_type": "code",
   "execution_count": 29,
   "metadata": {},
   "outputs": [],
   "source": [
    "system_prompt = \"\"\"Use Get Relevant Information to answer user questions.\n",
    "\n",
    "Check for available job titles using Get Available Job Titles first.\"\"\"\n",
    "\n",
    "llm = OpenAILanguageModel(\n",
    "    proxy_client=proxy_client,\n",
    "    model=\"gpt-4\",\n",
    "    max_tokens=1000,\n",
    "    temperature=0.2,\n",
    ")\n",
    "\n",
    "agent = Agent.create(\n",
    "    llm=llm,\n",
    "    system_prompt=system_prompt,\n",
    "    prompt=\"{question}\",\n",
    "    prompt_variables=[\"question\"],\n",
    "    output_type=OutputType.STRING,\n",
    "    tools=[search],\n",
    "    prompting_strategy=PromptingStrategy.CHAIN_OF_THOUGHT,\n",
    ")"
   ]
  },
  {
   "cell_type": "code",
   "execution_count": 30,
   "metadata": {},
   "outputs": [
    {
     "name": "stderr",
     "output_type": "stream",
     "text": [
      "\u001b[1m\u001b[38;2;45;114;210mThought\u001b[0m\u001b[1m\u001b[0m: The user wants to know the details of the job opening for an accountant. I will use the Get Relevant Information tool to find the details of the job.\n",
      "\u001b[1m\u001b[38;2;236;154;60mTool\u001b[0m\u001b[1m\u001b[0m: Get Relevant Information\n",
      "\u001b[1m\u001b[38;2;236;154;60mTool Input\u001b[0m\u001b[1m\u001b[0m: {'user_text': 'accountant job details', 'job_title': 'Accountant'}\n",
      "\u001b[1m\u001b[38;2;236;154;60mTool Output\u001b[0m\u001b[1m\u001b[0m: ACCOUNTANT\n",
      "\n",
      "Class Code:       1513\n",
      "Open Date:  06-22-18\n",
      "(Exam Open to All, including Current City Employees)\n",
      "\n",
      "ANNUAL SALARY\n",
      "\n",
      "$49,903 to $72,996 and $55,019 to $80,472\n",
      "\n",
      "NOTES:\n",
      "\n",
      "1. Candidates from the eligible list are normally appointed to vacancies in the lower pay grade positions.\n",
      "2. For information regarding reciprocity between the City of Los Angeles departments and LADWP, go to http://per.lacity.org/Reciprocity_CityDepts_and_DWP.pdf.\n",
      "3. Annual salary is at the start of the pay range. The current salary range is subject to change. Please confirm the starting salary with the hiring department before accepting a job offer.\n",
      "\n",
      "DUTIES\n",
      "\n",
      "An Accountant does professional accounting work in the analysis, preparation, maintenance, control, and reconciliation of financial records and reports in accordance with the principles of governmental and public accounting.\n",
      "\n",
      "REQUIREMENT/MINIMUM QUALIFICATION\n",
      "\n",
      "Graduation from an accredited four-year college or university and at least 24 semester or 36 quarter units in accounting.\n",
      "\n",
      "PROCESS NOTES\n",
      "\n",
      "Candidates must achieve a passing score on the qualifying multiple-choice test in order to be invited to the interview. Candidates will be notified later by e-mail of the date, time and location of the interview, which will be held in Los Angeles.\n",
      "\n",
      "The examination score will be based entirely on the interview. In the interview, emphasis may be placed on the candidate's experience, training, and personal qualifications as they provide the knowledge of: generally accepted accounting principles including governmental, cost and commercial accounting; methods of preparation of various kinds of financial statements and reports; accounting and administrative systems, practices and procedures; principles of internal control and audit procedures; electronic data processing principles as they apply to accounting and other financial work; Generally Accepted Accounting Principles (GAAP), Generally Accepted Auditing Standards (GAAS), and the Financial Accounting Standards Board (FASB); auditing principles and practices; the ability to prepare clear, concise, complete, and accurate narrative and financial reports; read, analyze, and interpret complex electronically produced and written financial data, reports, contracts, legal documents, and procedural manuals relating to a wide variety of accounting matters; work independently under pressure of time, conflicting demands, and unexpected difficulties; communicate effectively with coworkers, supervisors, the public, and others for the purpose of ensuring proper and timely completion of assigned work; get along with co-workers and work effectively as a member of a team; and other necessary skills, knowledge and abilities.\n",
      "\n",
      "NOTES:\n",
      "\n",
      "In the qualifying written test, which will consist of multiple choice questions, candidates may be examined for knowledge of: generally accepted accounting principles including governmental, cost and commercial accounting; methods used to prepare various kinds of financial statements and reports; accounting and administrative systems, practices and procedures; principles of internal control and audit procedures; electronic data processing principles as they apply to accounting and other financial work; Generally Accepted Accounting Principles (GAAP), Generally Accepted Auditing Standards (GAAS), and the Financial Accounting Standards Board (FASB); auditing principles and practices; the ability to read, analyze, and interpret complex electronically produced and written financial data, reports, contracts, legal documents, and procedural manuals relating to a wide variety of accounting matters; and other necessary skills, knowledge, and abilities.\n",
      "\n",
      "The first qualifying written test will be administered in a single half-day session on SATURDAY, AUGUST 25, 2018, in Los Angeles. Candidates will be notified later by e-mail of the time and location of the written test. Additional test dates may be added as needed.\n",
      "\n",
      "Passing Score for the Qualifying Written Test\n",
      "\n",
      "The passing score for the written test will be determined by Personnel Department staff after the qualifying written test is administered. Consideration will be given to the number of candidates taking the test and the existing and anticipated number of vacancies, such that there are a sufficient number of eligibles on the list to satisfy current and future vacancies for the next two years. Therefore, the passing score for the qualifying multiple-choice written test may be set either above or below 70%.\n",
      "\n",
      "PROCESS NOTES\n",
      "\n",
      "1. Please note that qualifying education must be from a college or university accredited by a City of Los Angeles recognized agency. A list of approved accrediting agencies can be found at http://per.lacity.org/Accredited%20Institutions%2008-21-08.pdf.\n",
      "2. Course titles, number of units and completion dates for each course must be listed in the City application, if you did not receive a degree in Accounting.\n",
      "3. Applicants who are within one semester or one quarter of obtaining their degrees may apply. Such applicants cannot be appointed until they have received their degrees.\n",
      "4. Some positions may require a valid California driver's license. Candidates may not be eligible for appointment to these positions if their record within the last 36 months reflects three or more moving violations and/or at-fault accidents, or a conviction of a major moving violation (such as DUI).\n",
      "5. Candidates completing the exam process will be contacted by the Personnel Department to provide required proof of qualifying degree and/or coursework. Applicants who wish to expedite this process may attach a copy of their transcripts (annotated with accounting courses, credit earned, and grade received) or qualifying degree to their on-line application at the time of filing in the Attachments section.\n",
      "\n",
      "WHERE TO APPLY\n",
      "\n",
      "Applications will only be accepted on-line. When you are viewing the on-line job bulletin of your choice, simply scroll to the top of the page and select the \"Apply\" icon. On-line job bulletins are also available at https://www.governmentjobs.com/careers/lacity for Open Competitive Examinations.\n",
      "\n",
      "NOTE:\n",
      "\n",
      "Applicants are urged to apply early to ensure you have time to resolve any technical issues you may encounter.\n",
      "\n",
      "APPLICATION DEADLINE\n",
      "\n",
      "Applications will only be accepted on-line on the following dates listed below:\n",
      "\n",
      "From 8:00 am Friday, June 22, 2018 to 11:59 pm, Thursday, July 5, 2018\n",
      "From 8:00 am Friday, June 28, 2019 to 11:59 pm, Thursday, July 11, 2019\n",
      "\n",
      "THIS EXAMINATION IS TO BE GIVEN ONLY\n",
      "ON AN OPEN COMPETITIVE BASIS\n",
      "\n",
      "The City of Los Angeles does not discriminate on the basis of race, religion, national origin, sex, age, marital status, sexual orientation, gender identity, gender expression, disability, creed, color, ancestry, medical condition (cancer), or Acquired Immune Deficiency Syndrome.\n",
      "\n",
      "Class Code 1513 CONT. . . . . . . . . . . . . . . . . . . . . . . . . . . . . . . . . . . . . . . . . . . . . . . . . . . . . . . . . . . . . . . . . . . . . . . . . . . . . . . . 06-22-18\n",
      "\n",
      "AN EQUAL EMPLOYMENT OPPORTUNITY EMPLOYER\n",
      "For additional information and FAQs regarding the City's hiring process, please go to: http://per.lacity.org/index.cfm?content=employmenttestingprocess\n",
      "\u001b[1m\u001b[38;2;45;114;210mThought\u001b[0m\u001b[1m\u001b[0m: The tool has provided a comprehensive detail of the job opening for the accountant position. I will summarize this information to provide a concise response to the user.\n",
      "\u001b[1m\u001b[38;2;50;164;103mFinal Answer\u001b[0m\u001b[1m\u001b[0m: The accountant position has an annual salary range of $49,903 to $72,996 and $55,019 to $80,472. The job involves professional accounting work in the analysis, preparation, maintenance, control, and reconciliation of financial records and reports. The minimum qualification is graduation from an accredited four-year college or university and at least 24 semester or 36 quarter units in accounting. The selection process involves a qualifying multiple-choice test and an interview. The first qualifying written test will be administered on SATURDAY, AUGUST 25, 2018, in Los Angeles. Applications will only be accepted online. The application deadlines are from 8:00 am Friday, June 22, 2018, to 11:59 pm, Thursday, July 5, 2018, and from 8:00 am Friday, June 28, 2019, to 11:59 pm, Thursday, July 11, 2019.\n"
     ]
    }
   ],
   "source": [
    "output = agent.invoke({\"question\": \"We have an opening for an accountant. Give me the details of the job.\"})"
   ]
  },
  {
   "cell_type": "code",
   "execution_count": 31,
   "metadata": {},
   "outputs": [
    {
     "name": "stdout",
     "output_type": "stream",
     "text": [
      "The accountant position has an annual salary range of $49,903 to $72,996 and $55,019 to $80,472. The job involves professional accounting work in the analysis, preparation, maintenance, control, and reconciliation of financial records and reports. The minimum qualification is graduation from an accredited four-year college or university and at least 24 semester or 36 quarter units in accounting. The selection process involves a qualifying multiple-choice test and an interview. The first qualifying written test will be administered on SATURDAY, AUGUST 25, 2018, in Los Angeles. Applications will only be accepted online. The application deadlines are from 8:00 am Friday, June 22, 2018, to 11:59 pm, Thursday, July 5, 2018, and from 8:00 am Friday, June 28, 2019, to 11:59 pm, Thursday, July 11, 2019.\n"
     ]
    }
   ],
   "source": [
    "print(output.final_answer)"
   ]
  },
  {
   "cell_type": "markdown",
   "metadata": {},
   "source": [
    "As evident from the improved response of the LLM, the ontology/knowledge graph approach ensures that the model exclusively accesses documents about an accountant, thereby enhancing its performance. Scaling the solution to encompass multiple entities and numerous documents allows us to effectively filter out irrelevant content, concentrating solely on significant documents. Consequently, this boosts the likelihood of the LLM receiving high-quality documents to address the task. \n",
    "\n",
    "In conclusion, we ought to separate our business components before enhancing our information retrieval and generation process to ensure the best results. If RAG doesn't improve the LLM's answer quality, you might consider taking an additional step: fine-tuning a model specifically for the domain and optionally integrating RAG for further enhancement."
   ]
  }
 ],
 "metadata": {
  "kernelspec": {
   "display_name": "llm-powered-ai-agents",
   "language": "python",
   "name": "python3"
  },
  "language_info": {
   "codemirror_mode": {
    "name": "ipython",
    "version": 3
   },
   "file_extension": ".py",
   "mimetype": "text/x-python",
   "name": "python",
   "nbconvert_exporter": "python",
   "pygments_lexer": "ipython3",
   "version": "3.12.4"
  }
 },
 "nbformat": 4,
 "nbformat_minor": 2
}
