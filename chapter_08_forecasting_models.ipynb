{
 "cells": [
  {
   "cell_type": "markdown",
   "metadata": {},
   "source": [
    "# Chapter 08: LLMs integrating with Forecasting Models\n",
    "\n",
    "Integrating LLMs with forecasting tools is a powerful strategy for enhancing decision-making across various domains. LLMs excel at interpreting complex datasets and generating actionable insights. When combined with forecasting models, this synergy allows for automatic forecast interpretation and action recommendations. While applications such as demand forecasting and machine degradation predictions are common, our focus will be on earthquake forecasting. We will outline practical steps for integrating LLMs with forecasting models, demonstrating how this combination can transform abstract concepts into actionable and insightful implementations."
   ]
  },
  {
   "cell_type": "code",
   "execution_count": 1,
   "metadata": {},
   "outputs": [],
   "source": [
    "from assets.tools.earthquake import count_earthquakes, query_earthquakes, USGeopoliticalSurveyEarthquakeAPI\n",
    "from assets.tools.forecasting import forecast_earthquakes, get_regions\n",
    "from pydantic import BaseModel, Field, EmailStr\n",
    "from language_models.models.llm import OpenAILanguageModel\n",
    "from language_models.agent import (\n",
    "    Agent,\n",
    "    Workflow,\n",
    "    WorkflowLLMStep,\n",
    "    WorkflowFunctionStep,\n",
    "    OutputType,\n",
    "    PromptingStrategy,\n",
    ")\n",
    "from language_models.tools import Tool, current_date\n",
    "from language_models.proxy_client import ProxyClient\n",
    "from language_models.settings import settings"
   ]
  },
  {
   "cell_type": "code",
   "execution_count": 2,
   "metadata": {},
   "outputs": [],
   "source": [
    "proxy_client = ProxyClient(\n",
    "    client_id=settings.CLIENT_ID,\n",
    "    client_secret=settings.CLIENT_SECRET,\n",
    "    auth_url=settings.AUTH_URL,\n",
    "    api_base=settings.API_BASE,\n",
    ")"
   ]
  },
  {
   "cell_type": "markdown",
   "metadata": {},
   "source": [
    "## Automating Earthquake Forecast Inquiries\n",
    "\n",
    "Integrating LLMs with forecasting tools offers a transformative approach to managing inquiries about earthquake forecasts. Currently, handling these inquiries involves significant manual effort, with responses being drafted and sent individually. By automating this process, we can streamline operations and enhance efficiency. To automate responses to earthquake forecast inquiries effectively, we will design a workflow that integrates various steps, starting from the receipt of an email and ending in the generation of an email response, ensuring accurate and timely replies.\n",
    "\n",
    "**Extracting relevant information**\n",
    "\n",
    "To handle the unstructured data in the email body, we first leverage an LLM. The LLM is tasked with extracting key details such as the regions and the forecasting horizon. To ensure that the regions are in the same format as the dataset, the LLM is tasked to provide the extracted region names in a format that matches the dataset’s spelling. This step is crucial as it transforms the free-form text into structured data."
   ]
  },
  {
   "cell_type": "code",
   "execution_count": 3,
   "metadata": {},
   "outputs": [],
   "source": [
    "get_regions_tool = Tool(\n",
    "    function=get_regions,\n",
    "    name=\"Get Valid Regions\",\n",
    "    description=\"Use this tool to access the valid regions that can be used for forecasting\",\n",
    ")"
   ]
  },
  {
   "cell_type": "code",
   "execution_count": 4,
   "metadata": {},
   "outputs": [],
   "source": [
    "system_prompt = \"\"\"Use Get Valid Regions to validate and standardize the spelling of the region names.\n",
    "\n",
    "Your response should include:\n",
    "- horizon: Provide the forecasting horizon as specified in the inquiry.\n",
    "- regions: List the names of the regions, ensuring that the spelling of each region follows the standardized format provided by the Get Valid Regions tool.\n",
    "\n",
    "The email may contain misspellings or abbreviations.\"\"\"\n",
    "\n",
    "llm = OpenAILanguageModel(\n",
    "    proxy_client=proxy_client,\n",
    "    model='gpt-4',\n",
    "    max_tokens=250,\n",
    "    temperature=0.2,\n",
    ")\n",
    "\n",
    "class Forecast(BaseModel):\n",
    "    horizon: int = Field(3, description=\"The number of days to forecast for\")\n",
    "    regions: list[str] = Field(description=\"The regions to forecast for\")\n",
    "\n",
    "extract_regions = Agent.create(\n",
    "    llm=llm,\n",
    "    system_prompt=system_prompt,\n",
    "    prompt=\"{email.body}\",\n",
    "    prompt_variables=[\"email\"],\n",
    "    tools=[get_regions_tool],\n",
    "    output_type=OutputType.OBJECT,\n",
    "    output_schema=Forecast,\n",
    "    prompting_strategy=PromptingStrategy.CHAIN_OF_THOUGHT,\n",
    "    verbose=True,\n",
    ")\n",
    "\n",
    "extract_regions_step = WorkflowLLMStep(name=\"extract_regions\", agent=extract_regions)"
   ]
  },
  {
   "cell_type": "markdown",
   "metadata": {},
   "source": [
    "**Forecasting earthquakes**\n",
    "\n",
    "With standardized region names, the workflow runs the forecasting model to retrieve predictions for earthquake magnitudes and depths based on specified regions and forecasting horizons."
   ]
  },
  {
   "cell_type": "code",
   "execution_count": 5,
   "metadata": {},
   "outputs": [],
   "source": [
    "class ExtractedRegions(BaseModel):\n",
    "    extract_regions: Forecast\n",
    "\n",
    "class RegionForecast(BaseModel):\n",
    "    region: str\n",
    "    forecast: list[dict]\n",
    "\n",
    "def forecast_earthquakes_for_regions(extract_regions: Forecast) -> list[dict]:\n",
    "    forecasts = []\n",
    "    for region in extract_regions.regions:\n",
    "        forecast = forecast_earthquakes(region, extract_regions.horizon)\n",
    "        forecasts.append(RegionForecast(region=region, forecast=forecast))\n",
    "    return [forecast.model_dump() for forecast in forecasts]\n",
    "\n",
    "forecast_earthquakes_step = WorkflowFunctionStep(name=\"forecast_earthquakes\", inputs=ExtractedRegions, function=forecast_earthquakes_for_regions)"
   ]
  },
  {
   "cell_type": "markdown",
   "metadata": {},
   "source": [
    "**Writing the email**\n",
    "\n",
    "Once the forecast data is obtained, the LLM integrates this information into a comprehensive response. The response includes the predicted magnitudes and depths, reasoning behind the forecasts, and any additional context that might be useful to the inquirer. This draft response is reviewed and then sent back to the inquirer via the Email Management System."
   ]
  },
  {
   "cell_type": "code",
   "execution_count": 6,
   "metadata": {},
   "outputs": [],
   "source": [
    "system_prompt = \"\"\"Create an email regarding the earthquake forecasts based on the specified regions.\n",
    "\n",
    "The email should include:\n",
    "- details of the earthquake forecast\n",
    "- whether the region is in danger\n",
    "- actions that you recommend to take\n",
    "\n",
    "Use the closing signature:\n",
    "Best regards,\n",
    "Earthquake Forecasting Team\"\"\"\n",
    "\n",
    "prompt = \"\"\"Respond to this email: {email.sender}\n",
    "\n",
    "Forecast horizon: {extract_regions.horizon}\n",
    "\n",
    "Forecasts:\n",
    "{forecast_earthquakes}\"\"\"\n",
    "\n",
    "llm = OpenAILanguageModel(\n",
    "    proxy_client=proxy_client,\n",
    "    model='gpt-4',\n",
    "    max_tokens=1000,\n",
    "    temperature=0.2,\n",
    ")\n",
    "\n",
    "class Email(BaseModel):\n",
    "    to: EmailStr\n",
    "    subject: str\n",
    "    body: str\n",
    "\n",
    "\n",
    "create_email = Agent.create(\n",
    "    llm=llm,\n",
    "    system_prompt=system_prompt,\n",
    "    prompt=prompt,\n",
    "    prompt_variables=[\"email\", \"extract_regions\", \"forecast_earthquakes\"],\n",
    "    tools=[get_regions_tool],\n",
    "    output_type=OutputType.OBJECT,\n",
    "    output_schema=Email,\n",
    "    prompting_strategy=PromptingStrategy.SINGLE_COMPLETION,\n",
    "    verbose=True,\n",
    ")\n",
    "\n",
    "create_email_step = WorkflowLLMStep(name=\"create_email\", agent=create_email)"
   ]
  },
  {
   "cell_type": "markdown",
   "metadata": {},
   "source": [
    "**Creating the workflow**\n",
    "\n",
    "Here, we define the input to structure the email details for our workflow. We then create the workflow, which manages earthquake forecast inquiries by extracting regions, generating forecasts, and creating email responses through a series of defined steps."
   ]
  },
  {
   "cell_type": "code",
   "execution_count": 7,
   "metadata": {},
   "outputs": [],
   "source": [
    "class Email(BaseModel):\n",
    "    sender: EmailStr = Field(description=\"Person to send it to\")\n",
    "    subject: str = Field(description=\"Subject of the email\")\n",
    "    body: str = Field(description=\"Body of the email\")\n",
    "\n",
    "class WorkflowInput(BaseModel):\n",
    "    email: Email\n",
    "\n",
    "workflow = Workflow(\n",
    "    name=\"Automate Earthquake Forecast Inquiries\",\n",
    "    description=\"Allows you to respond to inquiries/questions about earthquake forecasts\",\n",
    "    inputs=WorkflowInput,\n",
    "    output=\"create_email\",\n",
    "    steps=[extract_regions_step, forecast_earthquakes_step, create_email_step],\n",
    "    verbose=True,\n",
    ")"
   ]
  },
  {
   "cell_type": "markdown",
   "metadata": {},
   "source": [
    "**Running the workflow**\n",
    "\n",
    "Finally, we create an email with specified sender, subject, and body content. We then invoke the workflow using this email as input to process the inquiry and generate the appropriate output."
   ]
  },
  {
   "cell_type": "code",
   "execution_count": 8,
   "metadata": {},
   "outputs": [
    {
     "name": "stderr",
     "output_type": "stream",
     "text": [
      "\u001b[1m\u001b[38;2;45;114;210mUse LLM\u001b[0m\u001b[1m\u001b[0m: extract_regions\n",
      "\u001b[1m\u001b[38;2;236;154;60mInputs\u001b[0m\u001b[1m\u001b[0m: {'email': Email(sender='jennifer.smith@researchinstitute.org', subject='Request for 5-Day Earthquake Forecast for Selected Regions', body='Dear Earthquake Forecasting Team,\\n\\nI hope this email finds you well.\\n\\nI am reaching out to request a 5-day earthquake forecast for the following regions:\\n- CA, USA\\n- JP\\n- GR\\n\\nCould you please provide the predicted magnitudes and depths for these regions over the next five days? Additionally, any relevant context or insights related to these forecasts would be very helpful.\\n\\nThank you very much for your assistance.\\n\\nBest regards,\\nJennifer Smith\\nResearch Scientist\\nResearch Institute\\njennifer.smith@researchinstitute.org')}\n",
      "\u001b[1m\u001b[38;2;115;128;145mPrompt\u001b[0m\u001b[1m\u001b[0m: Dear Earthquake Forecasting Team,\n",
      "\n",
      "I hope this email finds you well.\n",
      "\n",
      "I am reaching out to request a 5-day earthquake forecast for the following regions:\n",
      "- CA, USA\n",
      "- JP\n",
      "- GR\n",
      "\n",
      "Could you please provide the predicted magnitudes and depths for these regions over the next five days? Additionally, any relevant context or insights related to these forecasts would be very helpful.\n",
      "\n",
      "Thank you very much for your assistance.\n",
      "\n",
      "Best regards,\n",
      "Jennifer Smith\n",
      "Research Scientist\n",
      "Research Institute\n",
      "jennifer.smith@researchinstitute.org\n",
      "\u001b[1m\u001b[38;2;45;114;210mThought\u001b[0m\u001b[1m\u001b[0m: The user has requested a 5-day earthquake forecast for three regions: CA, USA; JP; and GR. However, these region names may not be in the correct format. I will use the Get Valid Regions tool to validate and standardize the spelling of these region names.\n",
      "\u001b[1m\u001b[38;2;236;154;60mTool\u001b[0m\u001b[1m\u001b[0m: Get Valid Regions\n",
      "\u001b[1m\u001b[38;2;236;154;60mTool Input\u001b[0m\u001b[1m\u001b[0m: {}\n",
      "\u001b[1m\u001b[38;2;236;154;60mTool Output\u001b[0m\u001b[1m\u001b[0m: {'Philippines', 'Wyoming', 'Oklahoma', 'Puerto Rico', 'Oregon', 'Alaska', 'Italy', 'Montana', 'Aleutian Islands', 'Mexico', 'Russia', 'Utah', 'Washington', 'Hawaii', 'Greece', 'Chile', 'Idaho', 'Tonga', 'Turkey', 'Japan', 'Nevada', 'Indonesia', 'California', 'Papua New Guinea', 'Baja California'}\n",
      "\u001b[1m\u001b[38;2;45;114;210mThought\u001b[0m\u001b[1m\u001b[0m: The Get Valid Regions tool has returned a list of valid region names. I can see that the regions mentioned in the email correspond to the following valid region names: 'California' for 'CA, USA', 'Japan' for 'JP', and 'Greece' for 'GR'. I will provide these standardized region names in the response.\n",
      "\u001b[1m\u001b[38;2;50;164;103mFinal Answer\u001b[0m\u001b[1m\u001b[0m: horizon=5 regions=['California', 'Japan', 'Greece']\n",
      "\u001b[1m\u001b[38;2;236;154;60mOutput\u001b[0m\u001b[1m\u001b[0m: horizon=5 regions=['California', 'Japan', 'Greece']\n",
      "\u001b[1m\u001b[38;2;45;114;210mUse Function\u001b[0m\u001b[1m\u001b[0m: forecast_earthquakes\n",
      "\u001b[1m\u001b[38;2;236;154;60mInputs\u001b[0m\u001b[1m\u001b[0m: {'extract_regions': Forecast(horizon=5, regions=['California', 'Japan', 'Greece'])}\n",
      "\u001b[1m\u001b[38;2;236;154;60mOutput\u001b[0m\u001b[1m\u001b[0m: [{'region': 'California', 'forecast': [{'Date': Timestamp('2024-08-17 00:00:00'), 'Magnitude Forecast': 1.1733471526661914, 'Depth Forecast': 7.298953964317359}, {'Date': Timestamp('2024-08-18 00:00:00'), 'Magnitude Forecast': 1.1365381842233417, 'Depth Forecast': 7.427862773607625}, {'Date': Timestamp('2024-08-19 00:00:00'), 'Magnitude Forecast': 1.1274180145493322, 'Depth Forecast': 7.444324722394732}, {'Date': Timestamp('2024-08-20 00:00:00'), 'Magnitude Forecast': 1.1506007342675635, 'Depth Forecast': 7.266625737585336}, {'Date': Timestamp('2024-08-21 00:00:00'), 'Magnitude Forecast': 1.138719913141393, 'Depth Forecast': 7.14757157867361}]}, {'region': 'Japan', 'forecast': [{'Date': Timestamp('2024-08-17 00:00:00'), 'Magnitude Forecast': 4.626801831598035, 'Depth Forecast': 61.70945970992309}, {'Date': Timestamp('2024-08-18 00:00:00'), 'Magnitude Forecast': 4.701132155437479, 'Depth Forecast': 55.378883453684786}, {'Date': Timestamp('2024-08-19 00:00:00'), 'Magnitude Forecast': 4.637515292943339, 'Depth Forecast': 51.920443537239194}, {'Date': Timestamp('2024-08-20 00:00:00'), 'Magnitude Forecast': 4.444945900067877, 'Depth Forecast': 45.35940820984277}, {'Date': Timestamp('2024-08-21 00:00:00'), 'Magnitude Forecast': 4.608029054722682, 'Depth Forecast': 52.177334075363426}]}, {'region': 'Greece', 'forecast': [{'Date': Timestamp('2024-08-17 00:00:00'), 'Magnitude Forecast': 4.302924521678087, 'Depth Forecast': 34.4974575679681}, {'Date': Timestamp('2024-08-18 00:00:00'), 'Magnitude Forecast': 4.328140633753256, 'Depth Forecast': 30.41590935513636}, {'Date': Timestamp('2024-08-19 00:00:00'), 'Magnitude Forecast': 4.453852361687446, 'Depth Forecast': 36.21303868669754}, {'Date': Timestamp('2024-08-20 00:00:00'), 'Magnitude Forecast': 4.737849897633692, 'Depth Forecast': 30.73391662917717}, {'Date': Timestamp('2024-08-21 00:00:00'), 'Magnitude Forecast': 4.620808611827458, 'Depth Forecast': 33.76595538381228}]}]\n",
      "\u001b[1m\u001b[38;2;45;114;210mUse LLM\u001b[0m\u001b[1m\u001b[0m: create_email\n",
      "\u001b[1m\u001b[38;2;236;154;60mInputs\u001b[0m\u001b[1m\u001b[0m: {'email': Email(sender='jennifer.smith@researchinstitute.org', subject='Request for 5-Day Earthquake Forecast for Selected Regions', body='Dear Earthquake Forecasting Team,\\n\\nI hope this email finds you well.\\n\\nI am reaching out to request a 5-day earthquake forecast for the following regions:\\n- CA, USA\\n- JP\\n- GR\\n\\nCould you please provide the predicted magnitudes and depths for these regions over the next five days? Additionally, any relevant context or insights related to these forecasts would be very helpful.\\n\\nThank you very much for your assistance.\\n\\nBest regards,\\nJennifer Smith\\nResearch Scientist\\nResearch Institute\\njennifer.smith@researchinstitute.org'), 'extract_regions': Forecast(horizon=5, regions=['California', 'Japan', 'Greece']), 'forecast_earthquakes': [{'region': 'California', 'forecast': [{'Date': Timestamp('2024-08-17 00:00:00'), 'Magnitude Forecast': 1.1733471526661914, 'Depth Forecast': 7.298953964317359}, {'Date': Timestamp('2024-08-18 00:00:00'), 'Magnitude Forecast': 1.1365381842233417, 'Depth Forecast': 7.427862773607625}, {'Date': Timestamp('2024-08-19 00:00:00'), 'Magnitude Forecast': 1.1274180145493322, 'Depth Forecast': 7.444324722394732}, {'Date': Timestamp('2024-08-20 00:00:00'), 'Magnitude Forecast': 1.1506007342675635, 'Depth Forecast': 7.266625737585336}, {'Date': Timestamp('2024-08-21 00:00:00'), 'Magnitude Forecast': 1.138719913141393, 'Depth Forecast': 7.14757157867361}]}, {'region': 'Japan', 'forecast': [{'Date': Timestamp('2024-08-17 00:00:00'), 'Magnitude Forecast': 4.626801831598035, 'Depth Forecast': 61.70945970992309}, {'Date': Timestamp('2024-08-18 00:00:00'), 'Magnitude Forecast': 4.701132155437479, 'Depth Forecast': 55.378883453684786}, {'Date': Timestamp('2024-08-19 00:00:00'), 'Magnitude Forecast': 4.637515292943339, 'Depth Forecast': 51.920443537239194}, {'Date': Timestamp('2024-08-20 00:00:00'), 'Magnitude Forecast': 4.444945900067877, 'Depth Forecast': 45.35940820984277}, {'Date': Timestamp('2024-08-21 00:00:00'), 'Magnitude Forecast': 4.608029054722682, 'Depth Forecast': 52.177334075363426}]}, {'region': 'Greece', 'forecast': [{'Date': Timestamp('2024-08-17 00:00:00'), 'Magnitude Forecast': 4.302924521678087, 'Depth Forecast': 34.4974575679681}, {'Date': Timestamp('2024-08-18 00:00:00'), 'Magnitude Forecast': 4.328140633753256, 'Depth Forecast': 30.41590935513636}, {'Date': Timestamp('2024-08-19 00:00:00'), 'Magnitude Forecast': 4.453852361687446, 'Depth Forecast': 36.21303868669754}, {'Date': Timestamp('2024-08-20 00:00:00'), 'Magnitude Forecast': 4.737849897633692, 'Depth Forecast': 30.73391662917717}, {'Date': Timestamp('2024-08-21 00:00:00'), 'Magnitude Forecast': 4.620808611827458, 'Depth Forecast': 33.76595538381228}]}]}\n",
      "\u001b[1m\u001b[38;2;115;128;145mPrompt\u001b[0m\u001b[1m\u001b[0m: Respond to this email: jennifer.smith@researchinstitute.org\n",
      "\n",
      "Forecast horizon: 5\n",
      "\n",
      "Forecasts:\n",
      "[{'region': 'California', 'forecast': [{'Date': Timestamp('2024-08-17 00:00:00'), 'Magnitude Forecast': 1.1733471526661914, 'Depth Forecast': 7.298953964317359}, {'Date': Timestamp('2024-08-18 00:00:00'), 'Magnitude Forecast': 1.1365381842233417, 'Depth Forecast': 7.427862773607625}, {'Date': Timestamp('2024-08-19 00:00:00'), 'Magnitude Forecast': 1.1274180145493322, 'Depth Forecast': 7.444324722394732}, {'Date': Timestamp('2024-08-20 00:00:00'), 'Magnitude Forecast': 1.1506007342675635, 'Depth Forecast': 7.266625737585336}, {'Date': Timestamp('2024-08-21 00:00:00'), 'Magnitude Forecast': 1.138719913141393, 'Depth Forecast': 7.14757157867361}]}, {'region': 'Japan', 'forecast': [{'Date': Timestamp('2024-08-17 00:00:00'), 'Magnitude Forecast': 4.626801831598035, 'Depth Forecast': 61.70945970992309}, {'Date': Timestamp('2024-08-18 00:00:00'), 'Magnitude Forecast': 4.701132155437479, 'Depth Forecast': 55.378883453684786}, {'Date': Timestamp('2024-08-19 00:00:00'), 'Magnitude Forecast': 4.637515292943339, 'Depth Forecast': 51.920443537239194}, {'Date': Timestamp('2024-08-20 00:00:00'), 'Magnitude Forecast': 4.444945900067877, 'Depth Forecast': 45.35940820984277}, {'Date': Timestamp('2024-08-21 00:00:00'), 'Magnitude Forecast': 4.608029054722682, 'Depth Forecast': 52.177334075363426}]}, {'region': 'Greece', 'forecast': [{'Date': Timestamp('2024-08-17 00:00:00'), 'Magnitude Forecast': 4.302924521678087, 'Depth Forecast': 34.4974575679681}, {'Date': Timestamp('2024-08-18 00:00:00'), 'Magnitude Forecast': 4.328140633753256, 'Depth Forecast': 30.41590935513636}, {'Date': Timestamp('2024-08-19 00:00:00'), 'Magnitude Forecast': 4.453852361687446, 'Depth Forecast': 36.21303868669754}, {'Date': Timestamp('2024-08-20 00:00:00'), 'Magnitude Forecast': 4.737849897633692, 'Depth Forecast': 30.73391662917717}, {'Date': Timestamp('2024-08-21 00:00:00'), 'Magnitude Forecast': 4.620808611827458, 'Depth Forecast': 33.76595538381228}]}]\n",
      "\u001b[1m\u001b[38;2;50;164;103mFinal Answer\u001b[0m\u001b[1m\u001b[0m: to='jennifer.smith@researchinstitute.org' subject='Earthquake Forecast for the Next 5 Days' body=\"Dear Jennifer,\\n\\nWe are writing to provide you with the earthquake forecasts for the next 5 days in the regions of California, Japan, and Greece.\\n\\nFor California, the forecasted magnitudes range from 1.127 to 1.173, with depths ranging from 7.147 to 7.444 km. These are relatively low magnitudes and depths, so the region is not in immediate danger. However, it's always wise to stay prepared and informed.\\n\\nFor Japan, the forecasted magnitudes range from 4.444 to 4.701, with depths ranging from 45.359 to 61.709 km. These are significant magnitudes and depths, indicating a potential risk. We recommend that local authorities and residents stay alert, prepare for potential tremors, and follow local seismic activity guidelines.\\n\\nFor Greece, the forecasted magnitudes range from 4.302 to 4.737, with depths ranging from 30.415 to 36.213 km. These are also significant magnitudes and depths, suggesting a potential risk. Local authorities and residents should stay alert, prepare for potential tremors, and follow local seismic activity guidelines.\\n\\nPlease note that these are forecasts and actual seismic activity may vary. It's always important to stay prepared and follow local guidelines for earthquake safety.\\n\\nBest regards,\\nEarthquake Forecasting Team\"\n",
      "\u001b[1m\u001b[38;2;236;154;60mOutput\u001b[0m\u001b[1m\u001b[0m: to='jennifer.smith@researchinstitute.org' subject='Earthquake Forecast for the Next 5 Days' body=\"Dear Jennifer,\\n\\nWe are writing to provide you with the earthquake forecasts for the next 5 days in the regions of California, Japan, and Greece.\\n\\nFor California, the forecasted magnitudes range from 1.127 to 1.173, with depths ranging from 7.147 to 7.444 km. These are relatively low magnitudes and depths, so the region is not in immediate danger. However, it's always wise to stay prepared and informed.\\n\\nFor Japan, the forecasted magnitudes range from 4.444 to 4.701, with depths ranging from 45.359 to 61.709 km. These are significant magnitudes and depths, indicating a potential risk. We recommend that local authorities and residents stay alert, prepare for potential tremors, and follow local seismic activity guidelines.\\n\\nFor Greece, the forecasted magnitudes range from 4.302 to 4.737, with depths ranging from 30.415 to 36.213 km. These are also significant magnitudes and depths, suggesting a potential risk. Local authorities and residents should stay alert, prepare for potential tremors, and follow local seismic activity guidelines.\\n\\nPlease note that these are forecasts and actual seismic activity may vary. It's always important to stay prepared and follow local guidelines for earthquake safety.\\n\\nBest regards,\\nEarthquake Forecasting Team\"\n",
      "\u001b[1m\u001b[38;2;50;164;103mWorkflow Output\u001b[0m\u001b[1m\u001b[0m: to='jennifer.smith@researchinstitute.org' subject='Earthquake Forecast for the Next 5 Days' body=\"Dear Jennifer,\\n\\nWe are writing to provide you with the earthquake forecasts for the next 5 days in the regions of California, Japan, and Greece.\\n\\nFor California, the forecasted magnitudes range from 1.127 to 1.173, with depths ranging from 7.147 to 7.444 km. These are relatively low magnitudes and depths, so the region is not in immediate danger. However, it's always wise to stay prepared and informed.\\n\\nFor Japan, the forecasted magnitudes range from 4.444 to 4.701, with depths ranging from 45.359 to 61.709 km. These are significant magnitudes and depths, indicating a potential risk. We recommend that local authorities and residents stay alert, prepare for potential tremors, and follow local seismic activity guidelines.\\n\\nFor Greece, the forecasted magnitudes range from 4.302 to 4.737, with depths ranging from 30.415 to 36.213 km. These are also significant magnitudes and depths, suggesting a potential risk. Local authorities and residents should stay alert, prepare for potential tremors, and follow local seismic activity guidelines.\\n\\nPlease note that these are forecasts and actual seismic activity may vary. It's always important to stay prepared and follow local guidelines for earthquake safety.\\n\\nBest regards,\\nEarthquake Forecasting Team\"\n"
     ]
    }
   ],
   "source": [
    "email = Email(\n",
    "    sender=\"jennifer.smith@researchinstitute.org\",\n",
    "    subject=\"Request for 5-Day Earthquake Forecast for Selected Regions\",\n",
    "    body=\"\"\"Dear Earthquake Forecasting Team,\n",
    "\n",
    "I hope this email finds you well.\n",
    "\n",
    "I am reaching out to request a 5-day earthquake forecast for the following regions:\n",
    "- CA, USA\n",
    "- JP\n",
    "- GR\n",
    "\n",
    "Could you please provide the predicted magnitudes and depths for these regions over the next five days? Additionally, any relevant context or insights related to these forecasts would be very helpful.\n",
    "\n",
    "Thank you very much for your assistance.\n",
    "\n",
    "Best regards,\n",
    "Jennifer Smith\n",
    "Research Scientist\n",
    "Research Institute\n",
    "jennifer.smith@researchinstitute.org\"\"\",\n",
    ")\n",
    "\n",
    "output = workflow.invoke({\"email\": email})"
   ]
  },
  {
   "cell_type": "code",
   "execution_count": 9,
   "metadata": {},
   "outputs": [
    {
     "name": "stdout",
     "output_type": "stream",
     "text": [
      "Email to: jennifer.smith@researchinstitute.org\n",
      "Email subject: Earthquake Forecast for the Next 5 Days\n",
      "Email body: Dear Jennifer,\n",
      "\n",
      "We are writing to provide you with the earthquake forecasts for the next 5 days in the regions of California, Japan, and Greece.\n",
      "\n",
      "For California, the forecasted magnitudes range from 1.127 to 1.173, with depths ranging from 7.147 to 7.444 km. These are relatively low magnitudes and depths, so the region is not in immediate danger. However, it's always wise to stay prepared and informed.\n",
      "\n",
      "For Japan, the forecasted magnitudes range from 4.444 to 4.701, with depths ranging from 45.359 to 61.709 km. These are significant magnitudes and depths, indicating a potential risk. We recommend that local authorities and residents stay alert, prepare for potential tremors, and follow local seismic activity guidelines.\n",
      "\n",
      "For Greece, the forecasted magnitudes range from 4.302 to 4.737, with depths ranging from 30.415 to 36.213 km. These are also significant magnitudes and depths, suggesting a potential risk. Local authorities and residents should stay alert, prepare for potential tremors, and follow local seismic activity guidelines.\n",
      "\n",
      "Please note that these are forecasts and actual seismic activity may vary. It's always important to stay prepared and follow local guidelines for earthquake safety.\n",
      "\n",
      "Best regards,\n",
      "Earthquake Forecasting Team\n"
     ]
    }
   ],
   "source": [
    "print(f\"Email to: {output.output.to}\")\n",
    "print(f\"Email subject: {output.output.subject}\")\n",
    "print(f\"Email body: {output.output.body}\")"
   ]
  },
  {
   "cell_type": "markdown",
   "metadata": {},
   "source": [
    "You can view the entire workflow in detail by rendering each step sequentially, allowing you to examine the inputs, outputs, and decision points at every stage of the process."
   ]
  },
  {
   "cell_type": "code",
   "execution_count": 10,
   "metadata": {},
   "outputs": [
    {
     "name": "stdout",
     "output_type": "stream",
     "text": [
      "Use LLM\n",
      "=======\n",
      "\n",
      "System Prompt\n",
      "-------------\n",
      "Use Get Valid Regions to validate and standardize the spelling of the region names.\n",
      "\n",
      "Your response should include:\n",
      "- horizon: Provide the forecasting horizon as specified in the inquiry.\n",
      "- regions: List the names of the regions, ensuring that the spelling of each region follows the standardized format provided by the Get Valid Regions tool.\n",
      "\n",
      "The email may contain misspellings or abbreviations.\n",
      "\n",
      "Prompting Strategy\n",
      "------------------\n",
      "chain_of_thought\n",
      "\n",
      "Prompt\n",
      "------\n",
      "Dear Earthquake Forecasting Team,\n",
      "\n",
      "I hope this email finds you well.\n",
      "\n",
      "I am reaching out to request a 5-day earthquake forecast for the following regions:\n",
      "- CA, USA\n",
      "- JP\n",
      "- GR\n",
      "\n",
      "Could you please provide the predicted magnitudes and depths for these regions over the next five days? Additionally, any relevant context or insights related to these forecasts would be very helpful.\n",
      "\n",
      "Thank you very much for your assistance.\n",
      "\n",
      "Best regards,\n",
      "Jennifer Smith\n",
      "Research Scientist\n",
      "Research Institute\n",
      "jennifer.smith@researchinstitute.org\n",
      "\n",
      "Raw Output\n",
      "----------\n",
      "Thought: The user has requested a 5-day earthquake forecast for three regions: CA, USA; JP; and GR. However, these region names may not be in the correct format. I will use the Get Valid Regions tool to validate and standardize the spelling of these region names.\n",
      "\n",
      "Tool: Get Valid Regions\n",
      "\n",
      "Tool Input: {}\n",
      "\n",
      "Tool Use\n",
      "--------\n",
      "Thought: The user has requested a 5-day earthquake forecast for three regions: CA, USA; JP; and GR. However, these region names may not be in the correct format. I will use the Get Valid Regions tool to validate and standardize the spelling of these region names.\n",
      "\n",
      "Used: Get Valid Regions\n",
      "\n",
      "Arguments: {}\n",
      "\n",
      "Tool Output\n",
      "-----------\n",
      "{'Philippines', 'Wyoming', 'Oklahoma', 'Puerto Rico', 'Oregon', 'Alaska', 'Italy', 'Montana', 'Aleutian Islands', 'Mexico', 'Russia', 'Utah', 'Washington', 'Hawaii', 'Greece', 'Chile', 'Idaho', 'Tonga', 'Turkey', 'Japan', 'Nevada', 'Indonesia', 'California', 'Papua New Guinea', 'Baja California'}\n",
      "\n",
      "Raw Output\n",
      "----------\n",
      "Thought: The Get Valid Regions tool has returned a list of valid region names. I can see that the regions mentioned in the email correspond to the following valid region names: 'California' for 'CA, USA', 'Japan' for 'JP', and 'Greece' for 'GR'. I will provide these standardized region names in the response.\n",
      "\n",
      "Final Answer: {\"horizon\": 5, \"regions\": [\"California\", \"Japan\", \"Greece\"]}\n",
      "\n",
      "Final Answer\n",
      "------------\n",
      "Thought: The Get Valid Regions tool has returned a list of valid region names. I can see that the regions mentioned in the email correspond to the following valid region names: 'California' for 'CA, USA', 'Japan' for 'JP', and 'Greece' for 'GR'. I will provide these standardized region names in the response.\n",
      "\n",
      "Output: horizon=5 regions=['California', 'Japan', 'Greece']\n",
      "\n",
      "Use Function\n",
      "============\n",
      "\n",
      "Inputs\n",
      "------\n",
      "extract_regions: horizon=5 regions=['California', 'Japan', 'Greece']\n",
      "\n",
      "Output\n",
      "------\n",
      "[{'region': 'California', 'forecast': [{'Date': Timestamp('2024-08-17 00:00:00'), 'Magnitude Forecast': 1.1733471526661914, 'Depth Forecast': 7.298953964317359}, {'Date': Timestamp('2024-08-18 00:00:00'), 'Magnitude Forecast': 1.1365381842233417, 'Depth Forecast': 7.427862773607625}, {'Date': Timestamp('2024-08-19 00:00:00'), 'Magnitude Forecast': 1.1274180145493322, 'Depth Forecast': 7.444324722394732}, {'Date': Timestamp('2024-08-20 00:00:00'), 'Magnitude Forecast': 1.1506007342675635, 'Depth Forecast': 7.266625737585336}, {'Date': Timestamp('2024-08-21 00:00:00'), 'Magnitude Forecast': 1.138719913141393, 'Depth Forecast': 7.14757157867361}]}, {'region': 'Japan', 'forecast': [{'Date': Timestamp('2024-08-17 00:00:00'), 'Magnitude Forecast': 4.626801831598035, 'Depth Forecast': 61.70945970992309}, {'Date': Timestamp('2024-08-18 00:00:00'), 'Magnitude Forecast': 4.701132155437479, 'Depth Forecast': 55.378883453684786}, {'Date': Timestamp('2024-08-19 00:00:00'), 'Magnitude Forecast': 4.637515292943339, 'Depth Forecast': 51.920443537239194}, {'Date': Timestamp('2024-08-20 00:00:00'), 'Magnitude Forecast': 4.444945900067877, 'Depth Forecast': 45.35940820984277}, {'Date': Timestamp('2024-08-21 00:00:00'), 'Magnitude Forecast': 4.608029054722682, 'Depth Forecast': 52.177334075363426}]}, {'region': 'Greece', 'forecast': [{'Date': Timestamp('2024-08-17 00:00:00'), 'Magnitude Forecast': 4.302924521678087, 'Depth Forecast': 34.4974575679681}, {'Date': Timestamp('2024-08-18 00:00:00'), 'Magnitude Forecast': 4.328140633753256, 'Depth Forecast': 30.41590935513636}, {'Date': Timestamp('2024-08-19 00:00:00'), 'Magnitude Forecast': 4.453852361687446, 'Depth Forecast': 36.21303868669754}, {'Date': Timestamp('2024-08-20 00:00:00'), 'Magnitude Forecast': 4.737849897633692, 'Depth Forecast': 30.73391662917717}, {'Date': Timestamp('2024-08-21 00:00:00'), 'Magnitude Forecast': 4.620808611827458, 'Depth Forecast': 33.76595538381228}]}]\n",
      "\n",
      "Use LLM\n",
      "=======\n",
      "\n",
      "System Prompt\n",
      "-------------\n",
      "Create an email regarding the earthquake forecasts based on the specified regions.\n",
      "\n",
      "The email should include:\n",
      "- details of the earthquake forecast\n",
      "- whether the region is in danger\n",
      "- actions that you recommend to take\n",
      "\n",
      "Use the closing signature:\n",
      "Best regards,\n",
      "Earthquake Forecasting Team\n",
      "\n",
      "Prompting Strategy\n",
      "------------------\n",
      "single_completion\n",
      "\n",
      "Prompt\n",
      "------\n",
      "Respond to this email: jennifer.smith@researchinstitute.org\n",
      "\n",
      "Forecast horizon: 5\n",
      "\n",
      "Forecasts:\n",
      "[{'region': 'California', 'forecast': [{'Date': Timestamp('2024-08-17 00:00:00'), 'Magnitude Forecast': 1.1733471526661914, 'Depth Forecast': 7.298953964317359}, {'Date': Timestamp('2024-08-18 00:00:00'), 'Magnitude Forecast': 1.1365381842233417, 'Depth Forecast': 7.427862773607625}, {'Date': Timestamp('2024-08-19 00:00:00'), 'Magnitude Forecast': 1.1274180145493322, 'Depth Forecast': 7.444324722394732}, {'Date': Timestamp('2024-08-20 00:00:00'), 'Magnitude Forecast': 1.1506007342675635, 'Depth Forecast': 7.266625737585336}, {'Date': Timestamp('2024-08-21 00:00:00'), 'Magnitude Forecast': 1.138719913141393, 'Depth Forecast': 7.14757157867361}]}, {'region': 'Japan', 'forecast': [{'Date': Timestamp('2024-08-17 00:00:00'), 'Magnitude Forecast': 4.626801831598035, 'Depth Forecast': 61.70945970992309}, {'Date': Timestamp('2024-08-18 00:00:00'), 'Magnitude Forecast': 4.701132155437479, 'Depth Forecast': 55.378883453684786}, {'Date': Timestamp('2024-08-19 00:00:00'), 'Magnitude Forecast': 4.637515292943339, 'Depth Forecast': 51.920443537239194}, {'Date': Timestamp('2024-08-20 00:00:00'), 'Magnitude Forecast': 4.444945900067877, 'Depth Forecast': 45.35940820984277}, {'Date': Timestamp('2024-08-21 00:00:00'), 'Magnitude Forecast': 4.608029054722682, 'Depth Forecast': 52.177334075363426}]}, {'region': 'Greece', 'forecast': [{'Date': Timestamp('2024-08-17 00:00:00'), 'Magnitude Forecast': 4.302924521678087, 'Depth Forecast': 34.4974575679681}, {'Date': Timestamp('2024-08-18 00:00:00'), 'Magnitude Forecast': 4.328140633753256, 'Depth Forecast': 30.41590935513636}, {'Date': Timestamp('2024-08-19 00:00:00'), 'Magnitude Forecast': 4.453852361687446, 'Depth Forecast': 36.21303868669754}, {'Date': Timestamp('2024-08-20 00:00:00'), 'Magnitude Forecast': 4.737849897633692, 'Depth Forecast': 30.73391662917717}, {'Date': Timestamp('2024-08-21 00:00:00'), 'Magnitude Forecast': 4.620808611827458, 'Depth Forecast': 33.76595538381228}]}]\n",
      "\n",
      "Final Answer\n",
      "------------\n",
      "Output: to='jennifer.smith@researchinstitute.org' subject='Earthquake Forecast for the Next 5 Days' body=\"Dear Jennifer,\\n\\nWe are writing to provide you with the earthquake forecasts for the next 5 days in the regions of California, Japan, and Greece.\\n\\nFor California, the forecasted magnitudes range from 1.127 to 1.173, with depths ranging from 7.147 to 7.444 km. These are relatively low magnitudes and depths, so the region is not in immediate danger. However, it's always wise to stay prepared and informed.\\n\\nFor Japan, the forecasted magnitudes range from 4.444 to 4.701, with depths ranging from 45.359 to 61.709 km. These are significant magnitudes and depths, indicating a potential risk. We recommend that local authorities and residents stay alert, prepare for potential tremors, and follow local seismic activity guidelines.\\n\\nFor Greece, the forecasted magnitudes range from 4.302 to 4.737, with depths ranging from 30.415 to 36.213 km. These are also significant magnitudes and depths, suggesting a potential risk. Local authorities and residents should stay alert, prepare for potential tremors, and follow local seismic activity guidelines.\\n\\nPlease note that these are forecasts and actual seismic activity may vary. It's always important to stay prepared and follow local guidelines for earthquake safety.\\n\\nBest regards,\\nEarthquake Forecasting Team\"\n"
     ]
    }
   ],
   "source": [
    "for i, step in enumerate(output.steps):\n",
    "    if step.name == \"llm\":\n",
    "        names = {\n",
    "            \"system_prompt\": \"System Prompt\",\n",
    "            \"prompting_strategy\": \"Prompting Strategy\",\n",
    "            \"prompt\": \"Prompt\",\n",
    "            \"raw_output\": \"Raw Output\",\n",
    "            \"observation\": \"Observation\",\n",
    "            \"final_answer\": \"Final Answer\",\n",
    "            \"tool_use\": \"Tool Use\",\n",
    "            \"tool_output\": \"Tool Output\",\n",
    "        }\n",
    "        string = \"Use LLM\"\n",
    "        print(string)\n",
    "        print(\"=\" * len(string))\n",
    "        print()\n",
    "        for entry in step.steps:\n",
    "            print(names[entry.name])\n",
    "            print(\"-\" * len(entry.name))\n",
    "            if entry.name == \"tool_use\":\n",
    "                print(f\"Thought: {entry.content.thought}\")\n",
    "                print()\n",
    "                print(f\"Used: {entry.content.used}\")\n",
    "                print()\n",
    "                print(f\"Arguments: {entry.content.arguments}\")\n",
    "            elif entry.name == 'final_answer':\n",
    "                if entry.content.thought is not None:\n",
    "                    print(f\"Thought: {entry.content.thought}\")\n",
    "                    print()\n",
    "                print(f\"Output: {entry.content.output}\")\n",
    "            else:\n",
    "                print(entry.content)\n",
    "\n",
    "            if entry.name != \"final_answer\" or i != len(output.steps) - 1:\n",
    "                print()\n",
    "    else:\n",
    "        string = \"Use Function\"\n",
    "        print(string)\n",
    "        print(\"=\" * len(string))\n",
    "        print()\n",
    "        for entry in step.steps:\n",
    "            if entry.name == \"inputs\":\n",
    "                string = \"Inputs\"\n",
    "                print(string)\n",
    "                print(\"-\" * len(string))\n",
    "                for argument, value in entry.content.items():\n",
    "                    print(f\"{argument}: {value}\")\n",
    "                    print()\n",
    "            else:\n",
    "                string = \"Output\"\n",
    "                print(string)\n",
    "                print(\"-\" * len(string))\n",
    "                print(entry.content)\n",
    "                if i != len(output.steps) - 1:\n",
    "                    print()"
   ]
  },
  {
   "cell_type": "markdown",
   "metadata": {},
   "source": [
    "The next steps involve choosing the optimal path for advancing our workflow. If our goal is to streamline operations and improve efficiency, we could deploy the current workflow and automate it to trigger whenever a new email arrives, ensuring a seamless and timely response. On the other hand, if we aim to develop a more interactive solution, we could transform this workflow into a tool that an AI agent can use. This would involve integrating additional tools to enable the agent to manage a range of tasks, allowing for conversational interactions."
   ]
  },
  {
   "cell_type": "code",
   "execution_count": 11,
   "metadata": {},
   "outputs": [],
   "source": [
    "query_earthquakes_tool = Tool(\n",
    "    function=query_earthquakes,\n",
    "    name=\"Query Earthquakes\",\n",
    "    description=\"Use this tool to search recent earthquakes\",\n",
    "    args_schema=USGeopoliticalSurveyEarthquakeAPI,\n",
    ")\n",
    "\n",
    "count_earthquakes_tool = Tool(\n",
    "    function=count_earthquakes,\n",
    "    name=\"Count Earthquakes\",\n",
    "    description=\"Use this tool to count and aggregate recent earthquakes\",\n",
    "    args_schema=USGeopoliticalSurveyEarthquakeAPI,\n",
    ")"
   ]
  },
  {
   "cell_type": "markdown",
   "metadata": {},
   "source": [
    "And if we need to ask questions about forecasts, we can easily build a tool that the LLM can utilize for generating and retrieving predictions."
   ]
  },
  {
   "cell_type": "code",
   "execution_count": 12,
   "metadata": {},
   "outputs": [],
   "source": [
    "forecast_earthquakes_tool = Tool(\n",
    "    function=forecast_earthquakes_for_regions,\n",
    "    name=\"Forecast Earthquakes\",\n",
    "    description=\"Use this tool to run region based forecasts\",\n",
    "    args_schema=ExtractedRegions,\n",
    ")"
   ]
  },
  {
   "cell_type": "code",
   "execution_count": 13,
   "metadata": {},
   "outputs": [],
   "source": [
    "system_prompt = \"\"\"You are an United States Geological Survey expert who can answer questions regarding earthquakes.\n",
    "\n",
    "Additionally, you can run forecasts. Before you use the Forecast Earthquakes tool, always check which regions are available using Get Valid Regions first.\"\"\"\n",
    "\n",
    "agent = Agent.create(\n",
    "    llm=llm,\n",
    "    system_prompt=system_prompt,\n",
    "    prompt=\"{question}\",\n",
    "    prompt_variables=[\"question\"],\n",
    "    output_type=OutputType.STRING,\n",
    "    tools=[\n",
    "        current_date,\n",
    "        count_earthquakes_tool,\n",
    "        query_earthquakes_tool,\n",
    "        get_regions_tool,\n",
    "        forecast_earthquakes_tool,\n",
    "        workflow.as_tool()\n",
    "    ],\n",
    "    prompting_strategy=PromptingStrategy.CHAIN_OF_THOUGHT,\n",
    "    verbose=True,\n",
    ")"
   ]
  },
  {
   "cell_type": "code",
   "execution_count": 14,
   "metadata": {},
   "outputs": [
    {
     "name": "stderr",
     "output_type": "stream",
     "text": [
      "\u001b[1m\u001b[38;2;45;114;210mThought\u001b[0m\u001b[1m\u001b[0m: The user is asking for a 5-day earthquake forecast for the regions CA, USA; JP; and GR. To fulfill this request, I first need to confirm that these regions are valid for forecasting.\n",
      "\u001b[1m\u001b[38;2;236;154;60mTool\u001b[0m\u001b[1m\u001b[0m: Get Valid Regions\n",
      "\u001b[1m\u001b[38;2;236;154;60mTool Input\u001b[0m\u001b[1m\u001b[0m: {}\n",
      "\u001b[1m\u001b[38;2;236;154;60mTool Output\u001b[0m\u001b[1m\u001b[0m: {'Philippines', 'Wyoming', 'Oklahoma', 'Puerto Rico', 'Oregon', 'Alaska', 'Italy', 'Montana', 'Aleutian Islands', 'Mexico', 'Russia', 'Utah', 'Washington', 'Hawaii', 'Greece', 'Chile', 'Idaho', 'Tonga', 'Turkey', 'Japan', 'Nevada', 'Indonesia', 'California', 'Papua New Guinea', 'Baja California'}\n",
      "\u001b[1m\u001b[38;2;45;114;210mThought\u001b[0m\u001b[1m\u001b[0m: The regions requested by the user (CA, USA; JP; and GR) are valid for forecasting as they are included in the output from the Get Valid Regions tool. The next step is to use the Forecast Earthquakes tool to generate a 5-day earthquake forecast for these regions.\n",
      "\u001b[1m\u001b[38;2;236;154;60mTool\u001b[0m\u001b[1m\u001b[0m: Forecast Earthquakes\n",
      "\u001b[1m\u001b[38;2;236;154;60mTool Input\u001b[0m\u001b[1m\u001b[0m: {'extract_regions': AttributedDict([('horizon', 5), ('regions', ['California', 'Japan', 'Greece'])])}\n",
      "\u001b[1m\u001b[38;2;236;154;60mTool Output\u001b[0m\u001b[1m\u001b[0m: [{'region': 'California', 'forecast': [{'Date': Timestamp('2024-08-17 00:00:00'), 'Magnitude Forecast': 1.1733471526661914, 'Depth Forecast': 7.298953964317359}, {'Date': Timestamp('2024-08-18 00:00:00'), 'Magnitude Forecast': 1.1365381842233417, 'Depth Forecast': 7.427862773607625}, {'Date': Timestamp('2024-08-19 00:00:00'), 'Magnitude Forecast': 1.1274180145493322, 'Depth Forecast': 7.444324722394732}, {'Date': Timestamp('2024-08-20 00:00:00'), 'Magnitude Forecast': 1.1506007342675635, 'Depth Forecast': 7.266625737585336}, {'Date': Timestamp('2024-08-21 00:00:00'), 'Magnitude Forecast': 1.138719913141393, 'Depth Forecast': 7.14757157867361}]}, {'region': 'Japan', 'forecast': [{'Date': Timestamp('2024-08-17 00:00:00'), 'Magnitude Forecast': 4.626801831598035, 'Depth Forecast': 61.70945970992309}, {'Date': Timestamp('2024-08-18 00:00:00'), 'Magnitude Forecast': 4.701132155437479, 'Depth Forecast': 55.378883453684786}, {'Date': Timestamp('2024-08-19 00:00:00'), 'Magnitude Forecast': 4.637515292943339, 'Depth Forecast': 51.920443537239194}, {'Date': Timestamp('2024-08-20 00:00:00'), 'Magnitude Forecast': 4.444945900067877, 'Depth Forecast': 45.35940820984277}, {'Date': Timestamp('2024-08-21 00:00:00'), 'Magnitude Forecast': 4.608029054722682, 'Depth Forecast': 52.177334075363426}]}, {'region': 'Greece', 'forecast': [{'Date': Timestamp('2024-08-17 00:00:00'), 'Magnitude Forecast': 4.302924521678087, 'Depth Forecast': 34.4974575679681}, {'Date': Timestamp('2024-08-18 00:00:00'), 'Magnitude Forecast': 4.328140633753256, 'Depth Forecast': 30.41590935513636}, {'Date': Timestamp('2024-08-19 00:00:00'), 'Magnitude Forecast': 4.453852361687446, 'Depth Forecast': 36.21303868669754}, {'Date': Timestamp('2024-08-20 00:00:00'), 'Magnitude Forecast': 4.737849897633692, 'Depth Forecast': 30.73391662917717}, {'Date': Timestamp('2024-08-21 00:00:00'), 'Magnitude Forecast': 4.620808611827458, 'Depth Forecast': 33.76595538381228}]}]\n",
      "\u001b[1m\u001b[38;2;45;114;210mThought\u001b[0m\u001b[1m\u001b[0m: The Forecast Earthquakes tool has provided the 5-day earthquake forecasts for the requested regions: California, Japan, and Greece. I will now compile this data into a readable format to respond to Jennifer Smith's email.\n",
      "\u001b[1m\u001b[38;2;50;164;103mFinal Answer\u001b[0m\u001b[1m\u001b[0m: Dear Jennifer Smith,\n",
      "\n",
      "Thank you for reaching out to us. We have generated a 5-day earthquake forecast for the regions you requested. Here are the predicted magnitudes and depths:\n",
      "\n",
      "For California:\n",
      "- August 17, 2024: Magnitude Forecast - 1.17, Depth Forecast - 7.30 km\n",
      "- August 18, 2024: Magnitude Forecast - 1.14, Depth Forecast - 7.43 km\n",
      "- August 19, 2024: Magnitude Forecast - 1.13, Depth Forecast - 7.44 km\n",
      "- August 20, 2024: Magnitude Forecast - 1.15, Depth Forecast - 7.27 km\n",
      "- August 21, 2024: Magnitude Forecast - 1.14, Depth Forecast - 7.15 km\n",
      "\n",
      "For Japan:\n",
      "- August 17, 2024: Magnitude Forecast - 4.63, Depth Forecast - 61.71 km\n",
      "- August 18, 2024: Magnitude Forecast - 4.70, Depth Forecast - 55.38 km\n",
      "- August 19, 2024: Magnitude Forecast - 4.64, Depth Forecast - 51.92 km\n",
      "- August 20, 2024: Magnitude Forecast - 4.44, Depth Forecast - 45.36 km\n",
      "- August 21, 2024: Magnitude Forecast - 4.61, Depth Forecast - 52.18 km\n",
      "\n",
      "For Greece:\n",
      "- August 17, 2024: Magnitude Forecast - 4.30, Depth Forecast - 34.50 km\n",
      "- August 18, 2024: Magnitude Forecast - 4.33, Depth Forecast - 30.42 km\n",
      "- August 19, 2024: Magnitude Forecast - 4.45, Depth Forecast - 36.21 km\n",
      "- August 20, 2024: Magnitude Forecast - 4.74, Depth Forecast - 30.73 km\n",
      "- August 21, 2024: Magnitude Forecast - 4.62, Depth Forecast - 33.77 km\n",
      "\n",
      "Please note that these are forecasts and actual events may vary. We will continue to monitor seismic activity in these regions and will keep you updated with any significant changes.\n",
      "\n",
      "Best regards,\n",
      "[Your Name]\n",
      "Earthquake Forecasting Team\n",
      "United States Geological Survey\n"
     ]
    }
   ],
   "source": [
    "prompt = \"\"\"I received this email:\n",
    "\n",
    "Sender: jennifer.smith@researchinstitute.org\n",
    "Subject: Request for 5-Day Earthquake Forecast for Selected Regions\n",
    "\n",
    "Dear Earthquake Forecasting Team,\n",
    "\n",
    "I hope this email finds you well.\n",
    "\n",
    "I am reaching out to request a 5-day earthquake forecast for the following regions:\n",
    "- CA, USA\n",
    "- JP\n",
    "- GR\n",
    "\n",
    "Could you please provide the predicted magnitudes and depths for these regions over the next five days? Additionally, any relevant context or insights related to these forecasts would be very helpful.\n",
    "\n",
    "Thank you very much for your assistance.\n",
    "\n",
    "Best regards,\n",
    "Jennifer Smith\n",
    "Research Scientist\n",
    "Research Institute\n",
    "jennifer.smith@researchinstitute.org\"\"\"\n",
    "\n",
    "output = agent.invoke({\"question\": prompt})"
   ]
  },
  {
   "cell_type": "code",
   "execution_count": 15,
   "metadata": {},
   "outputs": [
    {
     "name": "stdout",
     "output_type": "stream",
     "text": [
      "Dear Jennifer Smith,\n",
      "\n",
      "Thank you for reaching out to us. We have generated a 5-day earthquake forecast for the regions you requested. Here are the predicted magnitudes and depths:\n",
      "\n",
      "For California:\n",
      "- August 17, 2024: Magnitude Forecast - 1.17, Depth Forecast - 7.30 km\n",
      "- August 18, 2024: Magnitude Forecast - 1.14, Depth Forecast - 7.43 km\n",
      "- August 19, 2024: Magnitude Forecast - 1.13, Depth Forecast - 7.44 km\n",
      "- August 20, 2024: Magnitude Forecast - 1.15, Depth Forecast - 7.27 km\n",
      "- August 21, 2024: Magnitude Forecast - 1.14, Depth Forecast - 7.15 km\n",
      "\n",
      "For Japan:\n",
      "- August 17, 2024: Magnitude Forecast - 4.63, Depth Forecast - 61.71 km\n",
      "- August 18, 2024: Magnitude Forecast - 4.70, Depth Forecast - 55.38 km\n",
      "- August 19, 2024: Magnitude Forecast - 4.64, Depth Forecast - 51.92 km\n",
      "- August 20, 2024: Magnitude Forecast - 4.44, Depth Forecast - 45.36 km\n",
      "- August 21, 2024: Magnitude Forecast - 4.61, Depth Forecast - 52.18 km\n",
      "\n",
      "For Greece:\n",
      "- August 17, 2024: Magnitude Forecast - 4.30, Depth Forecast - 34.50 km\n",
      "- August 18, 2024: Magnitude Forecast - 4.33, Depth Forecast - 30.42 km\n",
      "- August 19, 2024: Magnitude Forecast - 4.45, Depth Forecast - 36.21 km\n",
      "- August 20, 2024: Magnitude Forecast - 4.74, Depth Forecast - 30.73 km\n",
      "- August 21, 2024: Magnitude Forecast - 4.62, Depth Forecast - 33.77 km\n",
      "\n",
      "Please note that these are forecasts and actual events may vary. We will continue to monitor seismic activity in these regions and will keep you updated with any significant changes.\n",
      "\n",
      "Best regards,\n",
      "[Your Name]\n",
      "Earthquake Forecasting Team\n",
      "United States Geological Survey\n"
     ]
    }
   ],
   "source": [
    "print(output.final_answer)"
   ]
  },
  {
   "cell_type": "markdown",
   "metadata": {},
   "source": [
    "Or we can ask the AI agent to answer different questions with the help of the tools the LLM has available."
   ]
  },
  {
   "cell_type": "code",
   "execution_count": 16,
   "metadata": {},
   "outputs": [
    {
     "name": "stderr",
     "output_type": "stream",
     "text": [
      "\u001b[1m\u001b[38;2;45;114;210mThought\u001b[0m\u001b[1m\u001b[0m: To answer this question, I need to use the Count Earthquakes tool. However, before I can do that, I need to know the current date.\n",
      "\u001b[1m\u001b[38;2;236;154;60mTool\u001b[0m\u001b[1m\u001b[0m: Current Date\n",
      "\u001b[1m\u001b[38;2;236;154;60mTool Input\u001b[0m\u001b[1m\u001b[0m: {}\n",
      "\u001b[1m\u001b[38;2;236;154;60mTool Output\u001b[0m\u001b[1m\u001b[0m: 2024-08-16 13:53:05.454911\n",
      "\u001b[1m\u001b[38;2;45;114;210mThought\u001b[0m\u001b[1m\u001b[0m: Now that I have the current date, I can use the Count Earthquakes tool to find out how many earthquakes occurred today. I will set the start_time to the beginning of today (2024-08-16 00:00:00) and the end_time to the current time (2024-08-16 13:53:05).\n",
      "\u001b[1m\u001b[38;2;236;154;60mTool\u001b[0m\u001b[1m\u001b[0m: Count Earthquakes\n",
      "\u001b[1m\u001b[38;2;236;154;60mTool Input\u001b[0m\u001b[1m\u001b[0m: {'start_time': '2024-08-16T00:00:00', 'end_time': '2024-08-16T13:53:05'}\n",
      "\u001b[1m\u001b[38;2;236;154;60mTool Output\u001b[0m\u001b[1m\u001b[0m: {'count': 106, 'maxAllowed': 20000}\n",
      "\u001b[1m\u001b[38;2;45;114;210mThought\u001b[0m\u001b[1m\u001b[0m: The Count Earthquakes tool has returned a count of 106 earthquakes for today. This is the information the user was asking for.\n",
      "\u001b[1m\u001b[38;2;50;164;103mFinal Answer\u001b[0m\u001b[1m\u001b[0m: There have been 106 earthquakes today.\n"
     ]
    }
   ],
   "source": [
    "output = agent.invoke({\"question\": \"How many earthquakes occurred today?\"})"
   ]
  },
  {
   "cell_type": "code",
   "execution_count": 17,
   "metadata": {},
   "outputs": [
    {
     "name": "stdout",
     "output_type": "stream",
     "text": [
      "There have been 106 earthquakes today.\n"
     ]
    }
   ],
   "source": [
    "print(output.final_answer)"
   ]
  },
  {
   "cell_type": "code",
   "execution_count": 18,
   "metadata": {},
   "outputs": [
    {
     "name": "stderr",
     "output_type": "stream",
     "text": [
      "\u001b[1m\u001b[38;2;45;114;210mThought\u001b[0m\u001b[1m\u001b[0m: The user is asking for an earthquake forecast for the regions Alaska and Idaho for tomorrow. To fulfill this request, I first need to confirm that these regions are valid for forecasting.\n",
      "\u001b[1m\u001b[38;2;236;154;60mTool\u001b[0m\u001b[1m\u001b[0m: Get Valid Regions\n",
      "\u001b[1m\u001b[38;2;236;154;60mTool Input\u001b[0m\u001b[1m\u001b[0m: {}\n",
      "\u001b[1m\u001b[38;2;236;154;60mTool Output\u001b[0m\u001b[1m\u001b[0m: {'Philippines', 'Wyoming', 'Oklahoma', 'Puerto Rico', 'Oregon', 'Alaska', 'Italy', 'Montana', 'Aleutian Islands', 'Mexico', 'Russia', 'Utah', 'Washington', 'Hawaii', 'Greece', 'Chile', 'Idaho', 'Tonga', 'Turkey', 'Japan', 'Nevada', 'Indonesia', 'California', 'Papua New Guinea', 'Baja California'}\n",
      "\u001b[1m\u001b[38;2;45;114;210mThought\u001b[0m\u001b[1m\u001b[0m: The regions requested by the user (Alaska and Idaho) are valid for forecasting as they are included in the output from the Get Valid Regions tool. The next step is to use the Forecast Earthquakes tool to generate a 1-day earthquake forecast for these regions.\n",
      "\u001b[1m\u001b[38;2;236;154;60mTool\u001b[0m\u001b[1m\u001b[0m: Forecast Earthquakes\n",
      "\u001b[1m\u001b[38;2;236;154;60mTool Input\u001b[0m\u001b[1m\u001b[0m: {'extract_regions': AttributedDict([('horizon', 1), ('regions', ['Alaska', 'Idaho'])])}\n",
      "\u001b[1m\u001b[38;2;236;154;60mTool Output\u001b[0m\u001b[1m\u001b[0m: [{'region': 'Alaska', 'forecast': [{'Date': Timestamp('2024-08-17 00:00:00'), 'Magnitude Forecast': 1.3318947764378617, 'Depth Forecast': 30.030569106540007}]}, {'region': 'Idaho', 'forecast': [{'Date': Timestamp('2024-08-17 00:00:00'), 'Magnitude Forecast': 1.6455427489880634, 'Depth Forecast': 4.484447417731854}]}]\n",
      "\u001b[1m\u001b[38;2;45;114;210mThought\u001b[0m\u001b[1m\u001b[0m: The tool output indicates that there are forecasts for potential earthquakes in both Alaska and Idaho tomorrow. The forecasted magnitudes and depths for these regions have been provided. I will relay this information to the user, noting that these are forecasts and actual events may vary.\n",
      "\u001b[1m\u001b[38;2;50;164;103mFinal Answer\u001b[0m\u001b[1m\u001b[0m: Yes, there are forecasts for potential earthquakes in both Alaska and Idaho tomorrow. \n",
      "\n",
      "In Alaska, the forecasted earthquake has a predicted magnitude of approximately 1.33 and a depth of about 30.03 km.\n",
      "\n",
      "In Idaho, the forecasted earthquake has a predicted magnitude of approximately 1.65 and a depth of about 4.48 km.\n",
      "\n",
      "Please note that these are forecasts and actual events may vary. We will continue to monitor seismic activity in these regions and will keep you updated with any significant changes.\n"
     ]
    }
   ],
   "source": [
    "output = agent.invoke({\"question\": \"Will there be earthquakes in Alaska and Idaho tomorrow?\"})"
   ]
  },
  {
   "cell_type": "code",
   "execution_count": 19,
   "metadata": {},
   "outputs": [
    {
     "name": "stdout",
     "output_type": "stream",
     "text": [
      "Yes, there are forecasts for potential earthquakes in both Alaska and Idaho tomorrow. \n",
      "\n",
      "In Alaska, the forecasted earthquake has a predicted magnitude of approximately 1.33 and a depth of about 30.03 km.\n",
      "\n",
      "In Idaho, the forecasted earthquake has a predicted magnitude of approximately 1.65 and a depth of about 4.48 km.\n",
      "\n",
      "Please note that these are forecasts and actual events may vary. We will continue to monitor seismic activity in these regions and will keep you updated with any significant changes.\n"
     ]
    }
   ],
   "source": [
    "print(output.final_answer)"
   ]
  }
 ],
 "metadata": {
  "kernelspec": {
   "display_name": "llm-powered-ai-agents",
   "language": "python",
   "name": "python3"
  },
  "language_info": {
   "codemirror_mode": {
    "name": "ipython",
    "version": 3
   },
   "file_extension": ".py",
   "mimetype": "text/x-python",
   "name": "python",
   "nbconvert_exporter": "python",
   "pygments_lexer": "ipython3",
   "version": "3.12.4"
  }
 },
 "nbformat": 4,
 "nbformat_minor": 2
}
