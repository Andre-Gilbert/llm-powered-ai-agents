{
 "cells": [
  {
   "cell_type": "markdown",
   "metadata": {},
   "source": [
    "# Retrieval Augmented Generation\n",
    "\n",
    "Table of Contents\n",
    "1. Idea\n",
    "2. Naive Implementation\n",
    "3. Graph Implementation"
   ]
  },
  {
   "cell_type": "code",
   "execution_count": 1,
   "metadata": {},
   "outputs": [
    {
     "name": "stderr",
     "output_type": "stream",
     "text": [
      "01/06/24 19:12:01 INFO Load pretrained SentenceTransformer: sentence-transformers/all-MiniLM-L6-v2\n",
      "01/06/24 19:12:07 INFO Use pytorch device_name: mps\n",
      "01/06/24 19:12:08 INFO Loading faiss.\n",
      "01/06/24 19:12:08 INFO Successfully loaded faiss.\n"
     ]
    }
   ],
   "source": [
    "import pandas as pd\n",
    "from language_models.proxy_client import BTPProxyClient\n",
    "from language_models.agents.react import ReActAgent\n",
    "from language_models.agents.chain import AgentChain\n",
    "from language_models.tools.tool import Tool\n",
    "from language_models.models.llm import OpenAILanguageModel\n",
    "from language_models.models.embedding import SentenceTransformerEmbeddingModel\n",
    "from language_models.retrievers import BasicRetriever, ContextualCompressionRetriever\n",
    "from language_models.retrievers.utils import split_documents\n",
    "from language_models.vector_stores import FAISSVectorStore, DistanceMetric\n",
    "from language_models.settings import settings\n",
    "from langchain_core.documents import Document\n",
    "from pydantic import BaseModel, Field\n",
    "from numpy import dot\n",
    "from numpy.linalg import norm\n",
    "from pathlib import Path\n",
    "from langchain_core.documents import Document\n",
    "from utils import load_docs_from_json, save_docs_to_json\n",
    "from pprint import pprint"
   ]
  },
  {
   "cell_type": "code",
   "execution_count": 2,
   "metadata": {},
   "outputs": [],
   "source": [
    "proxy_client = BTPProxyClient(\n",
    "    client_id=settings.CLIENT_ID,\n",
    "    client_secret=settings.CLIENT_SECRET,\n",
    "    auth_url=settings.AUTH_URL,\n",
    "    api_base=settings.API_BASE,\n",
    ")"
   ]
  },
  {
   "cell_type": "code",
   "execution_count": 3,
   "metadata": {},
   "outputs": [],
   "source": [
    "path = Path(\"./data/jobs\")\n",
    "filenames = [file.name for file in path.iterdir() if file.is_file()]\n",
    "\n",
    "documents = []\n",
    "for filename in filenames:\n",
    "    file_path = path / filename\n",
    "    with open(file_path, \"r\", encoding=\"utf-8\", errors=\"replace\") as file:\n",
    "        content = file.read()\n",
    "        documents.append(Document(page_content=content, metadata={\"source\": file_path}))"
   ]
  },
  {
   "cell_type": "code",
   "execution_count": 4,
   "metadata": {},
   "outputs": [],
   "source": [
    "system_prompt = \"\"\"Take the following job and extract data about the job.\n",
    "\n",
    "Respond with the following extracted data:\n",
    "- job_title: The job title.\"\"\"\n",
    "\n",
    "llm = OpenAILanguageModel(\n",
    "    proxy_client=proxy_client,\n",
    "    model='gpt-4',\n",
    "    max_tokens=128,\n",
    "    float=0.0,\n",
    ")\n",
    "\n",
    "class Job(BaseModel):\n",
    "    job_title: str = Field(description=\"The job title.\")\n",
    "\n",
    "job_data_agent = ReActAgent.create(\n",
    "    llm=llm,\n",
    "    system_prompt=system_prompt,\n",
    "    task_prompt=\"Job description:\\n{job}\",\n",
    "    task_prompt_variables=[\"job\"],\n",
    "    tools=None,\n",
    "    output_format=Job,\n",
    "    iterations=5,\n",
    ")"
   ]
  },
  {
   "cell_type": "code",
   "execution_count": 5,
   "metadata": {},
   "outputs": [],
   "source": [
    "def extract_job_titles(documents: list[Document]) -> pd.DataFrame:\n",
    "    for document in documents:\n",
    "        response = job_data_agent.invoke({\"job\": document.page_content})\n",
    "        job_title = response.final_answer[\"job_title\"]\n",
    "        document.metadata[\"job_title\"] = job_title\n",
    "        job_data_agent.reset()\n",
    "    return documents"
   ]
  },
  {
   "cell_type": "code",
   "execution_count": 6,
   "metadata": {},
   "outputs": [],
   "source": [
    "try:\n",
    "    documents = load_docs_from_json('./data/jobs.json')\n",
    "except:\n",
    "    documents = extract_job_titles(documents[:30])\n",
    "    save_docs_to_json(documents, './data/jobs.json')"
   ]
  },
  {
   "cell_type": "code",
   "execution_count": 7,
   "metadata": {},
   "outputs": [],
   "source": [
    "documents = split_documents(documents, separators=[\"\\n\\n\", \"\\n\", \" \", \"\"], chunk_size=1000, chunk_overlap=100)"
   ]
  },
  {
   "cell_type": "markdown",
   "metadata": {},
   "source": [
    "## Idea\n",
    "\n",
    "Integrating RAG into AI systems can significantly enhance LLM responses. RAG allows the LLM to reference a knowledge base outside of its training data sources before generating a response. This is particularly useful when dealing with documents or content specific to your business that LLMs may not be familiar with. By using external information to ground the LLM, it can effectively answer questions related to those topics. However, careful implementation is essential.\n",
    "\n",
    "![rag](../img/rag.png)"
   ]
  },
  {
   "cell_type": "code",
   "execution_count": 8,
   "metadata": {},
   "outputs": [],
   "source": [
    "llm = OpenAILanguageModel(\n",
    "    proxy_client=proxy_client,\n",
    "    model=\"gpt-4\",\n",
    "    max_tokens=256,\n",
    "    temperature=0.0,\n",
    ")"
   ]
  },
  {
   "cell_type": "code",
   "execution_count": 9,
   "metadata": {},
   "outputs": [],
   "source": [
    "system_prompt = \"You are an expert in job postings. Respond with the most accurate information about the job.\"\n",
    "\n",
    "class Output(BaseModel):\n",
    "    content: str = Field(description=\"The final answer.\")\n",
    "\n",
    "agent = ReActAgent.create(\n",
    "    llm=llm,\n",
    "    system_prompt=system_prompt,\n",
    "    task_prompt=\"{question}\",\n",
    "    task_prompt_variables=[\"question\"],\n",
    "    output_format=Output,\n",
    "    iterations=5,\n",
    ")"
   ]
  },
  {
   "cell_type": "markdown",
   "metadata": {},
   "source": [
    "In this example, we ask the LLM about the salary range for one of our job positions, an airport engineer. Since the LLM doesn't have specific information about our company, it uses its internal knowledge to generate an answer based on information it has encountered on the internet."
   ]
  },
  {
   "cell_type": "code",
   "execution_count": 10,
   "metadata": {},
   "outputs": [
    {
     "name": "stderr",
     "output_type": "stream",
     "text": [
      "01/06/24 19:12:10 INFO Prompt:\n",
      "What is the salary range of an airport engineer.\n",
      "01/06/24 19:12:15 INFO Raw response:\n",
      "{\n",
      "  \"thought\": \"The salary range of an airport engineer can vary greatly depending on the location, level of experience, and the specific company. On average, in the United States, an airport engineer can expect to earn between $70,000 and $100,000 per year. However, this is a rough estimate and the actual salary can be lower or higher.\",\n",
      "  \"tool\": \"Final Answer\",\n",
      "  \"tool_input\": {\"content\": \"The salary range of an airport engineer can vary greatly depending on the location, level of experience, and the specific company. On average, in the United States, an airport engineer can expect to earn between $70,000 and $100,000 per year. However, this is a rough estimate and the actual salary can be lower or higher.\"}\n",
      "}\n",
      "01/06/24 19:12:15 INFO Thought:\n",
      "The salary range of an airport engineer can vary greatly depending on the location, level of experience, and the specific company. On average, in the United States, an airport engineer can expect to earn between $70,000 and $100,000 per year. However, this is a rough estimate and the actual salary can be lower or higher.\n",
      "01/06/24 19:12:15 INFO Final answer:\n",
      "{'content': 'The salary range of an airport engineer can vary greatly depending on the location, level of experience, and the specific company. On average, in the United States, an airport engineer can expect to earn between $70,000 and $100,000 per year. However, this is a rough estimate and the actual salary can be lower or higher.'}\n"
     ]
    }
   ],
   "source": [
    "response = agent.invoke({\"question\": \"What is the salary range of an airport engineer.\"})"
   ]
  },
  {
   "cell_type": "code",
   "execution_count": 11,
   "metadata": {},
   "outputs": [
    {
     "name": "stdout",
     "output_type": "stream",
     "text": [
      "('The salary range of an airport engineer can vary greatly depending on the '\n",
      " 'location, level of experience, and the specific company. On average, in the '\n",
      " 'United States, an airport engineer can expect to earn between $70,000 and '\n",
      " '$100,000 per year. However, this is a rough estimate and the actual salary '\n",
      " 'can be lower or higher.')\n"
     ]
    }
   ],
   "source": [
    "pprint(response.final_answer[\"content\"])"
   ]
  },
  {
   "cell_type": "markdown",
   "metadata": {},
   "source": [
    "Here, we provide the necessary information about the job from our document, which grounds the LLM so it can give the user an accurate response."
   ]
  },
  {
   "cell_type": "code",
   "execution_count": 12,
   "metadata": {},
   "outputs": [
    {
     "name": "stderr",
     "output_type": "stream",
     "text": [
      "01/06/24 19:12:15 INFO Prompt:\n",
      "What is the salary range of an airport engineer.\n",
      "\n",
      "Use this context to answer the question:\n",
      "AIRPORT ENGINEER\n",
      "Class Code:       7256\n",
      "Open Date:  07-06-18\n",
      "(Exam Open to All, including Current City Employees)\n",
      "\n",
      "ANNUAL SALARY\n",
      "\n",
      "$105,005 to $153,509 and $111,854 to $163,532.\n",
      "01/06/24 19:12:18 INFO Raw response:\n",
      "{\n",
      "  \"thought\": \"The salary range for the airport engineer position is provided in the job posting.\",\n",
      "  \"tool\": \"Final Answer\",\n",
      "  \"tool_input\": {\n",
      "    \"content\": \"The annual salary for an Airport Engineer as per the provided job posting ranges from $105,005 to $163,532.\"\n",
      "  }\n",
      "}\n",
      "01/06/24 19:12:18 INFO Thought:\n",
      "The salary range for the airport engineer position is provided in the job posting.\n",
      "01/06/24 19:12:18 INFO Final answer:\n",
      "{'content': 'The annual salary for an Airport Engineer as per the provided job posting ranges from $105,005 to $163,532.'}\n"
     ]
    }
   ],
   "source": [
    "question = \"\"\"What is the salary range of an airport engineer.\n",
    "\n",
    "Use this context to answer the question:\n",
    "AIRPORT ENGINEER\n",
    "Class Code:       7256\n",
    "Open Date:  07-06-18\n",
    "(Exam Open to All, including Current City Employees)\n",
    "\n",
    "ANNUAL SALARY\n",
    "\n",
    "$105,005 to $153,509 and $111,854 to $163,532.\"\"\"\n",
    "\n",
    "response = agent.invoke({\"question\": question})"
   ]
  },
  {
   "cell_type": "code",
   "execution_count": 13,
   "metadata": {},
   "outputs": [
    {
     "name": "stdout",
     "output_type": "stream",
     "text": [
      "('The annual salary for an Airport Engineer as per the provided job posting '\n",
      " 'ranges from $105,005 to $163,532.')\n"
     ]
    }
   ],
   "source": [
    "pprint(response.final_answer[\"content\"])"
   ]
  },
  {
   "cell_type": "markdown",
   "metadata": {},
   "source": [
    "To effectively compare documents, we need to create embeddings that capture the semantic meaning of the questions posed to the LLM. Simply put, this involves converting text into numerical representations, aka vectors, using an embedding model.\n",
    "\n",
    "![embedding](../img/embedding.png)"
   ]
  },
  {
   "cell_type": "code",
   "execution_count": 14,
   "metadata": {},
   "outputs": [],
   "source": [
    "embedding_model = SentenceTransformerEmbeddingModel(model=\"all-MiniLM-L6-v2\")"
   ]
  },
  {
   "cell_type": "code",
   "execution_count": 15,
   "metadata": {},
   "outputs": [],
   "source": [
    "query = \"What is the salary range of an airport engineer.\"\n",
    "embedding1 = embedding_model.embed_query(query)"
   ]
  },
  {
   "cell_type": "code",
   "execution_count": 16,
   "metadata": {},
   "outputs": [
    {
     "name": "stdout",
     "output_type": "stream",
     "text": [
      "[0.061040811240673065, 0.006013249978423119, 0.012034785002470016, 0.09349054843187332, -0.03897635266184807, -0.041639544069767, 0.052157122641801834, 0.04001327604055405, -0.040530331432819366, -0.0388326458632946, -0.057182084769010544, -0.07547193765640259, -0.04045605659484863, 0.005403607618063688, -0.053804319351911545, 0.0300196073949337, -0.019651353359222412, -0.0824994146823883, 0.030851002782583237, -0.10073095560073853, 0.07586315274238586, 0.032726261764764786, 0.07222713530063629, -0.0612051896750927, 0.1382749229669571, -0.014632114209234715, 0.10441509634256363, 0.034444037824869156, 0.07069538533687592, 0.02793906442821026, 0.0020828156266361475, 0.039086028933525085, -0.02007865719497204, 0.019540050998330116, 0.043947625905275345, 0.01898784562945366, -0.025768116116523743, -0.002511907834559679, 0.05089978873729706, 0.005661378148943186, -0.03936994448304176, 0.018286826089024544, 0.010302698239684105, -0.017223015427589417, -0.061629876494407654, -0.025007084012031555, 0.059534139931201935, -0.02098722569644451, -0.0015827324241399765, 0.01963438279926777, 0.03843766450881958, -0.011089951731264591, 0.03955179452896118, 0.0026682009920477867, 0.013549676164984703, -0.036857832223176956, -0.02456403709948063, -0.009749742224812508, -0.015019710175693035, -0.025129755958914757, -0.08942985534667969, 0.04780595004558563, 0.00592409074306488, 0.00781768374145031, -0.02035723254084587, -0.04021545499563217, -0.026019705459475517, -0.06496244668960571, -0.0013620903482660651, -0.07253952324390411, -0.0691123902797699, -0.03479976952075958, -0.03156698867678642, 0.04085124284029007, 0.09075469523668289, 0.03176119923591614, 0.014181886799633503, 0.003918114118278027, 0.01732836477458477, 0.0019437525188550353, 0.06051545590162277, -0.04990842193365097, -0.05752149224281311, -0.017416922375559807, 0.019138671457767487, -0.04813450947403908, 0.011005413718521595, 0.04403417930006981, 0.05981568619608879, 0.08475849777460098, -0.003610464744269848, -0.021325383335351944, 0.010225740261375904, 0.023199699819087982, -0.028482608497142792, 0.049394380301237106, 0.016983481124043465, -0.012881536968052387, -0.0494936965405941, -0.01623625122010708, -0.018749969080090523, 0.05321089178323746, 0.021627428010106087, 0.025870168581604958, -0.06271903216838837, 0.008696777746081352, 0.03979019820690155, -0.03555230796337128, 0.04015747085213661, -0.03555428609251976, -0.02788289077579975, 0.028482984751462936, -0.07923687249422073, 0.023721078410744667, 0.006004073657095432, -0.011861171573400497, -0.04136665537953377, 0.02335701510310173, 0.03622173145413399, -0.041456833481788635, -0.005517857149243355, -0.014415247365832329, 0.0055421642027795315, 0.066353440284729, -0.08458127081394196, -0.04607909917831421, -0.04927181825041771, -7.26244654508995e-33, 0.0034624719992280006, 0.0276863481849432, -0.0199133288115263, 0.024070508778095245, 0.019539473578333855, -0.09694644808769226, -0.008087732829153538, 0.08135676383972168, 0.09098926186561584, 0.06777607649564743, -0.1223808079957962, -0.009099259041249752, -0.03857038915157318, 0.0033350589219480753, 0.122596874833107, 0.040407296270132065, -0.026706404983997345, 0.030900489538908005, -0.039143528789281845, 0.07349759340286255, -0.030453626066446304, -0.11317095160484314, -0.038641732186079025, 0.025489848107099533, 0.08817523717880249, 0.030522506684064865, 0.025810282677412033, 0.004661597311496735, 0.03891506791114807, 0.003501277882605791, -0.09903626143932343, 0.14151452481746674, 0.05834126099944115, -0.06113233044743538, -0.11134073138237, -0.005248884670436382, -0.04374169930815697, -0.011113468557596207, -0.021462831646203995, 0.024243736639618874, -0.04187961667776108, -0.0048388466238975525, 0.0583999827504158, -0.019517695531249046, 0.057217251509428024, 0.013350620865821838, -0.003732093144208193, 0.029710320755839348, -0.030219996348023415, 0.040648553520441055, -0.06271969527006149, 0.05110066011548042, 0.063693568110466, -0.018304308876395226, 0.12363091856241226, -0.024364938959479332, 0.036503951996564865, 0.08869273960590363, 0.01674247346818447, 0.05878384783864021, -0.09626193344593048, 0.027585193514823914, 0.007013717200607061, 0.1032952070236206, 0.09596732258796692, 0.08724730461835861, 0.01550519373267889, 0.03368662670254707, 0.028219399973750114, 0.08157488703727722, -0.09009276330471039, 0.022651735693216324, 0.03470046818256378, 0.013813518919050694, -0.09623154252767563, -0.03162749856710434, -0.04542337357997894, 0.047482527792453766, 0.05885583534836769, 0.07229320704936981, 0.0018984441412612796, 0.10809921473264694, 0.02983163669705391, -0.04192866384983063, 0.09465290606021881, -0.06738558411598206, 0.009107885882258415, 0.027558231726288795, -0.008804962038993835, -0.006513363681733608, -0.007799877785146236, -0.016121968626976013, -0.02326742187142372, 0.02283017337322235, -0.03454232215881348, 3.921021935615024e-33, 0.02909100614488125, 0.07113013416528702, -0.08391018211841583, -0.046966299414634705, -0.04948145151138306, 0.001501160324551165, 0.11211693286895752, 0.09413009881973267, 0.02046298049390316, 0.08907711505889893, -0.08754096925258636, -0.004370453767478466, 0.05123669654130936, 0.005732761695981026, -0.055060841143131256, -0.07039181143045425, -0.05357777699828148, -0.08491308242082596, -0.048134125769138336, -0.03425482288002968, 0.06401517987251282, 0.05078243464231491, -0.026559578254818916, 0.0022038999013602734, -0.00073158711893484, -0.029765848070383072, 0.0008481181575916708, 0.03421797230839729, -0.0884341150522232, -0.009225125424563885, -0.009946197271347046, 0.022307245060801506, 0.036061692982912064, -0.0018222196958959103, 0.03496159613132477, -0.039850808680057526, -0.033284951001405716, 0.0033795188646763563, 0.09065048396587372, 0.04045090079307556, 0.001012035645544529, -0.04162422940135002, 0.03091755509376526, -0.05284341052174568, 0.054330114275217056, -0.051505107432603836, 0.012493418529629707, -0.09546620398759842, 0.02581562101840973, -0.13155114650726318, 0.07542943954467773, -0.02434932440519333, -0.03243255242705345, -0.01168231200426817, 0.005435477942228317, -0.029512878507375717, -0.010284271091222763, -0.08655179291963577, 0.046628836542367935, -0.13191832602024078, 0.030779952183365822, -0.001202549203298986, 0.11256774514913559, 0.10401981323957443, -0.056985680013895035, -0.005406771786510944, -0.013630174100399017, 0.0017313422868028283, -0.07552419602870941, 0.03992462530732155, 0.06355545669794083, -0.06738655269145966, 0.12618595361709595, 0.09091369062662125, -0.01632046140730381, -0.08041007816791534, 0.09722929447889328, -0.011035669595003128, 0.014292784966528416, -0.029622411355376244, -0.03257737308740616, 0.021124379709362984, 0.006202946417033672, 0.0627194344997406, 0.03133135288953781, -0.023172643035650253, -0.04476672038435936, -0.011495222337543964, 0.057698652148246765, -0.00246874475851655, -0.046850889921188354, -0.06365430355072021, -0.04435950517654419, -0.04404345154762268, 0.009727194905281067, -1.827222106953741e-08, -0.10387584567070007, 0.04036088287830353, -0.01144677959382534, -0.0052217040210962296, 0.004750008229166269, -0.005558292847126722, -0.04262220114469528, -0.05693816393613815, -0.028301944956183434, -0.08881770819425583, -0.01652008295059204, -0.017036689445376396, -0.01767035387456417, 0.0810418426990509, -0.011401158757507801, -0.0006555436993949115, -0.0737358033657074, 0.07625404745340347, 7.07627332303673e-05, -0.10315395891666412, -0.02086356095969677, -0.005912246182560921, -0.0023656252305954695, -0.037629805505275726, -0.016967441886663437, 0.011103957891464233, -0.10603517293930054, -0.07031577825546265, -0.0008698622696101665, 0.051205508410930634, -0.0809658020734787, -0.018129823729395866, 0.01327531784772873, -0.0012382628628984094, 0.0004045388486701995, 0.04891518875956535, 0.02969900332391262, -0.02339300885796547, -0.023991011083126068, -0.005227609537541866, 0.015159554779529572, -0.036677487194538116, -0.03604729101061821, -0.0023467736318707466, 0.032548122107982635, -0.02489479072391987, -0.08546825498342514, 0.04689555987715721, 0.010054740123450756, 0.033535148948431015, 0.11469484865665436, 0.035657066851854324, -0.007837624289095402, -0.04540420323610306, -0.030320143327116966, -0.015106730163097382, -0.04323635250329971, -0.039663951843976974, -0.09248825907707214, -0.029181471094489098, -0.002759496681392193, -0.004915839526802301, 0.035610221326351166, 0.04689469188451767]\n"
     ]
    }
   ],
   "source": [
    "print(embedding1)"
   ]
  },
  {
   "cell_type": "markdown",
   "metadata": {},
   "source": [
    "Next, we also convert our documents into vectors so we can compare them to the user's question. By embedding both the question and the documents, we project the user's question into the vector space of the documents to identify the closest neighbors, such as the five most similar documents.\n",
    "\n",
    "![vector-space](../img/vector-space.png)"
   ]
  },
  {
   "cell_type": "code",
   "execution_count": 17,
   "metadata": {},
   "outputs": [],
   "source": [
    "document = \"\"\"AIRPORT ENGINEER\n",
    "Class Code:       7256\n",
    "Open Date:  07-06-18\n",
    "(Exam Open to All, including Current City Employees)\n",
    "\n",
    "ANNUAL SALARY\n",
    "\n",
    "$105,005 to $153,509 and $111,854 to $163,532.\"\"\"\n",
    "\n",
    "embedding2 = embedding_model.embed_query(document)"
   ]
  },
  {
   "cell_type": "markdown",
   "metadata": {},
   "source": [
    "To compute the similarities between vectors, we can use mathematical formulas such as cosine similarity, euclidean distance, or inner product. The output will indicate how similar the vectors are.\n",
    "\n",
    "Differences between value ranges:\n",
    "\n",
    "- Euclidean distance: Measures the straight-line distance between two points. Smaller values indicate greater similarity.\n",
    "- Cosine similarity: Measures the cosine of the angle between two vectors, ranging from -1 to 1. Values closer to 1 indicate greater similarity.\n",
    "- Inner product: Measures the dot product of two vectors. Higher values typically indicate greater similarity."
   ]
  },
  {
   "cell_type": "code",
   "execution_count": 18,
   "metadata": {},
   "outputs": [
    {
     "name": "stdout",
     "output_type": "stream",
     "text": [
      "Cosine similarity: 0.7345214541574135\n"
     ]
    }
   ],
   "source": [
    "cosine_similarity = dot(embedding1, embedding2) / (norm(embedding1) * norm(embedding2))\n",
    "print(f\"Cosine similarity: {cosine_similarity}\")"
   ]
  },
  {
   "cell_type": "markdown",
   "metadata": {},
   "source": [
    "## Naive Implementation\n",
    "\n",
    "Naive RAG is suitable for specific objects like earthquakes or particular car models stored in a vector space. However, it struggles to ensure retrieved documents contain the correct context for effective query addressing. For instance, projecting an embedding into the vector space may not guarantee receiving only relevant documents."
   ]
  },
  {
   "cell_type": "code",
   "execution_count": 19,
   "metadata": {},
   "outputs": [],
   "source": [
    "try:\n",
    "    vector_store = FAISSVectorStore.load_local(\"./data\", \"job_embeddings\")\n",
    "except:\n",
    "    vector_store = FAISSVectorStore.from_documents(\n",
    "        documents=documents,\n",
    "        embedding_model=embedding_model,\n",
    "        distance_metric=DistanceMetric.COSINE_SIMILARITY,\n",
    "    )\n",
    "    vector_store.save_local(\"./data\", \"job_embeddings\")"
   ]
  },
  {
   "cell_type": "code",
   "execution_count": 20,
   "metadata": {},
   "outputs": [],
   "source": [
    "tool_name = \"Search\"\n",
    "tool_description = \"Use this tool to search job postings.\"\n",
    "\n",
    "class Search(BaseModel):\n",
    "    user_text: str = Field(description=\"The user question/prompt/text.\")\n",
    "    fetch_k: int = Field(5, description=\"The number of documents to return.\")"
   ]
  },
  {
   "cell_type": "code",
   "execution_count": 21,
   "metadata": {},
   "outputs": [],
   "source": [
    "basic_retriever = BasicRetriever(\n",
    "    vector_store=vector_store,\n",
    "    score_threshold=0.0\n",
    ")\n",
    "\n",
    "basic_retriever_tool = Tool(\n",
    "    func=basic_retriever.get_relevant_documents,\n",
    "    name=tool_name,\n",
    "    description=tool_description,\n",
    "    args_schema=Search,\n",
    ")"
   ]
  },
  {
   "cell_type": "code",
   "execution_count": 22,
   "metadata": {},
   "outputs": [],
   "source": [
    "system_prompt = \"\"\"You are an expert in job postings. Respond with the most accurate information about the job.\n",
    "\n",
    "Use the search tool to answer the user's question.\"\"\"\n",
    "\n",
    "class Output(BaseModel):\n",
    "    content: str = Field(description=\"The final answer.\")\n",
    "\n",
    "basic_retriever_agent = ReActAgent.create(\n",
    "    llm=llm,\n",
    "    system_prompt=system_prompt,\n",
    "    task_prompt=\"{question}\",\n",
    "    task_prompt_variables=[\"question\"],\n",
    "    output_format=Output,\n",
    "    tools=[basic_retriever_tool],\n",
    "    iterations=5,\n",
    ")"
   ]
  },
  {
   "cell_type": "code",
   "execution_count": 23,
   "metadata": {},
   "outputs": [
    {
     "name": "stderr",
     "output_type": "stream",
     "text": [
      "01/06/24 19:12:22 INFO Prompt:\n",
      "Give me the job description of an airport engineer.\n",
      "01/06/24 19:12:24 INFO Raw response:\n",
      "{\n",
      "  \"thought\": \"I need to find the job description of an airport engineer.\",\n",
      "  \"tool\": \"Search\",\n",
      "  \"tool_input\": {\"user_text\": \"airport engineer job description\", \"fetch_k\": 5}\n",
      "}\n",
      "01/06/24 19:12:24 INFO Thought:\n",
      "I need to find the job description of an airport engineer.\n",
      "01/06/24 19:12:24 INFO Tool:\n",
      "Search\n",
      "01/06/24 19:12:24 INFO Tool input:\n",
      "{'user_text': 'airport engineer job description', 'fetch_k': 5}\n",
      "01/06/24 19:12:24 INFO Tool response:\n",
      "The examination will consist entirely of an evaluation of experience and personal qualifications by interview.  In the interview, the following competencies may be evaluated: Judgment and Decision Making, Initiative, Conscientiousness, Innovation, Emotional Maturity, Credibility, Leadership, and Job Knowledge, including knowledge of: Los Angeles World Airport organizational structure; local, state, and federal laws and regulations governing airport police employees; methods of patrolling and safeguarding airport property, buildings, installations and adjacent facilities and roadways; safety principles and practices; laws of arrest and elements of crime; airport and aviation security; Airport Police Division Manual and Los Angeles World Airports Administrative Manual; Peace Officer's Procedural Bill of Rights; Incident Command System; and other necessary knowledge, skills, and abilities.  Airport personnel folders will be used as part of the interview process.\n",
      "\n",
      "AIRPORT ENGINEER\n",
      "Class Code:       7256\n",
      "Open Date:  07-06-18\n",
      "(Exam Open to All, including Current City Employees)\n",
      "\n",
      "ANNUAL SALARY \n",
      " \n",
      "$105,005 to $153,509 and $111,854 to $163,532     \n",
      "\n",
      "NOTES:\n",
      "\n",
      "1. For information regarding reciprocity between the City of Los Angeles departments and LADWP, go to http://per.lacity.org/Reciprocity_CityDepts_and_DWP.pdf.\n",
      "2. The current salary range is subject to change. You may confirm the starting salary with the hiring department before accepting a job offer.\n",
      "3. Candidates from the eligible list are normally appointed to vacancies in the lower pay grade positions.\n",
      "\n",
      "DUTIES\n",
      "\n",
      "An Airport Engineer performs professional engineering work in the planning, design, construction, maintenance, and operation of landside facilities, structures, pavement and support systems at an airport; applies sound supervisory principles and techniques in building and maintaining an effective work force; and fulfills equal employment opportunity responsibilities.\n",
      "\n",
      "SELECTION PROCESS\n",
      "\n",
      "Examination Weights:   Interview . . . . . . . . . . . . . . . . . . . . . . . . . . . . . . . . . . . . . . . . . . . . . . . . . . . . . . . . . . . . . . . . . . . . . . . . . .  100%\n",
      "\n",
      "The examination will consist entirely of an interview. In the interview, the following competencies may be evaluated: Judgment and Decision Making, Attention to Detail, Initiative, Supervision, Responsiveness and Follow-up, Teamwork, Project Management, and Job Knowledge, including knowledge of: engineering principles and practices related to civil, structural, electrical, mechanical, and/or communications; technical requirements and regulations related to the Federal Aviation Administration (FAA) and Transportation Security Administration (TSA) standards;  layout, functions and components of airfield operational areas (AOA); layout, functions, and components of airport terminal facility operations; and other necessary knowledge, skills, and abilities.\n",
      "\n",
      "Additional information can be obtained by going to http://per.lacity.org/index.cfm?content=jobanalyses  and clicking on Competencies under Airport Engineer.\n",
      "\n",
      "Candidates will be notified later by e-mail of the date, time, and location of the interview, which will be held in Los Angeles. It is anticipated that the interview will begin during the period of SEPTEMBER 10, 2018 to SEPTEMBER 21, 2018.\n",
      "\n",
      "NOTES:\n",
      "\n",
      "DUTIES\n",
      "\n",
      "An Airport Police Captain plans, supervises, directs and controls civilian and sworn Airport Police Division employees within a division, section or large tactical group; applies sound management techniques to ensure the mission of the Airport Police Division is met through enforcement of federal, state and local laws and regulations, City of Los Angeles ordinances, Airport Security Program requirements and airport rules and regulations at any one of the airports of the City of Los Angeles; and does other related work.\n",
      "\n",
      "REQUIREMENT/MINIMUM QUALIFICATION\n",
      "\n",
      "One year of full-time paid experience as an Airport Police Lieutenant with the Los Angeles World Airports, or in a class at that level, with responsibility for all law enforcement and safety and security services provided at a LAWA facility during a watch or by a particular unit.\n",
      "01/06/24 19:12:30 INFO Raw response:\n",
      "{\n",
      "  \"thought\": \"The job description for an airport engineer has been found. I can now provide this information to the user.\",\n",
      "  \"tool\": \"Final Answer\",\n",
      "  \"tool_input\": {\n",
      "    \"content\": \"An Airport Engineer performs professional engineering work in the planning, design, construction, maintenance, and operation of landside facilities, structures, pavement and support systems at an airport. They also apply sound supervisory principles and techniques in building and maintaining an effective work force, and fulfill equal employment opportunity responsibilities. They need to have knowledge of engineering principles and practices related to civil, structural, electrical, mechanical, and/or communications; technical requirements and regulations related to the Federal Aviation Administration (FAA) and Transportation Security Administration (TSA) standards; layout, functions and components of airfield operational areas (AOA); layout, functions, and components of airport terminal facility operations.\"\n",
      "  }\n",
      "}\n",
      "01/06/24 19:12:30 INFO Thought:\n",
      "The job description for an airport engineer has been found. I can now provide this information to the user.\n",
      "01/06/24 19:12:30 INFO Final answer:\n",
      "{'content': 'An Airport Engineer performs professional engineering work in the planning, design, construction, maintenance, and operation of landside facilities, structures, pavement and support systems at an airport. They also apply sound supervisory principles and techniques in building and maintaining an effective work force, and fulfill equal employment opportunity responsibilities. They need to have knowledge of engineering principles and practices related to civil, structural, electrical, mechanical, and/or communications; technical requirements and regulations related to the Federal Aviation Administration (FAA) and Transportation Security Administration (TSA) standards; layout, functions and components of airfield operational areas (AOA); layout, functions, and components of airport terminal facility operations.'}\n"
     ]
    }
   ],
   "source": [
    "response = basic_retriever_agent.invoke({\"question\": \"Give me the job description of an airport engineer.\"})"
   ]
  },
  {
   "cell_type": "code",
   "execution_count": 24,
   "metadata": {},
   "outputs": [
    {
     "name": "stdout",
     "output_type": "stream",
     "text": [
      "('An Airport Engineer performs professional engineering work in the planning, '\n",
      " 'design, construction, maintenance, and operation of landside facilities, '\n",
      " 'structures, pavement and support systems at an airport. They also apply '\n",
      " 'sound supervisory principles and techniques in building and maintaining an '\n",
      " 'effective work force, and fulfill equal employment opportunity '\n",
      " 'responsibilities. They need to have knowledge of engineering principles and '\n",
      " 'practices related to civil, structural, electrical, mechanical, and/or '\n",
      " 'communications; technical requirements and regulations related to the '\n",
      " 'Federal Aviation Administration (FAA) and Transportation Security '\n",
      " 'Administration (TSA) standards; layout, functions and components of airfield '\n",
      " 'operational areas (AOA); layout, functions, and components of airport '\n",
      " 'terminal facility operations.')\n"
     ]
    }
   ],
   "source": [
    "pprint(response.final_answer[\"content\"])"
   ]
  },
  {
   "cell_type": "code",
   "execution_count": 25,
   "metadata": {},
   "outputs": [],
   "source": [
    "contextual_compression_retriever = ContextualCompressionRetriever(\n",
    "    llm=llm,\n",
    "    vector_store=vector_store,\n",
    "    score_threshold=0.0,\n",
    ")\n",
    "\n",
    "contextual_compression_retriever_tool = Tool(\n",
    "    func=contextual_compression_retriever.get_relevant_documents,\n",
    "    name=tool_name,\n",
    "    description=tool_description,\n",
    "    args_schema=Search,\n",
    ")"
   ]
  },
  {
   "cell_type": "code",
   "execution_count": 26,
   "metadata": {},
   "outputs": [],
   "source": [
    "system_prompt = \"\"\"You are an expert in job postings. Respond with the most accurate information about the job.\n",
    "\n",
    "Use the search tool to answer the user's question.\"\"\"\n",
    "\n",
    "class Output(BaseModel):\n",
    "    content: str = Field(description=\"The final answer.\")\n",
    "\n",
    "contextual_compression_retriever_agent = ReActAgent.create(\n",
    "    llm=llm,\n",
    "    system_prompt=system_prompt,\n",
    "    task_prompt=\"{question}\",\n",
    "    task_prompt_variables=[\"question\"],\n",
    "    output_format=Output,\n",
    "    tools=[contextual_compression_retriever_tool],\n",
    "    iterations=5,\n",
    ")"
   ]
  },
  {
   "cell_type": "code",
   "execution_count": 27,
   "metadata": {},
   "outputs": [
    {
     "name": "stderr",
     "output_type": "stream",
     "text": [
      "01/06/24 19:12:30 INFO Prompt:\n",
      "Give me the job description of an airport engineer.\n",
      "01/06/24 19:12:32 INFO Raw response:\n",
      "{\n",
      "  \"thought\": \"I need to find the job description of an airport engineer.\",\n",
      "  \"tool\": \"Search\",\n",
      "  \"tool_input\": {\"user_text\": \"airport engineer job description\", \"fetch_k\": 5}\n",
      "}\n",
      "01/06/24 19:12:32 INFO Thought:\n",
      "I need to find the job description of an airport engineer.\n",
      "01/06/24 19:12:32 INFO Tool:\n",
      "Search\n",
      "01/06/24 19:12:32 INFO Tool input:\n",
      "{'user_text': 'airport engineer job description', 'fetch_k': 5}\n",
      "01/06/24 19:12:39 INFO Tool response:\n",
      "AIRPORT ENGINEER\n",
      "Class Code:       7256\n",
      "Open Date:  07-06-18\n",
      "(Exam Open to All, including Current City Employees)\n",
      "\n",
      "ANNUAL SALARY \n",
      " \n",
      "$105,005 to $153,509 and $111,854 to $163,532     \n",
      "\n",
      "NOTES:\n",
      "\n",
      "1. For information regarding reciprocity between the City of Los Angeles departments and LADWP, go to http://per.lacity.org/Reciprocity_CityDepts_and_DWP.pdf.\n",
      "2. The current salary range is subject to change. You may confirm the starting salary with the hiring department before accepting a job offer.\n",
      "3. Candidates from the eligible list are normally appointed to vacancies in the lower pay grade positions.\n",
      "\n",
      "DUTIES\n",
      "\n",
      "An Airport Engineer performs professional engineering work in the planning, design, construction, maintenance, and operation of landside facilities, structures, pavement and support systems at an airport; applies sound supervisory principles and techniques in building and maintaining an effective work force; and fulfills equal employment opportunity responsibilities.\n",
      "\n",
      "SELECTION PROCESS\n",
      "\n",
      "Examination Weights:   Interview . . . . . . . . . . . . . . . . . . . . . . . . . . . . . . . . . . . . . . . . . . . . . . . . . . . . . . . . . . . . . . . . . . . . . . . . . .  100%\n",
      "\n",
      "The examination will consist entirely of an interview. In the interview, the following competencies may be evaluated: Judgment and Decision Making, Attention to Detail, Initiative, Supervision, Responsiveness and Follow-up, Teamwork, Project Management, and Job Knowledge, including knowledge of: engineering principles and practices related to civil, structural, electrical, mechanical, and/or communications; technical requirements and regulations related to the Federal Aviation Administration (FAA) and Transportation Security Administration (TSA) standards;  layout, functions and components of airfield operational areas (AOA); layout, functions, and components of airport terminal facility operations; and other necessary knowledge, skills, and abilities.\n",
      "\n",
      "Additional information can be obtained by going to http://per.lacity.org/index.cfm?content=jobanalyses  and clicking on Competencies under Airport Engineer.\n",
      "\n",
      "Candidates will be notified later by e-mail of the date, time, and location of the interview, which will be held in Los Angeles. It is anticipated that the interview will begin during the period of SEPTEMBER 10, 2018 to SEPTEMBER 21, 2018.\n",
      "\n",
      "NOTES:\n",
      "01/06/24 19:12:45 INFO Raw response:\n",
      "{\n",
      "  \"thought\": \"I now know what to respond\",\n",
      "  \"tool\": \"Final Answer\",\n",
      "  \"tool_input\": {\n",
      "    \"content\": \"An Airport Engineer performs professional engineering work in the planning, design, construction, maintenance, and operation of landside facilities, structures, pavement and support systems at an airport. They also apply sound supervisory principles and techniques in building and maintaining an effective work force, and fulfill equal employment opportunity responsibilities. The job requires knowledge of engineering principles and practices related to civil, structural, electrical, mechanical, and/or communications; technical requirements and regulations related to the Federal Aviation Administration (FAA) and Transportation Security Administration (TSA) standards; layout, functions and components of airfield operational areas (AOA); layout, functions, and components of airport terminal facility operations.\"\n",
      "  }\n",
      "}\n",
      "01/06/24 19:12:45 INFO Thought:\n",
      "I now know what to respond\n",
      "01/06/24 19:12:45 INFO Final answer:\n",
      "{'content': 'An Airport Engineer performs professional engineering work in the planning, design, construction, maintenance, and operation of landside facilities, structures, pavement and support systems at an airport. They also apply sound supervisory principles and techniques in building and maintaining an effective work force, and fulfill equal employment opportunity responsibilities. The job requires knowledge of engineering principles and practices related to civil, structural, electrical, mechanical, and/or communications; technical requirements and regulations related to the Federal Aviation Administration (FAA) and Transportation Security Administration (TSA) standards; layout, functions and components of airfield operational areas (AOA); layout, functions, and components of airport terminal facility operations.'}\n"
     ]
    }
   ],
   "source": [
    "response = contextual_compression_retriever_agent.invoke({\"question\": \"Give me the job description of an airport engineer.\"})"
   ]
  },
  {
   "cell_type": "code",
   "execution_count": 28,
   "metadata": {},
   "outputs": [
    {
     "name": "stdout",
     "output_type": "stream",
     "text": [
      "('An Airport Engineer performs professional engineering work in the planning, '\n",
      " 'design, construction, maintenance, and operation of landside facilities, '\n",
      " 'structures, pavement and support systems at an airport. They also apply '\n",
      " 'sound supervisory principles and techniques in building and maintaining an '\n",
      " 'effective work force, and fulfill equal employment opportunity '\n",
      " 'responsibilities. The job requires knowledge of engineering principles and '\n",
      " 'practices related to civil, structural, electrical, mechanical, and/or '\n",
      " 'communications; technical requirements and regulations related to the '\n",
      " 'Federal Aviation Administration (FAA) and Transportation Security '\n",
      " 'Administration (TSA) standards; layout, functions and components of airfield '\n",
      " 'operational areas (AOA); layout, functions, and components of airport '\n",
      " 'terminal facility operations.')\n"
     ]
    }
   ],
   "source": [
    "pprint(response.final_answer[\"content\"])"
   ]
  },
  {
   "cell_type": "markdown",
   "metadata": {},
   "source": [
    "## Graph Implementation\n",
    "\n",
    "Knowledge graph or ontology-based RAG offers a practical approach but requires intricate implementation and management. Users ideally create a digital twin of their business, linking documents to specific objects. This ensures the LLM locates relevant objects and finds associated documents similar to the user query. For instance, a sophisticated RAG solution can exclusively search for repair manuals tailored to the owner's car model, grounding the LLM effectively. Additionally, with a knowledge graph or ontology, users control data access, enhancing security and query precision. Additionally, one can use an episodic memory to retain recent learnings, enabling AI agents to offer and store feedback. This feedback loop can improve task performance."
   ]
  },
  {
   "cell_type": "code",
   "execution_count": 29,
   "metadata": {},
   "outputs": [],
   "source": [
    "def create_dataset(documents: list[Document]) -> pd.DataFrame:\n",
    "    data = []\n",
    "    for document in documents:\n",
    "        embedding = embedding_model.embed_query(document.page_content)\n",
    "        data.append({\n",
    "            \"job_title\": document.metadata.get(\"job_title\") or \"\",\n",
    "            \"text\": document.page_content,\n",
    "            \"embedding\": embedding,\n",
    "            \"source\": document.metadata.get(\"source\") or \"\",\n",
    "        })\n",
    "    return pd.DataFrame(data)"
   ]
  },
  {
   "cell_type": "code",
   "execution_count": 30,
   "metadata": {},
   "outputs": [],
   "source": [
    "df = create_dataset(documents)\n",
    "data = {\"jobs\": df}"
   ]
  },
  {
   "cell_type": "code",
   "execution_count": 31,
   "metadata": {},
   "outputs": [],
   "source": [
    "def get_available_job_titles() -> list[str]:\n",
    "    return data[\"jobs\"].job_title.unique().tolist()\n",
    "\n",
    "get_jobs_tool = Tool(\n",
    "    func=get_available_job_titles,\n",
    "    name=\"Get Available Job Titles\",\n",
    "    description=\"Use this tool to get the job titles.\",\n",
    "    args_schema=None,\n",
    ")"
   ]
  },
  {
   "cell_type": "code",
   "execution_count": 32,
   "metadata": {},
   "outputs": [],
   "source": [
    "class Job(BaseModel):\n",
    "    job_title: str = Field(description=\"The job title.\")\n",
    "\n",
    "job_agent = ReActAgent.create(\n",
    "    llm=llm,\n",
    "    system_prompt=\"\",\n",
    "    task_prompt=\"{question} \\n\\nRespond with the job title.\",\n",
    "    task_prompt_variables=[\"question\"],\n",
    "    output_format=Job,\n",
    "    tools=[get_jobs_tool],\n",
    "    iterations=10,\n",
    ")"
   ]
  },
  {
   "cell_type": "code",
   "execution_count": 33,
   "metadata": {},
   "outputs": [],
   "source": [
    "class Search(BaseModel):\n",
    "    user_text: str = Field(description=\"The user question/prompt/text.\")\n",
    "    fetch_k: int = Field(5, description=\"The number of documents to return.\")\n",
    "    job_title: str = Field(description=\"The job title to filter for. Must be all caps.\")\n",
    "\n",
    "def search(user_text: str, fetch_k: int, job_title: str) -> str:\n",
    "\n",
    "    def calculate_cosine_similarity(user_text_embedding, embedding):\n",
    "        cosine_similarity = dot(user_text_embedding, embedding) / (norm(user_text_embedding) * norm(embedding))\n",
    "        return cosine_similarity\n",
    "\n",
    "    user_text_embedding = embedding_model.embed_query(user_text)\n",
    "    df = data[\"jobs\"]\n",
    "    df = df.loc[df[\"job_title\"] == job_title.upper()].copy()\n",
    "    df[\"cosine_similarity\"] = df.embedding.apply(lambda embedding: calculate_cosine_similarity(user_text_embedding, embedding))\n",
    "    df = df.sort_values(by=\"cosine_similarity\", ascending=False)\n",
    "    df = df.iloc[:fetch_k]\n",
    "    documents = \"\\n\\n\".join(df.text.tolist())\n",
    "    return f\"Context:\\n\\n{documents}\"\n",
    "\n",
    "\n",
    "search_tool = Tool(\n",
    "    func=search,\n",
    "    name=tool_name,\n",
    "    description=tool_description,\n",
    "    args_schema=Search,\n",
    ")"
   ]
  },
  {
   "cell_type": "code",
   "execution_count": 34,
   "metadata": {},
   "outputs": [],
   "source": [
    "system_prompt = \"\"\"You are an expert in job postings. Respond with the most accurate information about the job.\n",
    "\n",
    "Use the Search tool to find the job description.\"\"\"\n",
    "\n",
    "class Output(BaseModel):\n",
    "    content: str = Field(description=\"The final answer.\")\n",
    "\n",
    "agent = ReActAgent.create(\n",
    "    llm=llm,\n",
    "    system_prompt=system_prompt,\n",
    "    task_prompt=\"{job_title}\",\n",
    "    task_prompt_variables=[\"job_title\"],\n",
    "    output_format=Output,\n",
    "    tools=[search_tool],\n",
    "    iterations=10,\n",
    ")"
   ]
  },
  {
   "cell_type": "code",
   "execution_count": 35,
   "metadata": {},
   "outputs": [],
   "source": [
    "chain = AgentChain(\n",
    "    chain=[job_agent, agent],\n",
    "    chain_variables=[\"question\"],\n",
    ")"
   ]
  },
  {
   "cell_type": "code",
   "execution_count": 36,
   "metadata": {},
   "outputs": [
    {
     "name": "stderr",
     "output_type": "stream",
     "text": [
      "01/06/24 19:13:22 INFO Prompt:\n",
      "Give me the job description of an airport engineer. \n",
      "\n",
      "Respond with the job title.\n",
      "01/06/24 19:13:24 INFO Raw response:\n",
      "{\n",
      "  \"thought\": \"I need to find the job title for an airport engineer\",\n",
      "  \"tool\": \"Get Available Job Titles\",\n",
      "  \"tool_input\": {}\n",
      "}\n",
      "01/06/24 19:13:24 INFO Thought:\n",
      "I need to find the job title for an airport engineer\n",
      "01/06/24 19:13:24 INFO Tool:\n",
      "Get Available Job Titles\n",
      "01/06/24 19:13:24 INFO Tool input:\n",
      "{}\n",
      "01/06/24 19:13:24 INFO Tool response:\n",
      "['SENIOR HOUSING INSPECTOR', 'LEGISLATIVE ASSISTANT', 'DISTRICT SUPERVISOR ANIMAL SERVICES', 'LEGISLATIVE REPRESENTATIVE', 'Gallery Attendant', 'TRUCK AND EQUIPMENT DISPATCHER', 'COMMUNICATIONS CABLE SUPERVISOR', 'SHIP CARPENTER', 'PRINCIPAL SECURITY OFFICER', 'PRINCIPAL CIVIL ENGINEERING DRAFTING TECHNICIAN', 'AIRPORT ENGINEER', 'BENEFITS SPECIALIST', 'SENIOR ELECTRIC SERVICE REPRESENTATIVE', 'SENIOR BUILDING INSPECTOR', 'TREE SURGEON ASSISTANT', 'Claims Agent', 'Senior City Planner', 'Treasury Accountant', 'PRINCIPAL DETENTION OFFICER', 'Senior Parking Attendant', 'Electrical Tester', 'RISK MANAGER', 'RIDESHARE PROGRAM ADMINISTRATOR', 'SENIOR PERSONNEL ANALYST', 'PARK MAINTENANCE SUPERVISOR', 'SECRETARY LEGAL', 'AIRPORT POLICE CAPTAIN', 'SENIOR POLICE SERVICE REPRESENTATIVE', 'Title Examiner', 'EQUIPMENT REPAIR SUPERVISOR']\n",
      "01/06/24 19:13:28 INFO Raw response:\n",
      "{\n",
      "  \"thought\": \"I found the job title for an airport engineer in the list of available job titles.\",\n",
      "  \"tool\": \"Final Answer\",\n",
      "  \"tool_input\": {\"job_title\": \"AIRPORT ENGINEER\"}\n",
      "}\n",
      "01/06/24 19:13:28 INFO Thought:\n",
      "I found the job title for an airport engineer in the list of available job titles.\n",
      "01/06/24 19:13:28 INFO Final answer:\n",
      "{'job_title': 'AIRPORT ENGINEER'}\n",
      "01/06/24 19:13:28 INFO Prompt:\n",
      "AIRPORT ENGINEER\n",
      "01/06/24 19:13:31 INFO Raw response:\n",
      "{\n",
      "  \"thought\": \"I need to find the job description for an Airport Engineer.\",\n",
      "  \"tool\": \"Search\",\n",
      "  \"tool_input\": {\n",
      "    \"user_text\": \"Airport Engineer\",\n",
      "    \"fetch_k\": 5,\n",
      "    \"job_title\": \"AIRPORT ENGINEER\"\n",
      "  }\n",
      "}\n",
      "01/06/24 19:13:31 INFO Thought:\n",
      "I need to find the job description for an Airport Engineer.\n",
      "01/06/24 19:13:31 INFO Tool:\n",
      "Search\n",
      "01/06/24 19:13:31 INFO Tool input:\n",
      "{'user_text': 'Airport Engineer', 'fetch_k': 5, 'job_title': 'AIRPORT ENGINEER'}\n",
      "01/06/24 19:13:31 INFO Tool response:\n",
      "Context:\n",
      "\n",
      "AIRPORT ENGINEER\n",
      "Class Code:       7256\n",
      "Open Date:  07-06-18\n",
      "(Exam Open to All, including Current City Employees)\n",
      "\n",
      "ANNUAL SALARY \n",
      " \n",
      "$105,005 to $153,509 and $111,854 to $163,532     \n",
      "\n",
      "NOTES:\n",
      "\n",
      "1. For information regarding reciprocity between the City of Los Angeles departments and LADWP, go to http://per.lacity.org/Reciprocity_CityDepts_and_DWP.pdf.\n",
      "2. The current salary range is subject to change. You may confirm the starting salary with the hiring department before accepting a job offer.\n",
      "3. Candidates from the eligible list are normally appointed to vacancies in the lower pay grade positions.\n",
      "\n",
      "DUTIES\n",
      "\n",
      "An Airport Engineer performs professional engineering work in the planning, design, construction, maintenance, and operation of landside facilities, structures, pavement and support systems at an airport; applies sound supervisory principles and techniques in building and maintaining an effective work force; and fulfills equal employment opportunity responsibilities.\n",
      "\n",
      "Additional information can be obtained by going to http://per.lacity.org/index.cfm?content=jobanalyses  and clicking on Competencies under Airport Engineer.\n",
      "\n",
      "Candidates will be notified later by e-mail of the date, time, and location of the interview, which will be held in Los Angeles. It is anticipated that the interview will begin during the period of SEPTEMBER 10, 2018 to SEPTEMBER 21, 2018.\n",
      "\n",
      "NOTES:\n",
      "\n",
      "SELECTION PROCESS\n",
      "\n",
      "Examination Weights:   Interview . . . . . . . . . . . . . . . . . . . . . . . . . . . . . . . . . . . . . . . . . . . . . . . . . . . . . . . . . . . . . . . . . . . . . . . . . .  100%\n",
      "\n",
      "The examination will consist entirely of an interview. In the interview, the following competencies may be evaluated: Judgment and Decision Making, Attention to Detail, Initiative, Supervision, Responsiveness and Follow-up, Teamwork, Project Management, and Job Knowledge, including knowledge of: engineering principles and practices related to civil, structural, electrical, mechanical, and/or communications; technical requirements and regulations related to the Federal Aviation Administration (FAA) and Transportation Security Administration (TSA) standards;  layout, functions and components of airfield operational areas (AOA); layout, functions, and components of airport terminal facility operations; and other necessary knowledge, skills, and abilities.\n",
      "\n",
      "REQUIREMENTS/MINIMUM QUALIFICATIONS \n",
      "\n",
      "1. Two years of full-time paid professional experience at the level of Engineering Associate III in the areas of civil, structural, mechanical, electrical, or communication engineering in the design, construction, management or engineering of airport/aviation projects or programs; and a valid license as a Professional Engineer with the California State Board of Registration for Professional Engineer; or\n",
      "2. Five years of full-time paid professional experience (two years of which requiring a PE license to perform duties) in the areas of civil, structural, mechanical, electrical, or communication engineering in the design, construction, management or engineering of airport/aviation projects or programs and a valid license as a Professional Engineer with the California State Board of Registration for Professional Engineers.\n",
      "\n",
      "PROCESS NOTES\n",
      "\n",
      "AN EQUAL EMPLOYMENT OPPORTUNITY EMPLOYER\n",
      "For additional information and FAQs regarding the City's hiring process, please go to:  http://per.lacity.org/index.cfm?content=employmenttestingprocess\n",
      "01/06/24 19:13:38 INFO Raw response:\n",
      "{\n",
      "  \"thought\": \"I now have the job description for an Airport Engineer\",\n",
      "  \"tool\": \"Final Answer\",\n",
      "  \"tool_input\": {\n",
      "    \"content\": \"An Airport Engineer performs professional engineering work in the planning, design, construction, maintenance, and operation of landside facilities, structures, pavement and support systems at an airport. They also apply sound supervisory principles and techniques in building and maintaining an effective work force, and fulfill equal employment opportunity responsibilities. The annual salary ranges from $105,005 to $153,509 and $111,854 to $163,532. The requirements for this position include two to five years of full-time paid professional experience in the areas of civil, structural, mechanical, electrical, or communication engineering in the design, construction, management or engineering of airport/aviation projects or programs, and a valid license as a Professional Engineer with the California State Board of Registration for Professional Engineers.\"\n",
      "  }\n",
      "}\n",
      "01/06/24 19:13:38 INFO Thought:\n",
      "I now have the job description for an Airport Engineer\n",
      "01/06/24 19:13:38 INFO Final answer:\n",
      "{'content': 'An Airport Engineer performs professional engineering work in the planning, design, construction, maintenance, and operation of landside facilities, structures, pavement and support systems at an airport. They also apply sound supervisory principles and techniques in building and maintaining an effective work force, and fulfill equal employment opportunity responsibilities. The annual salary ranges from $105,005 to $153,509 and $111,854 to $163,532. The requirements for this position include two to five years of full-time paid professional experience in the areas of civil, structural, mechanical, electrical, or communication engineering in the design, construction, management or engineering of airport/aviation projects or programs, and a valid license as a Professional Engineer with the California State Board of Registration for Professional Engineers.'}\n"
     ]
    }
   ],
   "source": [
    "response = chain.invoke({\"question\": \"Give me the job description of an airport engineer.\"})"
   ]
  },
  {
   "cell_type": "code",
   "execution_count": 37,
   "metadata": {},
   "outputs": [
    {
     "name": "stdout",
     "output_type": "stream",
     "text": [
      "('An Airport Engineer performs professional engineering work in the planning, '\n",
      " 'design, construction, maintenance, and operation of landside facilities, '\n",
      " 'structures, pavement and support systems at an airport. They also apply '\n",
      " 'sound supervisory principles and techniques in building and maintaining an '\n",
      " 'effective work force, and fulfill equal employment opportunity '\n",
      " 'responsibilities. The annual salary ranges from $105,005 to $153,509 and '\n",
      " '$111,854 to $163,532. The requirements for this position include two to five '\n",
      " 'years of full-time paid professional experience in the areas of civil, '\n",
      " 'structural, mechanical, electrical, or communication engineering in the '\n",
      " 'design, construction, management or engineering of airport/aviation projects '\n",
      " 'or programs, and a valid license as a Professional Engineer with the '\n",
      " 'California State Board of Registration for Professional Engineers.')\n"
     ]
    }
   ],
   "source": [
    "pprint(response.final_answer[\"content\"])"
   ]
  }
 ],
 "metadata": {
  "kernelspec": {
   "display_name": "llm-powered-ai-agents",
   "language": "python",
   "name": "python3"
  },
  "language_info": {
   "codemirror_mode": {
    "name": "ipython",
    "version": 3
   },
   "file_extension": ".py",
   "mimetype": "text/x-python",
   "name": "python",
   "nbconvert_exporter": "python",
   "pygments_lexer": "ipython3",
   "version": "3.11.9"
  }
 },
 "nbformat": 4,
 "nbformat_minor": 2
}
