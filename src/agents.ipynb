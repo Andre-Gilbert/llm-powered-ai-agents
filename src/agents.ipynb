{
 "cells": [
  {
   "cell_type": "markdown",
   "metadata": {},
   "source": [
    "# LLM-powered AI Agents\n",
    "\n",
    "Table of contents\n",
    "1. Understanding LLMs\n",
    "2. Tools\n",
    "3. Chat-based AI Agents\n",
    "4. Service-based AI agents"
   ]
  },
  {
   "cell_type": "code",
   "execution_count": 1,
   "metadata": {},
   "outputs": [],
   "source": [
    "from language_models.proxy_client import BTPProxyClient\n",
    "from language_models.settings import settings\n",
    "\n",
    "proxy_client = BTPProxyClient(\n",
    "    client_id=settings.CLIENT_ID,\n",
    "    client_secret=settings.CLIENT_SECRET,\n",
    "    auth_url=settings.AUTH_URL,\n",
    "    api_base=settings.API_BASE,\n",
    ")"
   ]
  },
  {
   "cell_type": "markdown",
   "metadata": {},
   "source": [
    "## 1. Understanding LLMs"
   ]
  },
  {
   "cell_type": "code",
   "execution_count": 2,
   "metadata": {},
   "outputs": [],
   "source": [
    "from language_models.models.llm import OpenAILanguageModel, ChatMessage, ChatMessageRole"
   ]
  },
  {
   "cell_type": "code",
   "execution_count": 3,
   "metadata": {},
   "outputs": [],
   "source": [
    "llm = OpenAILanguageModel(\n",
    "    proxy_client=proxy_client,\n",
    "    model=\"gpt-35-turbo\",\n",
    "    max_tokens=256,\n",
    "    temperature=0.0,\n",
    ")"
   ]
  },
  {
   "cell_type": "code",
   "execution_count": 4,
   "metadata": {},
   "outputs": [
    {
     "name": "stdout",
     "output_type": "stream",
     "text": [
      "The sentiment of the review is positive.\n"
     ]
    }
   ],
   "source": [
    "prompt = \"\"\"Take the following movie review determine the sentiment of the review.\n",
    "\n",
    "Movie review:\n",
    "Wow! This movie was incredible. The acting was superb, and\n",
    "the plot kept me on the edge of my seat. I highly recommend it!\n",
    "\"\"\"\n",
    "\n",
    "response = llm.get_completion([ChatMessage(role=ChatMessageRole.USER, content=prompt)])\n",
    "print(response)"
   ]
  },
  {
   "cell_type": "code",
   "execution_count": 5,
   "metadata": {},
   "outputs": [
    {
     "name": "stdout",
     "output_type": "stream",
     "text": [
      "positive\n"
     ]
    }
   ],
   "source": [
    "prompt = \"\"\"Take the following movie review determine the sentiment of the review.\n",
    "\n",
    "Movie review:\n",
    "Wow! This movie was incredible. The acting was superb, and\n",
    "the plot kept me on the edge of my seat. I highly recommend it!\n",
    "\n",
    "Respond with positive or negative only.\n",
    "\"\"\"\n",
    "\n",
    "response = llm.get_completion([ChatMessage(role=ChatMessageRole.USER, content=prompt)])\n",
    "print(response)"
   ]
  },
  {
   "cell_type": "code",
   "execution_count": 6,
   "metadata": {},
   "outputs": [
    {
     "name": "stdout",
     "output_type": "stream",
     "text": [
      "positive\n"
     ]
    }
   ],
   "source": [
    "system_prompt = \"Take the following movie review determine the sentiment of the review. Respond with positive or negative only.\"\n",
    "\n",
    "prompt = \"Wow! This movie was incredible. The acting was superb, and the plot kept me on the edge of my seat. I highly recommend it!\"\n",
    "\n",
    "response = llm.get_completion([\n",
    "    ChatMessage(role=ChatMessageRole.SYSTEM, content=system_prompt), \n",
    "    ChatMessage(role=ChatMessageRole.USER, content=prompt),\n",
    "])\n",
    "print(response)"
   ]
  },
  {
   "cell_type": "markdown",
   "metadata": {},
   "source": [
    "## 2. Tools"
   ]
  },
  {
   "cell_type": "code",
   "execution_count": 7,
   "metadata": {},
   "outputs": [],
   "source": [
    "import json\n",
    "from language_models.tools.tool import Tool\n",
    "from pydantic import BaseModel, Field\n",
    "from typing import Any"
   ]
  },
  {
   "cell_type": "code",
   "execution_count": 8,
   "metadata": {},
   "outputs": [
    {
     "name": "stdout",
     "output_type": "stream",
     "text": [
      "Total Raw Cost = $1,290.98\n"
     ]
    }
   ],
   "source": [
    "prompt = \"Total Raw Cost = $549.72 + $6.98 + $41.00 + $35.00 + $552.00 + $76.16 + $29.12\" # answer: $1,289.98\n",
    "\n",
    "response = llm.get_completion([ChatMessage(role=ChatMessageRole.USER, content=prompt)])\n",
    "print(response)"
   ]
  },
  {
   "cell_type": "code",
   "execution_count": 9,
   "metadata": {},
   "outputs": [
    {
     "name": "stdout",
     "output_type": "stream",
     "text": [
      "Tool name: calculator, Tool description: Use this tool when you want to do calculations., Tool input: {{'expression': {{'description': 'A math expression.', 'title': 'Expression', 'type': 'string'}}}}\n"
     ]
    }
   ],
   "source": [
    "def calculator(expression: str) -> Any:\n",
    "    return eval(expression)\n",
    "\n",
    "class Calculator(BaseModel):\n",
    "    expression: str = Field(description=\"A math expression.\")\n",
    "\n",
    "calculator_tool = Tool(\n",
    "    func=calculator,\n",
    "    name=\"calculator\",\n",
    "    description=\"Use this tool when you want to do calculations.\",\n",
    "    args_schema=Calculator\n",
    ")\n",
    "print(calculator_tool)"
   ]
  },
  {
   "cell_type": "code",
   "execution_count": 10,
   "metadata": {},
   "outputs": [
    {
     "name": "stdout",
     "output_type": "stream",
     "text": [
      "{\n",
      "    \"thought\": \"To calculate the total raw cost, you need to add up all the individual costs.\",\n",
      "    \"tool\": \"calculator\",\n",
      "    \"tool_input\": {\n",
      "        \"expression\": \"549.72 + 6.98 + 41.00 + 35.00 + 552.00 + 76.16 + 29.12\"\n",
      "    }\n",
      "}\n"
     ]
    }
   ],
   "source": [
    "system_prompt = f\"\"\"Take the following prompt and calculate the result.\n",
    "\n",
    "Respond to the user as helpfully and accurately as possible. You have access to the following tools:\n",
    "{calculator_tool}\n",
    "\n",
    "Use a json blob to specify a tool by providing an action (tool name) and an action_input (tool input).\n",
    "\n",
    "Always use the following JSON response format:\n",
    "{{\n",
    "    \"thought\": you should always think about what to do consider previous and subsequent steps,\n",
    "    \"tool\": $TOOL_NAME,\n",
    "    \"tool_input\": a valid dictionary in this format {{\"<key>\": <value>, ...}},\n",
    "}}\n",
    "\"\"\"\n",
    "\n",
    "prompt = \"Total Raw Cost = $549.72 + $6.98 + $41.00 + $35.00 + $552.00 + $76.16 + $29.12\"\n",
    "\n",
    "response = llm.get_completion([\n",
    "    ChatMessage(role=ChatMessageRole.SYSTEM, content=system_prompt), \n",
    "    ChatMessage(role=ChatMessageRole.USER, content=prompt),\n",
    "])\n",
    "response = json.loads(response, strict=False)\n",
    "print(json.dumps(response, indent=4))"
   ]
  },
  {
   "cell_type": "code",
   "execution_count": 11,
   "metadata": {},
   "outputs": [
    {
     "name": "stdout",
     "output_type": "stream",
     "text": [
      "1289.98\n"
     ]
    }
   ],
   "source": [
    "print(calculator(**response[\"tool_input\"]))"
   ]
  },
  {
   "cell_type": "code",
   "execution_count": 13,
   "metadata": {},
   "outputs": [
    {
     "name": "stdout",
     "output_type": "stream",
     "text": [
      "{\n",
      "    \"thought\": \"I now know the final answer.\",\n",
      "    \"final_answer\": \"The total raw cost is $1289.98.\"\n",
      "}\n"
     ]
    }
   ],
   "source": [
    "system_prompt = f\"\"\"Take the following prompt and calculate the result.\n",
    "\n",
    "Respond to the user as helpfully and accurately as possible. You have access to the following tools:\n",
    "{calculator_tool}\n",
    "\n",
    "Use a json blob to specify a tool by providing an action (tool name) and an action_input (tool input).\n",
    "\n",
    "Always use the following JSON response format:\n",
    "{{\n",
    "    \"thought\": You should always think about what to do consider previous and subsequent steps,\n",
    "    \"tool\": $TOOL_NAME,\n",
    "    \"tool_input\": A valid dictionary in this format {{\"<key>\": <value>, ...}},\n",
    "}}\n",
    "... (this Thought/Action/Observation can repeat N times)\n",
    "When you know the final answer, use the following JSON response format:\n",
    "{{\n",
    "    \"thought\": I now know the final answer,\n",
    "    \"final_answer\": The final answer to the prompt,\n",
    "}}\n",
    "\"\"\"\n",
    "\n",
    "prompt = \"Total Raw Cost = $549.72 + $6.98 + $41.00 + $35.00 + $552.00 + $76.16 + $29.12\"\n",
    "\n",
    "response = llm.get_completion([\n",
    "    ChatMessage(role=ChatMessageRole.SYSTEM, content=system_prompt), \n",
    "    ChatMessage(role=ChatMessageRole.USER, content=prompt),\n",
    "    ChatMessage(role=ChatMessageRole.ASSISTANT, content=json.dumps(response)),\n",
    "    ChatMessage(role=ChatMessageRole.ASSISTANT, content=f\"Response of calculator tool: {calculator(**response['tool_input'])}\"),\n",
    "])\n",
    "response = json.loads(response, strict=False)\n",
    "print(json.dumps(response, indent=4))"
   ]
  },
  {
   "cell_type": "markdown",
   "metadata": {},
   "source": [
    "## 3. Chat-based AI Agents"
   ]
  },
  {
   "cell_type": "code",
   "execution_count": null,
   "metadata": {},
   "outputs": [],
   "source": [
    "from language_models.agents.react import ReActAgent"
   ]
  },
  {
   "cell_type": "code",
   "execution_count": null,
   "metadata": {},
   "outputs": [],
   "source": []
  },
  {
   "cell_type": "markdown",
   "metadata": {},
   "source": [
    "## 4. Service-based AI Agents"
   ]
  },
  {
   "cell_type": "code",
   "execution_count": null,
   "metadata": {},
   "outputs": [],
   "source": [
    "from language_models.agents.chain import AgentChain"
   ]
  },
  {
   "cell_type": "code",
   "execution_count": null,
   "metadata": {},
   "outputs": [],
   "source": []
  }
 ],
 "metadata": {
  "kernelspec": {
   "display_name": "llm-powered-ai-agents",
   "language": "python",
   "name": "python3"
  },
  "language_info": {
   "codemirror_mode": {
    "name": "ipython",
    "version": 3
   },
   "file_extension": ".py",
   "mimetype": "text/x-python",
   "name": "python",
   "nbconvert_exporter": "python",
   "pygments_lexer": "ipython3",
   "version": "3.11.9"
  }
 },
 "nbformat": 4,
 "nbformat_minor": 2
}
