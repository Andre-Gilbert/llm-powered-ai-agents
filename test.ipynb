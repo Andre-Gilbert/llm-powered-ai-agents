{
 "cells": [
  {
   "cell_type": "code",
   "execution_count": 1,
   "metadata": {},
   "outputs": [
    {
     "name": "stderr",
     "output_type": "stream",
     "text": [
      "\u001b[32m07/08/2024 14:08:80\u001b[0m | \u001b[1mINFO\u001b[0m | \u001b[34mThat's it\u001b[0m, beautiful and simple logging!\n",
      "\u001b[32m07/08/2024 14:08:80\u001b[0m | \u001b[32m\u001b[1mSUCCESS\u001b[0m | \u001b[34mThat's it\u001b[0m, beautiful and simple logging!\n"
     ]
    }
   ],
   "source": [
    "from loguru import logger\n",
    "import sys\n",
    "\n",
    "logger.remove()\n",
    "logger.add(sys.stderr, format=\"<green>{time:DD/MM/YYYY HH:MM:SS}</green> | <level>{level}</level> | {message}\", level=\"INFO\", colorize=True)\n",
    "\n",
    "logger.opt(colors=True).info(\"<blue>That's it</blue>, beautiful and simple logging!\")\n",
    "logger.opt(colors=True).success(\"<blue>That's it</blue>, beautiful and simple logging!\")"
   ]
  }
 ],
 "metadata": {
  "kernelspec": {
   "display_name": "llm-powered-ai-agents",
   "language": "python",
   "name": "python3"
  },
  "language_info": {
   "codemirror_mode": {
    "name": "ipython",
    "version": 3
   },
   "file_extension": ".py",
   "mimetype": "text/x-python",
   "name": "python",
   "nbconvert_exporter": "python",
   "pygments_lexer": "ipython3",
   "version": "3.12.4"
  }
 },
 "nbformat": 4,
 "nbformat_minor": 2
}
