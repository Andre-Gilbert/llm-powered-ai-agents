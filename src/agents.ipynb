{
 "cells": [
  {
   "cell_type": "markdown",
   "metadata": {},
   "source": [
    "# LLM-powered AI Agents\n",
    "\n",
    "Table of contents\n",
    "1. Understanding LLMs\n",
    "2. Tools\n",
    "3. Chat-based AI Agents\n",
    "4. Service-based AI agents"
   ]
  },
  {
   "cell_type": "code",
   "execution_count": 1,
   "metadata": {},
   "outputs": [],
   "source": [
    "from language_models.proxy_client import BTPProxyClient\n",
    "from language_models.settings import settings\n",
    "\n",
    "proxy_client = BTPProxyClient(\n",
    "    client_id=settings.CLIENT_ID,\n",
    "    client_secret=settings.CLIENT_SECRET,\n",
    "    auth_url=settings.AUTH_URL,\n",
    "    api_base=settings.API_BASE,\n",
    ")"
   ]
  },
  {
   "cell_type": "markdown",
   "metadata": {},
   "source": [
    "## 1. Understanding LLMs"
   ]
  },
  {
   "cell_type": "code",
   "execution_count": 2,
   "metadata": {},
   "outputs": [],
   "source": [
    "from language_models.models.llm import OpenAILanguageModel, ChatMessage, ChatMessageRole"
   ]
  },
  {
   "cell_type": "code",
   "execution_count": 3,
   "metadata": {},
   "outputs": [],
   "source": [
    "llm = OpenAILanguageModel(\n",
    "    proxy_client=proxy_client,\n",
    "    model=\"gpt-35-turbo\",\n",
    "    max_tokens=256,\n",
    "    temperature=0.0,\n",
    ")"
   ]
  },
  {
   "cell_type": "code",
   "execution_count": 4,
   "metadata": {},
   "outputs": [
    {
     "name": "stdout",
     "output_type": "stream",
     "text": [
      "Sentiment: Positive\n"
     ]
    }
   ],
   "source": [
    "prompt = \"\"\"Take the following movie review and determine the sentiment of the review.\n",
    "\n",
    "Movie review:\n",
    "Wow! This movie was incredible. The acting was superb, and\n",
    "the plot kept me on the edge of my seat. I highly recommend it!\n",
    "\"\"\"\n",
    "\n",
    "response = llm.get_completion([ChatMessage(role=ChatMessageRole.USER, content=prompt)])\n",
    "print(response)"
   ]
  },
  {
   "cell_type": "code",
   "execution_count": 5,
   "metadata": {},
   "outputs": [
    {
     "name": "stdout",
     "output_type": "stream",
     "text": [
      "positive\n"
     ]
    }
   ],
   "source": [
    "prompt = \"\"\"Take the following movie review and determine the sentiment of the review.\n",
    "\n",
    "Movie review:\n",
    "Wow! This movie was incredible. The acting was superb, and\n",
    "the plot kept me on the edge of my seat. I highly recommend it!\n",
    "\n",
    "Respond with positive or negative.\n",
    "\"\"\"\n",
    "\n",
    "response = llm.get_completion([ChatMessage(role=ChatMessageRole.USER, content=prompt)])\n",
    "print(response)"
   ]
  },
  {
   "cell_type": "code",
   "execution_count": 6,
   "metadata": {},
   "outputs": [
    {
     "name": "stdout",
     "output_type": "stream",
     "text": [
      "1\n"
     ]
    }
   ],
   "source": [
    "system_prompt = \"Take the following movie review and determine the sentiment of the review. Respond with 1 (positive) or 0 (negative).\"\n",
    "\n",
    "prompt = \"Wow! This movie was incredible. The acting was superb, and the plot kept me on the edge of my seat. I highly recommend it!\"\n",
    "\n",
    "response = llm.get_completion([\n",
    "    ChatMessage(role=ChatMessageRole.SYSTEM, content=system_prompt), \n",
    "    ChatMessage(role=ChatMessageRole.USER, content=prompt),\n",
    "])\n",
    "print(response)"
   ]
  },
  {
   "cell_type": "code",
   "execution_count": 7,
   "metadata": {},
   "outputs": [
    {
     "name": "stdout",
     "output_type": "stream",
     "text": [
      "I'm sorry, I am an AI language model and I do not have access to real-time weather information. I recommend checking a reliable weather website or using a weather app to get the most accurate and up-to-date forecast for Seattle.\n"
     ]
    }
   ],
   "source": [
    "system_prompt = \"Take the following movie review determine the sentiment of the review. Respond with 1 (positive) or 0 (negative).\"\n",
    "\n",
    "prompt = \"Will it rain in Seattle today?\"\n",
    "\n",
    "response = llm.get_completion([\n",
    "    ChatMessage(role=ChatMessageRole.SYSTEM, content=system_prompt), \n",
    "    ChatMessage(role=ChatMessageRole.USER, content=prompt),\n",
    "])\n",
    "print(response)"
   ]
  },
  {
   "cell_type": "code",
   "execution_count": 8,
   "metadata": {},
   "outputs": [
    {
     "name": "stdout",
     "output_type": "stream",
     "text": [
      "-1\n"
     ]
    }
   ],
   "source": [
    "system_prompt = \"\"\"Take the following movie review and determine the sentiment of the review. \n",
    "\n",
    "Respond with 1 (positive) or 0 (negative).\n",
    "\n",
    "If you don't receive a movie review, respond with -1.\n",
    "\"\"\"\n",
    "\n",
    "prompt = \"Will it rain in Seattle today?\"\n",
    "\n",
    "response = llm.get_completion([\n",
    "    ChatMessage(role=ChatMessageRole.SYSTEM, content=system_prompt), \n",
    "    ChatMessage(role=ChatMessageRole.USER, content=prompt),\n",
    "])\n",
    "print(response)"
   ]
  },
  {
   "cell_type": "markdown",
   "metadata": {},
   "source": [
    "## 2. Tools"
   ]
  },
  {
   "cell_type": "code",
   "execution_count": 9,
   "metadata": {},
   "outputs": [],
   "source": [
    "import json\n",
    "from language_models.tools.tool import Tool\n",
    "from pydantic import BaseModel, Field\n",
    "from typing import Any"
   ]
  },
  {
   "cell_type": "code",
   "execution_count": 10,
   "metadata": {},
   "outputs": [
    {
     "name": "stdout",
     "output_type": "stream",
     "text": [
      "Total Raw Cost = $1,290.98\n"
     ]
    }
   ],
   "source": [
    "prompt = \"Total Raw Cost = $549.72 + $6.98 + $41.00 + $35.00 + $552.00 + $76.16 + $29.12\" # answer: $1,289.98\n",
    "\n",
    "response = llm.get_completion([ChatMessage(role=ChatMessageRole.USER, content=prompt)])\n",
    "print(response)"
   ]
  },
  {
   "cell_type": "code",
   "execution_count": 11,
   "metadata": {},
   "outputs": [
    {
     "name": "stdout",
     "output_type": "stream",
     "text": [
      "tool name: Calculator, tool description: Use this tool when you want to do calculations., tool input: {{'expression': {{'description': 'A math expression.', 'title': 'Expression', 'type': 'string'}}}}\n"
     ]
    }
   ],
   "source": [
    "def calculator(expression: str) -> Any:\n",
    "    return eval(expression)\n",
    "\n",
    "class Calculator(BaseModel):\n",
    "    expression: str = Field(description=\"A math expression.\")\n",
    "\n",
    "calculator_tool = Tool(\n",
    "    func=calculator,\n",
    "    name=\"Calculator\",\n",
    "    description=\"Use this tool when you want to do calculations.\",\n",
    "    args_schema=Calculator\n",
    ")\n",
    "print(calculator_tool)"
   ]
  },
  {
   "cell_type": "code",
   "execution_count": 12,
   "metadata": {},
   "outputs": [
    {
     "name": "stdout",
     "output_type": "stream",
     "text": [
      "{\n",
      "    \"thought\": \"To calculate the total raw cost, you need to add up all the individual costs.\",\n",
      "    \"tool\": \"Calculator\",\n",
      "    \"tool_input\": {\n",
      "        \"expression\": \"549.72 + 6.98 + 41.00 + 35.00 + 552.00 + 76.16 + 29.12\"\n",
      "    }\n",
      "}\n"
     ]
    }
   ],
   "source": [
    "system_prompt = f\"\"\"Take the following prompt and calculate the result.\n",
    "\n",
    "Respond to the user as helpfully and accurately as possible. You have access to the following tools:\n",
    "{calculator_tool}\n",
    "\n",
    "Use a json blob to specify a tool by providing an action (tool name) and an action_input (tool input).\n",
    "\n",
    "Always use the following JSON response format:\n",
    "{{\n",
    "    \"thought\": You should always think about what to do consider previous and subsequent steps,\n",
    "    \"tool\": The tool to use,\n",
    "    \"tool_input\": A valid dictionary in this format {{\"<key>\": <value>, ...}},\n",
    "}}\n",
    "\"\"\"\n",
    "\n",
    "prompt = \"Total Raw Cost = $549.72 + $6.98 + $41.00 + $35.00 + $552.00 + $76.16 + $29.12\"\n",
    "\n",
    "response = llm.get_completion([\n",
    "    ChatMessage(role=ChatMessageRole.SYSTEM, content=system_prompt), \n",
    "    ChatMessage(role=ChatMessageRole.USER, content=prompt),\n",
    "])\n",
    "response = json.loads(response, strict=False)\n",
    "print(json.dumps(response, indent=4))"
   ]
  },
  {
   "cell_type": "code",
   "execution_count": 13,
   "metadata": {},
   "outputs": [
    {
     "name": "stdout",
     "output_type": "stream",
     "text": [
      "1289.98\n"
     ]
    }
   ],
   "source": [
    "print(calculator(**response[\"tool_input\"]))"
   ]
  },
  {
   "cell_type": "code",
   "execution_count": 14,
   "metadata": {},
   "outputs": [
    {
     "name": "stdout",
     "output_type": "stream",
     "text": [
      "{\n",
      "    \"thought\": \"I know the final answer\",\n",
      "    \"tool\": \"Final Answer\",\n",
      "    \"tool_input\": 1289.98\n",
      "}\n"
     ]
    }
   ],
   "source": [
    "system_prompt = f\"\"\"Take the following prompt and calculate the result.\n",
    "\n",
    "Respond to the user as helpfully and accurately as possible. You have access to the following tools:\n",
    "{calculator_tool}\n",
    "\n",
    "Use a json blob to specify a tool by providing an action (tool name) and an action_input (tool input).\n",
    "\n",
    "Always use the following JSON response format:\n",
    "{{\n",
    "    \"thought\": You should always think about what to do consider previous and subsequent steps,\n",
    "    \"tool\": The tool to use,\n",
    "    \"tool_input\": A valid dictionary in this format {{\"<key>\": <value>, ...}},\n",
    "}}\n",
    "... (this Thought/Action/Observation can repeat N times)\n",
    "When you know the final answer, use the following JSON response format:\n",
    "{{\n",
    "    \"thought\": I know the final answer,\n",
    "    \"tool\": Final Answer,\n",
    "    \"tool_input\": The final answer to the question,\n",
    "}}\n",
    "\"\"\"\n",
    "\n",
    "prompt = \"Total Raw Cost = $549.72 + $6.98 + $41.00 + $35.00 + $552.00 + $76.16 + $29.12\"\n",
    "\n",
    "response = llm.get_completion([\n",
    "    ChatMessage(role=ChatMessageRole.SYSTEM, content=system_prompt), \n",
    "    ChatMessage(role=ChatMessageRole.USER, content=prompt),\n",
    "    ChatMessage(role=ChatMessageRole.ASSISTANT, content=json.dumps(response)),\n",
    "    ChatMessage(role=ChatMessageRole.ASSISTANT, content=f\"Response of Calculator tool: {calculator(**response['tool_input'])}\"),\n",
    "])\n",
    "response = json.loads(response, strict=False)\n",
    "print(json.dumps(response, indent=4))"
   ]
  },
  {
   "cell_type": "markdown",
   "metadata": {},
   "source": [
    "## 3. Chat-based AI Agents"
   ]
  },
  {
   "cell_type": "code",
   "execution_count": 15,
   "metadata": {},
   "outputs": [],
   "source": [
    "from language_models.agents.react import ReActAgent\n",
    "from language_models.tools.earthquake import earthquake_tools\n",
    "from language_models.tools.current_date import current_date_tool"
   ]
  },
  {
   "cell_type": "code",
   "execution_count": 16,
   "metadata": {},
   "outputs": [],
   "source": [
    "system_prompt = \"\"\"You are an United States Geological Survey expert who can answer questions regarding earthquakes and can run forecasts.\n",
    "\n",
    "Use the current date tool to access the local date and time before using other tools.\n",
    "\n",
    "Take the following question and answer it as accurately as possible.\n",
    "\"\"\"\n",
    "\n",
    "llm = OpenAILanguageModel(\n",
    "    proxy_client=proxy_client,\n",
    "    model='gpt-4',\n",
    "    max_tokens=1024,\n",
    "    float=0.0,\n",
    ")\n",
    "\n",
    "class Output(BaseModel):\n",
    "    content: str = Field(description=\"The final answer.\")\n",
    "\n",
    "agent = ReActAgent.create(\n",
    "    llm=llm,\n",
    "    system_prompt=system_prompt,\n",
    "    task_prompt=\"{question}\",\n",
    "    task_prompt_variables=[\"question\"],\n",
    "    tools=earthquake_tools + [current_date_tool],\n",
    "    output_format=Output,\n",
    "    iterations=5,\n",
    ")"
   ]
  },
  {
   "cell_type": "code",
   "execution_count": 17,
   "metadata": {},
   "outputs": [
    {
     "name": "stderr",
     "output_type": "stream",
     "text": [
      "03/05/24 16:25:28 INFO Thought: First, I need to get the current date to calculate the start date for the past week.\n",
      "03/05/24 16:25:28 INFO Tool: Current Date\n",
      "03/05/24 16:25:28 INFO Tool input: {}\n",
      "03/05/24 16:25:28 INFO Tool response: 2024-05-03 16:25:28.250997\n",
      "03/05/24 16:25:38 INFO Thought: Now that I have the current date, I can calculate the start date for the past week. Then, I will use the 'Count' tool to find out how many earthquakes with a magnitude of 5 or greater have occurred during this period.\n",
      "03/05/24 16:25:38 INFO Tool: Count\n",
      "03/05/24 16:25:38 INFO Tool input: {'start_time': '2024-04-26T16:25:28.250997', 'min_magnitude': 5}\n",
      "03/05/24 16:25:39 INFO Tool response: {'count': 32, 'maxAllowed': 20000}\n",
      "03/05/24 16:25:47 INFO Thought: I now know the final answer\n",
      "03/05/24 16:25:47 INFO Tool: Final Answer\n",
      "03/05/24 16:25:47 INFO Tool input: {'content': 'There have been 32 earthquakes with a magnitude of 5 or greater in the past week.'}\n"
     ]
    }
   ],
   "source": [
    "response = agent.invoke({\"question\": \"How many earthquakes have occurred for the past week with a magnitude of 5 or greater?\"})"
   ]
  },
  {
   "cell_type": "code",
   "execution_count": 18,
   "metadata": {},
   "outputs": [
    {
     "name": "stdout",
     "output_type": "stream",
     "text": [
      "There have been 32 earthquakes with a magnitude of 5 or greater in the past week.\n"
     ]
    }
   ],
   "source": [
    "print(response.final_answer[\"content\"])"
   ]
  },
  {
   "cell_type": "code",
   "execution_count": 19,
   "metadata": {},
   "outputs": [
    {
     "name": "stderr",
     "output_type": "stream",
     "text": [
      "03/05/24 16:26:08 INFO Thought: The user is asking about the possibility of a magnitude 10 or larger earthquake, also known as a 'MegaQuake'. This is a question about the theoretical limits of earthquake magnitude, which is determined by the size of the fault on which it occurs. The largest earthquake ever recorded was a magnitude 9.5 in Chile in 1960. A magnitude 10 earthquake would require a fault rupture along the entire length of the earth's largest fault, the San Andreas, which is highly unlikely. I will provide this information to the user.\n",
      "03/05/24 16:26:08 INFO Tool: Final Answer\n",
      "03/05/24 16:26:08 INFO Tool input: {'content': \"While theoretically possible, a magnitude 10 or larger earthquake, also known as a 'MegaQuake', is highly unlikely. The magnitude of an earthquake is determined by the size of the fault on which it occurs. The largest earthquake ever recorded was a magnitude 9.5 in Chile in 1960. A magnitude 10 earthquake would require a fault rupture along the entire length of the earth's largest fault, the San Andreas, which is highly unlikely.\"}\n"
     ]
    }
   ],
   "source": [
    "response = agent.invoke({\"question\": \"Can MegaQuakes really happen? Like a magnitude 10 or larger?\"})"
   ]
  },
  {
   "cell_type": "code",
   "execution_count": 20,
   "metadata": {},
   "outputs": [
    {
     "name": "stdout",
     "output_type": "stream",
     "text": [
      "While theoretically possible, a magnitude 10 or larger earthquake, also known as a 'MegaQuake', is highly unlikely. The magnitude of an earthquake is determined by the size of the fault on which it occurs. The largest earthquake ever recorded was a magnitude 9.5 in Chile in 1960. A magnitude 10 earthquake would require a fault rupture along the entire length of the earth's largest fault, the San Andreas, which is highly unlikely.\n"
     ]
    }
   ],
   "source": [
    "print(response.final_answer[\"content\"])"
   ]
  },
  {
   "cell_type": "code",
   "execution_count": 21,
   "metadata": {},
   "outputs": [
    {
     "name": "stderr",
     "output_type": "stream",
     "text": [
      "03/05/24 16:26:29 INFO Thought: To answer the user's question, I need to find earthquakes that occurred yesterday with a magnitude of 5 or greater. I will use the 'Query' tool to find this information.\n",
      "03/05/24 16:26:29 INFO Tool: Query\n",
      "03/05/24 16:26:29 INFO Tool input: {'start_time': '2024-05-02T00:00:00', 'end_time': '2024-05-02T23:59:59', 'min_magnitude': 5, 'limit': 10}\n",
      "03/05/24 16:26:30 INFO Tool response: {'type': 'FeatureCollection', 'metadata': {'generated': 1714746390000, 'url': 'https://earthquake.usgs.gov/fdsnws/event/1/query?format=geojson&starttime=2024-05-02T00%3A00%3A00&endtime=2024-05-02T23%3A59%3A59&limit=10&mindepth=-100&maxdepth=1000&minmagnitude=5', 'title': 'USGS Earthquakes', 'status': 200, 'api': '1.14.1', 'limit': 10, 'offset': 1, 'count': 9}, 'features': [{'type': 'Feature', 'properties': {'mag': 5.1, 'place': 'south of the Kermadec Islands', 'time': 1714693022188, 'updated': 1714694206040, 'tz': None, 'url': 'https://earthquake.usgs.gov/earthquakes/eventpage/us6000mvv8', 'detail': 'https://earthquake.usgs.gov/fdsnws/event/1/query?eventid=us6000mvv8&format=geojson', 'felt': None, 'cdi': None, 'mmi': None, 'alert': None, 'status': 'reviewed', 'tsunami': 0, 'sig': 400, 'net': 'us', 'code': '6000mvv8', 'ids': ',us6000mvv8,', 'sources': ',us,', 'types': ',origin,phase-data,', 'nst': 32, 'dmin': 3.96, 'rms': 0.66, 'gap': 130, 'magType': 'mb', 'type': 'earthquake', 'title': 'M 5.1 - south of the Kermadec Islands'}, 'geometry': {'type': 'Point', 'coordinates': [-179.0713, -33.1092, 10]}, 'id': 'us6000mvv8'}, {'type': 'Feature', 'properties': {'mag': 5.2, 'place': 'South Sandwich Islands region', 'time': 1714636951165, 'updated': 1714637896040, 'tz': None, 'url': 'https://earthquake.usgs.gov/earthquakes/eventpage/us6000mvnj', 'detail': 'https://earthquake.usgs.gov/fdsnws/event/1/query?eventid=us6000mvnj&format=geojson', 'felt': None, 'cdi': None, 'mmi': None, 'alert': None, 'status': 'reviewed', 'tsunami': 0, 'sig': 416, 'net': 'us', 'code': '6000mvnj', 'ids': ',us6000mvnj,', 'sources': ',us,', 'types': ',origin,phase-data,', 'nst': 56, 'dmin': 5.607, 'rms': 0.56, 'gap': 67, 'magType': 'mb', 'type': 'earthquake', 'title': 'M 5.2 - South Sandwich Islands region'}, 'geometry': {'type': 'Point', 'coordinates': [-27.005, -55.4974, 35.708]}, 'id': 'us6000mvnj'}, {'type': 'Feature', 'properties': {'mag': 5.4, 'place': '102 km SSW of Nikolski, Alaska', 'time': 1714633852079, 'updated': 1714720818319, 'tz': None, 'url': 'https://earthquake.usgs.gov/earthquakes/eventpage/us6000mvmq', 'detail': 'https://earthquake.usgs.gov/fdsnws/event/1/query?eventid=us6000mvmq&format=geojson', 'felt': None, 'cdi': None, 'mmi': 3.26, 'alert': 'green', 'status': 'reviewed', 'tsunami': 0, 'sig': 449, 'net': 'us', 'code': '6000mvmq', 'ids': ',us6000mvmq,ak0245njbzer,', 'sources': ',us,ak,', 'types': ',ground-failure,losspager,moment-tensor,origin,phase-data,shakemap,', 'nst': 143, 'dmin': 0.744, 'rms': 0.92, 'gap': 60, 'magType': 'mww', 'type': 'earthquake', 'title': 'M 5.4 - 102 km SSW of Nikolski, Alaska'}, 'geometry': {'type': 'Point', 'coordinates': [-169.3827, 52.0735, 22.907]}, 'id': 'us6000mvmq'}, {'type': 'Feature', 'properties': {'mag': 5.3, 'place': '97 km SSW of Nikolski, Alaska', 'time': 1714633587103, 'updated': 1714641761444, 'tz': None, 'url': 'https://earthquake.usgs.gov/earthquakes/eventpage/us6000mvmm', 'detail': 'https://earthquake.usgs.gov/fdsnws/event/1/query?eventid=us6000mvmm&format=geojson', 'felt': None, 'cdi': None, 'mmi': 3.102, 'alert': None, 'status': 'reviewed', 'tsunami': 1, 'sig': 432, 'net': 'us', 'code': '6000mvmm', 'ids': ',at00scujr0,us6000mvmm,ak0245njb2qq,', 'sources': ',at,us,ak,', 'types': ',impact-link,moment-tensor,origin,phase-data,shakemap,', 'nst': 111, 'dmin': 0.664, 'rms': 0.98, 'gap': 127, 'magType': 'mww', 'type': 'earthquake', 'title': 'M 5.3 - 97 km SSW of Nikolski, Alaska'}, 'geometry': {'type': 'Point', 'coordinates': [-169.4651, 52.1425, 17.138]}, 'id': 'us6000mvmm'}, {'type': 'Feature', 'properties': {'mag': 5.1, 'place': '96 km SSW of Nikolski, Alaska', 'time': 1714633309497, 'updated': 1714640920455, 'tz': None, 'url': 'https://earthquake.usgs.gov/earthquakes/eventpage/us6000mvms', 'detail': 'https://earthquake.usgs.gov/fdsnws/event/1/query?eventid=us6000mvms&format=geojson', 'felt': None, 'cdi': None, 'mmi': 3.046, 'alert': None, 'status': 'reviewed', 'tsunami': 0, 'sig': 400, 'net': 'us', 'code': '6000mvms', 'ids': ',ak0245nja1xe,us6000mvms,', 'sources': ',ak,us,', 'types': ',origin,phase-data,shakemap,', 'nst': 61, 'dmin': 0.901, 'rms': 1.1, 'gap': 179, 'magType': 'mb', 'type': 'earthquake', 'title': 'M 5.1 - 96 km SSW of Nikolski, Alaska'}, 'geometry': {'type': 'Point', 'coordinates': [-169.4697, 52.1544, 15.157]}, 'id': 'us6000mvms'}, {'type': 'Feature', 'properties': {'mag': 5.5, 'place': '100 km SSW of Nikolski, Alaska', 'time': 1714633081048, 'updated': 1714720092411, 'tz': None, 'url': 'https://earthquake.usgs.gov/earthquakes/eventpage/us6000mvmi', 'detail': 'https://earthquake.usgs.gov/fdsnws/event/1/query?eventid=us6000mvmi&format=geojson', 'felt': None, 'cdi': None, 'mmi': 3.35, 'alert': 'green', 'status': 'reviewed', 'tsunami': 0, 'sig': 465, 'net': 'us', 'code': '6000mvmi', 'ids': ',us6000mvmi,usauto6000mvmi,ak0245nj0qce,', 'sources': ',us,usauto,ak,', 'types': ',ground-failure,internal-moment-tensor,losspager,moment-tensor,oaf,origin,phase-data,shakemap,', 'nst': 96, 'dmin': 0.677, 'rms': 0.76, 'gap': 136, 'magType': 'mww', 'type': 'earthquake', 'title': 'M 5.5 - 100 km SSW of Nikolski, Alaska'}, 'geometry': {'type': 'Point', 'coordinates': [-169.5018, 52.1244, 15.688]}, 'id': 'us6000mvmi'}, {'type': 'Feature', 'properties': {'mag': 5.4, 'place': 'South Sandwich Islands region', 'time': 1714631792504, 'updated': 1714718552645, 'tz': None, 'url': 'https://earthquake.usgs.gov/earthquakes/eventpage/us6000mvmb', 'detail': 'https://earthquake.usgs.gov/fdsnws/event/1/query?eventid=us6000mvmb&format=geojson', 'felt': None, 'cdi': None, 'mmi': 3.522, 'alert': 'green', 'status': 'reviewed', 'tsunami': 0, 'sig': 449, 'net': 'us', 'code': '6000mvmb', 'ids': ',us6000mvmb,', 'sources': ',us,', 'types': ',losspager,moment-tensor,origin,phase-data,shakemap,', 'nst': 108, 'dmin': 5.683, 'rms': 0.83, 'gap': 30, 'magType': 'mwb', 'type': 'earthquake', 'title': 'M 5.4 - South Sandwich Islands region'}, 'geometry': {'type': 'Point', 'coordinates': [-26.9922, -55.8732, 18.922]}, 'id': 'us6000mvmb'}, {'type': 'Feature', 'properties': {'mag': 5, 'place': 'South Sandwich Islands region', 'time': 1714629232997, 'updated': 1714630721040, 'tz': None, 'url': 'https://earthquake.usgs.gov/earthquakes/eventpage/us6000mvm5', 'detail': 'https://earthquake.usgs.gov/fdsnws/event/1/query?eventid=us6000mvm5&format=geojson', 'felt': None, 'cdi': None, 'mmi': None, 'alert': None, 'status': 'reviewed', 'tsunami': 0, 'sig': 385, 'net': 'us', 'code': '6000mvm5', 'ids': ',us6000mvm5,', 'sources': ',us,', 'types': ',origin,phase-data,', 'nst': 35, 'dmin': 5.589, 'rms': 0.89, 'gap': 71, 'magType': 'mb', 'type': 'earthquake', 'title': 'M 5.0 - South Sandwich Islands region'}, 'geometry': {'type': 'Point', 'coordinates': [-27.0771, -55.6367, 35.986]}, 'id': 'us6000mvm5'}, {'type': 'Feature', 'properties': {'mag': 5.1, 'place': '27 km WNW of Chinchaypujio, Peru', 'time': 1714616170012, 'updated': 1714678467408, 'tz': None, 'url': 'https://earthquake.usgs.gov/earthquakes/eventpage/us6000mvky', 'detail': 'https://earthquake.usgs.gov/fdsnws/event/1/query?eventid=us6000mvky&format=geojson', 'felt': 15, 'cdi': 3.8, 'mmi': None, 'alert': None, 'status': 'reviewed', 'tsunami': 0, 'sig': 406, 'net': 'us', 'code': '6000mvky', 'ids': ',us6000mvky,usauto6000mvky,', 'sources': ',us,usauto,', 'types': ',dyfi,internal-moment-tensor,origin,phase-data,', 'nst': 68, 'dmin': 4.533, 'rms': 0.88, 'gap': 99, 'magType': 'mb', 'type': 'earthquake', 'title': 'M 5.1 - 27 km WNW of Chinchaypujio, Peru'}, 'geometry': {'type': 'Point', 'coordinates': [-72.4745, -13.5455, 10]}, 'id': 'us6000mvky'}], 'bbox': [-179.0713, -55.8732, 10, -26.9922, 52.1544, 35.986]}\n",
      "03/05/24 16:26:48 INFO Thought: Based on the data from the Query tool, there were 9 earthquakes with a magnitude of 5 or greater that occurred yesterday. The locations of these earthquakes varied, with some occurring in the South Sandwich Islands region, south of the Kermadec Islands, and near Nikolski, Alaska. The magnitudes ranged from 5.0 to 5.5. None of these earthquakes reached a magnitude of 10 or greater.\n",
      "03/05/24 16:26:48 INFO Tool: Final Answer\n",
      "03/05/24 16:26:48 INFO Tool input: {'content': 'Yesterday, there were 9 earthquakes with a magnitude of 5 or greater. The locations of these earthquakes varied, with some occurring in the South Sandwich Islands region, south of the Kermadec Islands, and near Nikolski, Alaska. The magnitudes ranged from 5.0 to 5.5. None of these earthquakes reached a magnitude of 10 or greater.'}\n"
     ]
    }
   ],
   "source": [
    "response = agent.invoke({\"question\": \"Query 10 earthquakes that occurred yesterday and have a magnitude >= 5.\"})"
   ]
  },
  {
   "cell_type": "code",
   "execution_count": 22,
   "metadata": {},
   "outputs": [
    {
     "name": "stdout",
     "output_type": "stream",
     "text": [
      "Yesterday, there were 9 earthquakes with a magnitude of 5 or greater. The locations of these earthquakes varied, with some occurring in the South Sandwich Islands region, south of the Kermadec Islands, and near Nikolski, Alaska. The magnitudes ranged from 5.0 to 5.5. None of these earthquakes reached a magnitude of 10 or greater.\n"
     ]
    }
   ],
   "source": [
    "print(response.final_answer[\"content\"])"
   ]
  },
  {
   "cell_type": "markdown",
   "metadata": {},
   "source": [
    "## 4. Service-based AI Agents"
   ]
  },
  {
   "cell_type": "code",
   "execution_count": 23,
   "metadata": {},
   "outputs": [],
   "source": [
    "import pandas as pd\n",
    "from sklearn.metrics import accuracy_score\n",
    "from language_models.agents.chain import AgentChain"
   ]
  },
  {
   "cell_type": "code",
   "execution_count": 28,
   "metadata": {},
   "outputs": [
    {
     "data": {
      "text/html": [
       "<div>\n",
       "<style scoped>\n",
       "    .dataframe tbody tr th:only-of-type {\n",
       "        vertical-align: middle;\n",
       "    }\n",
       "\n",
       "    .dataframe tbody tr th {\n",
       "        vertical-align: top;\n",
       "    }\n",
       "\n",
       "    .dataframe thead th {\n",
       "        text-align: right;\n",
       "    }\n",
       "</style>\n",
       "<table border=\"1\" class=\"dataframe\">\n",
       "  <thead>\n",
       "    <tr style=\"text-align: right;\">\n",
       "      <th></th>\n",
       "      <th>sentiment</th>\n",
       "      <th>id</th>\n",
       "      <th>date</th>\n",
       "      <th>query</th>\n",
       "      <th>user</th>\n",
       "      <th>tweet</th>\n",
       "    </tr>\n",
       "  </thead>\n",
       "  <tbody>\n",
       "    <tr>\n",
       "      <th>0</th>\n",
       "      <td>0</td>\n",
       "      <td>1467810369</td>\n",
       "      <td>Mon Apr 06 22:19:45 PDT 2009</td>\n",
       "      <td>NO_QUERY</td>\n",
       "      <td>_TheSpecialOne_</td>\n",
       "      <td>@switchfoot http://twitpic.com/2y1zl - Awww, t...</td>\n",
       "    </tr>\n",
       "    <tr>\n",
       "      <th>1</th>\n",
       "      <td>0</td>\n",
       "      <td>1467810672</td>\n",
       "      <td>Mon Apr 06 22:19:49 PDT 2009</td>\n",
       "      <td>NO_QUERY</td>\n",
       "      <td>scotthamilton</td>\n",
       "      <td>is upset that he can't update his Facebook by ...</td>\n",
       "    </tr>\n",
       "    <tr>\n",
       "      <th>2</th>\n",
       "      <td>0</td>\n",
       "      <td>1467810917</td>\n",
       "      <td>Mon Apr 06 22:19:53 PDT 2009</td>\n",
       "      <td>NO_QUERY</td>\n",
       "      <td>mattycus</td>\n",
       "      <td>@Kenichan I dived many times for the ball. Man...</td>\n",
       "    </tr>\n",
       "    <tr>\n",
       "      <th>3</th>\n",
       "      <td>0</td>\n",
       "      <td>1467811184</td>\n",
       "      <td>Mon Apr 06 22:19:57 PDT 2009</td>\n",
       "      <td>NO_QUERY</td>\n",
       "      <td>ElleCTF</td>\n",
       "      <td>my whole body feels itchy and like its on fire</td>\n",
       "    </tr>\n",
       "    <tr>\n",
       "      <th>4</th>\n",
       "      <td>0</td>\n",
       "      <td>1467811193</td>\n",
       "      <td>Mon Apr 06 22:19:57 PDT 2009</td>\n",
       "      <td>NO_QUERY</td>\n",
       "      <td>Karoli</td>\n",
       "      <td>@nationwideclass no, it's not behaving at all....</td>\n",
       "    </tr>\n",
       "  </tbody>\n",
       "</table>\n",
       "</div>"
      ],
      "text/plain": [
       "   sentiment          id                          date     query  \\\n",
       "0          0  1467810369  Mon Apr 06 22:19:45 PDT 2009  NO_QUERY   \n",
       "1          0  1467810672  Mon Apr 06 22:19:49 PDT 2009  NO_QUERY   \n",
       "2          0  1467810917  Mon Apr 06 22:19:53 PDT 2009  NO_QUERY   \n",
       "3          0  1467811184  Mon Apr 06 22:19:57 PDT 2009  NO_QUERY   \n",
       "4          0  1467811193  Mon Apr 06 22:19:57 PDT 2009  NO_QUERY   \n",
       "\n",
       "              user                                              tweet  \n",
       "0  _TheSpecialOne_  @switchfoot http://twitpic.com/2y1zl - Awww, t...  \n",
       "1    scotthamilton  is upset that he can't update his Facebook by ...  \n",
       "2         mattycus  @Kenichan I dived many times for the ball. Man...  \n",
       "3          ElleCTF    my whole body feels itchy and like its on fire   \n",
       "4           Karoli  @nationwideclass no, it's not behaving at all....  "
      ]
     },
     "execution_count": 28,
     "metadata": {},
     "output_type": "execute_result"
    }
   ],
   "source": [
    "df = pd.read_csv(\"./data/tweets.csv.gz\", compression=\"gzip\", encoding=\"latin-1\", names=[\"sentiment\", \"id\", \"date\", \"query\", \"user\", \"tweet\"])\n",
    "df = df.iloc[:8]\n",
    "df.head()"
   ]
  },
  {
   "cell_type": "code",
   "execution_count": 37,
   "metadata": {},
   "outputs": [],
   "source": [
    "system_prompt = \"\"\"Take the following tweet and determine the sentiment of the review. \n",
    "\n",
    "Respond with 1 (positive) or 0 (negative).\n",
    "\n",
    "If you don't receive a tweet, respond with -1.\n",
    "\"\"\"\n",
    "\n",
    "llm = OpenAILanguageModel(\n",
    "    proxy_client=proxy_client,\n",
    "    model='gpt-4',\n",
    "    max_tokens=128,\n",
    "    float=0.0,\n",
    ")\n",
    "\n",
    "class Output(BaseModel):\n",
    "    sentiment: int = Field(description=\"The sentiment of the tweet.\")\n",
    "\n",
    "agent = ReActAgent.create(\n",
    "    llm=llm,\n",
    "    system_prompt=system_prompt,\n",
    "    task_prompt=\"Tweet content: {tweet}\",\n",
    "    task_prompt_variables=[\"tweet\"],\n",
    "    tools=None,\n",
    "    output_format=Output,\n",
    "    iterations=5,\n",
    ")"
   ]
  },
  {
   "cell_type": "code",
   "execution_count": 38,
   "metadata": {},
   "outputs": [],
   "source": [
    "def classify_sentiment(tweet: str) -> int:\n",
    "    response = agent.invoke({'tweet': tweet})\n",
    "    return response.final_answer['sentiment']"
   ]
  },
  {
   "cell_type": "code",
   "execution_count": 39,
   "metadata": {},
   "outputs": [
    {
     "name": "stderr",
     "output_type": "stream",
     "text": [
      "03/05/24 16:32:02 INFO Thought: The tweet seems to express a mild disappointment but also suggests a solution in a friendly tone. It's not overly negative, but it's not exactly positive either. It's more of a neutral sentiment with a slight lean towards negative due to the expression of disappointment.\n",
      "03/05/24 16:32:02 INFO Tool: Final Answer\n",
      "03/05/24 16:32:02 INFO Tool input: {'sentiment': 0}\n",
      "03/05/24 16:32:08 INFO Thought: The tweet expresses disappointment and sadness, which indicates a negative sentiment.\n",
      "03/05/24 16:32:08 INFO Tool: Final Answer\n",
      "03/05/24 16:32:08 INFO Tool input: {'sentiment': 0}\n",
      "03/05/24 16:32:18 INFO Thought: The tweet seems to be neutral. The user is talking about a game where they managed to save 50% of the balls, but the rest went out of bounds. There's no clear positive or negative sentiment.\n",
      "03/05/24 16:32:18 INFO Tool: Final Answer\n",
      "03/05/24 16:32:18 INFO Tool input: {'sentiment': 1}\n",
      "03/05/24 16:32:24 INFO Thought: The tweet seems to express discomfort and a negative physical sensation, which indicates a negative sentiment.\n",
      "03/05/24 16:32:24 INFO Tool: Final Answer\n",
      "03/05/24 16:32:24 INFO Tool input: {'sentiment': 0}\n",
      "03/05/24 16:32:30 INFO Thought: The tweet expresses negative sentiment as the user is upset and mad.\n",
      "03/05/24 16:32:30 INFO Tool: Final Answer\n",
      "03/05/24 16:32:30 INFO Tool input: {'sentiment': 0}\n",
      "03/05/24 16:32:36 INFO Thought: The tweet seems to express disappointment or dissatisfaction, which indicates a negative sentiment.\n",
      "03/05/24 16:32:36 INFO Tool: Final Answer\n",
      "03/05/24 16:32:36 INFO Tool input: {'sentiment': 0}\n",
      "03/05/24 16:32:47 INFO Thought: The tweet expresses a need for comfort, which indicates a negative sentiment.\n",
      "03/05/24 16:32:47 INFO Tool: Final Answer\n",
      "03/05/24 16:32:47 INFO Tool input: {'sentiment': 0}\n",
      "03/05/24 16:32:53 INFO Thought: The tweet seems to be a friendly conversation between two people. The user is expressing that they are fine and asking about the other person's well-being. This seems to be a positive sentiment.\n",
      "03/05/24 16:32:53 INFO Tool: Final Answer\n",
      "03/05/24 16:32:53 INFO Tool input: {'sentiment': 1}\n"
     ]
    }
   ],
   "source": [
    "\n",
    "df[\"prediction\"] = [classify_sentiment(tweet) for tweet in df.tweet]"
   ]
  },
  {
   "cell_type": "code",
   "execution_count": 40,
   "metadata": {},
   "outputs": [
    {
     "name": "stdout",
     "output_type": "stream",
     "text": [
      "Accuracy: 0.75\n"
     ]
    }
   ],
   "source": [
    "print(f\"Accuracy: {accuracy_score(df.sentiment, df.prediction)}\")"
   ]
  }
 ],
 "metadata": {
  "kernelspec": {
   "display_name": "llm-powered-ai-agents",
   "language": "python",
   "name": "python3"
  },
  "language_info": {
   "codemirror_mode": {
    "name": "ipython",
    "version": 3
   },
   "file_extension": ".py",
   "mimetype": "text/x-python",
   "name": "python",
   "nbconvert_exporter": "python",
   "pygments_lexer": "ipython3",
   "version": "3.11.9"
  }
 },
 "nbformat": 4,
 "nbformat_minor": 2
}
