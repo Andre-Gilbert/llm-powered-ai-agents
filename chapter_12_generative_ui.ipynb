{
 "cells": [
  {
   "cell_type": "markdown",
   "metadata": {},
   "source": [
    "# Chapter 12: Generative UI\n",
    "\n",
    "Generative UI represents an approach to rendering dynamic and interactive elements within chat windows or applications. This technique leverages the capabilities of LLMs to generate and manage various user interface components - such as images, tables, maps, and cards-on-the-fly. Generative UI offers several methods for achieving dynamic content generation:\n",
    "- **Code generation and rendering:** In this approach, the LLM writes code to create visual elements. For instance, it could generate code to create a chart or image based on data analysis. The resulting code is executed to render the content, and the generated visual may be sent as binary data to the UI for display.\n",
    "- **Tool-based rendering:** Here, rendering is driven by the tools invoked by the LLM. After a specific tool generates the desired output, the resulting data is sent to the frontend for rendering. Typically, you focus on rendering the output for the most recent tool called, rather than displaying multiple widgets. This approach ensures that the UI remains dynamic and responsive, showing only the most relevant and updated information, thus avoiding clutter and maintaining a clean and interactive user experience.\n",
    "- **Dynamic UI updates:** This technique involves asking the LLM to produce an output object that defines how the UI should be updated. For example, the LLM could generate an object that specifies new filters for charts or other interactive elements. This output is sent back to the frontend to dynamically update the user interface based on the latest data or user inputs.\n",
    "\n",
    "Generative UI enhances user experiences by using LLMs to manage dynamic content. In this discussion, we will focus on the second approach: tool-based rendering.\n",
    "\n",
    "![generative-ui](./assets/images/generative-ui.gif)"
   ]
  },
  {
   "cell_type": "code",
   "execution_count": 1,
   "metadata": {},
   "outputs": [],
   "source": [
    "from assets.tools.earthquake import count_earthquakes, query_earthquakes, USGeopoliticalSurveyEarthquakeAPI\n",
    "from language_models.agent import (\n",
    "    Agent,\n",
    "    OutputType,\n",
    "    PromptingStrategy,\n",
    "    Step,\n",
    ")\n",
    "from language_models.tools import Tool, current_date\n",
    "from language_models.models.llm import OpenAILanguageModel\n",
    "from language_models.proxy_client import ProxyClient\n",
    "from language_models.settings import settings"
   ]
  },
  {
   "cell_type": "code",
   "execution_count": 2,
   "metadata": {},
   "outputs": [],
   "source": [
    "proxy_client = ProxyClient(\n",
    "    client_id=settings.CLIENT_ID,\n",
    "    client_secret=settings.CLIENT_SECRET,\n",
    "    auth_url=settings.AUTH_URL,\n",
    "    api_base=settings.API_BASE,\n",
    ")"
   ]
  },
  {
   "cell_type": "code",
   "execution_count": 3,
   "metadata": {},
   "outputs": [],
   "source": [
    "query_earthquakes_tool = Tool(\n",
    "    function=query_earthquakes,\n",
    "    name=\"Query Earthquakes\",\n",
    "    description=\"Use this tool to search recent earthquakes\",\n",
    "    args_schema=USGeopoliticalSurveyEarthquakeAPI,\n",
    ")\n",
    "\n",
    "count_earthquakes_tool = Tool(\n",
    "    function=count_earthquakes,\n",
    "    name=\"Count Earthquakes\",\n",
    "    description=\"Use this tool to count and aggregate recent earthquakes\",\n",
    "    args_schema=USGeopoliticalSurveyEarthquakeAPI,\n",
    ")\n",
    "\n",
    "system_prompt = \"You are an United States Geological Survey expert who can answer questions regarding earthquakes.\"\n",
    "\n",
    "llm = OpenAILanguageModel(\n",
    "    proxy_client=proxy_client,\n",
    "    model=\"gpt-4\",\n",
    "    max_tokens=500,\n",
    "    temperature=0.2,\n",
    ")\n",
    "\n",
    "agent = Agent.create(\n",
    "    llm=llm,\n",
    "    system_prompt=system_prompt,\n",
    "    prompt=\"{question}\",\n",
    "    prompt_variables=[\"question\"],\n",
    "    output_type=OutputType.STRING,\n",
    "    tools=[current_date, count_earthquakes_tool, query_earthquakes_tool],\n",
    "    prompting_strategy=PromptingStrategy.CHAIN_OF_THOUGHT,\n",
    "    verbose=True,\n",
    ")"
   ]
  },
  {
   "cell_type": "code",
   "execution_count": 4,
   "metadata": {},
   "outputs": [
    {
     "name": "stderr",
     "output_type": "stream",
     "text": [
      "\u001b[1m\u001b[38;2;45;114;210mThought\u001b[0m\u001b[1m\u001b[0m: To answer this question, I need to use the \"Count Earthquakes\" tool. I need to set the start_time to the start of today and the end_time to the current time.\n",
      "\u001b[1m\u001b[38;2;236;154;60mTool\u001b[0m\u001b[1m\u001b[0m: Current Date\n",
      "\u001b[1m\u001b[38;2;236;154;60mTool Input\u001b[0m\u001b[1m\u001b[0m: {}\n",
      "\u001b[1m\u001b[38;2;236;154;60mTool Output\u001b[0m\u001b[1m\u001b[0m: 2024-08-21 09:22:27.847782\n",
      "\u001b[1m\u001b[38;2;45;114;210mThought\u001b[0m\u001b[1m\u001b[0m: Now that I have the current date and time, I can use the \"Count Earthquakes\" tool to find out how many earthquakes occurred today. I will set the start_time to the start of today (2024-08-21 00:00:00) and the end_time to the current time (2024-08-21 09:22:27.847782).\n",
      "\u001b[1m\u001b[38;2;236;154;60mTool\u001b[0m\u001b[1m\u001b[0m: Count Earthquakes\n",
      "\u001b[1m\u001b[38;2;236;154;60mTool Input\u001b[0m\u001b[1m\u001b[0m: {'start_time': '2024-08-21 00:00:00', 'end_time': '2024-08-21 09:22:27.847782'}\n",
      "\u001b[1m\u001b[38;2;236;154;60mTool Output\u001b[0m\u001b[1m\u001b[0m: {'count': 89, 'maxAllowed': 20000}\n",
      "\u001b[1m\u001b[38;2;45;114;210mThought\u001b[0m\u001b[1m\u001b[0m: The tool has provided the number of earthquakes that occurred today. I can now provide this information to the user.\n",
      "\u001b[1m\u001b[38;2;50;164;103mFinal Answer\u001b[0m\u001b[1m\u001b[0m: There have been 89 earthquakes today.\n"
     ]
    }
   ],
   "source": [
    "output = agent.invoke({\"question\": \"How many earthquakes occurred today?\"})"
   ]
  },
  {
   "cell_type": "code",
   "execution_count": 5,
   "metadata": {},
   "outputs": [
    {
     "name": "stdout",
     "output_type": "stream",
     "text": [
      "There have been 89 earthquakes today.\n"
     ]
    }
   ],
   "source": [
    "print(output.final_answer)"
   ]
  },
  {
   "cell_type": "code",
   "execution_count": 6,
   "metadata": {},
   "outputs": [
    {
     "name": "stderr",
     "output_type": "stream",
     "text": [
      "\u001b[1m\u001b[38;2;45;114;210mThought\u001b[0m\u001b[1m\u001b[0m: To show the details of 3 earthquakes that occurred today, I need to use the \"Query Earthquakes\" tool. I will set the start_time to the start of today, the end_time to the current time, and the limit to 3.\n",
      "\u001b[1m\u001b[38;2;236;154;60mTool\u001b[0m\u001b[1m\u001b[0m: Query Earthquakes\n",
      "\u001b[1m\u001b[38;2;236;154;60mTool Input\u001b[0m\u001b[1m\u001b[0m: {'start_time': '2024-08-21 00:00:00', 'end_time': '2024-08-21 09:22:27.847782', 'limit': 3}\n",
      "\u001b[1m\u001b[38;2;236;154;60mTool Output\u001b[0m\u001b[1m\u001b[0m: {'type': 'FeatureCollection', 'metadata': {'generated': 1724224970000, 'url': 'https://earthquake.usgs.gov/fdsnws/event/1/query?format=geojson&starttime=2024-08-21+00%3A00%3A00&endtime=2024-08-21+09%3A22%3A27.847782&limit=3&mindepth=-100&maxdepth=1000&eventtype=earthquake', 'title': 'USGS Earthquakes', 'status': 200, 'api': '1.14.1', 'limit': 3, 'offset': 1, 'count': 3}, 'features': [{'type': 'Feature', 'properties': {'mag': 1.9, 'place': '6 km S of Volcano, Hawaii', 'time': 1724224190890, 'updated': 1724224348610, 'tz': None, 'url': 'https://earthquake.usgs.gov/earthquakes/eventpage/hv74416161', 'detail': 'https://earthquake.usgs.gov/fdsnws/event/1/query?eventid=hv74416161&format=geojson', 'felt': None, 'cdi': None, 'mmi': None, 'alert': None, 'status': 'automatic', 'tsunami': 0, 'sig': 56, 'net': 'hv', 'code': '74416161', 'ids': ',hv74416161,', 'sources': ',hv,', 'types': ',origin,phase-data,', 'nst': 17, 'dmin': 0.02319, 'rms': 0.119999997, 'gap': 123, 'magType': 'ml', 'type': 'earthquake', 'title': 'M 1.9 - 6 km S of Volcano, Hawaii'}, 'geometry': {'type': 'Point', 'coordinates': [-155.241500854492, 19.3819999694824, 1.32000005245209]}, 'id': 'hv74416161'}, {'type': 'Feature', 'properties': {'mag': 1.91, 'place': '9 km SSW of Volcano, Hawaii', 'time': 1724224163920, 'updated': 1724224321890, 'tz': None, 'url': 'https://earthquake.usgs.gov/earthquakes/eventpage/hv74416156', 'detail': 'https://earthquake.usgs.gov/fdsnws/event/1/query?eventid=hv74416156&format=geojson', 'felt': None, 'cdi': None, 'mmi': None, 'alert': None, 'status': 'automatic', 'tsunami': 0, 'sig': 56, 'net': 'hv', 'code': '74416156', 'ids': ',hv74416156,', 'sources': ',hv,', 'types': ',origin,phase-data,', 'nst': 6, 'dmin': 0.01567, 'rms': 0.100000001, 'gap': 247, 'magType': 'ml', 'type': 'earthquake', 'title': 'M 1.9 - 9 km SSW of Volcano, Hawaii'}, 'geometry': {'type': 'Point', 'coordinates': [-155.255661010742, 19.357666015625, -0.28999999165535]}, 'id': 'hv74416156'}, {'type': 'Feature', 'properties': {'mag': 2.48, 'place': '3 km W of Pāhala, Hawaii', 'time': 1724223943250, 'updated': 1724224101970, 'tz': None, 'url': 'https://earthquake.usgs.gov/earthquakes/eventpage/hv74416151', 'detail': 'https://earthquake.usgs.gov/fdsnws/event/1/query?eventid=hv74416151&format=geojson', 'felt': None, 'cdi': None, 'mmi': None, 'alert': None, 'status': 'automatic', 'tsunami': 0, 'sig': 95, 'net': 'hv', 'code': '74416151', 'ids': ',hv74416151,', 'sources': ',hv,', 'types': ',origin,phase-data,', 'nst': 49, 'dmin': 0.06588, 'rms': 0.189999998, 'gap': 81, 'magType': 'ml', 'type': 'earthquake', 'title': 'M 2.5 - 3 km W of Pāhala, Hawaii'}, 'geometry': {'type': 'Point', 'coordinates': [-155.513168334961, 19.2005004882812, 30.6499996185303]}, 'id': 'hv74416151'}], 'bbox': [-155.51316833496, 19.200500488281, -0.28999999165535, -155.24150085449, 19.381999969482, 30.64999961853]}\n",
      "\u001b[1m\u001b[38;2;45;114;210mThought\u001b[0m\u001b[1m\u001b[0m: The tool has provided the details of 3 earthquakes that occurred today. I will present these details to the user.\n",
      "\u001b[1m\u001b[38;2;50;164;103mFinal Answer\u001b[0m\u001b[1m\u001b[0m: Here are the details of 3 earthquakes that occurred today:\n",
      "\n",
      "1. A magnitude 1.9 earthquake occurred 6 km South of Volcano, Hawaii. More details can be found [here](https://earthquake.usgs.gov/earthquakes/eventpage/hv74416161).\n",
      "\n",
      "2. A magnitude 1.91 earthquake occurred 9 km South-Southwest of Volcano, Hawaii. More details can be found [here](https://earthquake.usgs.gov/earthquakes/eventpage/hv74416156).\n",
      "\n",
      "3. A magnitude 2.48 earthquake occurred 3 km West of Pāhala, Hawaii. More details can be found [here](https://earthquake.usgs.gov/earthquakes/eventpage/hv74416151).\n"
     ]
    }
   ],
   "source": [
    "output = agent.invoke({\"question\": \"Show me 3.\"})"
   ]
  },
  {
   "cell_type": "code",
   "execution_count": 7,
   "metadata": {},
   "outputs": [
    {
     "name": "stdout",
     "output_type": "stream",
     "text": [
      "Here are the details of 3 earthquakes that occurred today:\n",
      "\n",
      "1. A magnitude 1.9 earthquake occurred 6 km South of Volcano, Hawaii. More details can be found [here](https://earthquake.usgs.gov/earthquakes/eventpage/hv74416161).\n",
      "\n",
      "2. A magnitude 1.91 earthquake occurred 9 km South-Southwest of Volcano, Hawaii. More details can be found [here](https://earthquake.usgs.gov/earthquakes/eventpage/hv74416156).\n",
      "\n",
      "3. A magnitude 2.48 earthquake occurred 3 km West of Pāhala, Hawaii. More details can be found [here](https://earthquake.usgs.gov/earthquakes/eventpage/hv74416151).\n"
     ]
    }
   ],
   "source": [
    "print(output.final_answer)"
   ]
  }
 ],
 "metadata": {
  "kernelspec": {
   "display_name": "llm-powered-ai-agents",
   "language": "python",
   "name": "python3"
  },
  "language_info": {
   "codemirror_mode": {
    "name": "ipython",
    "version": 3
   },
   "file_extension": ".py",
   "mimetype": "text/x-python",
   "name": "python",
   "nbconvert_exporter": "python",
   "pygments_lexer": "ipython3",
   "version": "3.12.4"
  }
 },
 "nbformat": 4,
 "nbformat_minor": 2
}
