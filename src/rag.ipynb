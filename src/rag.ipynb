{
 "cells": [
  {
   "cell_type": "markdown",
   "metadata": {},
   "source": [
    "# Retrieval Augmented Generation\n",
    "\n",
    "Table of Contents\n",
    "1. Idea\n",
    "2. Naive Implementation\n",
    "3. Graph Implementation"
   ]
  },
  {
   "cell_type": "code",
   "execution_count": 31,
   "metadata": {},
   "outputs": [],
   "source": [
    "from language_models.proxy_client import BTPProxyClient\n",
    "from language_models.agents.react import ReActAgent\n",
    "from language_models.agents.chain import AgentChain\n",
    "from language_models.models.llm import OpenAILanguageModel\n",
    "from language_models.models.embedding import SentenceTransformerEmbeddingModel\n",
    "from language_models.retrievers import BasicRetriever, CoALARetriever, ContextualCompressionRetriever\n",
    "from language_models.retrievers.utils import split_documents\n",
    "from language_models.vector_stores import FAISSVectorStore\n",
    "from language_models.settings import settings\n",
    "from langchain_community.document_loaders.recursive_url_loader import RecursiveUrlLoader\n",
    "from utils import load_docs_from_json, save_docs_to_json\n",
    "from pydantic import BaseModel, Field\n",
    "from numpy import dot\n",
    "from numpy.linalg import norm\n",
    "from bs4 import BeautifulSoup as Soup"
   ]
  },
  {
   "cell_type": "code",
   "execution_count": 15,
   "metadata": {},
   "outputs": [],
   "source": [
    "proxy_client = BTPProxyClient(\n",
    "    client_id=settings.CLIENT_ID,\n",
    "    client_secret=settings.CLIENT_SECRET,\n",
    "    auth_url=settings.AUTH_URL,\n",
    "    api_base=settings.API_BASE,\n",
    ")"
   ]
  },
  {
   "cell_type": "code",
   "execution_count": 16,
   "metadata": {},
   "outputs": [],
   "source": [
    "try:\n",
    "    documents = load_docs_from_json('data.json')\n",
    "except:\n",
    "    documents = []\n",
    "    urls = [\n",
    "        'https://www.apple.com/iphone/',\n",
    "        'https://www.apple.com/ipad/',\n",
    "        'https://www.apple.com/watch/',\n",
    "        'https://www.apple.com/airpods/',\n",
    "        'https://www.apple.com/mac/',\n",
    "        'https://store.google.com/us/category/phones?hl=en-US',\n",
    "        'https://store.google.com/us/category/watches_trackers?hl=en-US',\n",
    "        'https://store.google.com/us/product/pixel_tablet?hl=en-US',\n",
    "        'https://store.google.com/us/category/earbuds?hl=en-US',\n",
    "        'https://www.samsung.com/us/smartphones/',\n",
    "        'https://www.samsung.com/us/watches/',\n",
    "        'https://www.samsung.com/us/tablets/',\n",
    "        'https://www.samsung.com/us/mobile-audio/',\n",
    "        'https://www.samsung.com/us/galaxybooks/',\n",
    "    ]\n",
    "    for url in urls:\n",
    "        loader = RecursiveUrlLoader(url=url, max_depth=5, extractor=lambda x: Soup(x, \"html.parser\").text)\n",
    "        docs = loader.load()\n",
    "        documents += docs\n",
    "    save_docs_to_json(documents, 'data.json')"
   ]
  },
  {
   "cell_type": "markdown",
   "metadata": {},
   "source": [
    "## Idea"
   ]
  },
  {
   "cell_type": "code",
   "execution_count": 17,
   "metadata": {},
   "outputs": [],
   "source": [
    "llm = OpenAILanguageModel(\n",
    "    proxy_client=proxy_client,\n",
    "    model=\"gpt-4\",\n",
    "    max_tokens=256,\n",
    "    temperature=0.0,\n",
    ")"
   ]
  },
  {
   "cell_type": "code",
   "execution_count": 18,
   "metadata": {},
   "outputs": [],
   "source": [
    "class Output(BaseModel):\n",
    "    content: str = Field(description=\"The final answer.\")\n",
    "\n",
    "agent = ReActAgent.create(\n",
    "    llm=llm,\n",
    "    system_prompt=\"\",\n",
    "    task_prompt=\"{question}\",\n",
    "    task_prompt_variables=[\"question\"],\n",
    "    output_format=Output,\n",
    "    iterations=3,\n",
    ")"
   ]
  },
  {
   "cell_type": "code",
   "execution_count": 19,
   "metadata": {},
   "outputs": [
    {
     "name": "stderr",
     "output_type": "stream",
     "text": [
      "13/05/24 09:52:40 INFO Prompt:\n",
      "Tell me about the iPhone 15 pro and pro max.\n",
      "13/05/24 09:52:49 INFO Raw response:\n",
      "{\n",
      "  \"thought\": \"The user is asking about the iPhone 15 Pro and Pro Max, but as of now, these models do not exist. The latest models from Apple are the iPhone 13 Pro and Pro Max. I should inform the user about this.\",\n",
      "  \"tool\": \"Final Answer\",\n",
      "  \"tool_input\": {\"content\": \"As of now, the iPhone 15 Pro and Pro Max do not exist. The latest models from Apple are the iPhone 13 Pro and Pro Max. Please check the official Apple website or authorized retailers for the most recent information.\"}\n",
      "}\n",
      "13/05/24 09:52:49 INFO Thought:\n",
      "The user is asking about the iPhone 15 Pro and Pro Max, but as of now, these models do not exist. The latest models from Apple are the iPhone 13 Pro and Pro Max. I should inform the user about this.\n",
      "13/05/24 09:52:49 INFO Final answer:\n",
      "{'content': 'As of now, the iPhone 15 Pro and Pro Max do not exist. The latest models from Apple are the iPhone 13 Pro and Pro Max. Please check the official Apple website or authorized retailers for the most recent information.'}\n"
     ]
    }
   ],
   "source": [
    "response = agent.invoke({\"question\": \"Tell me about the iPhone 15 pro and pro max.\"})"
   ]
  },
  {
   "cell_type": "code",
   "execution_count": 20,
   "metadata": {},
   "outputs": [
    {
     "name": "stdout",
     "output_type": "stream",
     "text": [
      "As of now, the iPhone 15 Pro and Pro Max do not exist. The latest models from Apple are the iPhone 13 Pro and Pro Max. Please check the official Apple website or authorized retailers for the most recent information.\n"
     ]
    }
   ],
   "source": [
    "print(response.final_answer[\"content\"])"
   ]
  },
  {
   "cell_type": "code",
   "execution_count": 21,
   "metadata": {},
   "outputs": [
    {
     "name": "stderr",
     "output_type": "stream",
     "text": [
      "13/05/24 09:52:49 INFO Prompt:\n",
      "Tell me about the iPhone 15 pro and pro max.\n",
      "\n",
      "Use this context to answer the question:\n",
      "- iPhone 15 Pro and Pro Max are the latest models.\n",
      "- Available in Natural, Blue, White, and Black titanium.\n",
      "- A17 Pro chip with 6-core GPU for fast performance.\n",
      "- Pro camera: 48MP Main, 3x or 5x Telephoto, Ultra Wide.\n",
      "- Up to 29 hours of video playback.\n",
      "- ProMotion and Always-On display.\n",
      "- Titanium back with textured matte glass.\n",
      "- USB-C for 20x faster transfers.\n",
      "- Emergency SOS, Crash Detection, Roadside Assistance via satellite.\n",
      "13/05/24 09:52:58 INFO Raw response:\n",
      "{\n",
      "  \"thought\": \"I now know what to respond\",\n",
      "  \"tool\": \"Final Answer\",\n",
      "  \"tool_input\": {\n",
      "    \"content\": \"The iPhone 15 Pro and Pro Max are the latest models from Apple. They are available in Natural, Blue, White, and Black titanium. They are powered by the A17 Pro chip with a 6-core GPU for fast performance. The Pro camera system includes a 48MP Main camera, a 3x or 5x Telephoto camera, and an Ultra Wide camera. They offer up to 29 hours of video playback. They also feature ProMotion and an Always-On display. The back is made of titanium with a textured matte glass finish. They use USB-C for 20x faster data transfers. They also have safety features like Emergency SOS, Crash Detection, and Roadside Assistance via satellite.\"\n",
      "  }\n",
      "}\n",
      "13/05/24 09:52:58 INFO Thought:\n",
      "I now know what to respond\n",
      "13/05/24 09:52:58 INFO Final answer:\n",
      "{'content': 'The iPhone 15 Pro and Pro Max are the latest models from Apple. They are available in Natural, Blue, White, and Black titanium. They are powered by the A17 Pro chip with a 6-core GPU for fast performance. The Pro camera system includes a 48MP Main camera, a 3x or 5x Telephoto camera, and an Ultra Wide camera. They offer up to 29 hours of video playback. They also feature ProMotion and an Always-On display. The back is made of titanium with a textured matte glass finish. They use USB-C for 20x faster data transfers. They also have safety features like Emergency SOS, Crash Detection, and Roadside Assistance via satellite.'}\n"
     ]
    }
   ],
   "source": [
    "question = \"\"\"Tell me about the iPhone 15 pro and pro max.\n",
    "\n",
    "Use this context to answer the question:\n",
    "- iPhone 15 Pro and Pro Max are the latest models.\n",
    "- Available in Natural, Blue, White, and Black titanium.\n",
    "- A17 Pro chip with 6-core GPU for fast performance.\n",
    "- Pro camera: 48MP Main, 3x or 5x Telephoto, Ultra Wide.\n",
    "- Up to 29 hours of video playback.\n",
    "- ProMotion and Always-On display.\n",
    "- Titanium back with textured matte glass.\n",
    "- USB-C for 20x faster transfers.\n",
    "- Emergency SOS, Crash Detection, Roadside Assistance via satellite.\"\"\"\n",
    "\n",
    "response = agent.invoke({\"question\": question})"
   ]
  },
  {
   "cell_type": "code",
   "execution_count": 22,
   "metadata": {},
   "outputs": [
    {
     "name": "stdout",
     "output_type": "stream",
     "text": [
      "The iPhone 15 Pro and Pro Max are the latest models from Apple. They are available in Natural, Blue, White, and Black titanium. They are powered by the A17 Pro chip with a 6-core GPU for fast performance. The Pro camera system includes a 48MP Main camera, a 3x or 5x Telephoto camera, and an Ultra Wide camera. They offer up to 29 hours of video playback. They also feature ProMotion and an Always-On display. The back is made of titanium with a textured matte glass finish. They use USB-C for 20x faster data transfers. They also have safety features like Emergency SOS, Crash Detection, and Roadside Assistance via satellite.\n"
     ]
    }
   ],
   "source": [
    "print(response.final_answer[\"content\"])"
   ]
  },
  {
   "cell_type": "code",
   "execution_count": 23,
   "metadata": {},
   "outputs": [],
   "source": [
    "embedding_model = SentenceTransformerEmbeddingModel(model=\"all-MiniLM-L6-v2\")"
   ]
  },
  {
   "cell_type": "code",
   "execution_count": 24,
   "metadata": {},
   "outputs": [
    {
     "data": {
      "application/vnd.jupyter.widget-view+json": {
       "model_id": "fed77a404efd46e186973a91f4014591",
       "version_major": 2,
       "version_minor": 0
      },
      "text/plain": [
       "Batches:   0%|          | 0/1 [00:00<?, ?it/s]"
      ]
     },
     "metadata": {},
     "output_type": "display_data"
    }
   ],
   "source": [
    "query1 = \"Tell me about the iPhone 15 pro and pro max.\"\n",
    "embedding1 = embedding_model.embed_query(query1)"
   ]
  },
  {
   "cell_type": "code",
   "execution_count": 25,
   "metadata": {},
   "outputs": [
    {
     "name": "stdout",
     "output_type": "stream",
     "text": [
      "[-0.04976186528801918, 0.024698281660676003, 0.024233346804976463, -0.08842168003320694, 0.0374833419919014, -0.01828034222126007, 0.004888656549155712, 0.11331886053085327, 0.016784582287073135, 0.08297941088676453, 0.10016509890556335, 0.05813554301857948, 0.0017647211207076907, 0.04127701371908188, 0.010860818438231945, 0.03729262202978134, 0.1335870325565338, -0.08417602628469467, -0.05983923748135567, -0.10192283987998962, -0.01667306385934353, -0.07314975559711456, 0.06727840006351471, 0.049850501120090485, 0.04839256778359413, 0.05804368853569031, -0.06915360689163208, -0.009908149018883705, -0.03353537619113922, -0.0551525242626667, 0.02574399672448635, -0.02915993705391884, 0.07582292705774307, -0.013736454769968987, -0.013520478270947933, -0.08669689297676086, 0.0033832842018455267, -0.023326121270656586, 0.008765621110796928, -0.06883351504802704, -0.03609778359532356, -0.0032673256937414408, -0.056928034871816635, 0.052639756351709366, 0.05331815406680107, -0.012496858835220337, -0.011815924197435379, 0.02583266794681549, 0.05224157124757767, 0.04294012114405632, 0.044880710542201996, 0.026057168841362, -0.008928917348384857, 0.08728694915771484, -0.017490725964307785, -0.023153364658355713, -0.012193628586828709, -0.0008808913989923894, 0.09951724112033844, -0.013770587742328644, -0.024891642853617668, 0.01095039676874876, -0.07682666927576065, 0.02924405410885811, 0.0278610959649086, -0.07014232128858566, -0.09795435518026352, -0.014015673659741879, -0.025333503261208534, 0.07642798870801926, -0.06611742824316025, -0.002571413293480873, 0.0067538791336119175, 0.0017529258038848639, 0.049487125128507614, -0.009625663980841637, -0.004254779312759638, -0.022871647030115128, -0.06340699642896652, 0.03590197116136551, -0.005045641679316759, -0.016569573432207108, -0.005274192430078983, -0.08477765321731567, 0.05620795115828514, -0.04176101088523865, -0.01721305586397648, 0.06664469093084335, -0.005077719688415527, -0.04585148021578789, -0.03264352306723595, 0.07040732353925705, -0.057677123695611954, 0.014392392709851265, -0.050616081804037094, 0.022600805386900902, -0.07850709557533264, -0.0934351310133934, -0.06526831537485123, 0.014149673283100128, 0.05328282713890076, -0.08605562150478363, 0.05660348758101463, -0.06929948925971985, 0.03436603397130966, -0.0830080583691597, -0.02986416220664978, -0.020423050969839096, 0.026592863723635674, 0.10546351969242096, 0.04286082834005356, -0.02232288382947445, -0.03418584167957306, -0.06428263336420059, 0.059523165225982666, 0.03528878092765808, -0.06731164455413818, 0.12682439386844635, 0.09669873118400574, -0.02778986468911171, -0.01893230341374874, -0.04637261480093002, -0.017136970534920692, -0.01715339906513691, -0.08156980574131012, 0.025131361559033394, 0.00933013204485178, -1.970137899198762e-33, 0.052652448415756226, 0.04395435005426407, -0.05487221106886864, 0.019237056374549866, 0.014162205159664154, -0.011555022560060024, 0.03109460137784481, 0.03957528620958328, -0.011619984172284603, -0.011766014620661736, -0.05715276300907135, -0.020652979612350464, -0.019194625318050385, 0.0045479158870875835, 0.08184441924095154, -0.06503766775131226, -0.06702213734388351, 0.01394530851393938, -0.036614399403333664, 0.002163621596992016, 0.009237686172127724, -0.008937523700296879, -0.031819067895412445, 0.026476453989744186, 0.046948790550231934, 0.017141876742243767, 0.0071217333897948265, 0.0424141027033329, 0.010339806787669659, -0.003984428942203522, -0.09443741291761398, -0.0085511589422822, -0.0034553983714431524, 0.01469568070024252, 0.006930714938789606, 0.09312272816896439, 0.08484344184398651, -0.08983486890792847, 0.04766649007797241, 0.03527531027793884, -0.04977545514702797, -0.01760375127196312, -0.017181837931275368, 0.027514435350894928, 0.10196306556463242, 0.07407394796609879, -0.10006970912218094, 0.016826562583446503, -0.00780145451426506, -0.028812315315008163, -0.027027277275919914, 0.016821475699543953, -0.062290482223033905, -0.0729156956076622, -0.09078852087259293, 0.08756928145885468, 0.018204323947429657, 0.005791522096842527, 0.03565258905291557, 0.049793392419815063, -0.005278368014842272, -0.009689764119684696, -0.05519430339336395, 0.042857855558395386, -0.05758935213088989, 0.06586708128452301, -0.009851881302893162, -0.012245711870491505, 0.044634364545345306, 0.1326916366815567, -0.031476929783821106, 0.08052379637956619, 0.10014388710260391, -0.00961963552981615, -0.013591347262263298, 0.011159492656588554, -0.007990091107785702, -0.05927104502916336, -0.04343755170702934, 0.08437506854534149, -0.12694519758224487, 0.0726262703537941, -0.004441154655069113, 0.004726639483124018, -0.02938123792409897, -0.037808872759342194, -0.05171734467148781, -0.039811812341213226, 0.047077570110559464, 0.04879426211118698, -0.05115775391459465, 0.007728493772447109, 0.02813190035521984, 0.03422596678137779, -0.02981109358370304, 3.1653222854925517e-34, 0.005567803047597408, -0.02661307528614998, 0.05050605908036232, 0.007689650170505047, 0.028159329667687416, -0.05647754669189453, 0.012836286798119545, 0.08786284178495407, -0.047713857144117355, 0.001396311679854989, 0.014511393383145332, -0.015227759256958961, 0.02402285858988762, 0.06269999593496323, -0.020416434854269028, -0.0426894910633564, -0.0642026737332344, -0.0597047433257103, 0.06511163711547852, -0.004142794758081436, 0.10807874798774719, 0.08467046171426773, 0.0012038310524076223, 0.0033175153657794, -0.07098926603794098, -0.05731896683573723, -0.01590670272707939, 0.03367806226015091, 0.0012399926781654358, -0.05100076645612717, 0.13700832426548004, -0.0818435549736023, -0.05317505821585655, 0.02660565823316574, 0.005881329532712698, 0.056305304169654846, -0.016148455440998077, -0.014957712963223457, 0.014278591610491276, -0.046120043843984604, 0.08426591753959656, 0.01195698231458664, 0.013301387429237366, 0.006338645704090595, 0.03131856396794319, 0.03261248394846916, 0.016503624618053436, -0.05996151641011238, 0.04707145318388939, -0.03232419490814209, -0.011320593766868114, -0.028068184852600098, -0.0024584713391959667, 0.0010778354480862617, -0.10295767337083817, -0.08005756139755249, 0.03306840732693672, -0.013549044728279114, -0.0013167883735150099, -0.05324488878250122, 0.10330574959516525, 0.03904940187931061, -0.007164131384342909, 0.02840851992368698, -0.05223047360777855, -0.0393499955534935, -0.01934177614748478, -0.09414052218198776, -0.021762264892458916, 0.07652387768030167, -0.0684761181473732, -0.055119838565588, -0.001033130451105535, -0.040278110653162, -0.03479667752981186, 0.046087924391031265, 0.020476777106523514, 0.058910761028528214, -0.03781678155064583, -0.04971415922045708, 0.0030087551567703485, 0.09147827327251434, 0.0190125759691, -0.033249203115701675, -0.002912067109718919, 0.09029779583215714, -0.010178038850426674, -0.0366128608584404, 0.06524082273244858, 0.04980969801545143, -0.05295832082629204, 0.014675507321953773, -0.0891367718577385, -0.027268100529909134, -0.10306005924940109, -1.5595626123854345e-08, 0.043914102017879486, 0.04135127365589142, 0.02771846018731594, -0.02023228444159031, 0.021188614889979362, -0.04015404358506203, -0.0007551157614216208, -0.004734283313155174, 0.14672747254371643, 0.03890661895275116, -0.008579622954130173, -0.051029033958911896, -0.1175994724035263, -0.04338804632425308, 0.050608087331056595, 0.04232924059033394, 0.06390677392482758, 0.03110531158745289, 0.03885171562433243, -0.07416517287492752, 0.008303971029818058, 0.10014259815216064, -0.005170653108507395, -0.043202564120292664, 0.03017337992787361, 0.03530869632959366, -0.02799702249467373, -0.0193087849766016, 0.007294034585356712, 0.004210862796753645, -0.034632064402103424, -0.022070132195949554, 0.019910207018256187, 0.001688471995294094, 0.0013680498814210296, -0.01616269163787365, 0.00979631394147873, -0.0014553224900737405, -0.01179016474634409, 0.006880864035338163, 0.039915457367897034, -0.07679221034049988, -0.02580968290567398, -0.020198460668325424, 0.028079833835363388, -0.041539452970027924, 0.024579159915447235, -0.12403947114944458, 0.025033747777342796, 0.08522555232048035, -0.059508733451366425, -0.030408944934606552, 0.07035095244646072, -0.056957464665174484, 0.021177316084504128, 0.0406622588634491, -0.0124578308314085, -0.017813727259635925, -0.05411412939429283, 0.014988340437412262, 0.10597289353609085, -0.030310658738017082, 0.05836820602416992, 0.08249900490045547]\n"
     ]
    }
   ],
   "source": [
    "print(embedding1)"
   ]
  },
  {
   "cell_type": "code",
   "execution_count": 26,
   "metadata": {},
   "outputs": [
    {
     "data": {
      "application/vnd.jupyter.widget-view+json": {
       "model_id": "5cb90182df0e41aaae40f4280a5ad724",
       "version_major": 2,
       "version_minor": 0
      },
      "text/plain": [
       "Batches:   0%|          | 0/1 [00:00<?, ?it/s]"
      ]
     },
     "metadata": {},
     "output_type": "display_data"
    }
   ],
   "source": [
    "query2 = \"\"\"- iPhone 15 Pro and Pro Max are the latest models.\n",
    "- Available in Natural, Blue, White, and Black titanium.\n",
    "- A17 Pro chip with 6-core GPU for fast performance.\n",
    "- Pro camera: 48MP Main, 3x or 5x Telephoto, Ultra Wide.\n",
    "- Up to 29 hours of video playback.\n",
    "- ProMotion and Always-On display.\n",
    "- Titanium back with textured matte glass.\n",
    "- USB-C for 20x faster transfers.\n",
    "- Emergency SOS, Crash Detection, Roadside Assistance via satellite.\"\"\"\n",
    "embedding2 = embedding_model.embed_query(query2)"
   ]
  },
  {
   "cell_type": "code",
   "execution_count": 33,
   "metadata": {},
   "outputs": [
    {
     "name": "stdout",
     "output_type": "stream",
     "text": [
      "Cosine similarity: 0.738208049156622\n"
     ]
    }
   ],
   "source": [
    "cosine_similarity = dot(embedding1, embedding2) / (norm(embedding1) * norm(embedding2))\n",
    "print(f\"Cosine similarity: {cosine_similarity}\")"
   ]
  },
  {
   "cell_type": "markdown",
   "metadata": {},
   "source": [
    "## Naive Implementation"
   ]
  },
  {
   "cell_type": "code",
   "execution_count": null,
   "metadata": {},
   "outputs": [],
   "source": []
  },
  {
   "cell_type": "markdown",
   "metadata": {},
   "source": [
    "## Graph Implementation"
   ]
  },
  {
   "cell_type": "code",
   "execution_count": null,
   "metadata": {},
   "outputs": [],
   "source": []
  }
 ],
 "metadata": {
  "kernelspec": {
   "display_name": "llm-powered-ai-agents",
   "language": "python",
   "name": "python3"
  },
  "language_info": {
   "codemirror_mode": {
    "name": "ipython",
    "version": 3
   },
   "file_extension": ".py",
   "mimetype": "text/x-python",
   "name": "python",
   "nbconvert_exporter": "python",
   "pygments_lexer": "ipython3",
   "version": "3.11.9"
  }
 },
 "nbformat": 4,
 "nbformat_minor": 2
}
