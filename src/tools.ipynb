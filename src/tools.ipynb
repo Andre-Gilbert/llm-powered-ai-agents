{
 "cells": [
  {
   "cell_type": "markdown",
   "metadata": {},
   "source": [
    "# Tools\n",
    "\n",
    "LLMs use various tools to achieve specific goals, streamline operations, and automate tasks. These tools include:\n",
    "\n",
    "1. **Data retrieval tools:** Extract information from systems or databases using APIs, SDKs, and real-time metrics.\n",
    "2. **Communication tools:** Facilitate data exchange with external stakeholders via emails, notifications, or alerts.\n",
    "3. **Data manipulation tools:** Update or modify data within systems, often requiring approval to manage operational impacts.\n",
    "\n",
    "Additional tools also exist to handle tasks LLMs struggle with, like performing calculations or accessing current date and time."
   ]
  },
  {
   "cell_type": "code",
   "execution_count": null,
   "metadata": {},
   "outputs": [],
   "source": [
    "from pydantic import BaseModel\n",
    "from language_models.models.llm import OpenAILanguageModel, ChatMessage, ChatMessageRole\n",
    "from language_models.proxy_client import ProxyClient\n",
    "from language_models.settings import settings"
   ]
  },
  {
   "cell_type": "code",
   "execution_count": null,
   "metadata": {},
   "outputs": [],
   "source": [
    "proxy_client = ProxyClient(\n",
    "    client_id=settings.CLIENT_ID,\n",
    "    client_secret=settings.CLIENT_SECRET,\n",
    "    auth_url=settings.AUTH_URL,\n",
    "    api_base=settings.API_BASE,\n",
    ")"
   ]
  },
  {
   "cell_type": "code",
   "execution_count": null,
   "metadata": {},
   "outputs": [],
   "source": [
    "llm = OpenAILanguageModel(\n",
    "    proxy_client=proxy_client,\n",
    "    model=\"gpt-4\",\n",
    "    max_tokens=256,\n",
    "    temperature=0.2,\n",
    ")"
   ]
  },
  {
   "cell_type": "code",
   "execution_count": null,
   "metadata": {},
   "outputs": [],
   "source": [
    "class Tool(BaseModel):\n",
    "\n",
    "    def args(self):\n",
    "        pass\n",
    "\n",
    "\n",
    "    def parse_input(self, tool_input):\n",
    "        pass\n",
    "\n",
    "    def invoke(self, tool_input):\n",
    "        pass\n",
    "\n",
    "    def __str__(self) -> str:\n",
    "        pass"
   ]
  }
 ],
 "metadata": {
  "language_info": {
   "name": "python"
  }
 },
 "nbformat": 4,
 "nbformat_minor": 2
}
