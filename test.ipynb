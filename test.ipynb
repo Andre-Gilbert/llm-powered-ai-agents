{
 "cells": [
  {
   "cell_type": "code",
   "execution_count": 1,
   "metadata": {},
   "outputs": [
    {
     "name": "stdout",
     "output_type": "stream",
     "text": [
      "Result: 11\n"
     ]
    }
   ],
   "source": [
    "import numexpr as ne\n",
    "\n",
    "def calculate_expression_numexpr(expression):\n",
    "    try:\n",
    "        # Evaluate the expression\n",
    "        result = ne.evaluate(expression).item()\n",
    "        return result\n",
    "    except Exception as e:\n",
    "        return f\"Error: {e}\"\n",
    "\n",
    "# Example usage\n",
    "expression = \"2 + 3 * (5 - 2)\"\n",
    "print(\"Result:\", calculate_expression_numexpr(expression))\n"
   ]
  }
 ],
 "metadata": {
  "kernelspec": {
   "display_name": "llm-powered-ai-agents",
   "language": "python",
   "name": "python3"
  },
  "language_info": {
   "codemirror_mode": {
    "name": "ipython",
    "version": 3
   },
   "file_extension": ".py",
   "mimetype": "text/x-python",
   "name": "python",
   "nbconvert_exporter": "python",
   "pygments_lexer": "ipython3",
   "version": "3.12.4"
  }
 },
 "nbformat": 4,
 "nbformat_minor": 2
}
