{
 "cells": [
  {
   "cell_type": "markdown",
   "metadata": {},
   "source": [
    "# LLM-powered AI Agents\n",
    "\n",
    "Table of contents\n",
    "1. Understanding LLMs\n",
    "2. Tools\n",
    "3. Chat-based AI Agents\n",
    "4. Service-based AI agents"
   ]
  },
  {
   "cell_type": "code",
   "execution_count": 1,
   "metadata": {},
   "outputs": [],
   "source": [
    "from language_models.proxy_client import BTPProxyClient\n",
    "from language_models.settings import settings\n",
    "\n",
    "proxy_client = BTPProxyClient(\n",
    "    client_id=settings.CLIENT_ID,\n",
    "    client_secret=settings.CLIENT_SECRET,\n",
    "    auth_url=settings.AUTH_URL,\n",
    "    api_base=settings.API_BASE,\n",
    ")"
   ]
  },
  {
   "cell_type": "markdown",
   "metadata": {},
   "source": [
    "## 1. Understanding LLMs"
   ]
  },
  {
   "cell_type": "code",
   "execution_count": 2,
   "metadata": {},
   "outputs": [],
   "source": [
    "from language_models.models.llm import OpenAILanguageModel, ChatMessage, ChatMessageRole"
   ]
  },
  {
   "cell_type": "code",
   "execution_count": 3,
   "metadata": {},
   "outputs": [],
   "source": [
    "llm = OpenAILanguageModel(\n",
    "    proxy_client=proxy_client,\n",
    "    model=\"gpt-35-turbo\",\n",
    "    max_tokens=256,\n",
    "    temperature=0.0,\n",
    ")"
   ]
  },
  {
   "cell_type": "code",
   "execution_count": 4,
   "metadata": {},
   "outputs": [
    {
     "name": "stdout",
     "output_type": "stream",
     "text": [
      "Sentiment: Positive\n"
     ]
    }
   ],
   "source": [
    "prompt = \"\"\"Take the following movie review and determine the sentiment of the review.\n",
    "\n",
    "Movie review:\n",
    "Wow! This movie was incredible. The acting was superb, and\n",
    "the plot kept me on the edge of my seat. I highly recommend it!\n",
    "\"\"\"\n",
    "\n",
    "response = llm.get_completion([ChatMessage(role=ChatMessageRole.USER, content=prompt)])\n",
    "print(response)"
   ]
  },
  {
   "cell_type": "code",
   "execution_count": 5,
   "metadata": {},
   "outputs": [
    {
     "name": "stdout",
     "output_type": "stream",
     "text": [
      "positive\n"
     ]
    }
   ],
   "source": [
    "prompt = \"\"\"Take the following movie review and determine the sentiment of the review.\n",
    "\n",
    "Movie review:\n",
    "Wow! This movie was incredible. The acting was superb, and\n",
    "the plot kept me on the edge of my seat. I highly recommend it!\n",
    "\n",
    "Respond with positive or negative.\n",
    "\"\"\"\n",
    "\n",
    "response = llm.get_completion([ChatMessage(role=ChatMessageRole.USER, content=prompt)])\n",
    "print(response)"
   ]
  },
  {
   "cell_type": "code",
   "execution_count": 6,
   "metadata": {},
   "outputs": [
    {
     "name": "stdout",
     "output_type": "stream",
     "text": [
      "1\n"
     ]
    }
   ],
   "source": [
    "system_prompt = \"Take the following movie review and determine the sentiment of the review. Respond with 1 (positive) or 0 (negative).\"\n",
    "\n",
    "prompt = \"Wow! This movie was incredible. The acting was superb, and the plot kept me on the edge of my seat. I highly recommend it!\"\n",
    "\n",
    "response = llm.get_completion([\n",
    "    ChatMessage(role=ChatMessageRole.SYSTEM, content=system_prompt), \n",
    "    ChatMessage(role=ChatMessageRole.USER, content=prompt),\n",
    "])\n",
    "print(response)"
   ]
  },
  {
   "cell_type": "code",
   "execution_count": 7,
   "metadata": {},
   "outputs": [
    {
     "name": "stdout",
     "output_type": "stream",
     "text": [
      "I'm sorry, I am an AI language model and I do not have access to real-time weather information. I recommend checking a reliable weather website or using a weather app to get the most accurate and up-to-date forecast for Seattle.\n"
     ]
    }
   ],
   "source": [
    "system_prompt = \"Take the following movie review determine the sentiment of the review. Respond with 1 (positive) or 0 (negative).\"\n",
    "\n",
    "prompt = \"Will it rain in Seattle today?\"\n",
    "\n",
    "response = llm.get_completion([\n",
    "    ChatMessage(role=ChatMessageRole.SYSTEM, content=system_prompt), \n",
    "    ChatMessage(role=ChatMessageRole.USER, content=prompt),\n",
    "])\n",
    "print(response)"
   ]
  },
  {
   "cell_type": "code",
   "execution_count": 8,
   "metadata": {},
   "outputs": [
    {
     "name": "stdout",
     "output_type": "stream",
     "text": [
      "-1\n"
     ]
    }
   ],
   "source": [
    "system_prompt = \"\"\"Take the following movie review and determine the sentiment of the review. \n",
    "\n",
    "Respond with 1 (positive) or 0 (negative).\n",
    "\n",
    "If you don't receive a movie review, respond with -1.\n",
    "\"\"\"\n",
    "\n",
    "prompt = \"Will it rain in Seattle today?\"\n",
    "\n",
    "response = llm.get_completion([\n",
    "    ChatMessage(role=ChatMessageRole.SYSTEM, content=system_prompt), \n",
    "    ChatMessage(role=ChatMessageRole.USER, content=prompt),\n",
    "])\n",
    "print(response)"
   ]
  },
  {
   "cell_type": "markdown",
   "metadata": {},
   "source": [
    "## 2. Tools"
   ]
  },
  {
   "cell_type": "code",
   "execution_count": 9,
   "metadata": {},
   "outputs": [],
   "source": [
    "import json\n",
    "from language_models.tools.tool import Tool\n",
    "from pydantic import BaseModel, Field\n",
    "from typing import Any"
   ]
  },
  {
   "cell_type": "code",
   "execution_count": 10,
   "metadata": {},
   "outputs": [
    {
     "name": "stdout",
     "output_type": "stream",
     "text": [
      "Total Raw Cost = $1,290.98\n"
     ]
    }
   ],
   "source": [
    "prompt = \"Total Raw Cost = $549.72 + $6.98 + $41.00 + $35.00 + $552.00 + $76.16 + $29.12\" # answer: $1,289.98\n",
    "\n",
    "response = llm.get_completion([ChatMessage(role=ChatMessageRole.USER, content=prompt)])\n",
    "print(response)"
   ]
  },
  {
   "cell_type": "code",
   "execution_count": 11,
   "metadata": {},
   "outputs": [
    {
     "name": "stdout",
     "output_type": "stream",
     "text": [
      "tool name: Calculator, tool description: Use this tool when you want to do calculations., tool input: {{'expression': {{'description': 'A math expression.', 'title': 'Expression', 'type': 'string'}}}}\n"
     ]
    }
   ],
   "source": [
    "def calculator(expression: str) -> Any:\n",
    "    return eval(expression)\n",
    "\n",
    "class Calculator(BaseModel):\n",
    "    expression: str = Field(description=\"A math expression.\")\n",
    "\n",
    "calculator_tool = Tool(\n",
    "    func=calculator,\n",
    "    name=\"Calculator\",\n",
    "    description=\"Use this tool when you want to do calculations.\",\n",
    "    args_schema=Calculator\n",
    ")\n",
    "print(calculator_tool)"
   ]
  },
  {
   "cell_type": "code",
   "execution_count": 12,
   "metadata": {},
   "outputs": [
    {
     "name": "stdout",
     "output_type": "stream",
     "text": [
      "{\n",
      "    \"thought\": \"To calculate the total raw cost, you need to add up all the individual costs.\",\n",
      "    \"tool\": \"Calculator\",\n",
      "    \"tool_input\": {\n",
      "        \"expression\": \"549.72 + 6.98 + 41.00 + 35.00 + 552.00 + 76.16 + 29.12\"\n",
      "    }\n",
      "}\n"
     ]
    }
   ],
   "source": [
    "system_prompt = f\"\"\"Take the following prompt and calculate the result.\n",
    "\n",
    "Respond to the user as helpfully and accurately as possible. You have access to the following tools:\n",
    "{calculator_tool}\n",
    "\n",
    "Use a json blob to specify a tool by providing an action (tool name) and an action_input (tool input).\n",
    "\n",
    "Always use the following JSON response format:\n",
    "{{\n",
    "    \"thought\": You should always think about what to do consider previous and subsequent steps,\n",
    "    \"tool\": The tool to use,\n",
    "    \"tool_input\": A valid dictionary in this format {{\"<key>\": <value>, ...}},\n",
    "}}\n",
    "\"\"\"\n",
    "\n",
    "prompt = \"Total Raw Cost = $549.72 + $6.98 + $41.00 + $35.00 + $552.00 + $76.16 + $29.12\"\n",
    "\n",
    "response = llm.get_completion([\n",
    "    ChatMessage(role=ChatMessageRole.SYSTEM, content=system_prompt), \n",
    "    ChatMessage(role=ChatMessageRole.USER, content=prompt),\n",
    "])\n",
    "response = json.loads(response, strict=False)\n",
    "print(json.dumps(response, indent=4))"
   ]
  },
  {
   "cell_type": "code",
   "execution_count": 13,
   "metadata": {},
   "outputs": [
    {
     "name": "stdout",
     "output_type": "stream",
     "text": [
      "1289.98\n"
     ]
    }
   ],
   "source": [
    "print(calculator(**response[\"tool_input\"]))"
   ]
  },
  {
   "cell_type": "code",
   "execution_count": 14,
   "metadata": {},
   "outputs": [
    {
     "name": "stdout",
     "output_type": "stream",
     "text": [
      "{\n",
      "    \"thought\": \"I know the final answer\",\n",
      "    \"tool\": \"Final Answer\",\n",
      "    \"tool_input\": 1289.98\n",
      "}\n"
     ]
    }
   ],
   "source": [
    "system_prompt = f\"\"\"Take the following prompt and calculate the result.\n",
    "\n",
    "Respond to the user as helpfully and accurately as possible. You have access to the following tools:\n",
    "{calculator_tool}\n",
    "\n",
    "Use a json blob to specify a tool by providing an action (tool name) and an action_input (tool input).\n",
    "\n",
    "Always use the following JSON response format:\n",
    "{{\n",
    "    \"thought\": You should always think about what to do consider previous and subsequent steps,\n",
    "    \"tool\": The tool to use,\n",
    "    \"tool_input\": A valid dictionary in this format {{\"<key>\": <value>, ...}},\n",
    "}}\n",
    "... (this Thought/Action/Observation can repeat N times)\n",
    "When you know the final answer, use the following JSON response format:\n",
    "{{\n",
    "    \"thought\": I know the final answer,\n",
    "    \"tool\": Final Answer,\n",
    "    \"tool_input\": The final answer to the question,\n",
    "}}\n",
    "\"\"\"\n",
    "\n",
    "prompt = \"Total Raw Cost = $549.72 + $6.98 + $41.00 + $35.00 + $552.00 + $76.16 + $29.12\"\n",
    "\n",
    "response = llm.get_completion([\n",
    "    ChatMessage(role=ChatMessageRole.SYSTEM, content=system_prompt), \n",
    "    ChatMessage(role=ChatMessageRole.USER, content=prompt),\n",
    "    ChatMessage(role=ChatMessageRole.ASSISTANT, content=json.dumps(response)),\n",
    "    ChatMessage(role=ChatMessageRole.ASSISTANT, content=f\"Response of Calculator tool: {calculator(**response['tool_input'])}\"),\n",
    "])\n",
    "response = json.loads(response, strict=False)\n",
    "print(json.dumps(response, indent=4))"
   ]
  },
  {
   "cell_type": "markdown",
   "metadata": {},
   "source": [
    "## 3. Chat-based AI Agents"
   ]
  },
  {
   "cell_type": "code",
   "execution_count": 15,
   "metadata": {},
   "outputs": [],
   "source": [
    "from language_models.agents.react import ReActAgent\n",
    "from language_models.tools.earthquake import earthquake_tools\n",
    "from language_models.tools.current_date import current_date_tool"
   ]
  },
  {
   "cell_type": "markdown",
   "metadata": {},
   "source": [
    "### Earthquake"
   ]
  },
  {
   "cell_type": "code",
   "execution_count": 16,
   "metadata": {},
   "outputs": [],
   "source": [
    "system_prompt = \"\"\"You are an United States Geological Survey expert who can answer questions regarding earthquakes and can run forecasts.\n",
    "\n",
    "Use the current date tool to access the local date and time before using other tools.\n",
    "\n",
    "Take the following question and answer it as accurately as possible.\n",
    "\"\"\"\n",
    "\n",
    "llm = OpenAILanguageModel(\n",
    "    proxy_client=proxy_client,\n",
    "    model='gpt-4-32k',\n",
    "    max_tokens=1024,\n",
    "    float=0.0,\n",
    ")\n",
    "\n",
    "class Output(BaseModel):\n",
    "    content: str = Field(description=\"The final answer.\")\n",
    "\n",
    "earthquake_agent = ReActAgent.create(\n",
    "    llm=llm,\n",
    "    system_prompt=system_prompt,\n",
    "    task_prompt=\"{question}\",\n",
    "    task_prompt_variables=[\"question\"],\n",
    "    tools=earthquake_tools + [current_date_tool],\n",
    "    output_format=Output,\n",
    "    iterations=5,\n",
    ")"
   ]
  },
  {
   "cell_type": "code",
   "execution_count": 17,
   "metadata": {},
   "outputs": [
    {
     "name": "stderr",
     "output_type": "stream",
     "text": [
      "04/05/24 09:12:24 INFO Thought: First, I need to get the current date to calculate the start date for the past week.\n",
      "04/05/24 09:12:24 INFO Tool: Current Date\n",
      "04/05/24 09:12:24 INFO Tool input: {}\n",
      "04/05/24 09:12:24 INFO Tool response: 2024-05-04 09:12:24.030399\n",
      "04/05/24 09:12:28 INFO Thought: Now that I have the current date, I can calculate the start date for the past week. Then, I will use the 'Count' tool to find out how many earthquakes with a magnitude of 5 or greater have occurred during this period.\n",
      "04/05/24 09:12:28 INFO Tool: Count\n",
      "04/05/24 09:12:28 INFO Tool input: {'start_time': '2024-04-27T09:12:24.030399', 'min_magnitude': 5}\n",
      "04/05/24 09:12:28 INFO Tool response: {'count': 28, 'maxAllowed': 20000}\n",
      "04/05/24 09:12:32 INFO Thought: I now know the final answer\n",
      "04/05/24 09:12:32 INFO Tool: Final Answer\n",
      "04/05/24 09:12:32 INFO Tool input: {'content': 'There have been 28 earthquakes with a magnitude of 5 or greater in the past week.'}\n"
     ]
    }
   ],
   "source": [
    "response = earthquake_agent.invoke({\"question\": \"How many earthquakes have occurred for the past week with a magnitude of 5 or greater?\"})"
   ]
  },
  {
   "cell_type": "code",
   "execution_count": 18,
   "metadata": {},
   "outputs": [
    {
     "name": "stdout",
     "output_type": "stream",
     "text": [
      "There have been 28 earthquakes with a magnitude of 5 or greater in the past week.\n"
     ]
    }
   ],
   "source": [
    "print(response.final_answer[\"content\"])"
   ]
  },
  {
   "cell_type": "code",
   "execution_count": 19,
   "metadata": {},
   "outputs": [
    {
     "name": "stderr",
     "output_type": "stream",
     "text": [
      "04/05/24 09:12:48 INFO Thought: To answer the user's question, I need to query the earthquakes that occurred yesterday with a magnitude greater than 3. I will use the 'Query' tool for this. I will set the 'start_time' to the date of yesterday, 'end_time' to the date of today, 'min_magnitude' to 3, and 'limit' to 10.\n",
      "04/05/24 09:12:48 INFO Tool: Query\n",
      "04/05/24 09:12:48 INFO Tool input: {'start_time': '2024-05-03T00:00:00', 'end_time': '2024-05-04T00:00:00', 'min_magnitude': 3, 'limit': 10}\n",
      "04/05/24 09:12:48 INFO Tool response: {'type': 'FeatureCollection', 'metadata': {'generated': 1714806768000, 'url': 'https://earthquake.usgs.gov/fdsnws/event/1/query?format=geojson&starttime=2024-05-03T00%3A00%3A00&endtime=2024-05-04T00%3A00%3A00&limit=10&mindepth=-100&maxdepth=1000&minmagnitude=3', 'title': 'USGS Earthquakes', 'status': 200, 'api': '1.14.1', 'limit': 10, 'offset': 1, 'count': 10}, 'features': [{'type': 'Feature', 'properties': {'mag': 5.1, 'place': '153 km WNW of Panguna, Papua New Guinea', 'time': 1714776461160, 'updated': 1714777889040, 'tz': None, 'url': 'https://earthquake.usgs.gov/earthquakes/eventpage/us6000mw86', 'detail': 'https://earthquake.usgs.gov/fdsnws/event/1/query?eventid=us6000mw86&format=geojson', 'felt': None, 'cdi': None, 'mmi': None, 'alert': None, 'status': 'reviewed', 'tsunami': 0, 'sig': 400, 'net': 'us', 'code': '6000mw86', 'ids': ',usauto6000mw86,us6000mw86,', 'sources': ',usauto,us,', 'types': ',internal-moment-tensor,moment-tensor,origin,phase-data,', 'nst': 91, 'dmin': 7.969, 'rms': 0.6, 'gap': 35, 'magType': 'mww', 'type': 'earthquake', 'title': 'M 5.1 - 153 km WNW of Panguna, Papua New Guinea'}, 'geometry': {'type': 'Point', 'coordinates': [154.2637, -5.6507, 171.926]}, 'id': 'us6000mw86'}, {'type': 'Feature', 'properties': {'mag': 3.43, 'place': '27 km NNW of Charlotte Amalie, U.S. Virgin Islands', 'time': 1714771124880, 'updated': 1714776010060, 'tz': None, 'url': 'https://earthquake.usgs.gov/earthquakes/eventpage/pr71447623', 'detail': 'https://earthquake.usgs.gov/fdsnws/event/1/query?eventid=pr71447623&format=geojson', 'felt': 1, 'cdi': 2.2, 'mmi': None, 'alert': None, 'status': 'reviewed', 'tsunami': 0, 'sig': 181, 'net': 'pr', 'code': '71447623', 'ids': ',pr71447623,us6000mw7t,', 'sources': ',pr,us,', 'types': ',dyfi,origin,phase-data,', 'nst': 21, 'dmin': 0.2279, 'rms': 0.47, 'gap': 202, 'magType': 'md', 'type': 'earthquake', 'title': 'M 3.4 - 27 km NNW of Charlotte Amalie, U.S. Virgin Islands'}, 'geometry': {'type': 'Point', 'coordinates': [-65.0348333333333, 18.569, 19.48]}, 'id': 'pr71447623'}, {'type': 'Feature', 'properties': {'mag': 3.2, 'place': '61 km S of Whites City, New Mexico', 'time': 1714767108115, 'updated': 1714774728496, 'tz': None, 'url': 'https://earthquake.usgs.gov/earthquakes/eventpage/tx2024isgw', 'detail': 'https://earthquake.usgs.gov/fdsnws/event/1/query?eventid=tx2024isgw&format=geojson', 'felt': None, 'cdi': None, 'mmi': 3.915, 'alert': None, 'status': 'reviewed', 'tsunami': 0, 'sig': 158, 'net': 'tx', 'code': '2024isgw', 'ids': ',us6000mw79,tx2024isgw,', 'sources': ',us,tx,', 'types': ',origin,phase-data,shakemap,', 'nst': 15, 'dmin': 0.1, 'rms': 0.2, 'gap': 80, 'magType': 'ml', 'type': 'earthquake', 'title': 'M 3.2 - 61 km S of Whites City, New Mexico'}, 'geometry': {'type': 'Point', 'coordinates': [-104.375, 31.625, 6.0999]}, 'id': 'tx2024isgw'}, {'type': 'Feature', 'properties': {'mag': 3.34, 'place': '5 km SSE of Maria Antonia, Puerto Rico', 'time': 1714766433760, 'updated': 1714771510800, 'tz': None, 'url': 'https://earthquake.usgs.gov/earthquakes/eventpage/pr71447608', 'detail': 'https://earthquake.usgs.gov/fdsnws/event/1/query?eventid=pr71447608&format=geojson', 'felt': None, 'cdi': None, 'mmi': None, 'alert': None, 'status': 'reviewed', 'tsunami': 0, 'sig': 172, 'net': 'pr', 'code': '71447608', 'ids': ',pr71447608,', 'sources': ',pr,', 'types': ',origin,phase-data,', 'nst': 11, 'dmin': 0.3253, 'rms': 0.18, 'gap': 286, 'magType': 'md', 'type': 'earthquake', 'title': 'M 3.3 - 5 km SSE of Maria Antonia, Puerto Rico'}, 'geometry': {'type': 'Point', 'coordinates': [-66.8653333333333, 17.9293333333333, 3.01]}, 'id': 'pr71447608'}, {'type': 'Feature', 'properties': {'mag': 4.2, 'place': '5 km NNW of Camiña, Chile', 'time': 1714761827522, 'updated': 1714774109040, 'tz': None, 'url': 'https://earthquake.usgs.gov/earthquakes/eventpage/us6000mw6i', 'detail': 'https://earthquake.usgs.gov/fdsnws/event/1/query?eventid=us6000mw6i&format=geojson', 'felt': None, 'cdi': None, 'mmi': None, 'alert': None, 'status': 'reviewed', 'tsunami': 0, 'sig': 271, 'net': 'us', 'code': '6000mw6i', 'ids': ',us6000mw6i,', 'sources': ',us,', 'types': ',origin,phase-data,', 'nst': 20, 'dmin': 0.464, 'rms': 0.79, 'gap': 103, 'magType': 'mb', 'type': 'earthquake', 'title': 'M 4.2 - 5 km NNW of Camiña, Chile'}, 'geometry': {'type': 'Point', 'coordinates': [-69.4406, -19.2644, 127.619]}, 'id': 'us6000mw6i'}, {'type': 'Feature', 'properties': {'mag': 5.1, 'place': 'South Sandwich Islands region', 'time': 1714758545848, 'updated': 1714759722040, 'tz': None, 'url': 'https://earthquake.usgs.gov/earthquakes/eventpage/us6000mw61', 'detail': 'https://earthquake.usgs.gov/fdsnws/event/1/query?eventid=us6000mw61&format=geojson', 'felt': None, 'cdi': None, 'mmi': None, 'alert': None, 'status': 'reviewed', 'tsunami': 0, 'sig': 400, 'net': 'us', 'code': '6000mw61', 'ids': ',us6000mw61,', 'sources': ',us,', 'types': ',origin,phase-data,', 'nst': 88, 'dmin': 5.716, 'rms': 0.61, 'gap': 42, 'magType': 'mb', 'type': 'earthquake', 'title': 'M 5.1 - South Sandwich Islands region'}, 'geometry': {'type': 'Point', 'coordinates': [-26.8148, -55.5098, 10]}, 'id': 'us6000mw61'}, {'type': 'Feature', 'properties': {'mag': 4.6, 'place': '58 km N of Claveria, Philippines', 'time': 1714750798521, 'updated': 1714760750040, 'tz': None, 'url': 'https://earthquake.usgs.gov/earthquakes/eventpage/us6000mw1d', 'detail': 'https://earthquake.usgs.gov/fdsnws/event/1/query?eventid=us6000mw1d&format=geojson', 'felt': None, 'cdi': None, 'mmi': None, 'alert': None, 'status': 'reviewed', 'tsunami': 0, 'sig': 326, 'net': 'us', 'code': '6000mw1d', 'ids': ',us6000mw1d,', 'sources': ',us,', 'types': ',origin,phase-data,', 'nst': 33, 'dmin': 3.661, 'rms': 0.78, 'gap': 123, 'magType': 'mb', 'type': 'earthquake', 'title': 'M 4.6 - 58 km N of Claveria, Philippines'}, 'geometry': {'type': 'Point', 'coordinates': [121.0736, 19.1384, 8.093]}, 'id': 'us6000mw1d'}, {'type': 'Feature', 'properties': {'mag': 3, 'place': '60 km NE of Teller, Alaska', 'time': 1714743783809, 'updated': 1714753011040, 'tz': None, 'url': 'https://earthquake.usgs.gov/earthquakes/eventpage/us6000mvzs', 'detail': 'https://earthquake.usgs.gov/fdsnws/event/1/query?eventid=us6000mvzs&format=geojson', 'felt': None, 'cdi': None, 'mmi': None, 'alert': None, 'status': 'reviewed', 'tsunami': 0, 'sig': 138, 'net': 'us', 'code': '6000mvzs', 'ids': ',us6000mvzs,', 'sources': ',us,', 'types': ',origin,phase-data,', 'nst': 21, 'dmin': 0.303, 'rms': 0.94, 'gap': 120, 'magType': 'ml', 'type': 'earthquake', 'title': 'M 3.0 - 60 km NE of Teller, Alaska'}, 'geometry': {'type': 'Point', 'coordinates': [-165.3326, 65.601, 3.978]}, 'id': 'us6000mvzs'}, {'type': 'Feature', 'properties': {'mag': 3.37, 'place': '32 km N of San Antonio, Puerto Rico', 'time': 1714735580110, 'updated': 1714736923810, 'tz': None, 'url': 'https://earthquake.usgs.gov/earthquakes/eventpage/pr71447568', 'detail': 'https://earthquake.usgs.gov/fdsnws/event/1/query?eventid=pr71447568&format=geojson', 'felt': None, 'cdi': None, 'mmi': None, 'alert': None, 'status': 'reviewed', 'tsunami': 0, 'sig': 175, 'net': 'pr', 'code': '71447568', 'ids': ',pr71447568,', 'sources': ',pr,', 'types': ',origin,phase-data,', 'nst': 14, 'dmin': 0.3177, 'rms': 0.3, 'gap': 292, 'magType': 'md', 'type': 'earthquake', 'title': 'M 3.4 - 32 km N of San Antonio, Puerto Rico'}, 'geometry': {'type': 'Point', 'coordinates': [-67.1051666666667, 18.7868333333333, 7.84]}, 'id': 'pr71447568'}, {'type': 'Feature', 'properties': {'mag': 4.8, 'place': 'South Sandwich Islands region', 'time': 1714735228894, 'updated': 1714738681040, 'tz': None, 'url': 'https://earthquake.usgs.gov/earthquakes/eventpage/us6000mvz9', 'detail': 'https://earthquake.usgs.gov/fdsnws/event/1/query?eventid=us6000mvz9&format=geojson', 'felt': None, 'cdi': None, 'mmi': None, 'alert': None, 'status': 'reviewed', 'tsunami': 0, 'sig': 354, 'net': 'us', 'code': '6000mvz9', 'ids': ',us6000mvz9,', 'sources': ',us,', 'types': ',origin,phase-data,', 'nst': 23, 'dmin': 5.267, 'rms': 0.4, 'gap': 109, 'magType': 'mb', 'type': 'earthquake', 'title': 'M 4.8 - South Sandwich Islands region'}, 'geometry': {'type': 'Point', 'coordinates': [-27.7438, -55.8594, 113.892]}, 'id': 'us6000mvz9'}], 'bbox': [-165.3326, -55.8594, 3.01, 154.2637, 65.601, 171.926]}\n",
      "04/05/24 09:13:06 INFO Thought: I now know the final answer\n",
      "04/05/24 09:13:06 INFO Tool: Final Answer\n",
      "04/05/24 09:13:06 INFO Tool input: {'content': 'Here are 10 earthquakes that occurred yesterday with a magnitude greater than 3:\\n\\n1. [M 5.1 - 153 km WNW of Panguna, Papua New Guinea](https://earthquake.usgs.gov/earthquakes/eventpage/us6000mw86)\\n2. [M 3.4 - 27 km NNW of Charlotte Amalie, U.S. Virgin Islands](https://earthquake.usgs.gov/earthquakes/eventpage/pr71447623)\\n3. [M 3.2 - 61 km S of Whites City, New Mexico](https://earthquake.usgs.gov/earthquakes/eventpage/tx2024isgw)\\n4. [M 3.3 - 5 km SSE of Maria Antonia, Puerto Rico](https://earthquake.usgs.gov/earthquakes/eventpage/pr71447608)\\n5. [M 4.2 - 5 km NNW of Camiña, Chile](https://earthquake.usgs.gov/earthquakes/eventpage/us6000mw6i)\\n6. [M 5.1 - South Sandwich Islands region](https://earthquake.usgs.gov/earthquakes/eventpage/us6000mw61)\\n7. [M 4.6 - 58 km N of Claveria, Philippines](https://earthquake.usgs.gov/earthquakes/eventpage/us6000mw1d)\\n8. [M 3.0 - 60 km NE of Teller, Alaska](https://earthquake.usgs.gov/earthquakes/eventpage/us6000mvzs)\\n9. [M 3.4 - 32 km N of San Antonio, Puerto Rico](https://earthquake.usgs.gov/earthquakes/eventpage/pr71447568)\\n10. [M 4.8 - South Sandwich Islands region](https://earthquake.usgs.gov/earthquakes/eventpage/us6000mvz9)'}\n"
     ]
    }
   ],
   "source": [
    "response = earthquake_agent.invoke({\"question\": \"Query 10 earthquakes that occurred yesterday and have a magnitude > 3.\"})"
   ]
  },
  {
   "cell_type": "code",
   "execution_count": 20,
   "metadata": {},
   "outputs": [
    {
     "name": "stdout",
     "output_type": "stream",
     "text": [
      "Here are 10 earthquakes that occurred yesterday with a magnitude greater than 3:\n",
      "\n",
      "1. [M 5.1 - 153 km WNW of Panguna, Papua New Guinea](https://earthquake.usgs.gov/earthquakes/eventpage/us6000mw86)\n",
      "2. [M 3.4 - 27 km NNW of Charlotte Amalie, U.S. Virgin Islands](https://earthquake.usgs.gov/earthquakes/eventpage/pr71447623)\n",
      "3. [M 3.2 - 61 km S of Whites City, New Mexico](https://earthquake.usgs.gov/earthquakes/eventpage/tx2024isgw)\n",
      "4. [M 3.3 - 5 km SSE of Maria Antonia, Puerto Rico](https://earthquake.usgs.gov/earthquakes/eventpage/pr71447608)\n",
      "5. [M 4.2 - 5 km NNW of Camiña, Chile](https://earthquake.usgs.gov/earthquakes/eventpage/us6000mw6i)\n",
      "6. [M 5.1 - South Sandwich Islands region](https://earthquake.usgs.gov/earthquakes/eventpage/us6000mw61)\n",
      "7. [M 4.6 - 58 km N of Claveria, Philippines](https://earthquake.usgs.gov/earthquakes/eventpage/us6000mw1d)\n",
      "8. [M 3.0 - 60 km NE of Teller, Alaska](https://earthquake.usgs.gov/earthquakes/eventpage/us6000mvzs)\n",
      "9. [M 3.4 - 32 km N of San Antonio, Puerto Rico](https://earthquake.usgs.gov/earthquakes/eventpage/pr71447568)\n",
      "10. [M 4.8 - South Sandwich Islands region](https://earthquake.usgs.gov/earthquakes/eventpage/us6000mvz9)\n"
     ]
    }
   ],
   "source": [
    "print(response.final_answer[\"content\"])"
   ]
  },
  {
   "cell_type": "code",
   "execution_count": 21,
   "metadata": {},
   "outputs": [
    {
     "name": "stderr",
     "output_type": "stream",
     "text": [
      "04/05/24 09:13:18 INFO Thought: The magnitude of an earthquake is related to the area of the fault on which it occurs - the larger the fault area, the larger the earthquake. Theoretically, there is no limit to the magnitude of an earthquake, but in practice, the size of earthquakes is limited by the size of the fault. The largest earthquake ever recorded was a magnitude 9.5 in Chile in 1960. A magnitude 10 earthquake would require a fault that is 1000 km long and 150 km wide, which does not exist on Earth. Therefore, a magnitude 10 or larger earthquake is not considered possible.\n",
      "04/05/24 09:13:18 INFO Tool: Final Answer\n",
      "04/05/24 09:13:18 INFO Tool input: {'content': 'The magnitude of an earthquake is related to the area of the fault on which it occurs - the larger the fault area, the larger the earthquake. Theoretically, there is no limit to the magnitude of an earthquake, but in practice, the size of earthquakes is limited by the size of the fault. The largest earthquake ever recorded was a magnitude 9.5 in Chile in 1960. A magnitude 10 earthquake would require a fault that is 1000 km long and 150 km wide, which does not exist on Earth. Therefore, a magnitude 10 or larger earthquake is not considered possible.'}\n"
     ]
    }
   ],
   "source": [
    "response = earthquake_agent.invoke({\"question\": \"Can MegaQuakes really happen? Like a magnitude 10 or larger?\"})"
   ]
  },
  {
   "cell_type": "code",
   "execution_count": 22,
   "metadata": {},
   "outputs": [
    {
     "name": "stdout",
     "output_type": "stream",
     "text": [
      "The magnitude of an earthquake is related to the area of the fault on which it occurs - the larger the fault area, the larger the earthquake. Theoretically, there is no limit to the magnitude of an earthquake, but in practice, the size of earthquakes is limited by the size of the fault. The largest earthquake ever recorded was a magnitude 9.5 in Chile in 1960. A magnitude 10 earthquake would require a fault that is 1000 km long and 150 km wide, which does not exist on Earth. Therefore, a magnitude 10 or larger earthquake is not considered possible.\n"
     ]
    }
   ],
   "source": [
    "print(response.final_answer[\"content\"])"
   ]
  },
  {
   "cell_type": "markdown",
   "metadata": {},
   "source": [
    "## 4. Service-based AI Agents"
   ]
  },
  {
   "cell_type": "code",
   "execution_count": 73,
   "metadata": {},
   "outputs": [],
   "source": [
    "import pandas as pd\n",
    "from sklearn.metrics import accuracy_score\n",
    "from language_models.agents.chain import AgentChain"
   ]
  },
  {
   "cell_type": "markdown",
   "metadata": {},
   "source": [
    "### Sentiment Analysis"
   ]
  },
  {
   "cell_type": "code",
   "execution_count": 74,
   "metadata": {},
   "outputs": [
    {
     "data": {
      "text/html": [
       "<div>\n",
       "<style scoped>\n",
       "    .dataframe tbody tr th:only-of-type {\n",
       "        vertical-align: middle;\n",
       "    }\n",
       "\n",
       "    .dataframe tbody tr th {\n",
       "        vertical-align: top;\n",
       "    }\n",
       "\n",
       "    .dataframe thead th {\n",
       "        text-align: right;\n",
       "    }\n",
       "</style>\n",
       "<table border=\"1\" class=\"dataframe\">\n",
       "  <thead>\n",
       "    <tr style=\"text-align: right;\">\n",
       "      <th></th>\n",
       "      <th>sentiment</th>\n",
       "      <th>id</th>\n",
       "      <th>date</th>\n",
       "      <th>query</th>\n",
       "      <th>user</th>\n",
       "      <th>tweet</th>\n",
       "    </tr>\n",
       "  </thead>\n",
       "  <tbody>\n",
       "    <tr>\n",
       "      <th>205552</th>\n",
       "      <td>0</td>\n",
       "      <td>1972907325</td>\n",
       "      <td>Sat May 30 10:06:39 PDT 2009</td>\n",
       "      <td>NO_QUERY</td>\n",
       "      <td>rodsterace</td>\n",
       "      <td>is late for his dentist appt. They said it was...</td>\n",
       "    </tr>\n",
       "    <tr>\n",
       "      <th>1374667</th>\n",
       "      <td>4</td>\n",
       "      <td>2051470995</td>\n",
       "      <td>Fri Jun 05 22:06:33 PDT 2009</td>\n",
       "      <td>NO_QUERY</td>\n",
       "      <td>tweeteradder1</td>\n",
       "      <td>@karl09 Get 100 followers a day using www.twee...</td>\n",
       "    </tr>\n",
       "    <tr>\n",
       "      <th>1185751</th>\n",
       "      <td>4</td>\n",
       "      <td>1982834475</td>\n",
       "      <td>Sun May 31 11:59:49 PDT 2009</td>\n",
       "      <td>NO_QUERY</td>\n",
       "      <td>spunky2778</td>\n",
       "      <td>@cgoodale oh but u can.the sounds of the ocean...</td>\n",
       "    </tr>\n",
       "    <tr>\n",
       "      <th>640850</th>\n",
       "      <td>0</td>\n",
       "      <td>2235095141</td>\n",
       "      <td>Fri Jun 19 00:24:58 PDT 2009</td>\n",
       "      <td>NO_QUERY</td>\n",
       "      <td>mikedestef</td>\n",
       "      <td>Whyyy are drums so expensiiive?  Anyone wanna ...</td>\n",
       "    </tr>\n",
       "    <tr>\n",
       "      <th>181966</th>\n",
       "      <td>0</td>\n",
       "      <td>1967021166</td>\n",
       "      <td>Fri May 29 18:49:47 PDT 2009</td>\n",
       "      <td>NO_QUERY</td>\n",
       "      <td>becca2anne0</td>\n",
       "      <td># number times I bottomed out just in our driv...</td>\n",
       "    </tr>\n",
       "  </tbody>\n",
       "</table>\n",
       "</div>"
      ],
      "text/plain": [
       "         sentiment          id                          date     query  \\\n",
       "205552           0  1972907325  Sat May 30 10:06:39 PDT 2009  NO_QUERY   \n",
       "1374667          4  2051470995  Fri Jun 05 22:06:33 PDT 2009  NO_QUERY   \n",
       "1185751          4  1982834475  Sun May 31 11:59:49 PDT 2009  NO_QUERY   \n",
       "640850           0  2235095141  Fri Jun 19 00:24:58 PDT 2009  NO_QUERY   \n",
       "181966           0  1967021166  Fri May 29 18:49:47 PDT 2009  NO_QUERY   \n",
       "\n",
       "                  user                                              tweet  \n",
       "205552      rodsterace  is late for his dentist appt. They said it was...  \n",
       "1374667  tweeteradder1  @karl09 Get 100 followers a day using www.twee...  \n",
       "1185751     spunky2778  @cgoodale oh but u can.the sounds of the ocean...  \n",
       "640850      mikedestef  Whyyy are drums so expensiiive?  Anyone wanna ...  \n",
       "181966     becca2anne0  # number times I bottomed out just in our driv...  "
      ]
     },
     "execution_count": 74,
     "metadata": {},
     "output_type": "execute_result"
    }
   ],
   "source": [
    "df = pd.read_csv(\"./data/tweets.csv.gz\", compression=\"gzip\", encoding=\"latin-1\", names=[\"sentiment\", \"id\", \"date\", \"query\", \"user\", \"tweet\"])\n",
    "df = df.dropna()\n",
    "df = df.where(df.sentiment != 2)\n",
    "df[\"sentiment\"] = df[\"sentiment\"].map({4: 1, 0: 0})\n",
    "df = df.sample(n=10)\n",
    "df.head()"
   ]
  },
  {
   "cell_type": "code",
   "execution_count": 75,
   "metadata": {},
   "outputs": [],
   "source": [
    "system_prompt = \"\"\"Take the following tweet and determine the sentiment of the review. \n",
    "\n",
    "Respond with 1 (positive) or 0 (negative).\n",
    "\n",
    "If you don't receive a tweet, respond with -1.\n",
    "\"\"\"\n",
    "\n",
    "llm = OpenAILanguageModel(\n",
    "    proxy_client=proxy_client,\n",
    "    model='gpt-4',\n",
    "    max_tokens=256,\n",
    "    float=0.0,\n",
    ")\n",
    "\n",
    "class Output(BaseModel):\n",
    "    sentiment: int = Field(description=\"The sentiment of the tweet.\")\n",
    "\n",
    "sentiment_analysis_agent = ReActAgent.create(\n",
    "    llm=llm,\n",
    "    system_prompt=system_prompt,\n",
    "    task_prompt=\"Tweet:\\n{tweet}\",\n",
    "    task_prompt_variables=[\"tweet\"],\n",
    "    tools=None,\n",
    "    output_format=Output,\n",
    "    iterations=1,\n",
    ")"
   ]
  },
  {
   "cell_type": "code",
   "execution_count": 76,
   "metadata": {},
   "outputs": [],
   "source": [
    "def classify_sentiment(tweet: str) -> int:\n",
    "    response = sentiment_analysis_agent.invoke({'tweet': tweet})\n",
    "    return response.final_answer['sentiment'] or 0"
   ]
  },
  {
   "cell_type": "code",
   "execution_count": 77,
   "metadata": {},
   "outputs": [
    {
     "name": "stderr",
     "output_type": "stream",
     "text": [
      "04/05/24 09:34:04 INFO Thought: The tweet seems to express a neutral sentiment. The user is late for their dentist appointment and anticipates some negative consequences, but they also mention that the dentist's office said it was okay. There's a mix of negative and positive sentiments, which makes it neutral overall.\n",
      "04/05/24 09:34:04 INFO Tool: Final Answer\n",
      "04/05/24 09:34:04 INFO Tool input: {'sentiment': 2}\n",
      "04/05/24 09:34:07 INFO Thought: The tweet seems to be promoting a service, it doesn't express a positive or negative sentiment towards it. It's more of an informative tweet.\n",
      "04/05/24 09:34:07 INFO Tool: Final Answer\n",
      "04/05/24 09:34:07 INFO Tool input: {'sentiment': 2}\n",
      "04/05/24 09:34:10 INFO Thought: The tweet is neutral. It's just a statement about the difference between the sounds of the ocean and a lake.\n",
      "04/05/24 09:34:10 INFO Tool: Final Answer\n",
      "04/05/24 09:34:10 INFO Tool input: {'sentiment': 2}\n",
      "04/05/24 09:34:14 INFO Thought: The tweet expresses a negative sentiment because the user is complaining about the high cost of drums.\n",
      "04/05/24 09:34:14 INFO Tool: Final Answer\n",
      "04/05/24 09:34:14 INFO Tool input: {'sentiment': 0}\n",
      "04/05/24 09:34:16 INFO Thought: The tweet seems to express a negative sentiment as the user is scared about a trip.\n",
      "04/05/24 09:34:16 INFO Tool: Final Answer\n",
      "04/05/24 09:34:16 INFO Tool input: {'sentiment': 0}\n",
      "04/05/24 09:34:21 INFO Thought: The tweet expresses a negative sentiment. The user is upset because they want to be at an event (possibly a music festival or concert, abbreviated as 'mml'), but they can't because they have to revise for an exam. However, there is a slight positive sentiment at the end where they are looking forward to the end of their exams.\n",
      "04/05/24 09:34:21 INFO Tool: Final Answer\n",
      "04/05/24 09:34:21 INFO Tool input: {'sentiment': 0}\n",
      "04/05/24 09:34:24 INFO Thought: The tweet seems to be neutral as it's just a request for support.\n",
      "04/05/24 09:34:24 INFO Tool: Final Answer\n",
      "04/05/24 09:34:24 INFO Tool input: {'sentiment': 2}\n",
      "04/05/24 09:34:26 INFO Thought: The tweet seems neutral as it's just stating an action the user is about to do. There's no clear positive or negative sentiment expressed.\n",
      "04/05/24 09:34:26 INFO Tool: Final Answer\n",
      "04/05/24 09:34:26 INFO Tool input: {'sentiment': 2}\n",
      "04/05/24 09:34:29 INFO Thought: The tweet seems to be expressing a negative sentiment towards something or someone referred to as 'Gold Grill Shawty'.\n",
      "04/05/24 09:34:29 INFO Tool: Final Answer\n",
      "04/05/24 09:34:29 INFO Tool input: {'sentiment': 0}\n",
      "04/05/24 09:34:33 INFO Thought: The tweet seems to be neutral. The user is just making a statement about someone's tweeting habits.\n",
      "04/05/24 09:34:33 INFO Tool: Final Answer\n",
      "04/05/24 09:34:33 INFO Tool input: {'sentiment': 2}\n"
     ]
    }
   ],
   "source": [
    "df[\"prediction\"] = [classify_sentiment(tweet) for tweet in df.tweet]"
   ]
  },
  {
   "cell_type": "code",
   "execution_count": 78,
   "metadata": {},
   "outputs": [
    {
     "name": "stdout",
     "output_type": "stream",
     "text": [
      "Accuracy: 0.3\n"
     ]
    }
   ],
   "source": [
    "print(f\"Accuracy: {accuracy_score(df.sentiment, df.prediction)}\")"
   ]
  },
  {
   "cell_type": "markdown",
   "metadata": {},
   "source": [
    "### Auto ML"
   ]
  },
  {
   "cell_type": "code",
   "execution_count": null,
   "metadata": {},
   "outputs": [],
   "source": [
    "system_prompt = \"\"\"Take the following tweet and determine the sentiment of the review. \n",
    "\n",
    "Respond with 1 (positive) or 0 (negative).\n",
    "\n",
    "If you don't receive a tweet, respond with -1.\n",
    "\"\"\"\n",
    "\n",
    "llm = OpenAILanguageModel(\n",
    "    proxy_client=proxy_client,\n",
    "    model='gpt-4',\n",
    "    max_tokens=128,\n",
    "    float=0.0,\n",
    ")\n",
    "\n",
    "class Output(BaseModel):\n",
    "    problem: str = Field(description=\"The machine learning problem.\")\n",
    "\n",
    "problem_finder_agent = ReActAgent.create(\n",
    "    llm=llm,\n",
    "    system_prompt=system_prompt,\n",
    "    task_prompt=\"Tweet content: {tweet}\",\n",
    "    task_prompt_variables=[\"tweet\"],\n",
    "    tools=None,\n",
    "    output_format=Output,\n",
    "    iterations=5,\n",
    ")"
   ]
  },
  {
   "cell_type": "code",
   "execution_count": null,
   "metadata": {},
   "outputs": [],
   "source": [
    "system_prompt = \"\"\"Take the following tweet and determine the sentiment of the review. \n",
    "\n",
    "Respond with 1 (positive) or 0 (negative).\n",
    "\n",
    "If you don't receive a tweet, respond with -1.\n",
    "\"\"\"\n",
    "\n",
    "llm = OpenAILanguageModel(\n",
    "    proxy_client=proxy_client,\n",
    "    model='gpt-4',\n",
    "    max_tokens=128,\n",
    "    float=0.0,\n",
    ")\n",
    "\n",
    "class Output(BaseModel):\n",
    "    code: str = Field(description=\"The auto ML code.\")\n",
    "\n",
    "auto_ml_agent = ReActAgent.create(\n",
    "    llm=llm,\n",
    "    system_prompt=system_prompt,\n",
    "    task_prompt=\"Tweet content: {tweet}\",\n",
    "    task_prompt_variables=[\"tweet\"],\n",
    "    tools=None,\n",
    "    output_format=Output,\n",
    "    iterations=5,\n",
    ")"
   ]
  },
  {
   "cell_type": "code",
   "execution_count": null,
   "metadata": {},
   "outputs": [],
   "source": [
    "chain = AgentChain.create(chain=[problem_finder_agent, auto_ml_agent])"
   ]
  },
  {
   "cell_type": "code",
   "execution_count": null,
   "metadata": {},
   "outputs": [],
   "source": []
  }
 ],
 "metadata": {
  "kernelspec": {
   "display_name": "llm-powered-ai-agents",
   "language": "python",
   "name": "python3"
  },
  "language_info": {
   "codemirror_mode": {
    "name": "ipython",
    "version": 3
   },
   "file_extension": ".py",
   "mimetype": "text/x-python",
   "name": "python",
   "nbconvert_exporter": "python",
   "pygments_lexer": "ipython3",
   "version": "3.11.9"
  }
 },
 "nbformat": 4,
 "nbformat_minor": 2
}
