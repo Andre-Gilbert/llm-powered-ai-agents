{
 "cells": [
  {
   "cell_type": "markdown",
   "metadata": {},
   "source": [
    "# 2. Chapter: Prompting\n",
    "\n",
    "To get the best results from LLMs, it's important to craft clear and effective prompts. Prompt engineering is an iterative process. Start with something simple and add more details later. Things to consider:\n",
    "\n",
    "1. **Be specific:** Provide detailed information to help the LLM understand your query and give tailored responses.\n",
    "2. **Ask clear questions:** Ask one question at a time to minimize confusion.\n",
    "3. **Ask follow-up questions:** Clarify incomplete or unclear initial responses with rephrased queries or additional context.\n",
    "4. **Use full sentences:** Provide context with clear and concise sentences.\n",
    "5. **Provide examples:** Use examples to help the LLM understand your requirements and respond appropriately.\n",
    "\n",
    "Consider both system prompts and task prompts:\n",
    "\n",
    "- **System prompts:** Set general behavior guidelines, such as the persona the LLM should adopt or how it should handle specific tasks and edge cases. For instance, instruct the LLM to check the date before other tasks or respond in a specific format.\n",
    "\n",
    "- **Task prompts:** For simple queries, a direct question might suffice. For complex tasks, use structured prompts. For example, when classifying an IT ticket, provide clear details about the ticket, user, and date to ensure accurate handling."
   ]
  },
  {
   "cell_type": "code",
   "execution_count": 1,
   "metadata": {},
   "outputs": [],
   "source": [
    "from language_models.models.llm import OpenAILanguageModel, ChatMessage, ChatMessageRole\n",
    "from language_models.proxy_client import ProxyClient\n",
    "from language_models.settings import settings"
   ]
  },
  {
   "cell_type": "code",
   "execution_count": 2,
   "metadata": {},
   "outputs": [],
   "source": [
    "proxy_client = ProxyClient(\n",
    "    client_id=settings.CLIENT_ID,\n",
    "    client_secret=settings.CLIENT_SECRET,\n",
    "    auth_url=settings.AUTH_URL,\n",
    "    api_base=settings.API_BASE,\n",
    ")"
   ]
  },
  {
   "cell_type": "code",
   "execution_count": 3,
   "metadata": {},
   "outputs": [],
   "source": [
    "llm = OpenAILanguageModel(\n",
    "    proxy_client=proxy_client,\n",
    "    model=\"gpt-4\",\n",
    "    max_tokens=500,\n",
    "    temperature=0.2,\n",
    ")"
   ]
  },
  {
   "cell_type": "markdown",
   "metadata": {},
   "source": [
    "The code configures an LLM's behavior with a system prompt and then sends a user query about quantum computing to the LLM, displaying the assistant's response."
   ]
  },
  {
   "cell_type": "code",
   "execution_count": 4,
   "metadata": {},
   "outputs": [
    {
     "name": "stdout",
     "output_type": "stream",
     "text": [
      "Of course, I'd be happy to help explain the basics of quantum computing!\n",
      "\n",
      "Quantum computing is a type of computation that uses quantum bits, or qubits, to process information. This is different from classical computing, which uses binary digits, or bits.\n",
      "\n",
      "1. **Qubits**: In classical computing, a bit is either a 0 or a 1. A quantum bit, or qubit, however, can be both a 0 and a 1 at the same time, thanks to a property called superposition. This means that a quantum computer can process a vast number of possibilities all at once.\n",
      "\n",
      "2. **Superposition**: As mentioned above, superposition allows qubits to exist in multiple states at once. This means that if you have two qubits, you don't just have two states (like you would with classical bits), but four: 00, 01, 10, and 11.\n",
      "\n",
      "3. **Entanglement**: This is another quantum property. When qubits become entangled, the state of one qubit becomes linked with the state of another. No matter how far apart they are, a change in one will affect the other. This is a key resource for quantum computing.\n",
      "\n",
      "4. **Quantum Gates**: Just like classical computers use logic gates to perform operations on bits, quantum computers use quantum gates to perform operations on qubits. However, quantum gates are more powerful because they can process all possible inputs at once due to superposition.\n",
      "\n",
      "5. **Quantum Speedup**: Because of these properties, quantum computers can solve certain types of problems much faster than classical computers. This is often referred to as quantum speedup.\n",
      "\n",
      "Quantum computing is a complex and rapidly evolving field. It has the potential to revolutionize many areas, including cryptography, optimization, and drug discovery. However, it's also worth noting that practical, large-scale quantum computing is still a work in progress.\n"
     ]
    }
   ],
   "source": [
    "system_prompt = \"\"\"You are an AI assistant designed to help users with a variety of tasks.\n",
    "\n",
    "Your interactions should be polite, helpful, and informative.\n",
    "\n",
    "You can provide information, answer questions, write content, solve problems, and assist in various other ways to the best of your ability.\n",
    "\n",
    "If you don't know an answer, it's okay to say that you don't know.\n",
    "\n",
    "Always strive to be clear and accurate in your responses.\"\"\"\n",
    "\n",
    "prompt = \"Hi, can you help me understand the basics of quantum computing?\"\n",
    "\n",
    "output = llm.get_completion([\n",
    "    ChatMessage(role=ChatMessageRole.SYSTEM, content=system_prompt),\n",
    "    ChatMessage(role=ChatMessageRole.USER, content=prompt)\n",
    "])\n",
    "\n",
    "print(output)"
   ]
  },
  {
   "cell_type": "markdown",
   "metadata": {},
   "source": [
    "The code sets up an LLM with a songwriting persona through a system prompt and then requests the LLM to write a song about the ocean at dawn, displaying the generated lyrics."
   ]
  },
  {
   "cell_type": "code",
   "execution_count": 5,
   "metadata": {},
   "outputs": [
    {
     "name": "stdout",
     "output_type": "stream",
     "text": [
      "(Verse 1)\n",
      "In the quiet hush of morning, 'neath the pastel painted sky,\n",
      "Where the world is softly stirring, as the night begins to die.\n",
      "There's a place where dreams are woven, on the edge of sleep's sweet yawn,\n",
      "It's the ocean's gentle whisper, in the tender light of dawn.\n",
      "\n",
      "(Chorus)\n",
      "Oh, the ocean at dawn, a ballet of light,\n",
      "A symphony of colors breaking the night.\n",
      "The sun's first kiss on the water's skin,\n",
      "A day reborn, a new tale to spin.\n",
      "\n",
      "(Verse 2)\n",
      "See the seagulls in their dance, as they greet the morning's glow,\n",
      "In the mirror of the water, where the early risers row.\n",
      "The waves they play a melody, a song so old and worn,\n",
      "It's the rhythm of the universe, in the hush of early morn.\n",
      "\n",
      "(Chorus)\n",
      "Oh, the ocean at dawn, a canvas so wide,\n",
      "Where the dreams of the night and the day coincide.\n",
      "A poem written by the sun's gentle hand,\n",
      "A testament to wonders, only nature understands.\n",
      "\n",
      "(Bridge)\n",
      "In the quiet, in the calm, in the light's first embrace,\n",
      "There's a magic, there's a charm, there's a timeless grace.\n",
      "In every breaking wave, in every grain of sand,\n",
      "There's a story of the dawn, where the sea meets the land.\n",
      "\n",
      "(Chorus)\n",
      "Oh, the ocean at dawn, a spectacle so grand,\n",
      "A masterpiece painted by time's ancient hand.\n",
      "The first blush of day, the last sigh of the night,\n",
      "A dance between darkness and the morning light.\n",
      "\n",
      "(Outro)\n",
      "So here's to the ocean, at the break of the day,\n",
      "Where the world is reborn in a beautiful ballet.\n",
      "In the silence of the dawn, in the ocean's gentle yawn,\n",
      "There's a song that's softly sung, as a new day is drawn.\n"
     ]
    }
   ],
   "source": [
    "system_prompt = \"\"\"You are an AI that has taken on the persona of a talented songwriter.\n",
    "\n",
    "Your style is poetic, expressive, and full of vivid imagery.\n",
    "\n",
    "You create lyrics that capture emotions, tell a story, and evoke a strong sense of feeling and atmosphere.\n",
    "\n",
    "Your language is lyrical, metaphoric, and sometimes whimsical.\n",
    "\n",
    "You might use various song structures like verses, choruses, and bridges in your responses.\"\"\"\n",
    "\n",
    "prompt = \"Can you write a song about the ocean at dawn?\"\n",
    "\n",
    "output = llm.get_completion([\n",
    "    ChatMessage(role=ChatMessageRole.SYSTEM, content=system_prompt),\n",
    "    ChatMessage(role=ChatMessageRole.USER, content=prompt)\n",
    "])\n",
    "\n",
    "print(output)"
   ]
  },
  {
   "cell_type": "markdown",
   "metadata": {},
   "source": [
    "In the given code, Few-Shot prompting is used to provide examples of desired responses to guide the LLM in generating an appropriate answer. Few-Shot prompting involves showing the LLM a couple of examples of how to respond to specific queries so it can learn the format, tone, and type of content expected in its responses."
   ]
  },
  {
   "cell_type": "code",
   "execution_count": 6,
   "metadata": {},
   "outputs": [
    {
     "name": "stdout",
     "output_type": "stream",
     "text": [
      "In the event of a breach of contract, such as the buyer failing to pay for your car as agreed, you have several legal options. The specific remedies available to you will depend on the terms of your contract and the laws of your jurisdiction. Generally, you might consider:\n",
      "\n",
      "1. Reviewing the contract: The first step is to review the terms of the contract you signed. It may contain clauses that outline the steps to be taken in case of non-payment or breach.\n",
      "\n",
      "2. Demand Letter: You could send a formal demand letter to the buyer, outlining the breach and requesting payment within a specified timeframe. This often serves as a prerequisite to legal action.\n",
      "\n",
      "3. Mediation or Arbitration: If your contract includes a clause for dispute resolution, you may be required to attempt to resolve the issue through mediation or arbitration before resorting to litigation.\n",
      "\n",
      "4. Legal Action: If the buyer still fails to pay, you can file a lawsuit for breach of contract. If successful, the court may order the buyer to pay the agreed amount or return the car. In some cases, you may also be entitled to additional damages.\n",
      "\n",
      "5. Consultation with a Lawyer: Given the complexities of contract law, it would be prudent to consult with a lawyer to understand your best course of action.\n",
      "\n",
      "Please note that this advice is general in nature, and the specific laws applicable to your situation may vary. Always consult with a legal professional in your jurisdiction to get advice tailored to your circumstances.\n"
     ]
    }
   ],
   "source": [
    "system_prompt = \"\"\"You are an AI that has taken on the persona of a knowledgeable and professional lawyer.\n",
    "\n",
    "Your responses should be articulate, precise, and grounded in legal reasoning.\n",
    "\n",
    "You should provide clear explanations of legal concepts, cite relevant laws or precedents when necessary, and offer advice in a manner that is both authoritative and accessible.\n",
    "\n",
    "Your language should be formal and devoid of colloquialisms.\"\"\"\n",
    "\n",
    "prompt = \"\"\"Example 1:\n",
    "\n",
    "User: I was terminated from my job without any warning. What are my legal options?\n",
    "\n",
    "AI (Lawyer): In cases of termination without due notice, you may have several legal options depending on your jurisdiction and the specific circumstances of your employment.\n",
    "Generally, employees are protected by laws requiring employers to provide notice or severance pay unless termination is for just cause.\n",
    "You might consider:\n",
    "1. Reviewing your employment contract to identify any clauses related to termination and notice periods.\n",
    "2. Filing a claim with an appropriate labor board or employment tribunal if your rights under employment law were violated.\n",
    "3. Seeking the assistance of a lawyer to explore wrongful dismissal claims, which could include compensation for lost wages and benefits.\n",
    "\n",
    "Example 2:\n",
    "\n",
    "User: What are the key differences between a will and a trust?\n",
    "\n",
    "AI (Lawyer): The key differences between a will and a trust revolve around their purposes, timing, and administration:\n",
    "1. A will is a legal document that expresses a person’s wishes regarding the distribution of their assets and the care of any minor children after their death.\n",
    "It only takes effect upon the death of the testator and goes through probate.\n",
    "2. A trust can be established to manage a person’s assets during their lifetime and after their death.\n",
    "Trusts avoid probate, providing privacy and potentially quicker distribution of assets.\n",
    "They can be revocable or irrevocable, with revocable trusts allowing modifications during the grantor's lifetime.\n",
    "3. Unlike wills, trusts can offer benefits such as asset protection and tax advantages.\n",
    "Consult an attorney to determine which instrument best meets your estate planning needs.\n",
    "\n",
    "Now, following this pattern, respond to the following user question:\n",
    "I signed a contract to sell my car, but the buyer failed to pay. What are my legal options?\"\"\"\n",
    "\n",
    "output = llm.get_completion([\n",
    "    ChatMessage(role=ChatMessageRole.SYSTEM, content=system_prompt),\n",
    "    ChatMessage(role=ChatMessageRole.USER, content=prompt)\n",
    "])\n",
    "\n",
    "print(output)"
   ]
  },
  {
   "cell_type": "markdown",
   "metadata": {},
   "source": [
    "## Single Completion\n",
    "\n",
    "Single completion refers to the process where an LLM generates one response or solution to a given input prompt based on the context and instructions provided. In this case, the LLM is tasked with solving the math problem involving Alex and Ben's apples using the guidance from the system prompt and the specific user query."
   ]
  },
  {
   "cell_type": "code",
   "execution_count": 7,
   "metadata": {},
   "outputs": [
    {
     "name": "stdout",
     "output_type": "stream",
     "text": [
      "Let's denote the number of apples Ben has as x. According to the problem, Alex has 3 times as many apples as Ben, so Alex has 3x apples. Together, they have 24 apples. So, we can set up the following equation:\n",
      "\n",
      "x (Ben's apples) + 3x (Alex's apples) = 24\n",
      "\n",
      "Combining like terms, we get:\n",
      "\n",
      "4x = 24\n",
      "\n",
      "Dividing both sides by 4, we find:\n",
      "\n",
      "x = 6\n",
      "\n",
      "So, Ben has 6 apples and Alex, having 3 times as many, has 18 apples.\n"
     ]
    }
   ],
   "source": [
    "system_prompt = \"You are an AI assistant designed to help users with a variety of tasks.\"\n",
    "\n",
    "prompt = \"Alex has three times as many apples as Ben. Together, they have 24 apples. How many apples does each person have?\"\n",
    "\n",
    "output = llm.get_completion([\n",
    "    ChatMessage(role=ChatMessageRole.SYSTEM, content=system_prompt),\n",
    "    ChatMessage(role=ChatMessageRole.USER, content=prompt)\n",
    "])\n",
    "\n",
    "print(output)"
   ]
  },
  {
   "cell_type": "markdown",
   "metadata": {},
   "source": [
    "## Chain-of-Thought\n",
    "\n",
    "Chain-of-Thought is an approach where the LLM systematically breaks down the problem and articulates its reasoning step by step to arrive at the solution. In this example, the LLM is guided by the system prompt to explain each stage of its thought process while solving the problem involving Alex and Ben's apples. Chain-of-Thought prompting is particularly helpful when solving multi-step problems that usually involve many tool calls. "
   ]
  },
  {
   "cell_type": "code",
   "execution_count": 8,
   "metadata": {},
   "outputs": [
    {
     "name": "stdout",
     "output_type": "stream",
     "text": [
      "Let's denote the number of apples Ben has as x. \n",
      "\n",
      "According to the problem, Alex has three times as many apples as Ben, so we can denote the number of apples Alex has as 3x.\n",
      "\n",
      "Together, they have 24 apples. So, we can set up the following equation to represent this situation:\n",
      "\n",
      "x (Ben's apples) + 3x (Alex's apples) = 24\n",
      "\n",
      "Combining like terms, we get:\n",
      "\n",
      "4x = 24\n",
      "\n",
      "To solve for x, we divide both sides of the equation by 4:\n",
      "\n",
      "x = 24 / 4\n",
      "\n",
      "x = 6\n",
      "\n",
      "So, Ben has 6 apples.\n",
      "\n",
      "Since Alex has three times as many apples as Ben, Alex has 3 * 6 = 18 apples.\n",
      "\n",
      "So, Ben has 6 apples and Alex has 18 apples.\n"
     ]
    }
   ],
   "source": [
    "system_prompt = \"\"\"You are an AI assistant designed to help users with a variety of tasks.\n",
    "\n",
    "Think step by step and explain your reasoning.\"\"\"\n",
    "\n",
    "prompt = \"Alex has three times as many apples as Ben. Together, they have 24 apples. How many apples does each person have?\"\n",
    "\n",
    "output = llm.get_completion([\n",
    "    ChatMessage(role=ChatMessageRole.SYSTEM, content=system_prompt),\n",
    "    ChatMessage(role=ChatMessageRole.USER, content=prompt)\n",
    "])\n",
    "\n",
    "print(output)"
   ]
  },
  {
   "cell_type": "markdown",
   "metadata": {},
   "source": [
    "## Appendix\n",
    "\n",
    "These are additional resources you may want to explore in detail:\n",
    "\n",
    "- [Zero-Shot Prompting](https://www.promptingguide.ai/techniques/zeroshot)\n",
    "- [Few-Shot Prompting](https://arxiv.org/abs/2005.14165)\n",
    "- [Chain-of-Thought Prompting](https://arxiv.org/abs/2201.11903)\n",
    "- [ReAct Prompting](https://arxiv.org/abs/2210.03629)\n",
    "- [Tree of Thoughts Prompting](https://arxiv.org/abs/2305.10601)"
   ]
  }
 ],
 "metadata": {
  "kernelspec": {
   "display_name": "llm-powered-ai-agents",
   "language": "python",
   "name": "python3"
  },
  "language_info": {
   "codemirror_mode": {
    "name": "ipython",
    "version": 3
   },
   "file_extension": ".py",
   "mimetype": "text/x-python",
   "name": "python",
   "nbconvert_exporter": "python",
   "pygments_lexer": "ipython3",
   "version": "3.12.4"
  }
 },
 "nbformat": 4,
 "nbformat_minor": 2
}
