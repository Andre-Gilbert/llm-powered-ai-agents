{
 "cells": [
  {
   "cell_type": "code",
   "execution_count": 4,
   "metadata": {},
   "outputs": [
    {
     "name": "stdout",
     "output_type": "stream",
     "text": [
      "True\n",
      "False\n"
     ]
    }
   ],
   "source": [
    "from datetime import date\n",
    "\n",
    "def is_valid_date_obj(date_obj):\n",
    "    return isinstance(date_obj, date)\n",
    "\n",
    "# Example usage\n",
    "valid_date = date(2024, 8, 2)\n",
    "print(is_valid_date_obj(valid_date))  # Output: True\n",
    "\n",
    "invalid_date = \"2024-08-02\"  # Not a date object\n",
    "print(is_valid_date_obj(invalid_date))  # Output: False\n"
   ]
  }
 ],
 "metadata": {
  "kernelspec": {
   "display_name": "llm-powered-ai-agents",
   "language": "python",
   "name": "python3"
  },
  "language_info": {
   "codemirror_mode": {
    "name": "ipython",
    "version": 3
   },
   "file_extension": ".py",
   "mimetype": "text/x-python",
   "name": "python",
   "nbconvert_exporter": "python",
   "pygments_lexer": "ipython3",
   "version": "3.12.4"
  }
 },
 "nbformat": 4,
 "nbformat_minor": 2
}
