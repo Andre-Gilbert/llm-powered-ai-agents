{
 "cells": [
  {
   "cell_type": "markdown",
   "metadata": {},
   "source": [
    "# Chapter 08: LLMs integrating with Forecasting Models\n",
    "\n",
    "Integrating LLMs with forecasting tools is a powerful strategy for enhancing decision-making across various domains. LLMs excel at interpreting complex datasets and generating actionable insights. When combined with forecasting models, this synergy allows for automatic forecast interpretation and action recommendations. While applications such as demand forecasting and machine degradation predictions are common, our focus will be on earthquake forecasting. We will outline practical steps for integrating LLMs with forecasting models, demonstrating how this combination can transform abstract concepts into actionable and insightful implementations."
   ]
  },
  {
   "cell_type": "code",
   "execution_count": 1,
   "metadata": {},
   "outputs": [],
   "source": [
    "from assets.tools.earthquake import count_earthquakes, query_earthquakes, USGeopoliticalSurveyEarthquakeAPI\n",
    "from assets.tools.forecasting import forecast_earthquakes, get_regions\n",
    "from pydantic import BaseModel, Field, EmailStr\n",
    "from language_models.models.llm import OpenAILanguageModel\n",
    "from language_models.agent import (\n",
    "    Agent,\n",
    "    Workflow,\n",
    "    WorkflowLLMStep,\n",
    "    WorkflowFunctionStep,\n",
    "    OutputType,\n",
    "    PromptingStrategy,\n",
    ")\n",
    "from language_models.tools import Tool, current_date\n",
    "from language_models.proxy_client import ProxyClient\n",
    "from language_models.settings import settings"
   ]
  },
  {
   "cell_type": "code",
   "execution_count": 2,
   "metadata": {},
   "outputs": [],
   "source": [
    "proxy_client = ProxyClient(\n",
    "    client_id=settings.CLIENT_ID,\n",
    "    client_secret=settings.CLIENT_SECRET,\n",
    "    auth_url=settings.AUTH_URL,\n",
    "    api_base=settings.API_BASE,\n",
    ")"
   ]
  },
  {
   "cell_type": "markdown",
   "metadata": {},
   "source": [
    "## Use Case: Automating Earthquake Forecast Inquiries\n",
    "\n",
    "Integrating LLMs with forecasting tools offers a transformative approach to managing inquiries about earthquake forecasts. Currently, handling these inquiries involves significant manual effort, with responses being drafted and sent individually. By automating this process, we can streamline operations and enhance efficiency. To automate responses to earthquake forecast inquiries effectively, we will design a workflow that integrates various steps, starting from the receipt of an email and ending in the generation of an email response, ensuring accurate and timely replies.\n",
    "\n",
    "**Step 1: Extracting relevant information**\n",
    "\n",
    "To handle the unstructured data in the email body, we first leverage an LLM. The LLM is tasked with extracting key details such as the regions and the forecasting horizon. To ensure that the regions are in the same format as the dataset, the LLM is tasked to provide the extracted region names in a format that matches the dataset’s spelling. This step is crucial as it transforms the free-form text into structured data."
   ]
  },
  {
   "cell_type": "code",
   "execution_count": 3,
   "metadata": {},
   "outputs": [],
   "source": [
    "get_regions_tool = Tool(\n",
    "    function=get_regions,\n",
    "    name=\"Get Valid Regions\",\n",
    "    description=\"Use this tool to access the valid regions that can be used for forecasting\",\n",
    ")"
   ]
  },
  {
   "cell_type": "code",
   "execution_count": 4,
   "metadata": {},
   "outputs": [],
   "source": [
    "system_prompt = \"\"\"You are tasked with responding to an inquiry about earthquake forecasts.\n",
    "\n",
    "Use the tool called Get Valid Regions to validate and standardize the spelling of the region names.\n",
    "\n",
    "Your response should include:\n",
    "- horizon: Provide the forecasting horizon as specified in the inquiry.\n",
    "- regions: List the names of the regions, ensuring that the spelling of each region follows the standardized format provided by the Get Valid Regions tool.\n",
    "\n",
    "The email may contain misspellings or abbreviations.\"\"\"\n",
    "\n",
    "llm = OpenAILanguageModel(\n",
    "    proxy_client=proxy_client,\n",
    "    model='gpt-4',\n",
    "    max_tokens=250,\n",
    "    temperature=0.2,\n",
    ")\n",
    "\n",
    "class Forecast(BaseModel):\n",
    "    horizon: int = Field(3, description=\"The number of days to forecast for\")\n",
    "    regions: list[str] = Field(description=\"The regions to forecast for\")\n",
    "\n",
    "extract_regions = Agent.create(\n",
    "    llm=llm,\n",
    "    system_prompt=system_prompt,\n",
    "    prompt=\"{email.body}\",\n",
    "    prompt_variables=[\"email\"],\n",
    "    tools=[get_regions_tool],\n",
    "    output_type=OutputType.OBJECT,\n",
    "    output_schema=Forecast,\n",
    "    prompting_strategy=PromptingStrategy.CHAIN_OF_THOUGHT,\n",
    "    verbose=True,\n",
    ")\n",
    "\n",
    "extract_regions_step = WorkflowLLMStep(name=\"extract_regions\", agent=extract_regions)"
   ]
  },
  {
   "cell_type": "markdown",
   "metadata": {},
   "source": [
    "**Step 2: Forecasting earthquakes**\n",
    "\n",
    "With standardized region names, the workflow runs the forecasting model to retrieve predictions for earthquake magnitudes and depths based on specified regions and forecasting horizons."
   ]
  },
  {
   "cell_type": "code",
   "execution_count": 5,
   "metadata": {},
   "outputs": [],
   "source": [
    "class ExtractedRegions(BaseModel):\n",
    "    extract_regions: Forecast\n",
    "\n",
    "class RegionForecast(BaseModel):\n",
    "    region: str\n",
    "    forecast: list[dict]\n",
    "\n",
    "def forecast_earthquakes_for_regions(extract_regions: Forecast) -> list[dict]:\n",
    "    forecasts = []\n",
    "    for region in extract_regions.regions:\n",
    "        forecast = forecast_earthquakes(region, extract_regions.horizon)\n",
    "        forecasts.append(RegionForecast(region=region, forecast=forecast))\n",
    "    return [forecast.model_dump() for forecast in forecasts]\n",
    "\n",
    "forecast_earthquakes_step = WorkflowFunctionStep(name=\"forecast_earthquakes\", inputs=ExtractedRegions, function=forecast_earthquakes_for_regions)"
   ]
  },
  {
   "cell_type": "markdown",
   "metadata": {},
   "source": [
    "**Step 3: Writing the email**\n",
    "\n",
    "Once the forecast data is obtained, the LLM integrates this information into a comprehensive response. The response includes the predicted magnitudes and depths, reasoning behind the forecasts, and any additional context that might be useful to the inquirer. This draft response is reviewed and then sent back to the inquirer via the Email Management System."
   ]
  },
  {
   "cell_type": "code",
   "execution_count": 6,
   "metadata": {},
   "outputs": [],
   "source": [
    "system_prompt = \"\"\"Create an email regarding the earthquake forecasts based on the specified regions.\n",
    "\n",
    "The email should include:\n",
    "- details of the earthquake forecast\n",
    "- whether the region is in danger\n",
    "- actions that you recommend to take\n",
    "\n",
    "Use the closing signature:\n",
    "Best regards,\n",
    "Earthquake Forecasting Team\"\"\"\n",
    "\n",
    "prompt = \"\"\"Respond to this email: {email.sender}\n",
    "\n",
    "Forecast horizon: {extract_regions.horizon}\n",
    "\n",
    "Forecasts:\n",
    "{forecast_earthquakes}\"\"\"\n",
    "\n",
    "llm = OpenAILanguageModel(\n",
    "    proxy_client=proxy_client,\n",
    "    model='gpt-4',\n",
    "    max_tokens=1000,\n",
    "    temperature=0.2,\n",
    ")\n",
    "\n",
    "class Email(BaseModel):\n",
    "    to: EmailStr\n",
    "    subject: str\n",
    "    body: str\n",
    "\n",
    "\n",
    "create_email = Agent.create(\n",
    "    llm=llm,\n",
    "    system_prompt=system_prompt,\n",
    "    prompt=prompt,\n",
    "    prompt_variables=[\"email\", \"extract_regions\", \"forecast_earthquakes\"],\n",
    "    tools=[get_regions_tool],\n",
    "    output_type=OutputType.OBJECT,\n",
    "    output_schema=Email,\n",
    "    prompting_strategy=PromptingStrategy.SINGLE_COMPLETION,\n",
    "    verbose=True,\n",
    ")\n",
    "\n",
    "create_email_step = WorkflowLLMStep(name=\"create_email\", agent=create_email)"
   ]
  },
  {
   "cell_type": "markdown",
   "metadata": {},
   "source": [
    "**Step 4: Creating the workflow**\n",
    "\n",
    "Here, we define the input to structure the email details for our workflow. We then create the workflow, which manages earthquake forecast inquiries by extracting regions, generating forecasts, and creating email responses through a series of defined steps."
   ]
  },
  {
   "cell_type": "code",
   "execution_count": 7,
   "metadata": {},
   "outputs": [],
   "source": [
    "class Email(BaseModel):\n",
    "    sender: EmailStr = Field(description=\"Person to send it to\")\n",
    "    subject: str = Field(description=\"Subject of the email\")\n",
    "    body: str = Field(description=\"Body of the email\")\n",
    "\n",
    "class WorkflowInput(BaseModel):\n",
    "    email: Email\n",
    "\n",
    "workflow = Workflow(\n",
    "    name=\"Automate Earthquake Forecast Inquiries\",\n",
    "    description=\"Allows you to respond to inquiries/questions about earthquake forecasts\",\n",
    "    inputs=WorkflowInput,\n",
    "    output=\"create_email\",\n",
    "    steps=[extract_regions_step, forecast_earthquakes_step, create_email_step],\n",
    "    verbose=True,\n",
    ")"
   ]
  },
  {
   "cell_type": "markdown",
   "metadata": {},
   "source": [
    "**Step 5: Running the workflow**\n",
    "\n",
    "Finally, we create an email with specified sender, subject, and body content. We then invoke the workflow using this email as input to process the inquiry and generate the appropriate output."
   ]
  },
  {
   "cell_type": "code",
   "execution_count": 8,
   "metadata": {},
   "outputs": [
    {
     "name": "stderr",
     "output_type": "stream",
     "text": [
      "\u001b[1m\u001b[38;2;45;114;210mUse LLM\u001b[0m\u001b[1m\u001b[0m: extract_regions\n",
      "\u001b[1m\u001b[38;2;236;154;60mInputs\u001b[0m\u001b[1m\u001b[0m: {'email': Email(sender='jennifer.smith@researchinstitute.org', subject='Request for 5-Day Earthquake Forecast for Selected Regions', body='Dear Earthquake Forecasting Team,\\n\\nI hope this email finds you well.\\n\\nI am reaching out to request a 5-day earthquake forecast for the following regions:\\n- CA, USA\\n- JP\\n- GR\\n\\nCould you please provide the predicted magnitudes and depths for these regions over the next five days? Additionally, any relevant context or insights related to these forecasts would be very helpful.\\n\\nThank you very much for your assistance.\\n\\nBest regards,\\nJennifer Smith\\nResearch Scientist\\nResearch Institute\\njennifer.smith@researchinstitute.org')}\n",
      "\u001b[1m\u001b[38;2;115;128;145mPrompt\u001b[0m\u001b[1m\u001b[0m: Dear Earthquake Forecasting Team,\n",
      "\n",
      "I hope this email finds you well.\n",
      "\n",
      "I am reaching out to request a 5-day earthquake forecast for the following regions:\n",
      "- CA, USA\n",
      "- JP\n",
      "- GR\n",
      "\n",
      "Could you please provide the predicted magnitudes and depths for these regions over the next five days? Additionally, any relevant context or insights related to these forecasts would be very helpful.\n",
      "\n",
      "Thank you very much for your assistance.\n",
      "\n",
      "Best regards,\n",
      "Jennifer Smith\n",
      "Research Scientist\n",
      "Research Institute\n",
      "jennifer.smith@researchinstitute.org\n",
      "\u001b[1m\u001b[38;2;45;114;210mThought\u001b[0m\u001b[1m\u001b[0m: The regions provided in the inquiry are abbreviated. I need to use the Get Valid Regions tool to standardize the spelling of each region.\n",
      "\u001b[1m\u001b[38;2;236;154;60mTool\u001b[0m\u001b[1m\u001b[0m: Get Valid Regions\n",
      "\u001b[1m\u001b[38;2;236;154;60mTool Input\u001b[0m\u001b[1m\u001b[0m: {}\n",
      "\u001b[1m\u001b[38;2;236;154;60mTool Output\u001b[0m\u001b[1m\u001b[0m: {'Oregon', 'California', 'Puerto Rico', 'Japan', 'Aleutian Islands', 'Hawaii', 'Chile', 'Tonga', 'Indonesia', 'Idaho', 'Greece', 'Wyoming', 'Papua New Guinea', 'Utah', 'Mexico', 'Russia', 'Baja California', 'Alaska', 'Washington', 'Oklahoma', 'Italy', 'Turkey', 'Nevada', 'Philippines', 'Montana'}\n",
      "\u001b[1m\u001b[38;2;45;114;210mThought\u001b[0m\u001b[1m\u001b[0m: The tool output provides the standardized names for the regions. I can see that \"CA, USA\" corresponds to \"California\", \"JP\" corresponds to \"Japan\", and \"GR\" corresponds to \"Greece\". I will use these standardized names to provide the earthquake forecast.\n",
      "\u001b[1m\u001b[38;2;50;164;103mFinal Answer\u001b[0m\u001b[1m\u001b[0m: horizon=5 regions=['California', 'Japan', 'Greece']\n",
      "\u001b[1m\u001b[38;2;236;154;60mOutput\u001b[0m\u001b[1m\u001b[0m: horizon=5 regions=['California', 'Japan', 'Greece']\n",
      "\u001b[1m\u001b[38;2;45;114;210mUse Function\u001b[0m\u001b[1m\u001b[0m: forecast_earthquakes\n",
      "\u001b[1m\u001b[38;2;236;154;60mInputs\u001b[0m\u001b[1m\u001b[0m: {'extract_regions': Forecast(horizon=5, regions=['California', 'Japan', 'Greece'])}\n",
      "\u001b[1m\u001b[38;2;236;154;60mOutput\u001b[0m\u001b[1m\u001b[0m: [{'region': 'California', 'forecast': [{'Date': Timestamp('2024-08-16 00:00:00'), 'Magnitude Forecast': 1.2956071223677195, 'Depth Forecast': 7.301062698254835}, {'Date': Timestamp('2024-08-17 00:00:00'), 'Magnitude Forecast': 1.2979413102048958, 'Depth Forecast': 7.308186792063001}, {'Date': Timestamp('2024-08-18 00:00:00'), 'Magnitude Forecast': 1.3123607755790774, 'Depth Forecast': 7.330327895596575}, {'Date': Timestamp('2024-08-19 00:00:00'), 'Magnitude Forecast': 1.2896192227017649, 'Depth Forecast': 7.2010399937412615}, {'Date': Timestamp('2024-08-20 00:00:00'), 'Magnitude Forecast': 1.3226318670476258, 'Depth Forecast': 7.052317926826966}]}, {'region': 'Japan', 'forecast': [{'Date': Timestamp('2024-08-16 00:00:00'), 'Magnitude Forecast': 4.544529303773306, 'Depth Forecast': 85.62019023741865}, {'Date': Timestamp('2024-08-17 00:00:00'), 'Magnitude Forecast': 4.524599572036767, 'Depth Forecast': 78.78863713487051}, {'Date': Timestamp('2024-08-18 00:00:00'), 'Magnitude Forecast': 4.751250089117317, 'Depth Forecast': 68.93793120337675}, {'Date': Timestamp('2024-08-19 00:00:00'), 'Magnitude Forecast': 4.739460076980841, 'Depth Forecast': 67.70600830412073}, {'Date': Timestamp('2024-08-20 00:00:00'), 'Magnitude Forecast': 4.6789443996949345, 'Depth Forecast': 62.89117746211618}]}, {'region': 'Greece', 'forecast': [{'Date': Timestamp('2024-08-16 00:00:00'), 'Magnitude Forecast': 4.439615640945371, 'Depth Forecast': 26.75567439891381}, {'Date': Timestamp('2024-08-17 00:00:00'), 'Magnitude Forecast': 4.492911519624827, 'Depth Forecast': 25.02932407145861}, {'Date': Timestamp('2024-08-18 00:00:00'), 'Magnitude Forecast': 4.65527622226311, 'Depth Forecast': 31.684144397988412}, {'Date': Timestamp('2024-08-19 00:00:00'), 'Magnitude Forecast': 4.777818268724487, 'Depth Forecast': 32.016896798131064}, {'Date': Timestamp('2024-08-20 00:00:00'), 'Magnitude Forecast': 4.853586519064612, 'Depth Forecast': 32.55752575765963}]}]\n",
      "\u001b[1m\u001b[38;2;45;114;210mUse LLM\u001b[0m\u001b[1m\u001b[0m: create_email\n",
      "\u001b[1m\u001b[38;2;236;154;60mInputs\u001b[0m\u001b[1m\u001b[0m: {'email': Email(sender='jennifer.smith@researchinstitute.org', subject='Request for 5-Day Earthquake Forecast for Selected Regions', body='Dear Earthquake Forecasting Team,\\n\\nI hope this email finds you well.\\n\\nI am reaching out to request a 5-day earthquake forecast for the following regions:\\n- CA, USA\\n- JP\\n- GR\\n\\nCould you please provide the predicted magnitudes and depths for these regions over the next five days? Additionally, any relevant context or insights related to these forecasts would be very helpful.\\n\\nThank you very much for your assistance.\\n\\nBest regards,\\nJennifer Smith\\nResearch Scientist\\nResearch Institute\\njennifer.smith@researchinstitute.org'), 'extract_regions': Forecast(horizon=5, regions=['California', 'Japan', 'Greece']), 'forecast_earthquakes': [{'region': 'California', 'forecast': [{'Date': Timestamp('2024-08-16 00:00:00'), 'Magnitude Forecast': 1.2956071223677195, 'Depth Forecast': 7.301062698254835}, {'Date': Timestamp('2024-08-17 00:00:00'), 'Magnitude Forecast': 1.2979413102048958, 'Depth Forecast': 7.308186792063001}, {'Date': Timestamp('2024-08-18 00:00:00'), 'Magnitude Forecast': 1.3123607755790774, 'Depth Forecast': 7.330327895596575}, {'Date': Timestamp('2024-08-19 00:00:00'), 'Magnitude Forecast': 1.2896192227017649, 'Depth Forecast': 7.2010399937412615}, {'Date': Timestamp('2024-08-20 00:00:00'), 'Magnitude Forecast': 1.3226318670476258, 'Depth Forecast': 7.052317926826966}]}, {'region': 'Japan', 'forecast': [{'Date': Timestamp('2024-08-16 00:00:00'), 'Magnitude Forecast': 4.544529303773306, 'Depth Forecast': 85.62019023741865}, {'Date': Timestamp('2024-08-17 00:00:00'), 'Magnitude Forecast': 4.524599572036767, 'Depth Forecast': 78.78863713487051}, {'Date': Timestamp('2024-08-18 00:00:00'), 'Magnitude Forecast': 4.751250089117317, 'Depth Forecast': 68.93793120337675}, {'Date': Timestamp('2024-08-19 00:00:00'), 'Magnitude Forecast': 4.739460076980841, 'Depth Forecast': 67.70600830412073}, {'Date': Timestamp('2024-08-20 00:00:00'), 'Magnitude Forecast': 4.6789443996949345, 'Depth Forecast': 62.89117746211618}]}, {'region': 'Greece', 'forecast': [{'Date': Timestamp('2024-08-16 00:00:00'), 'Magnitude Forecast': 4.439615640945371, 'Depth Forecast': 26.75567439891381}, {'Date': Timestamp('2024-08-17 00:00:00'), 'Magnitude Forecast': 4.492911519624827, 'Depth Forecast': 25.02932407145861}, {'Date': Timestamp('2024-08-18 00:00:00'), 'Magnitude Forecast': 4.65527622226311, 'Depth Forecast': 31.684144397988412}, {'Date': Timestamp('2024-08-19 00:00:00'), 'Magnitude Forecast': 4.777818268724487, 'Depth Forecast': 32.016896798131064}, {'Date': Timestamp('2024-08-20 00:00:00'), 'Magnitude Forecast': 4.853586519064612, 'Depth Forecast': 32.55752575765963}]}]}\n",
      "\u001b[1m\u001b[38;2;115;128;145mPrompt\u001b[0m\u001b[1m\u001b[0m: Respond to this email: jennifer.smith@researchinstitute.org\n",
      "\n",
      "Forecast horizon: 5\n",
      "\n",
      "Forecasts:\n",
      "[{'region': 'California', 'forecast': [{'Date': Timestamp('2024-08-16 00:00:00'), 'Magnitude Forecast': 1.2956071223677195, 'Depth Forecast': 7.301062698254835}, {'Date': Timestamp('2024-08-17 00:00:00'), 'Magnitude Forecast': 1.2979413102048958, 'Depth Forecast': 7.308186792063001}, {'Date': Timestamp('2024-08-18 00:00:00'), 'Magnitude Forecast': 1.3123607755790774, 'Depth Forecast': 7.330327895596575}, {'Date': Timestamp('2024-08-19 00:00:00'), 'Magnitude Forecast': 1.2896192227017649, 'Depth Forecast': 7.2010399937412615}, {'Date': Timestamp('2024-08-20 00:00:00'), 'Magnitude Forecast': 1.3226318670476258, 'Depth Forecast': 7.052317926826966}]}, {'region': 'Japan', 'forecast': [{'Date': Timestamp('2024-08-16 00:00:00'), 'Magnitude Forecast': 4.544529303773306, 'Depth Forecast': 85.62019023741865}, {'Date': Timestamp('2024-08-17 00:00:00'), 'Magnitude Forecast': 4.524599572036767, 'Depth Forecast': 78.78863713487051}, {'Date': Timestamp('2024-08-18 00:00:00'), 'Magnitude Forecast': 4.751250089117317, 'Depth Forecast': 68.93793120337675}, {'Date': Timestamp('2024-08-19 00:00:00'), 'Magnitude Forecast': 4.739460076980841, 'Depth Forecast': 67.70600830412073}, {'Date': Timestamp('2024-08-20 00:00:00'), 'Magnitude Forecast': 4.6789443996949345, 'Depth Forecast': 62.89117746211618}]}, {'region': 'Greece', 'forecast': [{'Date': Timestamp('2024-08-16 00:00:00'), 'Magnitude Forecast': 4.439615640945371, 'Depth Forecast': 26.75567439891381}, {'Date': Timestamp('2024-08-17 00:00:00'), 'Magnitude Forecast': 4.492911519624827, 'Depth Forecast': 25.02932407145861}, {'Date': Timestamp('2024-08-18 00:00:00'), 'Magnitude Forecast': 4.65527622226311, 'Depth Forecast': 31.684144397988412}, {'Date': Timestamp('2024-08-19 00:00:00'), 'Magnitude Forecast': 4.777818268724487, 'Depth Forecast': 32.016896798131064}, {'Date': Timestamp('2024-08-20 00:00:00'), 'Magnitude Forecast': 4.853586519064612, 'Depth Forecast': 32.55752575765963}]}]\n",
      "\u001b[1m\u001b[38;2;50;164;103mFinal Answer\u001b[0m\u001b[1m\u001b[0m: to='jennifer.smith@researchinstitute.org' subject='Earthquake Forecasts for the Next 5 Days' body='Dear Jennifer,\\n\\nWe are writing to inform you about the earthquake forecasts for the next five days in California, Japan, and Greece.\\n\\nIn California, the magnitude forecast ranges from 1.29 to 1.32, with the depth forecast ranging from 7.05 to 7.33. These are relatively low magnitudes and depths, so the region is not in immediate danger. However, we recommend monitoring the situation closely.\\n\\nIn Japan, the magnitude forecast ranges from 4.52 to 4.75, with the depth forecast ranging from 62.89 to 85.62. These are significantly higher magnitudes and depths, indicating a potential risk. We recommend implementing earthquake preparedness measures and alerting the public to the potential for seismic activity.\\n\\nIn Greece, the magnitude forecast ranges from 4.43 to 4.85, with the depth forecast ranging from 25.02 to 32.55. These forecasts also suggest a potential risk. We recommend similar measures as in Japan: implementing earthquake preparedness measures and alerting the public.\\n\\nPlease note that these are forecasts and actual seismic activity may vary. It is crucial to stay prepared and have a plan in place in case of an earthquake.\\n\\nBest regards,\\nEarthquake Forecasting Team'\n",
      "\u001b[1m\u001b[38;2;236;154;60mOutput\u001b[0m\u001b[1m\u001b[0m: to='jennifer.smith@researchinstitute.org' subject='Earthquake Forecasts for the Next 5 Days' body='Dear Jennifer,\\n\\nWe are writing to inform you about the earthquake forecasts for the next five days in California, Japan, and Greece.\\n\\nIn California, the magnitude forecast ranges from 1.29 to 1.32, with the depth forecast ranging from 7.05 to 7.33. These are relatively low magnitudes and depths, so the region is not in immediate danger. However, we recommend monitoring the situation closely.\\n\\nIn Japan, the magnitude forecast ranges from 4.52 to 4.75, with the depth forecast ranging from 62.89 to 85.62. These are significantly higher magnitudes and depths, indicating a potential risk. We recommend implementing earthquake preparedness measures and alerting the public to the potential for seismic activity.\\n\\nIn Greece, the magnitude forecast ranges from 4.43 to 4.85, with the depth forecast ranging from 25.02 to 32.55. These forecasts also suggest a potential risk. We recommend similar measures as in Japan: implementing earthquake preparedness measures and alerting the public.\\n\\nPlease note that these are forecasts and actual seismic activity may vary. It is crucial to stay prepared and have a plan in place in case of an earthquake.\\n\\nBest regards,\\nEarthquake Forecasting Team'\n",
      "\u001b[1m\u001b[38;2;50;164;103mWorkflow Output\u001b[0m\u001b[1m\u001b[0m: to='jennifer.smith@researchinstitute.org' subject='Earthquake Forecasts for the Next 5 Days' body='Dear Jennifer,\\n\\nWe are writing to inform you about the earthquake forecasts for the next five days in California, Japan, and Greece.\\n\\nIn California, the magnitude forecast ranges from 1.29 to 1.32, with the depth forecast ranging from 7.05 to 7.33. These are relatively low magnitudes and depths, so the region is not in immediate danger. However, we recommend monitoring the situation closely.\\n\\nIn Japan, the magnitude forecast ranges from 4.52 to 4.75, with the depth forecast ranging from 62.89 to 85.62. These are significantly higher magnitudes and depths, indicating a potential risk. We recommend implementing earthquake preparedness measures and alerting the public to the potential for seismic activity.\\n\\nIn Greece, the magnitude forecast ranges from 4.43 to 4.85, with the depth forecast ranging from 25.02 to 32.55. These forecasts also suggest a potential risk. We recommend similar measures as in Japan: implementing earthquake preparedness measures and alerting the public.\\n\\nPlease note that these are forecasts and actual seismic activity may vary. It is crucial to stay prepared and have a plan in place in case of an earthquake.\\n\\nBest regards,\\nEarthquake Forecasting Team'\n"
     ]
    }
   ],
   "source": [
    "email = Email(\n",
    "    sender=\"jennifer.smith@researchinstitute.org\",\n",
    "    subject=\"Request for 5-Day Earthquake Forecast for Selected Regions\",\n",
    "    body=\"\"\"Dear Earthquake Forecasting Team,\n",
    "\n",
    "I hope this email finds you well.\n",
    "\n",
    "I am reaching out to request a 5-day earthquake forecast for the following regions:\n",
    "- CA, USA\n",
    "- JP\n",
    "- GR\n",
    "\n",
    "Could you please provide the predicted magnitudes and depths for these regions over the next five days? Additionally, any relevant context or insights related to these forecasts would be very helpful.\n",
    "\n",
    "Thank you very much for your assistance.\n",
    "\n",
    "Best regards,\n",
    "Jennifer Smith\n",
    "Research Scientist\n",
    "Research Institute\n",
    "jennifer.smith@researchinstitute.org\"\"\",\n",
    ")\n",
    "\n",
    "output = workflow.invoke({\"email\": email})"
   ]
  },
  {
   "cell_type": "code",
   "execution_count": 9,
   "metadata": {},
   "outputs": [
    {
     "name": "stdout",
     "output_type": "stream",
     "text": [
      "Email to: jennifer.smith@researchinstitute.org\n",
      "Email subject: Earthquake Forecasts for the Next 5 Days\n",
      "Email body: Dear Jennifer,\n",
      "\n",
      "We are writing to inform you about the earthquake forecasts for the next five days in California, Japan, and Greece.\n",
      "\n",
      "In California, the magnitude forecast ranges from 1.29 to 1.32, with the depth forecast ranging from 7.05 to 7.33. These are relatively low magnitudes and depths, so the region is not in immediate danger. However, we recommend monitoring the situation closely.\n",
      "\n",
      "In Japan, the magnitude forecast ranges from 4.52 to 4.75, with the depth forecast ranging from 62.89 to 85.62. These are significantly higher magnitudes and depths, indicating a potential risk. We recommend implementing earthquake preparedness measures and alerting the public to the potential for seismic activity.\n",
      "\n",
      "In Greece, the magnitude forecast ranges from 4.43 to 4.85, with the depth forecast ranging from 25.02 to 32.55. These forecasts also suggest a potential risk. We recommend similar measures as in Japan: implementing earthquake preparedness measures and alerting the public.\n",
      "\n",
      "Please note that these are forecasts and actual seismic activity may vary. It is crucial to stay prepared and have a plan in place in case of an earthquake.\n",
      "\n",
      "Best regards,\n",
      "Earthquake Forecasting Team\n"
     ]
    }
   ],
   "source": [
    "print(f\"Email to: {output.output.to}\")\n",
    "print(f\"Email subject: {output.output.subject}\")\n",
    "print(f\"Email body: {output.output.body}\")"
   ]
  },
  {
   "cell_type": "markdown",
   "metadata": {},
   "source": [
    "You can view the entire workflow in detail by rendering each step sequentially, allowing you to examine the inputs, outputs, and decision points at every stage of the process."
   ]
  },
  {
   "cell_type": "code",
   "execution_count": 10,
   "metadata": {},
   "outputs": [
    {
     "name": "stdout",
     "output_type": "stream",
     "text": [
      "Use LLM\n",
      "=======\n",
      "System Prompt\n",
      "-------------\n",
      "You are tasked with responding to an inquiry about earthquake forecasts.\n",
      "\n",
      "Use the tool called Get Valid Regions to validate and standardize the spelling of the region names.\n",
      "\n",
      "Your response should include:\n",
      "- horizon: Provide the forecasting horizon as specified in the inquiry.\n",
      "- regions: List the names of the regions, ensuring that the spelling of each region follows the standardized format provided by the Get Valid Regions tool.\n",
      "\n",
      "The email may contain misspellings or abbreviations.\n",
      "\n",
      "Prompting Strategy\n",
      "------------------\n",
      "chain_of_thought\n",
      "\n",
      "Prompt\n",
      "------\n",
      "Dear Earthquake Forecasting Team,\n",
      "\n",
      "I hope this email finds you well.\n",
      "\n",
      "I am reaching out to request a 5-day earthquake forecast for the following regions:\n",
      "- CA, USA\n",
      "- JP\n",
      "- GR\n",
      "\n",
      "Could you please provide the predicted magnitudes and depths for these regions over the next five days? Additionally, any relevant context or insights related to these forecasts would be very helpful.\n",
      "\n",
      "Thank you very much for your assistance.\n",
      "\n",
      "Best regards,\n",
      "Jennifer Smith\n",
      "Research Scientist\n",
      "Research Institute\n",
      "jennifer.smith@researchinstitute.org\n",
      "\n",
      "Raw Output\n",
      "----------\n",
      "Thought: The regions provided in the inquiry are abbreviated. I need to use the Get Valid Regions tool to standardize the spelling of each region.\n",
      "\n",
      "Tool: Get Valid Regions\n",
      "\n",
      "Tool Input: {}\n",
      "\n",
      "Tool Use\n",
      "--------\n",
      "Thought: The regions provided in the inquiry are abbreviated. I need to use the Get Valid Regions tool to standardize the spelling of each region.\n",
      "\n",
      "Used: Get Valid Regions\n",
      "\n",
      "Arguments: {}\n",
      "\n",
      "Tool Output\n",
      "-----------\n",
      "{'Oregon', 'California', 'Puerto Rico', 'Japan', 'Aleutian Islands', 'Hawaii', 'Chile', 'Tonga', 'Indonesia', 'Idaho', 'Greece', 'Wyoming', 'Papua New Guinea', 'Utah', 'Mexico', 'Russia', 'Baja California', 'Alaska', 'Washington', 'Oklahoma', 'Italy', 'Turkey', 'Nevada', 'Philippines', 'Montana'}\n",
      "\n",
      "Raw Output\n",
      "----------\n",
      "Thought: The tool output provides the standardized names for the regions. I can see that \"CA, USA\" corresponds to \"California\", \"JP\" corresponds to \"Japan\", and \"GR\" corresponds to \"Greece\". I will use these standardized names to provide the earthquake forecast.\n",
      "\n",
      "Final Answer: \n",
      "{\n",
      "    \"horizon\": 5,\n",
      "    \"regions\": [\"California\", \"Japan\", \"Greece\"]\n",
      "}\n",
      "\n",
      "Final Answer\n",
      "------------\n",
      "Thought: The tool output provides the standardized names for the regions. I can see that \"CA, USA\" corresponds to \"California\", \"JP\" corresponds to \"Japan\", and \"GR\" corresponds to \"Greece\". I will use these standardized names to provide the earthquake forecast.\n",
      "\n",
      "Output: horizon=5 regions=['California', 'Japan', 'Greece']\n",
      "\n",
      "Use Function\n",
      "============\n",
      "Inputs\n",
      "------\n",
      "extract_regions: horizon=5 regions=['California', 'Japan', 'Greece']\n",
      "\n",
      "Output\n",
      "------\n",
      "[{'region': 'California', 'forecast': [{'Date': Timestamp('2024-08-16 00:00:00'), 'Magnitude Forecast': 1.2956071223677195, 'Depth Forecast': 7.301062698254835}, {'Date': Timestamp('2024-08-17 00:00:00'), 'Magnitude Forecast': 1.2979413102048958, 'Depth Forecast': 7.308186792063001}, {'Date': Timestamp('2024-08-18 00:00:00'), 'Magnitude Forecast': 1.3123607755790774, 'Depth Forecast': 7.330327895596575}, {'Date': Timestamp('2024-08-19 00:00:00'), 'Magnitude Forecast': 1.2896192227017649, 'Depth Forecast': 7.2010399937412615}, {'Date': Timestamp('2024-08-20 00:00:00'), 'Magnitude Forecast': 1.3226318670476258, 'Depth Forecast': 7.052317926826966}]}, {'region': 'Japan', 'forecast': [{'Date': Timestamp('2024-08-16 00:00:00'), 'Magnitude Forecast': 4.544529303773306, 'Depth Forecast': 85.62019023741865}, {'Date': Timestamp('2024-08-17 00:00:00'), 'Magnitude Forecast': 4.524599572036767, 'Depth Forecast': 78.78863713487051}, {'Date': Timestamp('2024-08-18 00:00:00'), 'Magnitude Forecast': 4.751250089117317, 'Depth Forecast': 68.93793120337675}, {'Date': Timestamp('2024-08-19 00:00:00'), 'Magnitude Forecast': 4.739460076980841, 'Depth Forecast': 67.70600830412073}, {'Date': Timestamp('2024-08-20 00:00:00'), 'Magnitude Forecast': 4.6789443996949345, 'Depth Forecast': 62.89117746211618}]}, {'region': 'Greece', 'forecast': [{'Date': Timestamp('2024-08-16 00:00:00'), 'Magnitude Forecast': 4.439615640945371, 'Depth Forecast': 26.75567439891381}, {'Date': Timestamp('2024-08-17 00:00:00'), 'Magnitude Forecast': 4.492911519624827, 'Depth Forecast': 25.02932407145861}, {'Date': Timestamp('2024-08-18 00:00:00'), 'Magnitude Forecast': 4.65527622226311, 'Depth Forecast': 31.684144397988412}, {'Date': Timestamp('2024-08-19 00:00:00'), 'Magnitude Forecast': 4.777818268724487, 'Depth Forecast': 32.016896798131064}, {'Date': Timestamp('2024-08-20 00:00:00'), 'Magnitude Forecast': 4.853586519064612, 'Depth Forecast': 32.55752575765963}]}]\n",
      "\n",
      "Use LLM\n",
      "=======\n",
      "System Prompt\n",
      "-------------\n",
      "Create an email regarding the earthquake forecasts based on the specified regions.\n",
      "\n",
      "The email should include:\n",
      "- details of the earthquake forecast\n",
      "- whether the region is in danger\n",
      "- actions that you recommend to take\n",
      "\n",
      "Use the closing signature:\n",
      "Best regards,\n",
      "Earthquake Forecasting Team\n",
      "\n",
      "Prompting Strategy\n",
      "------------------\n",
      "single_completion\n",
      "\n",
      "Prompt\n",
      "------\n",
      "Respond to this email: jennifer.smith@researchinstitute.org\n",
      "\n",
      "Forecast horizon: 5\n",
      "\n",
      "Forecasts:\n",
      "[{'region': 'California', 'forecast': [{'Date': Timestamp('2024-08-16 00:00:00'), 'Magnitude Forecast': 1.2956071223677195, 'Depth Forecast': 7.301062698254835}, {'Date': Timestamp('2024-08-17 00:00:00'), 'Magnitude Forecast': 1.2979413102048958, 'Depth Forecast': 7.308186792063001}, {'Date': Timestamp('2024-08-18 00:00:00'), 'Magnitude Forecast': 1.3123607755790774, 'Depth Forecast': 7.330327895596575}, {'Date': Timestamp('2024-08-19 00:00:00'), 'Magnitude Forecast': 1.2896192227017649, 'Depth Forecast': 7.2010399937412615}, {'Date': Timestamp('2024-08-20 00:00:00'), 'Magnitude Forecast': 1.3226318670476258, 'Depth Forecast': 7.052317926826966}]}, {'region': 'Japan', 'forecast': [{'Date': Timestamp('2024-08-16 00:00:00'), 'Magnitude Forecast': 4.544529303773306, 'Depth Forecast': 85.62019023741865}, {'Date': Timestamp('2024-08-17 00:00:00'), 'Magnitude Forecast': 4.524599572036767, 'Depth Forecast': 78.78863713487051}, {'Date': Timestamp('2024-08-18 00:00:00'), 'Magnitude Forecast': 4.751250089117317, 'Depth Forecast': 68.93793120337675}, {'Date': Timestamp('2024-08-19 00:00:00'), 'Magnitude Forecast': 4.739460076980841, 'Depth Forecast': 67.70600830412073}, {'Date': Timestamp('2024-08-20 00:00:00'), 'Magnitude Forecast': 4.6789443996949345, 'Depth Forecast': 62.89117746211618}]}, {'region': 'Greece', 'forecast': [{'Date': Timestamp('2024-08-16 00:00:00'), 'Magnitude Forecast': 4.439615640945371, 'Depth Forecast': 26.75567439891381}, {'Date': Timestamp('2024-08-17 00:00:00'), 'Magnitude Forecast': 4.492911519624827, 'Depth Forecast': 25.02932407145861}, {'Date': Timestamp('2024-08-18 00:00:00'), 'Magnitude Forecast': 4.65527622226311, 'Depth Forecast': 31.684144397988412}, {'Date': Timestamp('2024-08-19 00:00:00'), 'Magnitude Forecast': 4.777818268724487, 'Depth Forecast': 32.016896798131064}, {'Date': Timestamp('2024-08-20 00:00:00'), 'Magnitude Forecast': 4.853586519064612, 'Depth Forecast': 32.55752575765963}]}]\n",
      "\n",
      "Final Answer\n",
      "------------\n",
      "Output: to='jennifer.smith@researchinstitute.org' subject='Earthquake Forecasts for the Next 5 Days' body='Dear Jennifer,\\n\\nWe are writing to inform you about the earthquake forecasts for the next five days in California, Japan, and Greece.\\n\\nIn California, the magnitude forecast ranges from 1.29 to 1.32, with the depth forecast ranging from 7.05 to 7.33. These are relatively low magnitudes and depths, so the region is not in immediate danger. However, we recommend monitoring the situation closely.\\n\\nIn Japan, the magnitude forecast ranges from 4.52 to 4.75, with the depth forecast ranging from 62.89 to 85.62. These are significantly higher magnitudes and depths, indicating a potential risk. We recommend implementing earthquake preparedness measures and alerting the public to the potential for seismic activity.\\n\\nIn Greece, the magnitude forecast ranges from 4.43 to 4.85, with the depth forecast ranging from 25.02 to 32.55. These forecasts also suggest a potential risk. We recommend similar measures as in Japan: implementing earthquake preparedness measures and alerting the public.\\n\\nPlease note that these are forecasts and actual seismic activity may vary. It is crucial to stay prepared and have a plan in place in case of an earthquake.\\n\\nBest regards,\\nEarthquake Forecasting Team'\n"
     ]
    }
   ],
   "source": [
    "for i, step in enumerate(output.steps):\n",
    "    if step.name == \"llm\":\n",
    "        names = {\n",
    "            \"system_prompt\": \"System Prompt\",\n",
    "            \"prompting_strategy\": \"Prompting Strategy\",\n",
    "            \"prompt\": \"Prompt\",\n",
    "            \"raw_output\": \"Raw Output\",\n",
    "            \"observation\": \"Observation\",\n",
    "            \"final_answer\": \"Final Answer\",\n",
    "            \"tool_use\": \"Tool Use\",\n",
    "            \"tool_output\": \"Tool Output\",\n",
    "        }\n",
    "        string = \"Use LLM\"\n",
    "        print(string)\n",
    "        print(\"=\" * len(string))\n",
    "        for entry in step.steps:\n",
    "            print(names[entry.name])\n",
    "            print(\"-\" * len(entry.name))\n",
    "            if entry.name == \"tool_use\":\n",
    "                print(f\"Thought: {entry.content.thought}\")\n",
    "                print()\n",
    "                print(f\"Used: {entry.content.used}\")\n",
    "                print()\n",
    "                print(f\"Arguments: {entry.content.arguments}\")\n",
    "            elif entry.name == 'final_answer':\n",
    "                if entry.content.thought is not None:\n",
    "                    print(f\"Thought: {entry.content.thought}\")\n",
    "                    print()\n",
    "                print(f\"Output: {entry.content.output}\")\n",
    "            else:\n",
    "                print(entry.content)\n",
    "\n",
    "            if entry.name != \"final_answer\" or i != len(output.steps) - 1:\n",
    "                print()\n",
    "    else:\n",
    "        string = \"Use Function\"\n",
    "        print(string)\n",
    "        print(\"=\" * len(string))\n",
    "        for entry in step.steps:\n",
    "            if entry.name == \"inputs\":\n",
    "                string = \"Inputs\"\n",
    "                print(string)\n",
    "                print(\"-\" * len(string))\n",
    "                for argument, value in entry.content.items():\n",
    "                    print(f\"{argument}: {value}\")\n",
    "                    print()\n",
    "            else:\n",
    "                string = \"Output\"\n",
    "                print(string)\n",
    "                print(\"-\" * len(string))\n",
    "                print(entry.content)\n",
    "                if i != len(output.steps) - 1:\n",
    "                    print()"
   ]
  },
  {
   "cell_type": "markdown",
   "metadata": {},
   "source": [
    "The next steps involve choosing the optimal path for advancing our workflow. If our goal is to streamline operations and improve efficiency, we could deploy the current workflow and automate it to trigger whenever a new email arrives, ensuring a seamless and timely response. On the other hand, if we aim to develop a more interactive solution, we could transform this workflow into a tool that an AI agent can use. This would involve integrating additional tools to enable the agent to manage a range of tasks, allowing for conversational interactions."
   ]
  },
  {
   "cell_type": "code",
   "execution_count": 11,
   "metadata": {},
   "outputs": [],
   "source": [
    "query_earthquakes_tool = Tool(\n",
    "    function=query_earthquakes,\n",
    "    name=\"Query Earthquakes\",\n",
    "    description=\"Use this tool to search recent earthquakes\",\n",
    "    args_schema=USGeopoliticalSurveyEarthquakeAPI,\n",
    ")\n",
    "\n",
    "count_earthquakes_tool = Tool(\n",
    "    function=count_earthquakes,\n",
    "    name=\"Count Earthquakes\",\n",
    "    description=\"Use this tool to count and aggregate recent earthquakes\",\n",
    "    args_schema=USGeopoliticalSurveyEarthquakeAPI,\n",
    ")"
   ]
  },
  {
   "cell_type": "markdown",
   "metadata": {},
   "source": [
    "And if we need to ask questions about forecasts, we can easily build a tool that the LLM can utilize for generating and retrieving accurate predictions."
   ]
  },
  {
   "cell_type": "code",
   "execution_count": 12,
   "metadata": {},
   "outputs": [],
   "source": [
    "forecast_earthquakes_tool = Tool(\n",
    "    function=forecast_earthquakes_for_regions,\n",
    "    name=\"Forecast Earthquakes\",\n",
    "    description=\"Use this tool to run region based forecasts\",\n",
    "    args_schema=ExtractedRegions,\n",
    ")"
   ]
  },
  {
   "cell_type": "code",
   "execution_count": 13,
   "metadata": {},
   "outputs": [],
   "source": [
    "system_prompt = \"\"\"You are an United States Geological Survey expert who can answer questions regarding earthquakes.\n",
    "\n",
    "Additionally, you can run forecasts. Before you use the Forecast Earthquakes tool, always check which regions are available using Get Valid Regions first.\"\"\"\n",
    "\n",
    "agent = Agent.create(\n",
    "    llm=llm,\n",
    "    system_prompt=system_prompt,\n",
    "    prompt=\"{question}\",\n",
    "    prompt_variables=[\"question\"],\n",
    "    output_type=OutputType.STRING,\n",
    "    tools=[\n",
    "        current_date,\n",
    "        count_earthquakes_tool,\n",
    "        query_earthquakes_tool,\n",
    "        get_regions_tool,\n",
    "        forecast_earthquakes_tool,\n",
    "        workflow.as_tool()\n",
    "    ],\n",
    "    prompting_strategy=PromptingStrategy.CHAIN_OF_THOUGHT,\n",
    "    verbose=True,\n",
    ")"
   ]
  },
  {
   "cell_type": "code",
   "execution_count": 14,
   "metadata": {},
   "outputs": [
    {
     "name": "stderr",
     "output_type": "stream",
     "text": [
      "\u001b[1m\u001b[38;2;45;114;210mThought\u001b[0m\u001b[1m\u001b[0m: The user is requesting a 5-day earthquake forecast for California, Japan, and Greece. To fulfill this request, I need to use the Forecast Earthquakes tool. However, before I can do that, I need to confirm that these regions are valid for forecasting using the Get Valid Regions tool.\n",
      "\u001b[1m\u001b[38;2;236;154;60mTool\u001b[0m\u001b[1m\u001b[0m: Get Valid Regions\n",
      "\u001b[1m\u001b[38;2;236;154;60mTool Input\u001b[0m\u001b[1m\u001b[0m: {}\n",
      "\u001b[1m\u001b[38;2;236;154;60mTool Output\u001b[0m\u001b[1m\u001b[0m: {'Oregon', 'California', 'Puerto Rico', 'Japan', 'Aleutian Islands', 'Hawaii', 'Chile', 'Tonga', 'Indonesia', 'Idaho', 'Greece', 'Wyoming', 'Papua New Guinea', 'Utah', 'Mexico', 'Russia', 'Baja California', 'Alaska', 'Washington', 'Oklahoma', 'Italy', 'Turkey', 'Nevada', 'Philippines', 'Montana'}\n",
      "\u001b[1m\u001b[38;2;45;114;210mThought\u001b[0m\u001b[1m\u001b[0m: The regions requested by the user (California, Japan, and Greece) are valid for forecasting as they are included in the output of the Get Valid Regions tool. Now, I can proceed to use the Forecast Earthquakes tool to provide a 5-day earthquake forecast for these regions.\n",
      "\u001b[1m\u001b[38;2;236;154;60mTool\u001b[0m\u001b[1m\u001b[0m: Forecast Earthquakes\n",
      "\u001b[1m\u001b[38;2;236;154;60mTool Input\u001b[0m\u001b[1m\u001b[0m: {'extract_regions': AttributedDict([('horizon', 5), ('regions', ['California', 'Japan', 'Greece'])])}\n",
      "\u001b[1m\u001b[38;2;236;154;60mTool Output\u001b[0m\u001b[1m\u001b[0m: [{'region': 'California', 'forecast': [{'Date': Timestamp('2024-08-16 00:00:00'), 'Magnitude Forecast': 1.2956071223677195, 'Depth Forecast': 7.301062698254835}, {'Date': Timestamp('2024-08-17 00:00:00'), 'Magnitude Forecast': 1.2979413102048958, 'Depth Forecast': 7.308186792063001}, {'Date': Timestamp('2024-08-18 00:00:00'), 'Magnitude Forecast': 1.3123607755790774, 'Depth Forecast': 7.330327895596575}, {'Date': Timestamp('2024-08-19 00:00:00'), 'Magnitude Forecast': 1.2896192227017649, 'Depth Forecast': 7.2010399937412615}, {'Date': Timestamp('2024-08-20 00:00:00'), 'Magnitude Forecast': 1.3226318670476258, 'Depth Forecast': 7.052317926826966}]}, {'region': 'Japan', 'forecast': [{'Date': Timestamp('2024-08-16 00:00:00'), 'Magnitude Forecast': 4.544529303773306, 'Depth Forecast': 85.62019023741865}, {'Date': Timestamp('2024-08-17 00:00:00'), 'Magnitude Forecast': 4.524599572036767, 'Depth Forecast': 78.78863713487051}, {'Date': Timestamp('2024-08-18 00:00:00'), 'Magnitude Forecast': 4.751250089117317, 'Depth Forecast': 68.93793120337675}, {'Date': Timestamp('2024-08-19 00:00:00'), 'Magnitude Forecast': 4.739460076980841, 'Depth Forecast': 67.70600830412073}, {'Date': Timestamp('2024-08-20 00:00:00'), 'Magnitude Forecast': 4.6789443996949345, 'Depth Forecast': 62.89117746211618}]}, {'region': 'Greece', 'forecast': [{'Date': Timestamp('2024-08-16 00:00:00'), 'Magnitude Forecast': 4.439615640945371, 'Depth Forecast': 26.75567439891381}, {'Date': Timestamp('2024-08-17 00:00:00'), 'Magnitude Forecast': 4.492911519624827, 'Depth Forecast': 25.02932407145861}, {'Date': Timestamp('2024-08-18 00:00:00'), 'Magnitude Forecast': 4.65527622226311, 'Depth Forecast': 31.684144397988412}, {'Date': Timestamp('2024-08-19 00:00:00'), 'Magnitude Forecast': 4.777818268724487, 'Depth Forecast': 32.016896798131064}, {'Date': Timestamp('2024-08-20 00:00:00'), 'Magnitude Forecast': 4.853586519064612, 'Depth Forecast': 32.55752575765963}]}]\n",
      "\u001b[1m\u001b[38;2;45;114;210mThought\u001b[0m\u001b[1m\u001b[0m: The Forecast Earthquakes tool has provided the 5-day earthquake forecast for the regions California, Japan, and Greece. I can now formulate a response to the user's email request with this information.\n",
      "\u001b[1m\u001b[38;2;236;154;60mTool\u001b[0m\u001b[1m\u001b[0m: Automate Earthquake Forecast Inquiries\n",
      "\u001b[1m\u001b[38;2;236;154;60mTool Input\u001b[0m\u001b[1m\u001b[0m: {'email': AttributedDict([('sender', 'exampleuser@example.com'), ('subject', 'Re: Request for 5-Day Earthquake Forecast for Selected Regions'), ('body', 'Dear [Your Name],\\n\\nThank you for your request. Here are the 5-day earthquake forecasts for the regions you specified:\\n\\n**California (CA)**\\n- August 16, 2024: Magnitude Forecast - 1.30, Depth Forecast - 7.30 km\\n- August 17, 2024: Magnitude Forecast - 1.30, Depth Forecast - 7.31 km\\n- August 18, 2024: Magnitude Forecast - 1.31, Depth Forecast - 7.33 km\\n- August 19, 2024: Magnitude Forecast - 1.29, Depth Forecast - 7.20 km\\n- August 20, 2024: Magnitude Forecast - 1.32, Depth Forecast - 7.05 km\\n\\n**Japan (JP)**\\n- August 16, 2024: Magnitude Forecast - 4.54, Depth Forecast - 85.62 km\\n- August 17, 2024: Magnitude Forecast - 4.52, Depth Forecast - 78.79 km\\n- August 18, 2024: Magnitude Forecast - 4.75, Depth Forecast - 68.94 km\\n- August 19, 2024: Magnitude Forecast - 4.74, Depth Forecast - 67.71 km\\n- August 20, 2024: Magnitude Forecast - 4.68, Depth Forecast - 62.89 km\\n\\n**Greece (GR)**\\n- August 16, 2024: Magnitude Forecast - 4.44, Depth Forecast - 26.76 km\\n- August 17, 2024: Magnitude Forecast - 4.49, Depth Forecast - 25.03 km\\n- August 18, 2024: Magnitude Forecast - 4.66, Depth Forecast - 31.68 km\\n- August 19, 2024: Magnitude Forecast - 4.78, Depth Forecast - 32.02 km\\n- August 20, 2024: Magnitude Forecast - 4.85, Depth Forecast - 32.56 km\\n\\nPlease note that these are forecasts and actual events may vary. We will continue to monitor seismic activity in these regions and update you with any significant changes.\\n\\nBest regards,\\n[Your Name]\\nEarthquake Forecasting Team')])}\n",
      "\u001b[1m\u001b[38;2;45;114;210mUse LLM\u001b[0m\u001b[1m\u001b[0m: extract_regions\n",
      "\u001b[1m\u001b[38;2;236;154;60mInputs\u001b[0m\u001b[1m\u001b[0m: {'email': Email(sender='exampleuser@example.com', subject='Re: Request for 5-Day Earthquake Forecast for Selected Regions', body='Dear [Your Name],\\n\\nThank you for your request. Here are the 5-day earthquake forecasts for the regions you specified:\\n\\n**California (CA)**\\n- August 16, 2024: Magnitude Forecast - 1.30, Depth Forecast - 7.30 km\\n- August 17, 2024: Magnitude Forecast - 1.30, Depth Forecast - 7.31 km\\n- August 18, 2024: Magnitude Forecast - 1.31, Depth Forecast - 7.33 km\\n- August 19, 2024: Magnitude Forecast - 1.29, Depth Forecast - 7.20 km\\n- August 20, 2024: Magnitude Forecast - 1.32, Depth Forecast - 7.05 km\\n\\n**Japan (JP)**\\n- August 16, 2024: Magnitude Forecast - 4.54, Depth Forecast - 85.62 km\\n- August 17, 2024: Magnitude Forecast - 4.52, Depth Forecast - 78.79 km\\n- August 18, 2024: Magnitude Forecast - 4.75, Depth Forecast - 68.94 km\\n- August 19, 2024: Magnitude Forecast - 4.74, Depth Forecast - 67.71 km\\n- August 20, 2024: Magnitude Forecast - 4.68, Depth Forecast - 62.89 km\\n\\n**Greece (GR)**\\n- August 16, 2024: Magnitude Forecast - 4.44, Depth Forecast - 26.76 km\\n- August 17, 2024: Magnitude Forecast - 4.49, Depth Forecast - 25.03 km\\n- August 18, 2024: Magnitude Forecast - 4.66, Depth Forecast - 31.68 km\\n- August 19, 2024: Magnitude Forecast - 4.78, Depth Forecast - 32.02 km\\n- August 20, 2024: Magnitude Forecast - 4.85, Depth Forecast - 32.56 km\\n\\nPlease note that these are forecasts and actual events may vary. We will continue to monitor seismic activity in these regions and update you with any significant changes.\\n\\nBest regards,\\n[Your Name]\\nEarthquake Forecasting Team')}\n",
      "\u001b[1m\u001b[38;2;115;128;145mPrompt\u001b[0m\u001b[1m\u001b[0m: Dear [Your Name],\n",
      "\n",
      "Thank you for your request. Here are the 5-day earthquake forecasts for the regions you specified:\n",
      "\n",
      "**California (CA)**\n",
      "- August 16, 2024: Magnitude Forecast - 1.30, Depth Forecast - 7.30 km\n",
      "- August 17, 2024: Magnitude Forecast - 1.30, Depth Forecast - 7.31 km\n",
      "- August 18, 2024: Magnitude Forecast - 1.31, Depth Forecast - 7.33 km\n",
      "- August 19, 2024: Magnitude Forecast - 1.29, Depth Forecast - 7.20 km\n",
      "- August 20, 2024: Magnitude Forecast - 1.32, Depth Forecast - 7.05 km\n",
      "\n",
      "**Japan (JP)**\n",
      "- August 16, 2024: Magnitude Forecast - 4.54, Depth Forecast - 85.62 km\n",
      "- August 17, 2024: Magnitude Forecast - 4.52, Depth Forecast - 78.79 km\n",
      "- August 18, 2024: Magnitude Forecast - 4.75, Depth Forecast - 68.94 km\n",
      "- August 19, 2024: Magnitude Forecast - 4.74, Depth Forecast - 67.71 km\n",
      "- August 20, 2024: Magnitude Forecast - 4.68, Depth Forecast - 62.89 km\n",
      "\n",
      "**Greece (GR)**\n",
      "- August 16, 2024: Magnitude Forecast - 4.44, Depth Forecast - 26.76 km\n",
      "- August 17, 2024: Magnitude Forecast - 4.49, Depth Forecast - 25.03 km\n",
      "- August 18, 2024: Magnitude Forecast - 4.66, Depth Forecast - 31.68 km\n",
      "- August 19, 2024: Magnitude Forecast - 4.78, Depth Forecast - 32.02 km\n",
      "- August 20, 2024: Magnitude Forecast - 4.85, Depth Forecast - 32.56 km\n",
      "\n",
      "Please note that these are forecasts and actual events may vary. We will continue to monitor seismic activity in these regions and update you with any significant changes.\n",
      "\n",
      "Best regards,\n",
      "[Your Name]\n",
      "Earthquake Forecasting Team\n",
      "\u001b[1m\u001b[38;2;45;114;210mThought\u001b[0m\u001b[1m\u001b[0m: The user has provided the earthquake forecasts for the regions. I need to format this information into the required JSON format.\n",
      "\u001b[1m\u001b[38;2;50;164;103mFinal Answer\u001b[0m\u001b[1m\u001b[0m: horizon=5 regions=['California', 'Japan', 'Greece']\n",
      "\u001b[1m\u001b[38;2;236;154;60mOutput\u001b[0m\u001b[1m\u001b[0m: horizon=5 regions=['California', 'Japan', 'Greece']\n",
      "\u001b[1m\u001b[38;2;45;114;210mUse Function\u001b[0m\u001b[1m\u001b[0m: forecast_earthquakes\n",
      "\u001b[1m\u001b[38;2;236;154;60mInputs\u001b[0m\u001b[1m\u001b[0m: {'extract_regions': Forecast(horizon=5, regions=['California', 'Japan', 'Greece'])}\n",
      "\u001b[1m\u001b[38;2;236;154;60mOutput\u001b[0m\u001b[1m\u001b[0m: [{'region': 'California', 'forecast': [{'Date': Timestamp('2024-08-16 00:00:00'), 'Magnitude Forecast': 1.2956071223677195, 'Depth Forecast': 7.301062698254835}, {'Date': Timestamp('2024-08-17 00:00:00'), 'Magnitude Forecast': 1.2979413102048958, 'Depth Forecast': 7.308186792063001}, {'Date': Timestamp('2024-08-18 00:00:00'), 'Magnitude Forecast': 1.3123607755790774, 'Depth Forecast': 7.330327895596575}, {'Date': Timestamp('2024-08-19 00:00:00'), 'Magnitude Forecast': 1.2896192227017649, 'Depth Forecast': 7.2010399937412615}, {'Date': Timestamp('2024-08-20 00:00:00'), 'Magnitude Forecast': 1.3226318670476258, 'Depth Forecast': 7.052317926826966}]}, {'region': 'Japan', 'forecast': [{'Date': Timestamp('2024-08-16 00:00:00'), 'Magnitude Forecast': 4.544529303773306, 'Depth Forecast': 85.62019023741865}, {'Date': Timestamp('2024-08-17 00:00:00'), 'Magnitude Forecast': 4.524599572036767, 'Depth Forecast': 78.78863713487051}, {'Date': Timestamp('2024-08-18 00:00:00'), 'Magnitude Forecast': 4.751250089117317, 'Depth Forecast': 68.93793120337675}, {'Date': Timestamp('2024-08-19 00:00:00'), 'Magnitude Forecast': 4.739460076980841, 'Depth Forecast': 67.70600830412073}, {'Date': Timestamp('2024-08-20 00:00:00'), 'Magnitude Forecast': 4.6789443996949345, 'Depth Forecast': 62.89117746211618}]}, {'region': 'Greece', 'forecast': [{'Date': Timestamp('2024-08-16 00:00:00'), 'Magnitude Forecast': 4.439615640945371, 'Depth Forecast': 26.75567439891381}, {'Date': Timestamp('2024-08-17 00:00:00'), 'Magnitude Forecast': 4.492911519624827, 'Depth Forecast': 25.02932407145861}, {'Date': Timestamp('2024-08-18 00:00:00'), 'Magnitude Forecast': 4.65527622226311, 'Depth Forecast': 31.684144397988412}, {'Date': Timestamp('2024-08-19 00:00:00'), 'Magnitude Forecast': 4.777818268724487, 'Depth Forecast': 32.016896798131064}, {'Date': Timestamp('2024-08-20 00:00:00'), 'Magnitude Forecast': 4.853586519064612, 'Depth Forecast': 32.55752575765963}]}]\n",
      "\u001b[1m\u001b[38;2;45;114;210mUse LLM\u001b[0m\u001b[1m\u001b[0m: create_email\n",
      "\u001b[1m\u001b[38;2;236;154;60mInputs\u001b[0m\u001b[1m\u001b[0m: {'email': Email(sender='exampleuser@example.com', subject='Re: Request for 5-Day Earthquake Forecast for Selected Regions', body='Dear [Your Name],\\n\\nThank you for your request. Here are the 5-day earthquake forecasts for the regions you specified:\\n\\n**California (CA)**\\n- August 16, 2024: Magnitude Forecast - 1.30, Depth Forecast - 7.30 km\\n- August 17, 2024: Magnitude Forecast - 1.30, Depth Forecast - 7.31 km\\n- August 18, 2024: Magnitude Forecast - 1.31, Depth Forecast - 7.33 km\\n- August 19, 2024: Magnitude Forecast - 1.29, Depth Forecast - 7.20 km\\n- August 20, 2024: Magnitude Forecast - 1.32, Depth Forecast - 7.05 km\\n\\n**Japan (JP)**\\n- August 16, 2024: Magnitude Forecast - 4.54, Depth Forecast - 85.62 km\\n- August 17, 2024: Magnitude Forecast - 4.52, Depth Forecast - 78.79 km\\n- August 18, 2024: Magnitude Forecast - 4.75, Depth Forecast - 68.94 km\\n- August 19, 2024: Magnitude Forecast - 4.74, Depth Forecast - 67.71 km\\n- August 20, 2024: Magnitude Forecast - 4.68, Depth Forecast - 62.89 km\\n\\n**Greece (GR)**\\n- August 16, 2024: Magnitude Forecast - 4.44, Depth Forecast - 26.76 km\\n- August 17, 2024: Magnitude Forecast - 4.49, Depth Forecast - 25.03 km\\n- August 18, 2024: Magnitude Forecast - 4.66, Depth Forecast - 31.68 km\\n- August 19, 2024: Magnitude Forecast - 4.78, Depth Forecast - 32.02 km\\n- August 20, 2024: Magnitude Forecast - 4.85, Depth Forecast - 32.56 km\\n\\nPlease note that these are forecasts and actual events may vary. We will continue to monitor seismic activity in these regions and update you with any significant changes.\\n\\nBest regards,\\n[Your Name]\\nEarthquake Forecasting Team'), 'extract_regions': Forecast(horizon=5, regions=['California', 'Japan', 'Greece']), 'forecast_earthquakes': [{'region': 'California', 'forecast': [{'Date': Timestamp('2024-08-16 00:00:00'), 'Magnitude Forecast': 1.2956071223677195, 'Depth Forecast': 7.301062698254835}, {'Date': Timestamp('2024-08-17 00:00:00'), 'Magnitude Forecast': 1.2979413102048958, 'Depth Forecast': 7.308186792063001}, {'Date': Timestamp('2024-08-18 00:00:00'), 'Magnitude Forecast': 1.3123607755790774, 'Depth Forecast': 7.330327895596575}, {'Date': Timestamp('2024-08-19 00:00:00'), 'Magnitude Forecast': 1.2896192227017649, 'Depth Forecast': 7.2010399937412615}, {'Date': Timestamp('2024-08-20 00:00:00'), 'Magnitude Forecast': 1.3226318670476258, 'Depth Forecast': 7.052317926826966}]}, {'region': 'Japan', 'forecast': [{'Date': Timestamp('2024-08-16 00:00:00'), 'Magnitude Forecast': 4.544529303773306, 'Depth Forecast': 85.62019023741865}, {'Date': Timestamp('2024-08-17 00:00:00'), 'Magnitude Forecast': 4.524599572036767, 'Depth Forecast': 78.78863713487051}, {'Date': Timestamp('2024-08-18 00:00:00'), 'Magnitude Forecast': 4.751250089117317, 'Depth Forecast': 68.93793120337675}, {'Date': Timestamp('2024-08-19 00:00:00'), 'Magnitude Forecast': 4.739460076980841, 'Depth Forecast': 67.70600830412073}, {'Date': Timestamp('2024-08-20 00:00:00'), 'Magnitude Forecast': 4.6789443996949345, 'Depth Forecast': 62.89117746211618}]}, {'region': 'Greece', 'forecast': [{'Date': Timestamp('2024-08-16 00:00:00'), 'Magnitude Forecast': 4.439615640945371, 'Depth Forecast': 26.75567439891381}, {'Date': Timestamp('2024-08-17 00:00:00'), 'Magnitude Forecast': 4.492911519624827, 'Depth Forecast': 25.02932407145861}, {'Date': Timestamp('2024-08-18 00:00:00'), 'Magnitude Forecast': 4.65527622226311, 'Depth Forecast': 31.684144397988412}, {'Date': Timestamp('2024-08-19 00:00:00'), 'Magnitude Forecast': 4.777818268724487, 'Depth Forecast': 32.016896798131064}, {'Date': Timestamp('2024-08-20 00:00:00'), 'Magnitude Forecast': 4.853586519064612, 'Depth Forecast': 32.55752575765963}]}]}\n",
      "\u001b[1m\u001b[38;2;115;128;145mPrompt\u001b[0m\u001b[1m\u001b[0m: Respond to this email: exampleuser@example.com\n",
      "\n",
      "Forecast horizon: 5\n",
      "\n",
      "Forecasts:\n",
      "[{'region': 'California', 'forecast': [{'Date': Timestamp('2024-08-16 00:00:00'), 'Magnitude Forecast': 1.2956071223677195, 'Depth Forecast': 7.301062698254835}, {'Date': Timestamp('2024-08-17 00:00:00'), 'Magnitude Forecast': 1.2979413102048958, 'Depth Forecast': 7.308186792063001}, {'Date': Timestamp('2024-08-18 00:00:00'), 'Magnitude Forecast': 1.3123607755790774, 'Depth Forecast': 7.330327895596575}, {'Date': Timestamp('2024-08-19 00:00:00'), 'Magnitude Forecast': 1.2896192227017649, 'Depth Forecast': 7.2010399937412615}, {'Date': Timestamp('2024-08-20 00:00:00'), 'Magnitude Forecast': 1.3226318670476258, 'Depth Forecast': 7.052317926826966}]}, {'region': 'Japan', 'forecast': [{'Date': Timestamp('2024-08-16 00:00:00'), 'Magnitude Forecast': 4.544529303773306, 'Depth Forecast': 85.62019023741865}, {'Date': Timestamp('2024-08-17 00:00:00'), 'Magnitude Forecast': 4.524599572036767, 'Depth Forecast': 78.78863713487051}, {'Date': Timestamp('2024-08-18 00:00:00'), 'Magnitude Forecast': 4.751250089117317, 'Depth Forecast': 68.93793120337675}, {'Date': Timestamp('2024-08-19 00:00:00'), 'Magnitude Forecast': 4.739460076980841, 'Depth Forecast': 67.70600830412073}, {'Date': Timestamp('2024-08-20 00:00:00'), 'Magnitude Forecast': 4.6789443996949345, 'Depth Forecast': 62.89117746211618}]}, {'region': 'Greece', 'forecast': [{'Date': Timestamp('2024-08-16 00:00:00'), 'Magnitude Forecast': 4.439615640945371, 'Depth Forecast': 26.75567439891381}, {'Date': Timestamp('2024-08-17 00:00:00'), 'Magnitude Forecast': 4.492911519624827, 'Depth Forecast': 25.02932407145861}, {'Date': Timestamp('2024-08-18 00:00:00'), 'Magnitude Forecast': 4.65527622226311, 'Depth Forecast': 31.684144397988412}, {'Date': Timestamp('2024-08-19 00:00:00'), 'Magnitude Forecast': 4.777818268724487, 'Depth Forecast': 32.016896798131064}, {'Date': Timestamp('2024-08-20 00:00:00'), 'Magnitude Forecast': 4.853586519064612, 'Depth Forecast': 32.55752575765963}]}]\n",
      "\u001b[1m\u001b[38;2;50;164;103mFinal Answer\u001b[0m\u001b[1m\u001b[0m: to='exampleuser@example.com' subject='Earthquake Forecasts for the Next 5 Days' body='Dear User,\\n\\nWe are writing to inform you about the earthquake forecasts for the next five days in California, Japan, and Greece.\\n\\nIn California, the magnitude forecast ranges from 1.29 to 1.32, with the depth forecast ranging from 7.05 to 7.33. These are relatively low magnitudes and depths, so the region is not in immediate danger. However, we recommend monitoring the situation closely.\\n\\nIn Japan, the magnitude forecast ranges from 4.52 to 4.75, with the depth forecast ranging from 62.89 to 85.62. These are significantly higher magnitudes and depths, indicating a potential risk. We recommend implementing earthquake preparedness measures and alerting the public to the potential for seismic activity.\\n\\nIn Greece, the magnitude forecast ranges from 4.43 to 4.85, with the depth forecast ranging from 25.02 to 32.55. These forecasts also suggest a potential risk. We recommend similar measures as in Japan: implementing earthquake preparedness measures and alerting the public.\\n\\nPlease note that these are forecasts and actual seismic activity may vary. It is crucial to stay prepared and have a plan in place in case of an earthquake.\\n\\nBest regards,\\nEarthquake Forecasting Team'\n",
      "\u001b[1m\u001b[38;2;236;154;60mOutput\u001b[0m\u001b[1m\u001b[0m: to='exampleuser@example.com' subject='Earthquake Forecasts for the Next 5 Days' body='Dear User,\\n\\nWe are writing to inform you about the earthquake forecasts for the next five days in California, Japan, and Greece.\\n\\nIn California, the magnitude forecast ranges from 1.29 to 1.32, with the depth forecast ranging from 7.05 to 7.33. These are relatively low magnitudes and depths, so the region is not in immediate danger. However, we recommend monitoring the situation closely.\\n\\nIn Japan, the magnitude forecast ranges from 4.52 to 4.75, with the depth forecast ranging from 62.89 to 85.62. These are significantly higher magnitudes and depths, indicating a potential risk. We recommend implementing earthquake preparedness measures and alerting the public to the potential for seismic activity.\\n\\nIn Greece, the magnitude forecast ranges from 4.43 to 4.85, with the depth forecast ranging from 25.02 to 32.55. These forecasts also suggest a potential risk. We recommend similar measures as in Japan: implementing earthquake preparedness measures and alerting the public.\\n\\nPlease note that these are forecasts and actual seismic activity may vary. It is crucial to stay prepared and have a plan in place in case of an earthquake.\\n\\nBest regards,\\nEarthquake Forecasting Team'\n",
      "\u001b[1m\u001b[38;2;50;164;103mWorkflow Output\u001b[0m\u001b[1m\u001b[0m: to='exampleuser@example.com' subject='Earthquake Forecasts for the Next 5 Days' body='Dear User,\\n\\nWe are writing to inform you about the earthquake forecasts for the next five days in California, Japan, and Greece.\\n\\nIn California, the magnitude forecast ranges from 1.29 to 1.32, with the depth forecast ranging from 7.05 to 7.33. These are relatively low magnitudes and depths, so the region is not in immediate danger. However, we recommend monitoring the situation closely.\\n\\nIn Japan, the magnitude forecast ranges from 4.52 to 4.75, with the depth forecast ranging from 62.89 to 85.62. These are significantly higher magnitudes and depths, indicating a potential risk. We recommend implementing earthquake preparedness measures and alerting the public to the potential for seismic activity.\\n\\nIn Greece, the magnitude forecast ranges from 4.43 to 4.85, with the depth forecast ranging from 25.02 to 32.55. These forecasts also suggest a potential risk. We recommend similar measures as in Japan: implementing earthquake preparedness measures and alerting the public.\\n\\nPlease note that these are forecasts and actual seismic activity may vary. It is crucial to stay prepared and have a plan in place in case of an earthquake.\\n\\nBest regards,\\nEarthquake Forecasting Team'\n",
      "\u001b[1m\u001b[38;2;236;154;60mTool Output\u001b[0m\u001b[1m\u001b[0m: to='exampleuser@example.com' subject='Earthquake Forecasts for the Next 5 Days' body='Dear User,\\n\\nWe are writing to inform you about the earthquake forecasts for the next five days in California, Japan, and Greece.\\n\\nIn California, the magnitude forecast ranges from 1.29 to 1.32, with the depth forecast ranging from 7.05 to 7.33. These are relatively low magnitudes and depths, so the region is not in immediate danger. However, we recommend monitoring the situation closely.\\n\\nIn Japan, the magnitude forecast ranges from 4.52 to 4.75, with the depth forecast ranging from 62.89 to 85.62. These are significantly higher magnitudes and depths, indicating a potential risk. We recommend implementing earthquake preparedness measures and alerting the public to the potential for seismic activity.\\n\\nIn Greece, the magnitude forecast ranges from 4.43 to 4.85, with the depth forecast ranging from 25.02 to 32.55. These forecasts also suggest a potential risk. We recommend similar measures as in Japan: implementing earthquake preparedness measures and alerting the public.\\n\\nPlease note that these are forecasts and actual seismic activity may vary. It is crucial to stay prepared and have a plan in place in case of an earthquake.\\n\\nBest regards,\\nEarthquake Forecasting Team'\n",
      "\u001b[1m\u001b[38;2;45;114;210mThought\u001b[0m\u001b[1m\u001b[0m: The tool has generated a response to the user's email request. This response includes the 5-day earthquake forecast for the regions California, Japan, and Greece, as well as some additional context and recommendations based on the forecasted magnitudes and depths. I can now provide this as the final answer.\n",
      "\u001b[1m\u001b[38;2;50;164;103mFinal Answer\u001b[0m\u001b[1m\u001b[0m: The email has been successfully generated and is ready to be sent to the user. The email includes the 5-day earthquake forecasts for the regions California, Japan, and Greece, along with some additional context and recommendations. The user will be informed that these are forecasts and actual seismic activity may vary. They will also be advised to stay prepared and have a plan in place in case of an earthquake.\n"
     ]
    }
   ],
   "source": [
    "prompt = \"\"\"I received this email:\n",
    "\n",
    "Sender: exampleuser@example.com\n",
    "Subject: Request for 5-Day Earthquake Forecast for Selected Regions\n",
    "\n",
    "Dear Earthquake Forecasting Team,\n",
    "\n",
    "I hope this message finds you well.\n",
    "\n",
    "I am writing to request a 5-day earthquake forecast for the following regions:\n",
    "\n",
    "1. **California (CA)**\n",
    "2. **Japan (JP)**\n",
    "3. **Greece (GR)**\n",
    "\n",
    "Could you please provide the predicted magnitudes and depths for these regions over the next five days? Any additional context or insights related to these forecasts would be greatly appreciated.\n",
    "\n",
    "Thank you for your assistance.\n",
    "\n",
    "Best regards,\n",
    "[Your Name]\n",
    "exampleuser@example.com\n",
    "\n",
    "Can you reply to this email.\"\"\"\n",
    "\n",
    "output = agent.invoke({\"question\": prompt})"
   ]
  },
  {
   "cell_type": "code",
   "execution_count": 15,
   "metadata": {},
   "outputs": [
    {
     "name": "stdout",
     "output_type": "stream",
     "text": [
      "The email has been successfully generated and is ready to be sent to the user. The email includes the 5-day earthquake forecasts for the regions California, Japan, and Greece, along with some additional context and recommendations. The user will be informed that these are forecasts and actual seismic activity may vary. They will also be advised to stay prepared and have a plan in place in case of an earthquake.\n"
     ]
    }
   ],
   "source": [
    "print(output.final_answer)"
   ]
  },
  {
   "cell_type": "markdown",
   "metadata": {},
   "source": [
    "Or we can ask the AI agent to answer different questions with the help of the tools the LLM has available."
   ]
  },
  {
   "cell_type": "code",
   "execution_count": 16,
   "metadata": {},
   "outputs": [
    {
     "name": "stderr",
     "output_type": "stream",
     "text": [
      "\u001b[1m\u001b[38;2;45;114;210mThought\u001b[0m\u001b[1m\u001b[0m: To find out how many earthquakes occurred today, I need to use the Count Earthquakes tool. However, I first need to get the current date using the Current Date tool.\n",
      "\u001b[1m\u001b[38;2;236;154;60mTool\u001b[0m\u001b[1m\u001b[0m: Current Date\n",
      "\u001b[1m\u001b[38;2;236;154;60mTool Input\u001b[0m\u001b[1m\u001b[0m: {}\n",
      "\u001b[1m\u001b[38;2;236;154;60mTool Output\u001b[0m\u001b[1m\u001b[0m: 2024-08-15 13:28:03.803246\n",
      "\u001b[1m\u001b[38;2;45;114;210mThought\u001b[0m\u001b[1m\u001b[0m: Now that I have the current date, I can use the Count Earthquakes tool to find out how many earthquakes occurred today. I will set the start_time to the beginning of today (2024-08-15 00:00:00) and the end_time to the current time (2024-08-15 13:28:03).\n",
      "\u001b[1m\u001b[38;2;236;154;60mTool\u001b[0m\u001b[1m\u001b[0m: Count Earthquakes\n",
      "\u001b[1m\u001b[38;2;236;154;60mTool Input\u001b[0m\u001b[1m\u001b[0m: {'start_time': '2024-08-15T00:00:00', 'end_time': '2024-08-15T13:28:03'}\n",
      "\u001b[1m\u001b[38;2;236;154;60mTool Output\u001b[0m\u001b[1m\u001b[0m: {'count': 113, 'maxAllowed': 20000}\n",
      "\u001b[1m\u001b[38;2;45;114;210mThought\u001b[0m\u001b[1m\u001b[0m: The Count Earthquakes tool has returned a count of 113 earthquakes for today. This is the information the user is asking for.\n",
      "\u001b[1m\u001b[38;2;50;164;103mFinal Answer\u001b[0m\u001b[1m\u001b[0m: There have been 113 earthquakes today.\n"
     ]
    }
   ],
   "source": [
    "output = agent.invoke({\"question\": \"How many earthquakes occurred today?\"})"
   ]
  },
  {
   "cell_type": "code",
   "execution_count": 17,
   "metadata": {},
   "outputs": [
    {
     "name": "stdout",
     "output_type": "stream",
     "text": [
      "There have been 113 earthquakes today.\n"
     ]
    }
   ],
   "source": [
    "print(output.final_answer)"
   ]
  },
  {
   "cell_type": "code",
   "execution_count": 18,
   "metadata": {},
   "outputs": [
    {
     "name": "stderr",
     "output_type": "stream",
     "text": [
      "\u001b[1m\u001b[38;2;45;114;210mThought\u001b[0m\u001b[1m\u001b[0m: The user is requesting a 1-day earthquake forecast for Alaska and Idaho. To fulfill this request, I need to use the Forecast Earthquakes tool. However, before I can do that, I need to confirm that these regions are valid for forecasting using the Get Valid Regions tool.\n",
      "\u001b[1m\u001b[38;2;236;154;60mTool\u001b[0m\u001b[1m\u001b[0m: Get Valid Regions\n",
      "\u001b[1m\u001b[38;2;236;154;60mTool Input\u001b[0m\u001b[1m\u001b[0m: {}\n",
      "\u001b[1m\u001b[38;2;236;154;60mTool Output\u001b[0m\u001b[1m\u001b[0m: {'Oregon', 'California', 'Puerto Rico', 'Japan', 'Aleutian Islands', 'Hawaii', 'Chile', 'Tonga', 'Indonesia', 'Idaho', 'Greece', 'Wyoming', 'Papua New Guinea', 'Utah', 'Mexico', 'Russia', 'Baja California', 'Alaska', 'Washington', 'Oklahoma', 'Italy', 'Turkey', 'Nevada', 'Philippines', 'Montana'}\n",
      "\u001b[1m\u001b[38;2;45;114;210mThought\u001b[0m\u001b[1m\u001b[0m: The regions requested by the user (Alaska and Idaho) are valid for forecasting as they are included in the output of the Get Valid Regions tool. Now, I can proceed to use the Forecast Earthquakes tool to provide a 1-day earthquake forecast for these regions.\n",
      "\u001b[1m\u001b[38;2;236;154;60mTool\u001b[0m\u001b[1m\u001b[0m: Forecast Earthquakes\n",
      "\u001b[1m\u001b[38;2;236;154;60mTool Input\u001b[0m\u001b[1m\u001b[0m: {'extract_regions': AttributedDict([('horizon', 1), ('regions', ['Alaska', 'Idaho'])])}\n",
      "\u001b[1m\u001b[38;2;236;154;60mTool Output\u001b[0m\u001b[1m\u001b[0m: [{'region': 'Alaska', 'forecast': [{'Date': Timestamp('2024-08-16 00:00:00'), 'Magnitude Forecast': 1.0977230784909509, 'Depth Forecast': 25.866816166944353}]}, {'region': 'Idaho', 'forecast': [{'Date': Timestamp('2024-08-16 00:00:00'), 'Magnitude Forecast': 1.6716160510725038, 'Depth Forecast': 8.334968561447777}]}]\n",
      "\u001b[1m\u001b[38;2;45;114;210mThought\u001b[0m\u001b[1m\u001b[0m: The Forecast Earthquakes tool has provided the 1-day earthquake forecast for the regions Alaska and Idaho. I can now provide this information to the user.\n",
      "\u001b[1m\u001b[38;2;50;164;103mFinal Answer\u001b[0m\u001b[1m\u001b[0m: Yes, there are forecasts for potential earthquakes in both Alaska and Idaho tomorrow. \n",
      "\n",
      "In Alaska, the forecasted magnitude is approximately 1.10 with a depth of approximately 25.87 km. \n",
      "\n",
      "In Idaho, the forecasted magnitude is approximately 1.67 with a depth of approximately 8.33 km. \n",
      "\n",
      "Please note that these are forecasts and actual events may vary. It is always important to stay prepared and have a plan in place in case of an earthquake.\n"
     ]
    }
   ],
   "source": [
    "output = agent.invoke({\"question\": \"Will there be earthquakes in Alaska and Idaho tomorrow?\"})"
   ]
  },
  {
   "cell_type": "code",
   "execution_count": 19,
   "metadata": {},
   "outputs": [
    {
     "name": "stdout",
     "output_type": "stream",
     "text": [
      "Yes, there are forecasts for potential earthquakes in both Alaska and Idaho tomorrow. \n",
      "\n",
      "In Alaska, the forecasted magnitude is approximately 1.10 with a depth of approximately 25.87 km. \n",
      "\n",
      "In Idaho, the forecasted magnitude is approximately 1.67 with a depth of approximately 8.33 km. \n",
      "\n",
      "Please note that these are forecasts and actual events may vary. It is always important to stay prepared and have a plan in place in case of an earthquake.\n"
     ]
    }
   ],
   "source": [
    "print(output.final_answer)"
   ]
  }
 ],
 "metadata": {
  "kernelspec": {
   "display_name": "llm-powered-ai-agents",
   "language": "python",
   "name": "python3"
  },
  "language_info": {
   "codemirror_mode": {
    "name": "ipython",
    "version": 3
   },
   "file_extension": ".py",
   "mimetype": "text/x-python",
   "name": "python",
   "nbconvert_exporter": "python",
   "pygments_lexer": "ipython3",
   "version": "3.12.4"
  }
 },
 "nbformat": 4,
 "nbformat_minor": 2
}
