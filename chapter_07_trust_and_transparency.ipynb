{
 "cells": [
  {
   "cell_type": "markdown",
   "metadata": {},
   "source": [
    "# Chapter 07: Building Trust and Transparency in LLMs\n",
    "\n",
    "In an era where LLMs are becoming increasingly embedded in various facets of our daily lives, the need for trust and transparency has never been more critical. As these sophisticated systems take on roles ranging from customer service representatives to content creators, their influence grows, raising important questions about their reliability, decision-making processes, and ethical implications. We will begin by exploring how users can build trust in LLMs through transparency, allowing users to have confidence in the outputs and behaviors of LLMs."
   ]
  },
  {
   "cell_type": "code",
   "execution_count": 1,
   "metadata": {},
   "outputs": [],
   "source": [
    "import requests\n",
    "from datetime import datetime, timedelta\n",
    "from typing import Any\n",
    "from pydantic import BaseModel, Field\n",
    "from language_models.agent import (\n",
    "    Agent,\n",
    "    OutputType,\n",
    "    PromptingStrategy,\n",
    "    ReasoningStep,\n",
    ")\n",
    "from language_models.tools import Tool, current_date\n",
    "from language_models.models.llm import OpenAILanguageModel\n",
    "from language_models.proxy_client import ProxyClient\n",
    "from language_models.settings import settings"
   ]
  },
  {
   "cell_type": "code",
   "execution_count": 2,
   "metadata": {},
   "outputs": [],
   "source": [
    "proxy_client = ProxyClient(\n",
    "    client_id=settings.CLIENT_ID,\n",
    "    client_secret=settings.CLIENT_SECRET,\n",
    "    auth_url=settings.AUTH_URL,\n",
    "    api_base=settings.API_BASE,\n",
    ")"
   ]
  },
  {
   "cell_type": "code",
   "execution_count": 3,
   "metadata": {},
   "outputs": [],
   "source": [
    "llm = OpenAILanguageModel(\n",
    "    proxy_client=proxy_client,\n",
    "    model=\"gpt-4\",\n",
    "    max_tokens=500,\n",
    "    temperature=0.2,\n",
    ")"
   ]
  },
  {
   "cell_type": "markdown",
   "metadata": {},
   "source": [
    "## Governed Tool Access\n",
    "\n",
    "Governed tool access entails implementing tiered access levels for tools, delineating permissions based on the tool’s nature and the associated risks. Tools may be classified into categories such as executable, requiring approval before execution, or merely suggestible. Achieving governed tool access involves embedding checks within the AI agent’s code to regulate tool usage. When an LLM opts to employ a particular tool, the software code verifies the tool’s permissions and determines the appropriate course of action based on the access level. For our purposes, we simply add a property to the tool object that specifies whether the tool requires approval or not."
   ]
  },
  {
   "cell_type": "code",
   "execution_count": 4,
   "metadata": {},
   "outputs": [],
   "source": [
    "class USGeopoliticalSurveyEarthquakeAPI(BaseModel):\n",
    "    \"\"\"Class that implements the API interface.\"\"\"\n",
    "\n",
    "    start_time: str = Field(\n",
    "        None,\n",
    "        description=(\n",
    "            \"Limit to events on or after the specified start time. NOTE: All times use ISO8601 Date/Time format.\"\n",
    "            + \" Unless a timezone is specified, UTC is assumed.\"\n",
    "        ),\n",
    "    )\n",
    "    end_time: str = Field(\n",
    "        None,\n",
    "        description=(\n",
    "            \"Limit to events on or before the specified end time. NOTE: All times use ISO8601 Date/Time format.\"\n",
    "            + \" Unless a timezone is specified, UTC is assumed.\"\n",
    "        ),\n",
    "    )\n",
    "    limit: int = Field(\n",
    "        20000,\n",
    "        description=(\n",
    "            \"Limit the results to the specified number of events. NOTE: The service limits queries to 20000,\"\n",
    "            + \" and any that exceed this limit will generate a HTTP response code 400 Bad Request.\"\n",
    "        ),\n",
    "    )\n",
    "    min_depth: int = Field(\n",
    "        -100,\n",
    "        description=\"Limit to events with depth more than the specified minimum.\",\n",
    "    )\n",
    "    max_depth: int = Field(\n",
    "        1000,\n",
    "        description=\"Limit to events with depth less than the specified maximum.\",\n",
    "    )\n",
    "    min_magnitude: int = Field(\n",
    "        None,\n",
    "        description=\"Limit to events with a magnitude larger than the specified minimum.\",\n",
    "    )\n",
    "    max_magnitude: int = Field(\n",
    "        None,\n",
    "        description=\"Limit to events with a magnitude smaller than the specified maximum.\",\n",
    "    )\n",
    "    alert_level: str = Field(\n",
    "        None,\n",
    "        description=(\n",
    "            \"Limit to events with a specific PAGER alert level.\"\n",
    "            + \" The allowed values are: alert_level=green Limit to events with PAGER\"\n",
    "            + ' alert level \"green\". alert_level=yellow Limit to events with PAGER alert level \"yellow\".'\n",
    "            + ' alert_level=orange Limit to events with PAGER alert level \"orange\".'\n",
    "            + ' alert_level=red Limit to events with PAGER alert level \"red\".'\n",
    "        ),\n",
    "    )\n",
    "\n",
    "def get_earthquakes(\n",
    "    endpoint: str,\n",
    "    start_time: datetime = (datetime.now() - timedelta(days=30)).date(),\n",
    "    end_time: datetime = datetime.now().date(),\n",
    "    limit: int = 20000,\n",
    "    min_depth: int = -100,\n",
    "    max_depth: int = 1000,\n",
    "    min_magnitude: int | None = None,\n",
    "    max_magnitude: int | None = None,\n",
    "    alert_level: str | None = None,\n",
    ") -> Any:\n",
    "    params = {\n",
    "        \"format\": \"geojson\",\n",
    "        \"starttime\": start_time,\n",
    "        \"endtime\": end_time,\n",
    "        \"limit\": limit,\n",
    "        \"mindepth\": min_depth,\n",
    "        \"maxdepth\": max_depth,\n",
    "        \"minmagnitude\": min_magnitude,\n",
    "        \"maxmagnitude\": max_magnitude,\n",
    "        \"alertlevel\": alert_level,\n",
    "        \"eventtype\": \"earthquake\",\n",
    "    }\n",
    "    response = requests.get(\n",
    "        f\"https://earthquake.usgs.gov/fdsnws/event/1/{endpoint}\",\n",
    "        params=params,\n",
    "        timeout=None,\n",
    "    )\n",
    "    return response.json()\n",
    "\n",
    "def query_earthquakes(\n",
    "    start_time: datetime = (datetime.now() - timedelta(days=30)).date(),\n",
    "    end_time: datetime = datetime.now().date(),\n",
    "    limit: int = 20000,\n",
    "    min_depth: int = -100,\n",
    "    max_depth: int = 1000,\n",
    "    min_magnitude: int | None = None,\n",
    "    max_magnitude: int | None = None,\n",
    "    alert_level: str | None = None,\n",
    ") -> Any:\n",
    "    return get_earthquakes(\n",
    "        endpoint=\"query\",\n",
    "        start_time=start_time,\n",
    "        end_time=end_time,\n",
    "        limit=limit,\n",
    "        min_depth=min_depth,\n",
    "        max_depth=max_depth,\n",
    "        min_magnitude=min_magnitude,\n",
    "        max_magnitude=max_magnitude,\n",
    "        alert_level=alert_level,\n",
    "    )\n",
    "\n",
    "def count_earthquakes(\n",
    "    start_time: datetime = (datetime.now() - timedelta(days=30)).date(),\n",
    "    end_time: datetime = datetime.now().date(),\n",
    "    limit: int = 20000,\n",
    "    min_depth: int = -100,\n",
    "    max_depth: int = 1000,\n",
    "    min_magnitude: int | None = None,\n",
    "    max_magnitude: int | None = None,\n",
    "    alert_level: str | None = None,\n",
    ") -> Any:\n",
    "    return get_earthquakes(\n",
    "        endpoint=\"count\",\n",
    "        start_time=start_time,\n",
    "        end_time=end_time,\n",
    "        limit=limit,\n",
    "        min_depth=min_depth,\n",
    "        max_depth=max_depth,\n",
    "        min_magnitude=min_magnitude,\n",
    "        max_magnitude=max_magnitude,\n",
    "        alert_level=alert_level,\n",
    "    )\n",
    "\n",
    "query_earthquakes_tool = Tool(\n",
    "    function=query_earthquakes,\n",
    "    name=\"Query Earthquakes\",\n",
    "    description=\"Use this tool to search recent earthquakes\",\n",
    "    args_schema=USGeopoliticalSurveyEarthquakeAPI,\n",
    "    requires_approval=True,\n",
    ")\n",
    "\n",
    "count_earthquakes_tool = Tool(\n",
    "    function=count_earthquakes,\n",
    "    name=\"Count Earthquakes\",\n",
    "    description=\"Use this tool to count and aggregate recent earthquakes\",\n",
    "    args_schema=USGeopoliticalSurveyEarthquakeAPI,\n",
    "    requires_approval=True,\n",
    ")"
   ]
  },
  {
   "cell_type": "code",
   "execution_count": 5,
   "metadata": {},
   "outputs": [],
   "source": [
    "system_prompt = \"You are an United States Geological Survey expert who can answer questions regarding earthquakes.\"\n",
    "\n",
    "agent = Agent.create(\n",
    "    llm=llm,\n",
    "    system_prompt=system_prompt,\n",
    "    prompt=\"{question}\",\n",
    "    prompt_variables=[\"question\"],\n",
    "    output_type=OutputType.STRING,\n",
    "    tools=[current_date, count_earthquakes_tool, query_earthquakes_tool],\n",
    "    prompting_strategy=PromptingStrategy.CHAIN_OF_THOUGHT,\n",
    "    verbose=True,\n",
    ")"
   ]
  },
  {
   "cell_type": "markdown",
   "metadata": {},
   "source": [
    "An example of approving the tool use: Count Earthquakes."
   ]
  },
  {
   "cell_type": "code",
   "execution_count": 6,
   "metadata": {},
   "outputs": [
    {
     "name": "stderr",
     "output_type": "stream",
     "text": [
      "\u001b[1m\u001b[38;2;45;114;210mThought\u001b[0m\u001b[1m\u001b[0m: To answer this question, I need to count the number of earthquakes that occurred today. I will use the \"Count Earthquakes\" tool for this. First, I need to get the current date.\n",
      "\u001b[1m\u001b[38;2;236;154;60mTool\u001b[0m\u001b[1m\u001b[0m: Current Date\n",
      "\u001b[1m\u001b[38;2;236;154;60mTool Input\u001b[0m\u001b[1m\u001b[0m: {}\n",
      "\u001b[1m\u001b[38;2;236;154;60mTool Output\u001b[0m\u001b[1m\u001b[0m: 2024-08-12 12:51:21.099091\n",
      "\u001b[1m\u001b[38;2;45;114;210mThought\u001b[0m\u001b[1m\u001b[0m: Now that I have the current date, I can use the \"Count Earthquakes\" tool to count the number of earthquakes that occurred today. The start time will be the start of the day (2024-08-12 00:00:00) and the end time will be the end of the day (2024-08-12 23:59:59).\n",
      "\u001b[1m\u001b[38;2;236;154;60mTool\u001b[0m\u001b[1m\u001b[0m: Count Earthquakes\n",
      "\u001b[1m\u001b[38;2;236;154;60mTool Input\u001b[0m\u001b[1m\u001b[0m: {'start_time': '2024-08-12T00:00:00', 'end_time': '2024-08-12T23:59:59'}\n",
      "\u001b[1m\u001b[38;2;236;154;60mTool Use Approved\u001b[0m\u001b[1m\u001b[0m: Yes\n",
      "\u001b[1m\u001b[38;2;236;154;60mTool Output\u001b[0m\u001b[1m\u001b[0m: {'count': 91, 'maxAllowed': 20000}\n",
      "\u001b[1m\u001b[38;2;45;114;210mThought\u001b[0m\u001b[1m\u001b[0m: The output from the \"Count Earthquakes\" tool indicates that there were 91 earthquakes on the specified date.\n",
      "\u001b[1m\u001b[38;2;50;164;103mFinal Answer\u001b[0m\u001b[1m\u001b[0m: There were 91 earthquakes today.\n"
     ]
    }
   ],
   "source": [
    "output = agent.invoke({\"question\": \"How many earthquakes occurred today?\"})"
   ]
  },
  {
   "cell_type": "code",
   "execution_count": 7,
   "metadata": {},
   "outputs": [
    {
     "name": "stdout",
     "output_type": "stream",
     "text": [
      "There were 91 earthquakes today.\n"
     ]
    }
   ],
   "source": [
    "print(output.final_answer)"
   ]
  },
  {
   "cell_type": "markdown",
   "metadata": {},
   "source": [
    "An example of not approving the tool use: Query Earthquakes."
   ]
  },
  {
   "cell_type": "code",
   "execution_count": 8,
   "metadata": {},
   "outputs": [
    {
     "name": "stderr",
     "output_type": "stream",
     "text": [
      "\u001b[1m\u001b[38;2;45;114;210mThought\u001b[0m\u001b[1m\u001b[0m: To show the details of 3 earthquakes that occurred today, I can use the \"Query Earthquakes\" tool. I will limit the results to 3.\n",
      "\u001b[1m\u001b[38;2;236;154;60mTool\u001b[0m\u001b[1m\u001b[0m: Query Earthquakes\n",
      "\u001b[1m\u001b[38;2;236;154;60mTool Input\u001b[0m\u001b[1m\u001b[0m: {'start_time': '2024-08-12T00:00:00', 'end_time': '2024-08-12T23:59:59', 'limit': 3}\n",
      "\u001b[1m\u001b[38;2;236;154;60mTool Use Approved\u001b[0m\u001b[1m\u001b[0m: No\n",
      "\u001b[1m\u001b[38;2;236;154;60mTool Output\u001b[0m\u001b[1m\u001b[0m: The user did not approve the use of the tool: Query Earthquakes\n",
      "\n",
      "Provide the final answer to the user's query\n",
      "\u001b[1m\u001b[38;2;45;114;210mThought\u001b[0m\u001b[1m\u001b[0m: Since the user did not approve the use of the \"Query Earthquakes\" tool, I am unable to provide the details of the 3 earthquakes that occurred today.\n",
      "\u001b[1m\u001b[38;2;50;164;103mFinal Answer\u001b[0m\u001b[1m\u001b[0m: I'm sorry, but I am unable to provide the details of the earthquakes without the use of the necessary tool.\n"
     ]
    }
   ],
   "source": [
    "output = agent.invoke({\"question\": \"Show me 3.\"})"
   ]
  },
  {
   "cell_type": "code",
   "execution_count": 9,
   "metadata": {},
   "outputs": [
    {
     "name": "stdout",
     "output_type": "stream",
     "text": [
      "I'm sorry, but I am unable to provide the details of the earthquakes without the use of the necessary tool.\n"
     ]
    }
   ],
   "source": [
    "print(output.final_answer)"
   ]
  },
  {
   "cell_type": "markdown",
   "metadata": {},
   "source": [
    "## Displaying the Chain-of-Thought\n",
    "\n",
    "In order to maintain transparency and provide users with insights into the AI agent’s decision-making process, it is essential to display the reasoning process of the LLM. This includes thoughts, tools used, and observations made during the interaction. By visualizing the thought-tool-observation loop, users can gain a better understanding of how the AI agent arrived at its final response. This transparency not only builds trust but also enables users to assess the reliability and effectiveness of the AI agent’s decision-making process. For instance, when viewing the Chain-of-Thought, users can examine whether the AI agent correctly provides tool inputs. If a user requests sales data for the past week, the input date range should ideally span from the start date of today minus 7 days to the end date of today, ensuring accurate data retrieval. Observing such details within the reasoning process empowers users to evaluate the AI agent’s adherence to input requirements and adjust the system prompt and task prompt accordingly. The same applies to workflows. On the other hand, when using Single Completion, agents generate a direct output in response to a user query, bypassing the reasoning process."
   ]
  },
  {
   "cell_type": "code",
   "execution_count": 10,
   "metadata": {},
   "outputs": [],
   "source": [
    "def render_reasoning(chain_of_thought: list[ReasoningStep]):\n",
    "    names = {\n",
    "        \"prompt\": \"Prompt\",\n",
    "        \"raw_output\": \"Raw Output\",\n",
    "        \"observation\": \"Observation\",\n",
    "        \"thought\": \"Thought\",\n",
    "        \"final_answer\": \"Final Answer\",\n",
    "        \"tool\": \"Tool\",\n",
    "    }\n",
    "    for step in chain_of_thought:\n",
    "        print(names[step.name])\n",
    "        print(\"-\" * len(step.name))\n",
    "        if step.name in (\"prompt\", \"raw_output\", \"thought\", \"observation\", \"final_answer\"):\n",
    "            print(step.content)\n",
    "        else:\n",
    "            print(f\"Name: {step.content.name}\")\n",
    "            print(f\"Input: {step.content.inputs}\")\n",
    "            print(f\"Output: {step.content.output}\")\n",
    "\n",
    "        if step.name != \"final_answer\":\n",
    "            print()"
   ]
  },
  {
   "cell_type": "markdown",
   "metadata": {},
   "source": [
    "In earlier chapters, we observed the LLM's activities through the logs, focusing mainly on key aspects. However, in the Chain-of-Thought details, we gain access to more granular information, such as the prompt, raw output, and observations. Here is an example of the AI ​​agent using the Count Earthquakes tool, with the tool being approved."
   ]
  },
  {
   "cell_type": "code",
   "execution_count": 11,
   "metadata": {},
   "outputs": [
    {
     "name": "stderr",
     "output_type": "stream",
     "text": [
      "\u001b[1m\u001b[38;2;45;114;210mThought\u001b[0m\u001b[1m\u001b[0m: To answer this question, I need to count the number of earthquakes that occurred today. I will use the \"Count Earthquakes\" tool for this. First, I need to get the current date.\n",
      "\u001b[1m\u001b[38;2;236;154;60mTool\u001b[0m\u001b[1m\u001b[0m: Current Date\n",
      "\u001b[1m\u001b[38;2;236;154;60mTool Input\u001b[0m\u001b[1m\u001b[0m: {}\n",
      "\u001b[1m\u001b[38;2;236;154;60mTool Output\u001b[0m\u001b[1m\u001b[0m: 2024-08-12 12:51:40.977439\n",
      "\u001b[1m\u001b[38;2;45;114;210mThought\u001b[0m\u001b[1m\u001b[0m: Now that I have the current date, I can use the \"Count Earthquakes\" tool to count the number of earthquakes that occurred today. The start time will be the start of the day (2024-08-12 00:00:00) and the end time will be the end of the day (2024-08-12 23:59:59).\n",
      "\u001b[1m\u001b[38;2;236;154;60mTool\u001b[0m\u001b[1m\u001b[0m: Count Earthquakes\n",
      "\u001b[1m\u001b[38;2;236;154;60mTool Input\u001b[0m\u001b[1m\u001b[0m: {'start_time': '2024-08-12T00:00:00', 'end_time': '2024-08-12T23:59:59'}\n",
      "\u001b[1m\u001b[38;2;236;154;60mTool Use Approved\u001b[0m\u001b[1m\u001b[0m: Yes\n",
      "\u001b[1m\u001b[38;2;236;154;60mTool Output\u001b[0m\u001b[1m\u001b[0m: {'count': 91, 'maxAllowed': 20000}\n",
      "\u001b[1m\u001b[38;2;45;114;210mThought\u001b[0m\u001b[1m\u001b[0m: The tool has already been used to determine the number of earthquakes that occurred today. The output was 91 earthquakes.\n",
      "\u001b[1m\u001b[38;2;50;164;103mFinal Answer\u001b[0m\u001b[1m\u001b[0m: There were 91 earthquakes today.\n"
     ]
    }
   ],
   "source": [
    "output = agent.invoke({\"question\": \"How many earthquakes occurred today?\"})"
   ]
  },
  {
   "cell_type": "code",
   "execution_count": 12,
   "metadata": {},
   "outputs": [
    {
     "name": "stdout",
     "output_type": "stream",
     "text": [
      "There were 91 earthquakes today.\n"
     ]
    }
   ],
   "source": [
    "print(output.final_answer)"
   ]
  },
  {
   "cell_type": "code",
   "execution_count": 13,
   "metadata": {},
   "outputs": [
    {
     "name": "stdout",
     "output_type": "stream",
     "text": [
      "Prompt\n",
      "------\n",
      "How many earthquakes occurred today?\n",
      "\n",
      "Raw Output\n",
      "----------\n",
      "Thought: To answer this question, I need to count the number of earthquakes that occurred today. I will use the \"Count Earthquakes\" tool for this. First, I need to get the current date.\n",
      "\n",
      "Tool: Current Date\n",
      "\n",
      "Tool Input: {}\n",
      "\n",
      "Thought\n",
      "-------\n",
      "To answer this question, I need to count the number of earthquakes that occurred today. I will use the \"Count Earthquakes\" tool for this. First, I need to get the current date.\n",
      "\n",
      "Tool\n",
      "----\n",
      "Name: Current Date\n",
      "Input: {}\n",
      "Output: 2024-08-12 12:51:40.977439\n",
      "\n",
      "Raw Output\n",
      "----------\n",
      "Thought: Now that I have the current date, I can use the \"Count Earthquakes\" tool to count the number of earthquakes that occurred today. The start time will be the start of the day (2024-08-12 00:00:00) and the end time will be the end of the day (2024-08-12 23:59:59).\n",
      "\n",
      "Tool: Count Earthquakes\n",
      "\n",
      "Tool Input: {\"start_time\": \"2024-08-12T00:00:00\", \"end_time\": \"2024-08-12T23:59:59\"}\n",
      "\n",
      "Thought\n",
      "-------\n",
      "Now that I have the current date, I can use the \"Count Earthquakes\" tool to count the number of earthquakes that occurred today. The start time will be the start of the day (2024-08-12 00:00:00) and the end time will be the end of the day (2024-08-12 23:59:59).\n",
      "\n",
      "Tool\n",
      "----\n",
      "Name: Count Earthquakes\n",
      "Input: {'start_time': '2024-08-12T00:00:00', 'end_time': '2024-08-12T23:59:59'}\n",
      "Output: {'count': 91, 'maxAllowed': 20000}\n",
      "\n",
      "Raw Output\n",
      "----------\n",
      "There were 91 earthquakes today.\n",
      "\n",
      "Observation\n",
      "-----------\n",
      "You made a mistake in your response:\n",
      "There were 91 earthquakes today.\n",
      "\n",
      "You need to correct your response\n",
      "\n",
      "You should respond with:\n",
      "```\n",
      "Thought: <thought process on how to respond to the prompt>\n",
      "\n",
      "Tool: <name of the tool to use>\n",
      "\n",
      "Tool Input: <input of the tool to use>\n",
      "```\n",
      "\n",
      "Your <input of the tool to use> must be a JSON format representing the keyword arguments of <name of the tool to use>\n",
      "\n",
      "When you know the final answer to the user's query you should respond with:\n",
      "```\n",
      "Thought: <thought process on how to respond to the prompt>\n",
      "\n",
      "Final Answer: <response to the prompt>\n",
      "```\n",
      "\n",
      "Your <response to the prompt> should be the final answer to the user's query and must be a string\n",
      "\n",
      "Raw Output\n",
      "----------\n",
      "Thought: The tool has already been used to determine the number of earthquakes that occurred today. The output was 91 earthquakes.\n",
      "\n",
      "Final Answer: There were 91 earthquakes today.\n",
      "\n",
      "Thought\n",
      "-------\n",
      "The tool has already been used to determine the number of earthquakes that occurred today. The output was 91 earthquakes.\n",
      "\n",
      "Final Answer\n",
      "------------\n",
      "There were 91 earthquakes today.\n"
     ]
    }
   ],
   "source": [
    "render_reasoning(output.chain_of_thought)"
   ]
  },
  {
   "cell_type": "markdown",
   "metadata": {},
   "source": [
    "Here is an example of the AI ​​agent using the Query Earthquakes tool, with the tool being approved."
   ]
  },
  {
   "cell_type": "code",
   "execution_count": 14,
   "metadata": {},
   "outputs": [
    {
     "name": "stderr",
     "output_type": "stream",
     "text": [
      "\u001b[1m\u001b[38;2;45;114;210mThought\u001b[0m\u001b[1m\u001b[0m: To show the details of 3 earthquakes that occurred today, I can use the \"Query Earthquakes\" tool. I will limit the results to 3.\n",
      "\u001b[1m\u001b[38;2;236;154;60mTool\u001b[0m\u001b[1m\u001b[0m: Query Earthquakes\n",
      "\u001b[1m\u001b[38;2;236;154;60mTool Input\u001b[0m\u001b[1m\u001b[0m: {'start_time': '2024-08-12T00:00:00', 'end_time': '2024-08-12T23:59:59', 'limit': 3}\n",
      "\u001b[1m\u001b[38;2;236;154;60mTool Use Approved\u001b[0m\u001b[1m\u001b[0m: No\n",
      "\u001b[1m\u001b[38;2;236;154;60mTool Output\u001b[0m\u001b[1m\u001b[0m: The user did not approve the use of the tool: Query Earthquakes\n",
      "\n",
      "Provide the final answer to the user's query\n",
      "\u001b[1m\u001b[38;2;45;114;210mThought\u001b[0m\u001b[1m\u001b[0m: Since the user did not approve the use of the Query Earthquakes tool, I am unable to provide the details of the earthquakes.\n",
      "\u001b[1m\u001b[38;2;50;164;103mFinal Answer\u001b[0m\u001b[1m\u001b[0m: I'm sorry, but I am unable to provide the details of the earthquakes without the use of the necessary tool.\n"
     ]
    }
   ],
   "source": [
    "output = agent.invoke({\"question\": \"Show me 3.\"})"
   ]
  },
  {
   "cell_type": "code",
   "execution_count": 15,
   "metadata": {},
   "outputs": [
    {
     "name": "stdout",
     "output_type": "stream",
     "text": [
      "I'm sorry, but I am unable to provide the details of the earthquakes without the use of the necessary tool.\n"
     ]
    }
   ],
   "source": [
    "print(output.final_answer)"
   ]
  },
  {
   "cell_type": "code",
   "execution_count": 16,
   "metadata": {},
   "outputs": [
    {
     "name": "stdout",
     "output_type": "stream",
     "text": [
      "Prompt\n",
      "------\n",
      "Show me 3.\n",
      "\n",
      "Raw Output\n",
      "----------\n",
      "Thought: To show the details of 3 earthquakes that occurred today, I can use the \"Query Earthquakes\" tool. I will limit the results to 3.\n",
      "\n",
      "Tool: Query Earthquakes\n",
      "\n",
      "Tool Input: {\"start_time\": \"2024-08-12T00:00:00\", \"end_time\": \"2024-08-12T23:59:59\", \"limit\": 3}\n",
      "\n",
      "Thought\n",
      "-------\n",
      "To show the details of 3 earthquakes that occurred today, I can use the \"Query Earthquakes\" tool. I will limit the results to 3.\n",
      "\n",
      "Tool\n",
      "----\n",
      "Name: Query Earthquakes\n",
      "Input: {'start_time': '2024-08-12T00:00:00', 'end_time': '2024-08-12T23:59:59', 'limit': 3}\n",
      "Output: The user did not approve the use of the tool: Query Earthquakes\n",
      "\n",
      "Provide the final answer to the user's query\n",
      "\n",
      "Raw Output\n",
      "----------\n",
      "I'm sorry, but I am unable to provide the details of the earthquakes without the use of the necessary tool.\n",
      "\n",
      "Observation\n",
      "-----------\n",
      "You made a mistake in your response:\n",
      "I'm sorry, but I am unable to provide the details of the earthquakes without the use of the necessary tool.\n",
      "\n",
      "You need to correct your response\n",
      "\n",
      "You should respond with:\n",
      "```\n",
      "Thought: <thought process on how to respond to the prompt>\n",
      "\n",
      "Tool: <name of the tool to use>\n",
      "\n",
      "Tool Input: <input of the tool to use>\n",
      "```\n",
      "\n",
      "Your <input of the tool to use> must be a JSON format representing the keyword arguments of <name of the tool to use>\n",
      "\n",
      "When you know the final answer to the user's query you should respond with:\n",
      "```\n",
      "Thought: <thought process on how to respond to the prompt>\n",
      "\n",
      "Final Answer: <response to the prompt>\n",
      "```\n",
      "\n",
      "Your <response to the prompt> should be the final answer to the user's query and must be a string\n",
      "\n",
      "Raw Output\n",
      "----------\n",
      "Thought: Since the user did not approve the use of the Query Earthquakes tool, I am unable to provide the details of the earthquakes.\n",
      "\n",
      "Final Answer: I'm sorry, but I am unable to provide the details of the earthquakes without the use of the necessary tool.\n",
      "\n",
      "Thought\n",
      "-------\n",
      "Since the user did not approve the use of the Query Earthquakes tool, I am unable to provide the details of the earthquakes.\n",
      "\n",
      "Final Answer\n",
      "------------\n",
      "I'm sorry, but I am unable to provide the details of the earthquakes without the use of the necessary tool.\n"
     ]
    }
   ],
   "source": [
    "render_reasoning(output.chain_of_thought)"
   ]
  },
  {
   "cell_type": "markdown",
   "metadata": {},
   "source": [
    "## Monitoring\n",
    "\n",
    "Monitoring plays a pivotal role in ensuring the effective operation and reliability of LLMs. Given the intricate and evolving nature of these systems, continuous oversight is essential to detect anomalies, resolve performance issues, and maintain user trust. One fundamental aspect of monitoring involves logging every interaction between users and the AI agent. This comprehensive logging provides transparency, allowing users to review past decisions and understand the context in which they were made and by whom. It also facilitates accountability, allowing developers to identify and address misuse or violations of the system.\n",
    "\n",
    "Additionally, monitoring encompasses the evaluation of tool utilization within the AI agent. By tracking which tools are frequently or infrequently used, developers can make informed decisions about system optimization. Tools that are rarely utilized may be removed to streamline the system and reduce costs, while those frequently used can be prioritized for enhancements to improve their effectiveness. Visualizing tool usage through graphical representations provides further insights into the AI agent's behavior, helping to identify whether the system is functioning as expected or if performance issues need to be addressed. This approach allows developers to fine-tune the AI’s operations based on actual usage patterns and user interactions.\n",
    "\n",
    "Moreover, monitoring also involves assessing the economic aspects of operating LLMs. By tracking the consumption of tokens and other resources, users can evaluate the cost-effectiveness of their AI agents. This financial oversight helps in making strategic decisions about transitioning to more cost-efficient models while balancing performance needs. Overall, a comprehensive monitoring strategy, including tool usage analysis, financial tracking, and transparent logging, is essential for maintaining trust and transparency in LLMs. These practices not only uphold ethical standards but also enable developers to continuously improve and adapt their AI solutions to meet user expectations and operational requirements."
   ]
  }
 ],
 "metadata": {
  "kernelspec": {
   "display_name": "llm-powered-ai-agents",
   "language": "python",
   "name": "python3"
  },
  "language_info": {
   "codemirror_mode": {
    "name": "ipython",
    "version": 3
   },
   "file_extension": ".py",
   "mimetype": "text/x-python",
   "name": "python",
   "nbconvert_exporter": "python",
   "pygments_lexer": "ipython3",
   "version": "3.12.4"
  }
 },
 "nbformat": 4,
 "nbformat_minor": 2
}
