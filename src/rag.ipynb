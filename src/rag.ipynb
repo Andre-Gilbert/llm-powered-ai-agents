{
 "cells": [
  {
   "cell_type": "code",
   "execution_count": 2,
   "metadata": {},
   "outputs": [
    {
     "name": "stdout",
     "output_type": "stream",
     "text": [
      "date_field=datetime.date(2024, 5, 7)\n"
     ]
    }
   ],
   "source": [
    "from datetime import datetime, date\n",
    "from pydantic import BaseModel, constr, field_validator\n",
    "\n",
    "def parse_date(date_str):\n",
    "    try:\n",
    "        return datetime.strptime(date_str, \"%d/%m/%y\").date()\n",
    "    except ValueError as e:\n",
    "        raise ValueError(\"Incorrect date format, should be DD/MM/YY\") from e\n",
    "\n",
    "class MyModel(BaseModel):\n",
    "    date_field: date\n",
    "\n",
    "    @field_validator(\"date_field\")\n",
    "    def parse_date_field(cls, v):\n",
    "        return parse_date(v)\n",
    "\n",
    "# Example usage:\n",
    "data = {\"date_field\": \"07/05/24\"}\n",
    "model_instance = MyModel(**data)\n",
    "print(model_instance.model_dump())\n"
   ]
  }
 ],
 "metadata": {
  "kernelspec": {
   "display_name": "llm-powered-ai-agents",
   "language": "python",
   "name": "python3"
  },
  "language_info": {
   "codemirror_mode": {
    "name": "ipython",
    "version": 3
   },
   "file_extension": ".py",
   "mimetype": "text/x-python",
   "name": "python",
   "nbconvert_exporter": "python",
   "pygments_lexer": "ipython3",
   "version": "3.11.9"
  }
 },
 "nbformat": 4,
 "nbformat_minor": 2
}
